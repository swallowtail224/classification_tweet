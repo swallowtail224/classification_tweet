{
 "cells": [
  {
   "cell_type": "code",
   "execution_count": 1,
   "metadata": {},
   "outputs": [],
   "source": [
    "import MeCab as mc\n",
    "import re\n",
    "import urllib.request\n",
    "import unicodedata"
   ]
  },
  {
   "cell_type": "code",
   "execution_count": 2,
   "metadata": {},
   "outputs": [],
   "source": [
    "#テキストのクリーニング\n",
    "def clean_text(text_string):\n",
    "    text_string = re.sub(r'([^\\s\\w])+', '', text_string)\n",
    "    text_string = re.sub(r'[0-9]', '', text_string)\n",
    "    text_string = re.sub(r'[０-９]', '', text_string)\n",
    "    text_string = \" \".join(text_string.split())\n",
    "    text_string = text_string.lower()\n",
    "    return(text_string)\n",
    "\n",
    "#slothlibのストップワードの取得\n",
    "def get_stopword():\n",
    "    slothlib_path = 'http://svn.sourceforge.jp/svnroot/slothlib/CSharp/Version1/SlothLib/NLP/Filter/StopWord/word/Japanese.txt'\n",
    "    slothlib_file = urllib.request.urlopen(slothlib_path)\n",
    "    slothlib_stopwords = [line.decode(\"utf-8\").strip() for line in slothlib_file]\n",
    "    slothlib_stopwords = [ss for ss in slothlib_stopwords if not ss==u'']\n",
    "    return slothlib_stopwords\n",
    "\n",
    "#ストップワードの追加\n",
    "def add_stopword(slothlib_stopwords):\n",
    "    s = open(\"Datas/stopwords.txt\", \"r\", encoding=\"utf-8\")\n",
    "    stop = s.readlines()\n",
    "    s.close()\n",
    "    stop = [a.strip() for a in stop]\n",
    "    slothlib_stopwords += stop\n",
    "    return slothlib_stopwords\n",
    "\n",
    "#MeCabによる形態素解析\n",
    "def extractter(text, flag):\n",
    "    text = unicodedata.normalize(\"NFKC\", text)\n",
    "    tagger = mc.Tagger(r'-Ochasen -d G:\\neologd')\n",
    "    tagger.parse('')\n",
    "    node = tagger.parseToNode(text)\n",
    "    key= []\n",
    "    word = []\n",
    "    keyword =[]\n",
    "    while node:\n",
    "        nes = node.feature.split(\",\")\n",
    "        wor = node.surface\n",
    "        if wor != \"\":\n",
    "            nes = node.feature.split(\",\")\n",
    "            if flag == 0:\n",
    "                if nes[0] == u\"名詞\":\n",
    "                    if nes[6] == u\"*\":\n",
    "                         keyword.append(wor)\n",
    "                    else:\n",
    "                        keyword.append(nes[6])\n",
    "            else:\n",
    "                if nes[0] == u\"名詞\":\n",
    "                    if nes[6] == u\"*\":\n",
    "                         keyword.append(wor)\n",
    "                    else:\n",
    "                        keyword.append(nes[6])\n",
    "                elif nes[0] == u\"動詞\":\n",
    "                    if nes[6] == u\"*\":\n",
    "                        keyword.append(wor)\n",
    "                    else:\n",
    "                        keyword.append(nes[6])\n",
    "                elif nes[0] == u\"形容詞\":\n",
    "                    if nes[6] == u\"*\":\n",
    "                        keyword.append(wor)\n",
    "                    else:\n",
    "                        keyword.append(nes[6])\n",
    "                elif nes[0] == u\"副詞\":\n",
    "                    if nes[6] == u\"*\":\n",
    "                        keyword.append(wor)\n",
    "                    else:\n",
    "                        keyword.append(nes[6])\n",
    "        node = node.next\n",
    "        if node is None:\n",
    "            break\n",
    "    return keyword\n",
    "\n",
    "#ストップワードの除去\n",
    "def except_stopwords(text, stopwords):\n",
    "    for i in text:\n",
    "        for j in stopwords:\n",
    "            if i == j:\n",
    "                text.remove(j)\n",
    "    return text"
   ]
  },
  {
   "cell_type": "code",
   "execution_count": 3,
   "metadata": {},
   "outputs": [
    {
     "name": "stdout",
     "output_type": "stream",
     "text": [
      "10000\n"
     ]
    }
   ],
   "source": [
    "#メイン\n",
    "#ツイートのテキスト読み込み\n",
    "test = open(\"Datas/tweet.txt\", \"r\", encoding=\"utf-8\")\n",
    "lines = test.readlines()\n",
    "test.close()\n",
    "print(len(lines))\n",
    "\n",
    "#クリーニング及び形態素解析\n",
    "text_data = [clean_text(x) for x in lines]\n",
    "M_extract_text = [extractter(y, 0) for y in text_data]\n",
    "A_extract_text = [extractter(z, 1) for z in text_data]\n",
    "stopwords = get_stopword()\n",
    "ex_stopwords = add_stopword(stopwords)\n",
    "M_result = [except_stopwords(a, ex_stopwords) for a in M_extract_text]\n",
    "A_result = [except_stopwords(b, ex_stopwords) for b in A_extract_text]\n",
    "M_result = [' '.join(d) for d in M_result]\n",
    "A_result = [' '.join(d) for d in A_result]"
   ]
  },
  {
   "cell_type": "code",
   "execution_count": 4,
   "metadata": {},
   "outputs": [],
   "source": [
    "#書き出し1\n",
    "g = open(\"Datas/N_extract_tweet.txt\", \"w\", encoding='utf-8')\n",
    "for i in M_result:\n",
    "    g.write(i)\n",
    "    g.write('\\n')\n",
    "g.close()"
   ]
  },
  {
   "cell_type": "code",
   "execution_count": 5,
   "metadata": {},
   "outputs": [],
   "source": [
    "#書き出し2\n",
    "h = open(\"Datas/A_extract_tweet.txt\", \"w\", encoding='utf-8')\n",
    "for i in A_result:\n",
    "    h.write(i)\n",
    "    h.write('\\n')\n",
    "h.close()"
   ]
  }
 ],
 "metadata": {
  "kernelspec": {
   "display_name": "Python 3",
   "language": "python",
   "name": "python3"
  },
  "language_info": {
   "codemirror_mode": {
    "name": "ipython",
    "version": 3
   },
   "file_extension": ".py",
   "mimetype": "text/x-python",
   "name": "python",
   "nbconvert_exporter": "python",
   "pygments_lexer": "ipython3",
   "version": "3.6.7"
  }
 },
 "nbformat": 4,
 "nbformat_minor": 2
}
