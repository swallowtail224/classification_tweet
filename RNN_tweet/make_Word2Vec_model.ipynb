{
 "cells": [
  {
   "cell_type": "code",
   "execution_count": 3,
   "metadata": {},
   "outputs": [
    {
     "name": "stderr",
     "output_type": "stream",
     "text": [
      "G:\\ganda\\conda\\tensorflow_test\\lib\\site-packages\\gensim\\utils.py:1197: UserWarning: detected Windows; aliasing chunkize to chunkize_serial\n",
      "  warnings.warn(\"detected Windows; aliasing chunkize to chunkize_serial\")\n"
     ]
    }
   ],
   "source": [
    "from gensim.models import word2vec\n",
    "import numpy as np"
   ]
  },
  {
   "cell_type": "code",
   "execution_count": 41,
   "metadata": {},
   "outputs": [],
   "source": [
    "#word2vecモデルの作成と保存\n",
    "def make_model(text_data, model_name):\n",
    "    data = word2vec.LineSentence(text_data)\n",
    "    model = word2vec.Word2Vec(data, size = 200, window=10, hs= 1, sg=1)\n",
    "    model.save(model_name)\n",
    "    return model\n",
    "\n",
    "#学習したモデルから各文章のベクトル化\n",
    "def document_vector(text, model, num_features):\n",
    "    model = word2vec.Word2Vec.load(model)\n",
    "    bag_of_centroids = np.zeros(num_features, dtype = 'float32')\n",
    "    \n",
    "    for word in text:\n",
    "        try:\n",
    "            temp = model[word]\n",
    "            #print(temp)\n",
    "        except:\n",
    "            continue\n",
    "        bag_of_centroids += temp\n",
    "        #print(\"//\")\n",
    "        #print(bag_of_centroids)\n",
    "        \n",
    "    bag_of_centroids = bag_of_centroids / len(text)\n",
    "    return bag_of_centroids"
   ]
  },
  {
   "cell_type": "code",
   "execution_count": 15,
   "metadata": {},
   "outputs": [],
   "source": [
    "N_model = make_model(\"Datas/N_extract_tweet.txt\", \"Datas/noun_tweet.model\")\n",
    "A_model = make_model(\"Datas/A_extract_tweet.txt\", \"Datas/other_tweet.model\")"
   ]
  },
  {
   "cell_type": "code",
   "execution_count": 30,
   "metadata": {},
   "outputs": [
    {
     "name": "stdout",
     "output_type": "stream",
     "text": [
      "[-1.87100783e-01  1.09048277e-01  7.84002021e-02  1.41644981e-02\n",
      " -1.08856834e-01  2.94806272e-01 -8.46128315e-02 -5.22514954e-02\n",
      "  2.00934317e-02  3.43402117e-01  9.29339975e-02 -2.20360179e-02\n",
      " -3.04976791e-01  6.26765639e-02 -7.81898275e-02 -2.83944444e-03\n",
      " -9.34375897e-02  2.52086282e-01 -2.51185987e-02  2.59859681e-01\n",
      " -6.28707111e-01  1.61117762e-01 -1.81327872e-02  4.52496260e-01\n",
      "  6.93801418e-02 -7.46410945e-03 -5.74886650e-02  6.34358302e-02\n",
      " -2.61320174e-01 -9.80146378e-02  9.69706327e-02  2.69164424e-02\n",
      " -2.99226940e-01 -5.73695540e-01 -2.56332487e-01 -5.06070256e-02\n",
      "  6.37710094e-02  2.41256416e-01  1.65865451e-01 -2.54726648e-01\n",
      "  1.94784366e-02  1.44140288e-01  1.38993124e-02  1.88037008e-02\n",
      " -1.28342062e-02  9.73312259e-02 -3.29553574e-01 -6.49977088e-01\n",
      "  1.27824366e-01 -1.19076878e-01 -2.55710900e-01  2.35366434e-01\n",
      " -3.20413470e-01  2.12211814e-02 -2.10493952e-01  3.33720684e-01\n",
      " -1.24029987e-01 -7.51875490e-02  2.07686909e-02 -1.87826250e-02\n",
      " -3.26186329e-01  6.69607222e-01 -2.69257158e-01 -3.38332325e-01\n",
      " -2.49796838e-01  1.16444573e-01  5.37702501e-01 -3.52151841e-01\n",
      "  8.93532187e-02  1.08152054e-01  1.68689817e-01 -9.69111249e-02\n",
      "  6.15873002e-02  1.94793865e-01 -1.97532520e-01  1.91388682e-01\n",
      " -2.61499658e-02 -7.69258514e-02 -3.81978810e-01 -3.09291244e-01\n",
      "  2.28029504e-01 -8.84408355e-02 -2.99670786e-01  2.93182015e-01\n",
      " -6.25126064e-02 -1.21513605e-02  2.77690113e-01  2.46468246e-01\n",
      "  6.32562041e-02  3.07020932e-01  3.27973932e-01 -6.85848445e-02\n",
      " -3.35674286e-01  4.80090678e-01  3.70296627e-01 -2.69600958e-01\n",
      " -3.70118290e-01 -1.46529734e-01 -1.97288960e-01 -4.87451665e-02\n",
      "  1.48701116e-01 -1.22986235e-01 -2.78877705e-01  2.48670742e-01\n",
      " -8.72857273e-02  5.91361336e-02 -1.70165822e-01  1.19918704e-01\n",
      "  3.37967992e-01 -1.55647114e-01  6.39721826e-02 -2.90094465e-02\n",
      " -1.02357753e-01 -1.25814453e-01 -1.29272401e-01 -3.88955474e-01\n",
      " -1.49997339e-01  4.46738899e-02 -8.60903412e-03  1.64620936e-01\n",
      "  1.32443890e-01 -2.69522905e-01 -5.47287911e-02 -2.08838861e-02\n",
      "  2.10393935e-01  3.90301719e-02 -3.35882962e-01 -1.00574553e-01\n",
      "  2.49707341e-01 -1.40729561e-01 -5.75525761e-01 -3.04297686e-01\n",
      "  3.74589264e-01 -2.22060487e-01 -2.65745819e-01  2.03410685e-01\n",
      " -9.12692398e-02  1.49423406e-01  5.06047010e-01 -1.66166976e-01\n",
      " -4.03188884e-01  2.51644015e-01 -1.64040729e-01 -5.98374724e-01\n",
      " -1.26224846e-01 -1.57063201e-01 -7.92038292e-02  1.92867160e-01\n",
      "  1.24794461e-01 -2.13713989e-01  2.50060946e-01 -1.35255560e-01\n",
      "  6.10366873e-02  5.25389731e-01 -6.03728406e-02 -2.17931196e-02\n",
      " -7.55546987e-02  1.33129448e-01  8.24231654e-02  2.72969782e-01\n",
      "  1.66034967e-01  1.86500102e-01  2.10517839e-01  1.08120471e-01\n",
      "  1.44461453e-01  3.07866365e-01  1.51118040e-02 -1.96785107e-01\n",
      "  2.49601066e-01  1.49901167e-01  1.70466214e-01 -3.44112661e-04\n",
      "  7.17913434e-02 -4.92148340e-01 -2.28846028e-01 -1.91501863e-02\n",
      "  1.38754264e-01 -1.56703621e-01  2.49890909e-01  2.54899766e-02\n",
      "  4.31443453e-02  1.14967925e-02 -3.21073204e-01 -1.81965142e-01\n",
      " -8.12885538e-02  3.42216194e-01 -4.76943642e-01  2.53518343e-01\n",
      "  4.11533937e-02  1.05990693e-01  6.67753443e-02  5.89640588e-02\n",
      " -2.44533882e-01  6.18372709e-02  3.79293710e-01 -2.30808735e-01\n",
      "  1.22159138e-01  7.38061816e-02 -1.93972409e-01  2.07611322e-01]\n"
     ]
    },
    {
     "name": "stderr",
     "output_type": "stream",
     "text": [
      "G:\\ganda\\conda\\tensorflow_test\\lib\\site-packages\\ipykernel_launcher.py:4: DeprecationWarning: Call to deprecated `__getitem__` (Method will be removed in 4.0.0, use self.wv.__getitem__() instead).\n",
      "  after removing the cwd from sys.path.\n"
     ]
    }
   ],
   "source": [
    "#テスト\n",
    "model = word2vec.Word2Vec.load('Datas/noun_tweet.model')\n",
    "index = model.wv.index2word\n",
    "print(model['陸前高田'])"
   ]
  },
  {
   "cell_type": "code",
   "execution_count": 17,
   "metadata": {},
   "outputs": [],
   "source": [
    "def read_data(file):\n",
    "    f = open(file, \"r\", encoding=\"utf-8\")\n",
    "    datas = f.readlines()\n",
    "    f.close()\n",
    "    return datas"
   ]
  },
  {
   "cell_type": "code",
   "execution_count": 42,
   "metadata": {},
   "outputs": [
    {
     "name": "stderr",
     "output_type": "stream",
     "text": [
      "G:\\ganda\\conda\\tensorflow_test\\lib\\site-packages\\ipykernel_launcher.py:15: DeprecationWarning: Call to deprecated `__getitem__` (Method will be removed in 4.0.0, use self.wv.__getitem__() instead).\n",
      "  from ipykernel import kernelapp as app\n"
     ]
    }
   ],
   "source": [
    "N_model = \"Datas/noun_tweet.model\"\n",
    "wordlen = 200\n",
    "N_texts = read_data(\"Datas/N_extract_tweet.txt\")\n",
    "WN_data = [document_vector(a, N_model, wordlen) for a in N_texts]\n",
    "np_WN_data = np.array(WN_data)"
   ]
  },
  {
   "cell_type": "code",
   "execution_count": 70,
   "metadata": {},
   "outputs": [
    {
     "name": "stdout",
     "output_type": "stream",
     "text": [
      "10000\n"
     ]
    }
   ],
   "source": [
    "from keras.utils.np_utils import to_categorical\n",
    "from keras.preprocessing.sequence import pad_sequences\n",
    "#ラベル読み込み\n",
    "test = open(\"Datas/label.txt\", \"r\", encoding=\"utf-8\")\n",
    "label = test.readlines()\n",
    "test.close()\n",
    "print(len(label))\n",
    "\n",
    "training_samples = 8000 # training data 80 : validation data 20\n",
    "validation_samples = 10000 - training_samples\n",
    "\n",
    "# バイナリの行列に変換\n",
    "categorical_labels = to_categorical(label)\n",
    "labels = np.asarray(categorical_labels)\n",
    "\n",
    "x_train = np_WN_data[:training_samples]\n",
    "y_train = labels[:training_samples]\n",
    "x_val = np_WN_data[training_samples: training_samples + validation_samples]\n",
    "y_val = labels[training_samples: training_samples + validation_samples]"
   ]
  },
  {
   "cell_type": "code",
   "execution_count": 66,
   "metadata": {},
   "outputs": [],
   "source": [
    "np_WN_data = np.array(WN_data)"
   ]
  },
  {
   "cell_type": "code",
   "execution_count": 69,
   "metadata": {},
   "outputs": [
    {
     "name": "stdout",
     "output_type": "stream",
     "text": [
      "<class 'numpy.ndarray'>\n"
     ]
    }
   ],
   "source": [
    "print(type(np_WN_data))"
   ]
  },
  {
   "cell_type": "code",
   "execution_count": 82,
   "metadata": {},
   "outputs": [
    {
     "name": "stdout",
     "output_type": "stream",
     "text": [
      "_________________________________________________________________\n",
      "Layer (type)                 Output Shape              Param #   \n",
      "=================================================================\n",
      "embedding_3 (Embedding)      (None, 200, 100)          2000000   \n",
      "_________________________________________________________________\n",
      "lstm_6 (LSTM)                (None, 1000)              4404000   \n",
      "_________________________________________________________________\n",
      "dropout_5 (Dropout)          (None, 1000)              0         \n",
      "_________________________________________________________________\n",
      "dense_6 (Dense)              (None, 2)                 2002      \n",
      "=================================================================\n",
      "Total params: 6,406,002\n",
      "Trainable params: 6,406,002\n",
      "Non-trainable params: 0\n",
      "_________________________________________________________________\n"
     ]
    }
   ],
   "source": [
    "from keras.models import Sequential\n",
    "from keras.layers import Flatten, Dense, Embedding\n",
    "from keras.layers import LSTM\n",
    "from keras.callbacks import EarlyStopping, TensorBoard\n",
    "from keras.layers.core import Dropout\n",
    "\n",
    "model = Sequential()\n",
    "model.add(Embedding(20000, 100, input_length=200))\n",
    "model.add(LSTM(1000))\n",
    "model.add(Dropout(0.5))\n",
    "model.add(Dense(2, activation='softmax'))\n",
    "model.compile(optimizer='adam', loss='binary_crossentropy', metrics=['acc'])\n",
    "model.summary()\n",
    "\n",
    "early_stopping = EarlyStopping(patience=0, verbose=1)"
   ]
  },
  {
   "cell_type": "code",
   "execution_count": 83,
   "metadata": {},
   "outputs": [
    {
     "name": "stdout",
     "output_type": "stream",
     "text": [
      "Train on 8000 samples, validate on 2000 samples\n",
      "Epoch 1/15\n",
      "8000/8000 [==============================] - 26s 3ms/step - loss: 0.6936 - acc: 0.5090 - val_loss: 0.6950 - val_acc: 0.4075\n",
      "Epoch 2/15\n",
      "8000/8000 [==============================] - 24s 3ms/step - loss: 0.6929 - acc: 0.5194 - val_loss: 0.7122 - val_acc: 0.4075\n",
      "Epoch 3/15\n",
      "3000/8000 [==========>...................] - ETA: 13s - loss: 0.6912 - acc: 0.5340"
     ]
    },
    {
     "ename": "KeyboardInterrupt",
     "evalue": "",
     "output_type": "error",
     "traceback": [
      "\u001b[1;31m---------------------------------------------------------------------------\u001b[0m",
      "\u001b[1;31mKeyboardInterrupt\u001b[0m                         Traceback (most recent call last)",
      "\u001b[1;32m<ipython-input-83-0403ceb238fe>\u001b[0m in \u001b[0;36m<module>\u001b[1;34m\u001b[0m\n\u001b[0;32m      3\u001b[0m                     \u001b[0mbatch_size\u001b[0m\u001b[1;33m=\u001b[0m\u001b[1;36m250\u001b[0m\u001b[1;33m,\u001b[0m\u001b[1;33m\u001b[0m\u001b[1;33m\u001b[0m\u001b[0m\n\u001b[0;32m      4\u001b[0m                     \u001b[0mvalidation_split\u001b[0m\u001b[1;33m=\u001b[0m\u001b[1;36m0.2\u001b[0m\u001b[1;33m,\u001b[0m\u001b[1;33m\u001b[0m\u001b[1;33m\u001b[0m\u001b[0m\n\u001b[1;32m----> 5\u001b[1;33m                     validation_data=(x_val, y_val))\n\u001b[0m",
      "\u001b[1;32m~\\conda\\tensorflow_test\\lib\\site-packages\\keras\\engine\\training.py\u001b[0m in \u001b[0;36mfit\u001b[1;34m(self, x, y, batch_size, epochs, verbose, callbacks, validation_split, validation_data, shuffle, class_weight, sample_weight, initial_epoch, steps_per_epoch, validation_steps, **kwargs)\u001b[0m\n\u001b[0;32m   1037\u001b[0m                                         \u001b[0minitial_epoch\u001b[0m\u001b[1;33m=\u001b[0m\u001b[0minitial_epoch\u001b[0m\u001b[1;33m,\u001b[0m\u001b[1;33m\u001b[0m\u001b[1;33m\u001b[0m\u001b[0m\n\u001b[0;32m   1038\u001b[0m                                         \u001b[0msteps_per_epoch\u001b[0m\u001b[1;33m=\u001b[0m\u001b[0msteps_per_epoch\u001b[0m\u001b[1;33m,\u001b[0m\u001b[1;33m\u001b[0m\u001b[1;33m\u001b[0m\u001b[0m\n\u001b[1;32m-> 1039\u001b[1;33m                                         validation_steps=validation_steps)\n\u001b[0m\u001b[0;32m   1040\u001b[0m \u001b[1;33m\u001b[0m\u001b[0m\n\u001b[0;32m   1041\u001b[0m     def evaluate(self, x=None, y=None,\n",
      "\u001b[1;32m~\\conda\\tensorflow_test\\lib\\site-packages\\keras\\engine\\training_arrays.py\u001b[0m in \u001b[0;36mfit_loop\u001b[1;34m(model, f, ins, out_labels, batch_size, epochs, verbose, callbacks, val_f, val_ins, shuffle, callback_metrics, initial_epoch, steps_per_epoch, validation_steps)\u001b[0m\n\u001b[0;32m    197\u001b[0m                     \u001b[0mins_batch\u001b[0m\u001b[1;33m[\u001b[0m\u001b[0mi\u001b[0m\u001b[1;33m]\u001b[0m \u001b[1;33m=\u001b[0m \u001b[0mins_batch\u001b[0m\u001b[1;33m[\u001b[0m\u001b[0mi\u001b[0m\u001b[1;33m]\u001b[0m\u001b[1;33m.\u001b[0m\u001b[0mtoarray\u001b[0m\u001b[1;33m(\u001b[0m\u001b[1;33m)\u001b[0m\u001b[1;33m\u001b[0m\u001b[1;33m\u001b[0m\u001b[0m\n\u001b[0;32m    198\u001b[0m \u001b[1;33m\u001b[0m\u001b[0m\n\u001b[1;32m--> 199\u001b[1;33m                 \u001b[0mouts\u001b[0m \u001b[1;33m=\u001b[0m \u001b[0mf\u001b[0m\u001b[1;33m(\u001b[0m\u001b[0mins_batch\u001b[0m\u001b[1;33m)\u001b[0m\u001b[1;33m\u001b[0m\u001b[1;33m\u001b[0m\u001b[0m\n\u001b[0m\u001b[0;32m    200\u001b[0m                 \u001b[0mouts\u001b[0m \u001b[1;33m=\u001b[0m \u001b[0mto_list\u001b[0m\u001b[1;33m(\u001b[0m\u001b[0mouts\u001b[0m\u001b[1;33m)\u001b[0m\u001b[1;33m\u001b[0m\u001b[1;33m\u001b[0m\u001b[0m\n\u001b[0;32m    201\u001b[0m                 \u001b[1;32mfor\u001b[0m \u001b[0ml\u001b[0m\u001b[1;33m,\u001b[0m \u001b[0mo\u001b[0m \u001b[1;32min\u001b[0m \u001b[0mzip\u001b[0m\u001b[1;33m(\u001b[0m\u001b[0mout_labels\u001b[0m\u001b[1;33m,\u001b[0m \u001b[0mouts\u001b[0m\u001b[1;33m)\u001b[0m\u001b[1;33m:\u001b[0m\u001b[1;33m\u001b[0m\u001b[1;33m\u001b[0m\u001b[0m\n",
      "\u001b[1;32m~\\conda\\tensorflow_test\\lib\\site-packages\\keras\\backend\\tensorflow_backend.py\u001b[0m in \u001b[0;36m__call__\u001b[1;34m(self, inputs)\u001b[0m\n\u001b[0;32m   2713\u001b[0m                 \u001b[1;32mreturn\u001b[0m \u001b[0mself\u001b[0m\u001b[1;33m.\u001b[0m\u001b[0m_legacy_call\u001b[0m\u001b[1;33m(\u001b[0m\u001b[0minputs\u001b[0m\u001b[1;33m)\u001b[0m\u001b[1;33m\u001b[0m\u001b[1;33m\u001b[0m\u001b[0m\n\u001b[0;32m   2714\u001b[0m \u001b[1;33m\u001b[0m\u001b[0m\n\u001b[1;32m-> 2715\u001b[1;33m             \u001b[1;32mreturn\u001b[0m \u001b[0mself\u001b[0m\u001b[1;33m.\u001b[0m\u001b[0m_call\u001b[0m\u001b[1;33m(\u001b[0m\u001b[0minputs\u001b[0m\u001b[1;33m)\u001b[0m\u001b[1;33m\u001b[0m\u001b[1;33m\u001b[0m\u001b[0m\n\u001b[0m\u001b[0;32m   2716\u001b[0m         \u001b[1;32melse\u001b[0m\u001b[1;33m:\u001b[0m\u001b[1;33m\u001b[0m\u001b[1;33m\u001b[0m\u001b[0m\n\u001b[0;32m   2717\u001b[0m             \u001b[1;32mif\u001b[0m \u001b[0mpy_any\u001b[0m\u001b[1;33m(\u001b[0m\u001b[0mis_tensor\u001b[0m\u001b[1;33m(\u001b[0m\u001b[0mx\u001b[0m\u001b[1;33m)\u001b[0m \u001b[1;32mfor\u001b[0m \u001b[0mx\u001b[0m \u001b[1;32min\u001b[0m \u001b[0minputs\u001b[0m\u001b[1;33m)\u001b[0m\u001b[1;33m:\u001b[0m\u001b[1;33m\u001b[0m\u001b[1;33m\u001b[0m\u001b[0m\n",
      "\u001b[1;32m~\\conda\\tensorflow_test\\lib\\site-packages\\keras\\backend\\tensorflow_backend.py\u001b[0m in \u001b[0;36m_call\u001b[1;34m(self, inputs)\u001b[0m\n\u001b[0;32m   2673\u001b[0m             \u001b[0mfetched\u001b[0m \u001b[1;33m=\u001b[0m \u001b[0mself\u001b[0m\u001b[1;33m.\u001b[0m\u001b[0m_callable_fn\u001b[0m\u001b[1;33m(\u001b[0m\u001b[1;33m*\u001b[0m\u001b[0marray_vals\u001b[0m\u001b[1;33m,\u001b[0m \u001b[0mrun_metadata\u001b[0m\u001b[1;33m=\u001b[0m\u001b[0mself\u001b[0m\u001b[1;33m.\u001b[0m\u001b[0mrun_metadata\u001b[0m\u001b[1;33m)\u001b[0m\u001b[1;33m\u001b[0m\u001b[1;33m\u001b[0m\u001b[0m\n\u001b[0;32m   2674\u001b[0m         \u001b[1;32melse\u001b[0m\u001b[1;33m:\u001b[0m\u001b[1;33m\u001b[0m\u001b[1;33m\u001b[0m\u001b[0m\n\u001b[1;32m-> 2675\u001b[1;33m             \u001b[0mfetched\u001b[0m \u001b[1;33m=\u001b[0m \u001b[0mself\u001b[0m\u001b[1;33m.\u001b[0m\u001b[0m_callable_fn\u001b[0m\u001b[1;33m(\u001b[0m\u001b[1;33m*\u001b[0m\u001b[0marray_vals\u001b[0m\u001b[1;33m)\u001b[0m\u001b[1;33m\u001b[0m\u001b[1;33m\u001b[0m\u001b[0m\n\u001b[0m\u001b[0;32m   2676\u001b[0m         \u001b[1;32mreturn\u001b[0m \u001b[0mfetched\u001b[0m\u001b[1;33m[\u001b[0m\u001b[1;33m:\u001b[0m\u001b[0mlen\u001b[0m\u001b[1;33m(\u001b[0m\u001b[0mself\u001b[0m\u001b[1;33m.\u001b[0m\u001b[0moutputs\u001b[0m\u001b[1;33m)\u001b[0m\u001b[1;33m]\u001b[0m\u001b[1;33m\u001b[0m\u001b[1;33m\u001b[0m\u001b[0m\n\u001b[0;32m   2677\u001b[0m \u001b[1;33m\u001b[0m\u001b[0m\n",
      "\u001b[1;32m~\\conda\\tensorflow_test\\lib\\site-packages\\tensorflow\\python\\client\\session.py\u001b[0m in \u001b[0;36m__call__\u001b[1;34m(self, *args, **kwargs)\u001b[0m\n\u001b[0;32m   1437\u001b[0m           ret = tf_session.TF_SessionRunCallable(\n\u001b[0;32m   1438\u001b[0m               \u001b[0mself\u001b[0m\u001b[1;33m.\u001b[0m\u001b[0m_session\u001b[0m\u001b[1;33m.\u001b[0m\u001b[0m_session\u001b[0m\u001b[1;33m,\u001b[0m \u001b[0mself\u001b[0m\u001b[1;33m.\u001b[0m\u001b[0m_handle\u001b[0m\u001b[1;33m,\u001b[0m \u001b[0margs\u001b[0m\u001b[1;33m,\u001b[0m \u001b[0mstatus\u001b[0m\u001b[1;33m,\u001b[0m\u001b[1;33m\u001b[0m\u001b[1;33m\u001b[0m\u001b[0m\n\u001b[1;32m-> 1439\u001b[1;33m               run_metadata_ptr)\n\u001b[0m\u001b[0;32m   1440\u001b[0m         \u001b[1;32mif\u001b[0m \u001b[0mrun_metadata\u001b[0m\u001b[1;33m:\u001b[0m\u001b[1;33m\u001b[0m\u001b[1;33m\u001b[0m\u001b[0m\n\u001b[0;32m   1441\u001b[0m           \u001b[0mproto_data\u001b[0m \u001b[1;33m=\u001b[0m \u001b[0mtf_session\u001b[0m\u001b[1;33m.\u001b[0m\u001b[0mTF_GetBuffer\u001b[0m\u001b[1;33m(\u001b[0m\u001b[0mrun_metadata_ptr\u001b[0m\u001b[1;33m)\u001b[0m\u001b[1;33m\u001b[0m\u001b[1;33m\u001b[0m\u001b[0m\n",
      "\u001b[1;31mKeyboardInterrupt\u001b[0m: "
     ]
    }
   ],
   "source": [
    "history = model.fit(x_train, y_train,\n",
    "                    epochs=15, \n",
    "                    batch_size=250, \n",
    "                    validation_split=0.2, \n",
    "                    validation_data=(x_val, y_val))"
   ]
  },
  {
   "cell_type": "code",
   "execution_count": 72,
   "metadata": {},
   "outputs": [
    {
     "name": "stdout",
     "output_type": "stream",
     "text": [
      "[-0.05404585  0.01747436  0.06302081  0.10264156  0.04017179  0.05486504\n",
      " -0.00281867  0.05627099 -0.05127353  0.04847184  0.05031431 -0.05284579\n",
      "  0.04907434  0.00873903 -0.01022228 -0.08101268 -0.02625519 -0.03206147\n",
      "  0.0480625   0.00435327 -0.07044593 -0.03366547 -0.03722711  0.02239307\n",
      "  0.04952715 -0.00513365  0.00380397  0.00398632  0.01435855  0.00906893\n",
      "  0.04190715  0.05365361  0.00567958 -0.08920804  0.01804802  0.02728518\n",
      "  0.02042475 -0.00434983 -0.00316797 -0.04867408 -0.01468666 -0.03402233\n",
      "  0.01841716 -0.02751425  0.00973431  0.01218706 -0.05285603 -0.0686192\n",
      " -0.03201847 -0.03844313  0.00879757  0.07529281 -0.00764451 -0.00065014\n",
      " -0.0040061  -0.00138216 -0.0097895  -0.02825337  0.05416796 -0.00215303\n",
      " -0.04519954  0.01187047 -0.08524915 -0.00160591  0.03581157  0.0890841\n",
      "  0.03294931  0.07116871  0.01088624 -0.02185794  0.03700366 -0.01958093\n",
      "  0.02647966  0.01919383 -0.00857811  0.06232745 -0.03380255 -0.01375844\n",
      " -0.04797906 -0.05060933  0.0331441   0.00172181  0.00051189  0.0170151\n",
      "  0.03802413 -0.02232743 -0.05074039  0.03107306  0.05604317  0.03322335\n",
      "  0.02299737 -0.05006858  0.00326096  0.04670568  0.02076292 -0.00176549\n",
      " -0.02600932 -0.05333056 -0.05628963 -0.00574728 -0.02394879 -0.01539709\n",
      " -0.00379235 -0.04134961 -0.00850971 -0.09025272 -0.04745153 -0.02953304\n",
      " -0.00751548  0.01044029 -0.0082316   0.00134741 -0.03942226 -0.02024505\n",
      "  0.00288863 -0.02720539 -0.0560581  -0.04784615 -0.03699544  0.008678\n",
      "  0.04496699 -0.02383598 -0.00238744 -0.06845084  0.06702013 -0.00529545\n",
      " -0.04867085  0.06266703  0.02972934 -0.02348986 -0.04651476  0.07786902\n",
      "  0.07556695 -0.03720231  0.0084651   0.06019558 -0.00235932  0.04309924\n",
      "  0.00381543  0.03867132  0.0154567   0.04273196 -0.03125801 -0.08099622\n",
      " -0.05913991  0.00263579 -0.00938563  0.02170133  0.02694527 -0.0200691\n",
      "  0.05698143 -0.02141563  0.01117598  0.05311239  0.00161201 -0.02716118\n",
      " -0.04577071  0.02870559  0.02519468  0.05551748  0.01785595  0.01579445\n",
      " -0.03107504  0.02415199 -0.02511439 -0.03184831  0.03711707 -0.01781969\n",
      "  0.0222377  -0.03323524 -0.03887323  0.01668751  0.02925061 -0.05177819\n",
      "  0.03567724  0.00711469  0.01536553  0.00922017 -0.01003554 -0.02244676\n",
      "  0.01193166 -0.02406202 -0.0371369  -0.01871174 -0.04411953  0.0497863\n",
      " -0.03736262 -0.00320922  0.01558807 -0.04891218 -0.00979793  0.02947145\n",
      " -0.01447491 -0.00757365  0.08071305 -0.02330824 -0.01568227 -0.01486105\n",
      " -0.03196556  0.05969776]\n"
     ]
    }
   ],
   "source": [
    "print(x_train[0])"
   ]
  },
  {
   "cell_type": "code",
   "execution_count": null,
   "metadata": {},
   "outputs": [],
   "source": []
  }
 ],
 "metadata": {
  "kernelspec": {
   "display_name": "Python 3",
   "language": "python",
   "name": "python3"
  },
  "language_info": {
   "codemirror_mode": {
    "name": "ipython",
    "version": 3
   },
   "file_extension": ".py",
   "mimetype": "text/x-python",
   "name": "python",
   "nbconvert_exporter": "python",
   "pygments_lexer": "ipython3",
   "version": "3.6.7"
  }
 },
 "nbformat": 4,
 "nbformat_minor": 2
}
