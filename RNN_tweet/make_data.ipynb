{
 "cells": [
  {
   "cell_type": "code",
   "execution_count": 2,
   "metadata": {},
   "outputs": [],
   "source": [
    "import pandas as pd\n",
    "import numpy as np"
   ]
  },
  {
   "cell_type": "code",
   "execution_count": 1,
   "metadata": {},
   "outputs": [],
   "source": [
    "def make_data(data, text_data):\n",
    "    n_data = pd.merge(data, text_data, how=\"inner\", on=\"tweetID\")\n",
    "    #余分に別れたカラムの結合\n",
    "    n_data['tweet2'] = n_data[['tweet', 'Unnamed: 3', 'Unnamed: 4', \n",
    "                               'Unnamed: 5', 'Unnamed: 6']].apply(lambda x: '{}_{}_{}'.format(x[0], x[1], x[2],x[3],x[4]), \n",
    "                                                                  axis=1)\n",
    "    #必要なカラム以外は取り除く\n",
    "    n_data.drop(['date_y','tweet','Unnamed: 3', 'Unnamed: 4','Unnamed: 5', 'Unnamed: 6'], axis=1, inplace=True)\n",
    "    #不要な文字の削除\n",
    "    n_data[\"tweet2\"] = n_data[\"tweet2\"].str.replace('\\n', ' ')\n",
    "    n_data[\"tweet2\"] = n_data[\"tweet2\"].str.replace('_nan', ' ')\n",
    "    return n_data"
   ]
  },
  {
   "cell_type": "code",
   "execution_count": 3,
   "metadata": {
    "collapsed": true
   },
   "outputs": [
    {
     "name": "stdout",
     "output_type": "stream",
     "text": [
      "48298\n",
      "48769\n",
      "        tweetID  retweet               date_x  \\\n",
      "0  7.113431e+17        1  2016-03-20 00:00:00   \n",
      "1  7.124711e+17        1  2016-03-23 00:00:00   \n",
      "2  7.223425e+17        1  2016-04-19 00:00:00   \n",
      "\n",
      "                                              tweet2  \n",
      "0                         本日も遠野風の丘軒下市、よろしくお願いします。     \n",
      "1  【遠野山ぶどうワイン2015】本日より発売開始です！！駅前売店でも入荷しております♪数量限定...  \n",
      "2  骨寺荘園室より 【世界遺産 拡張資産 巡回バス】のお知らせ  ４月23日（土）に世界遺産拡張...  \n",
      "        tweetID  retweet               date_x  \\\n",
      "0  7.111280e+17        0  2016-03-19 00:00:00   \n",
      "1  7.113160e+17        0  2016-03-20 00:00:00   \n",
      "2  7.113729e+17        0  2016-03-20 00:00:00   \n",
      "\n",
      "                                              tweet2  \n",
      "0  きょうは来てくれてありがとっ♡ お買い物してくれてありがとっ♡ 21日は陸前高田にねば〜るく...  \n",
      "1  みんなゆめ☆も〜にん☆彡  かさ上げに 思いはひとつ 笑顔かなっ♪            ゆ...  \n",
      "2  【遠野風の丘軒下市】ラム肉まんが通常220円のところ200円、2つで300円で販売しています...  \n"
     ]
    }
   ],
   "source": [
    "#retweet dataの読み込み\n",
    "retweet_input = pd.read_csv(filepath_or_buffer=\"t_retweet.csv\", encoding=\"utf_8\", sep=\",\")\n",
    "print(len(retweet_input))\n",
    "\n",
    "#tweet dataの読み込み\n",
    "tweet_input = pd.read_csv(filepath_or_buffer=\"t_tweet_data.csv\", encoding=\"utf_8\", sep=\",\")\n",
    "print(len(tweet_input))\n",
    "\n",
    "#retweetしたデータとしなかったデータに分割\n",
    "retweet = retweet_input.query('retweet == 1')\n",
    "n_retweet = retweet_input.query('retweet == 0')\n",
    "\n",
    "r_data = make_data(retweet, tweet_input)\n",
    "nr_data = make_data(n_retweet, tweet_input)\n",
    "\n",
    "print(r_data.head(3))\n",
    "print(nr_data.head(3))"
   ]
  },
  {
   "cell_type": "code",
   "execution_count": 3,
   "metadata": {
    "collapsed": true
   },
   "outputs": [
    {
     "name": "stdout",
     "output_type": "stream",
     "text": [
      "         tweetID  retweet               date_x  \\\n",
      "0   7.111280e+17        0  2016-03-19 00:00:00   \n",
      "6   7.115409e+17        0  2016-03-20 00:00:00   \n",
      "16  7.117752e+17        0  2016-03-21 00:00:00   \n",
      "\n",
      "                                               tweet2  \n",
      "0   きょうは来てくれてありがとっ♡ お買い物してくれてありがとっ♡ 21日は陸前高田にねば〜るく...  \n",
      "6                                         遠野物語の舞台‼     \n",
      "16                                     よいしょっよいしょっ♡     \n"
     ]
    }
   ],
   "source": [
    "#データをランダムに5000件ずつ抽出\n",
    "ran_r_data = r_data.sample(n=5000)\n",
    "ran_nr_data = nr_data.sample(n=5000)\n",
    "#データの結合\n",
    "data = ran_r_data.append(ran_nr_data)\n",
    "#dateでソート\n",
    "data_s = data.sort_values('date_x')\n",
    "print(data_s.head(3))"
   ]
  },
  {
   "cell_type": "code",
   "execution_count": 4,
   "metadata": {},
   "outputs": [],
   "source": [
    "#テキストデータのみ取り出し、ファイルに書き出す\n",
    "text = data_s.drop(['tweetID', 'retweet', 'date_x'], axis=1)\n",
    "text.to_csv(\"tweet.txt\",header=False, index=False, sep=\",\")\n",
    "#retweetのラベルのみ取り出す\n",
    "tweet_labe = data_s.drop(['tweetID', 'date_x', 'tweet2'], axis=1)\n",
    "tweet_labe.to_csv(\"label.txt\", header=False, index=False, sep=\",\")"
   ]
  },
  {
   "cell_type": "code",
   "execution_count": 2,
   "metadata": {},
   "outputs": [
    {
     "name": "stdout",
     "output_type": "stream",
     "text": [
      "48298\n",
      "48769\n",
      "        tweetID  retweet               date_x  \\\n",
      "0  7.113431e+17        1  2016-03-20 00:00:00   \n",
      "1  7.124711e+17        1  2016-03-23 00:00:00   \n",
      "2  7.223425e+17        1  2016-04-19 00:00:00   \n",
      "\n",
      "                                              tweet2  \n",
      "0                         本日も遠野風の丘軒下市、よろしくお願いします。     \n",
      "1  【遠野山ぶどうワイン2015】本日より発売開始です！！駅前売店でも入荷しております♪数量限定...  \n",
      "2  骨寺荘園室より 【世界遺産 拡張資産 巡回バス】のお知らせ  ４月23日（土）に世界遺産拡張...  \n",
      "        tweetID  retweet               date_x  \\\n",
      "0  7.111280e+17        0  2016-03-19 00:00:00   \n",
      "1  7.113160e+17        0  2016-03-20 00:00:00   \n",
      "2  7.113729e+17        0  2016-03-20 00:00:00   \n",
      "\n",
      "                                              tweet2  \n",
      "0  きょうは来てくれてありがとっ♡ お買い物してくれてありがとっ♡ 21日は陸前高田にねば〜るく...  \n",
      "1  みんなゆめ☆も〜にん☆彡  かさ上げに 思いはひとつ 笑顔かなっ♪            ゆ...  \n",
      "2  【遠野風の丘軒下市】ラム肉まんが通常220円のところ200円、2つで300円で販売しています...  \n"
     ]
    }
   ],
   "source": [
    "#retweet dataの読み込み\n",
    "retweet_input = pd.read_csv(filepath_or_buffer=\"t_retweet.csv\", encoding=\"utf_8\", sep=\",\")\n",
    "print(len(retweet_input))\n",
    "\n",
    "#tweet dataの読み込み\n",
    "tweet_input = pd.read_csv(filepath_or_buffer=\"t_tweet_data.csv\", encoding=\"utf_8\", sep=\",\")\n",
    "print(len(tweet_input))\n",
    "\n",
    "\n",
    "#retweetしたデータとしなかったデータに分割\n",
    "retweet = retweet_input.query('retweet == 1')\n",
    "n_retweet = retweet_input.query('retweet == 0')\n",
    "\n",
    "#retweetしたデータ\n",
    "r_data = pd.merge(retweet, tweet_input, how=\"inner\", on=\"tweetID\")\n",
    "#retweetしなかったデータ\n",
    "nr_data = pd.merge(n_retweet, tweet_input, how=\"inner\", on=\"tweetID\")\n",
    "\n",
    "#余分に別れたカラムの結合\n",
    "r_data['tweet2'] = r_data[['tweet', 'Unnamed: 3', 'Unnamed: 4', 'Unnamed: 5', 'Unnamed: 6']].apply(lambda x: '{}_{}_{}'.format(x[0], x[1], x[2],x[3],x[4]), axis=1)\n",
    "nr_data['tweet2'] = nr_data[['tweet', 'Unnamed: 3', 'Unnamed: 4', 'Unnamed: 5', 'Unnamed: 6']].apply(lambda x: '{}_{}_{}'.format(x[0], x[1], x[2],x[3],x[4]), axis=1)\n",
    "\n",
    "#必要なカラム以外は取り除く\n",
    "r_data.drop(['date_y','tweet','Unnamed: 3', 'Unnamed: 4','Unnamed: 5', 'Unnamed: 6'], axis=1, inplace=True)\n",
    "nr_data.drop(['date_y','tweet','Unnamed: 3', 'Unnamed: 4','Unnamed: 5', 'Unnamed: 6'], axis=1, inplace=True)\n",
    "\n",
    "#不要な文字の削除\n",
    "r_data[\"tweet2\"] = r_data[\"tweet2\"].str.replace('\\n', ' ')\n",
    "r_data[\"tweet2\"] = r_data[\"tweet2\"].str.replace('_nan', ' ')\n",
    "nr_data[\"tweet2\"] =nr_data[\"tweet2\"].str.replace('\\n', ' ')\n",
    "nr_data[\"tweet2\"] = nr_data[\"tweet2\"].str.replace('_nan', ' ')\n",
    "\n",
    "print(r_data.head(3))\n",
    "print(nr_data.head(3))"
   ]
  },
  {
   "cell_type": "code",
   "execution_count": null,
   "metadata": {},
   "outputs": [],
   "source": [
    "data = word2vec.LineSentence(extract_tweet.txt)\n",
    "model = word2vec.Word2Vec(data, size = 200, window=10, hs= 1, min_count=2, sg=1)\n",
    "model.save(\"science4.model\")"
   ]
  }
 ],
 "metadata": {
  "kernelspec": {
   "display_name": "Python 3",
   "language": "python",
   "name": "python3"
  },
  "language_info": {
   "codemirror_mode": {
    "name": "ipython",
    "version": 3
   },
   "file_extension": ".py",
   "mimetype": "text/x-python",
   "name": "python",
   "nbconvert_exporter": "python",
   "pygments_lexer": "ipython3",
   "version": "3.6.7"
  }
 },
 "nbformat": 4,
 "nbformat_minor": 2
}
