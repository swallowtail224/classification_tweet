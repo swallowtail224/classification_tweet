{
 "cells": [
  {
   "cell_type": "code",
   "execution_count": 183,
   "metadata": {},
   "outputs": [],
   "source": [
    "import pandas as pd\n",
    "import numpy as np\n",
    "import matplotlib.pyplot as plt\n",
    "import seaborn as sns\n",
    "import matplotlib as mpl\n",
    "%matplotlib inline\n",
    "plt.rcParams[\"font.family\"] = \"IPAPGothic\""
   ]
  },
  {
   "cell_type": "code",
   "execution_count": 180,
   "metadata": {},
   "outputs": [],
   "source": [
    "#データ読み込み関数\n",
    "def read_data(data_path):\n",
    "    data_name = pd.read_csv(filepath_or_buffer=data_path, encoding=\"utf_8\", sep=\",\")\n",
    "    #data_name.info()\n",
    "    return data_name\n",
    "\n",
    "#各種データの変換\n",
    "def conversion_id(df):\n",
    "    #user_idの固有データの取り出し\n",
    "    nu = df['user_id'].unique()\n",
    "    #データフレームからuser_idを抽出\n",
    "    u_ids = df['user_id']\n",
    "    #0~31の数値へ変換\n",
    "    a_post_user = []\n",
    "    for i in u_ids:\n",
    "        for j in range(len(nu)):\n",
    "            if i == nu[j]:\n",
    "                a_post_user.append(j)\n",
    "                \n",
    "    s = pd.DataFrame(a_post_user, columns=['user_id2'])\n",
    "    df = df.join(s)\n",
    "    return df\n",
    "\n",
    "#タグをあるかないかの2値に変換\n",
    "def check_tag(x):\n",
    "    if x is not \"0\":\n",
    "        return 1\n",
    "    else:\n",
    "        return 0\n",
    "    \n",
    "#タグの変換\n",
    "def conversion_tag(df):\n",
    "    df['tag2'] = df['tag'].apply(check_tag)\n",
    "    return df\n",
    "\n",
    "#日付の変換\n",
    "def conversion_date(df):\n",
    "    df['postdate'] = pd.to_datetime(df['postdate'], format = '%Y-%m-%d')\n",
    "    df['date'] = df['postdate'].dt.dayofyear\n",
    "    return df\n",
    "\n",
    "#いらないデータの削減\n",
    "def delete_columns(df):\n",
    "    df.drop(['screen_name','user_id', 'tweet_id', 'tweet', 'tweet2', 'postdate',\n",
    "               'cos_day', 'sin_day', 'tag', 'image_url'], axis = 1, inplace=True)\n",
    "    data = df.loc[:, ['user_id2', 'date', 'tag2', 'image', 'retweet']]\n",
    "    return data\n",
    "\n",
    "#データの前処理\n",
    "def conversion_data(data_path):\n",
    "    df =  read_data(data_path)\n",
    "    df = conversion_id(df)\n",
    "    df = conversion_tag(df)\n",
    "    df = conversion_date(df)\n",
    "    return df\n",
    "    \n",
    "#相関係数の計算とヒートマップの作成\n",
    "def calculation_corr(data):\n",
    "    corr_data = data.corr()\n",
    "    hmap = sns.heatmap(corr_data, vmax=1, vmin=-1, center=0, annot=True)\n",
    "    return corr_data, hmap"
   ]
  },
  {
   "cell_type": "code",
   "execution_count": 172,
   "metadata": {},
   "outputs": [],
   "source": [
    "#データを読み込んで前処理\n",
    "use_data = conversion_data(\"Datas/pickup_data.csv\")\n",
    "all_data = conversion_data(\"Datas/all_data/extract_allData.csv\")\n",
    "best_data = conversion_data(\"Datas/best_data.csv\")\n",
    "#相関係数の計算に使わないカラムを削除\n",
    "u_data = delete_columns(use_data)\n",
    "a_data = delete_columns(all_data)\n",
    "b_data = delete_columns(best_data)"
   ]
  },
  {
   "cell_type": "code",
   "execution_count": 181,
   "metadata": {},
   "outputs": [
    {
     "data": {
      "text/html": [
       "<div>\n",
       "<style scoped>\n",
       "    .dataframe tbody tr th:only-of-type {\n",
       "        vertical-align: middle;\n",
       "    }\n",
       "\n",
       "    .dataframe tbody tr th {\n",
       "        vertical-align: top;\n",
       "    }\n",
       "\n",
       "    .dataframe thead th {\n",
       "        text-align: right;\n",
       "    }\n",
       "</style>\n",
       "<table border=\"1\" class=\"dataframe\">\n",
       "  <thead>\n",
       "    <tr style=\"text-align: right;\">\n",
       "      <th></th>\n",
       "      <th>user_id2</th>\n",
       "      <th>date</th>\n",
       "      <th>tag2</th>\n",
       "      <th>image</th>\n",
       "      <th>retweet</th>\n",
       "    </tr>\n",
       "  </thead>\n",
       "  <tbody>\n",
       "    <tr>\n",
       "      <th>user_id2</th>\n",
       "      <td>1.000000</td>\n",
       "      <td>0.006132</td>\n",
       "      <td>-0.138853</td>\n",
       "      <td>-0.090019</td>\n",
       "      <td>-0.064034</td>\n",
       "    </tr>\n",
       "    <tr>\n",
       "      <th>date</th>\n",
       "      <td>0.006132</td>\n",
       "      <td>1.000000</td>\n",
       "      <td>0.010113</td>\n",
       "      <td>-0.025437</td>\n",
       "      <td>0.031814</td>\n",
       "    </tr>\n",
       "    <tr>\n",
       "      <th>tag2</th>\n",
       "      <td>-0.138853</td>\n",
       "      <td>0.010113</td>\n",
       "      <td>1.000000</td>\n",
       "      <td>0.157428</td>\n",
       "      <td>0.164067</td>\n",
       "    </tr>\n",
       "    <tr>\n",
       "      <th>image</th>\n",
       "      <td>-0.090019</td>\n",
       "      <td>-0.025437</td>\n",
       "      <td>0.157428</td>\n",
       "      <td>1.000000</td>\n",
       "      <td>0.360797</td>\n",
       "    </tr>\n",
       "    <tr>\n",
       "      <th>retweet</th>\n",
       "      <td>-0.064034</td>\n",
       "      <td>0.031814</td>\n",
       "      <td>0.164067</td>\n",
       "      <td>0.360797</td>\n",
       "      <td>1.000000</td>\n",
       "    </tr>\n",
       "  </tbody>\n",
       "</table>\n",
       "</div>"
      ],
      "text/plain": [
       "          user_id2      date      tag2     image   retweet\n",
       "user_id2  1.000000  0.006132 -0.138853 -0.090019 -0.064034\n",
       "date      0.006132  1.000000  0.010113 -0.025437  0.031814\n",
       "tag2     -0.138853  0.010113  1.000000  0.157428  0.164067\n",
       "image    -0.090019 -0.025437  0.157428  1.000000  0.360797\n",
       "retweet  -0.064034  0.031814  0.164067  0.360797  1.000000"
      ]
     },
     "execution_count": 181,
     "metadata": {},
     "output_type": "execute_result"
    },
    {
     "data": {
      "image/png": "[encoded data removed]",
      "text/plain": [
       "<Figure size 432x288 with 2 Axes>"
      ]
     },
     "metadata": {
      "needs_background": "light"
     },
     "output_type": "display_data"
    }
   ],
   "source": [
    "corr_u_data, hu_data = calculation_corr(u_data)\n",
    "corr_u_data"
   ]
  },
  {
   "cell_type": "code",
   "execution_count": 185,
   "metadata": {},
   "outputs": [
    {
     "name": "stdout",
     "output_type": "stream",
     "text": [
      "72.0\n"
     ]
    },
    {
     "data": {
      "image/png": "[encoded data removed]",
      "text/plain": [
       "<Figure size 432x288 with 2 Axes>"
      ]
     },
     "metadata": {
      "needs_background": "light"
     },
     "output_type": "display_data"
    }
   ],
   "source": [
    "current_dpi = mpl.rcParams['figure.dpi']\n",
    "print(current_dpi)\n",
    "\n",
    "plt.figure()\n",
    "sns.heatmap(corr_u_data, vmax=1, vmin=-1, center=0, annot=True)\n",
    "plt.savefig('heatmap.png', dpi=current_dpi * 1.5)"
   ]
  },
  {
   "cell_type": "code",
   "execution_count": 174,
   "metadata": {},
   "outputs": [
    {
     "data": {
      "text/html": [
       "<div>\n",
       "<style scoped>\n",
       "    .dataframe tbody tr th:only-of-type {\n",
       "        vertical-align: middle;\n",
       "    }\n",
       "\n",
       "    .dataframe tbody tr th {\n",
       "        vertical-align: top;\n",
       "    }\n",
       "\n",
       "    .dataframe thead th {\n",
       "        text-align: right;\n",
       "    }\n",
       "</style>\n",
       "<table border=\"1\" class=\"dataframe\">\n",
       "  <thead>\n",
       "    <tr style=\"text-align: right;\">\n",
       "      <th></th>\n",
       "      <th>user_id2</th>\n",
       "      <th>date</th>\n",
       "      <th>tag2</th>\n",
       "      <th>image</th>\n",
       "      <th>retweet</th>\n",
       "    </tr>\n",
       "  </thead>\n",
       "  <tbody>\n",
       "    <tr>\n",
       "      <th>user_id2</th>\n",
       "      <td>1.000000</td>\n",
       "      <td>-0.005411</td>\n",
       "      <td>-0.180749</td>\n",
       "      <td>-0.140988</td>\n",
       "      <td>-0.051925</td>\n",
       "    </tr>\n",
       "    <tr>\n",
       "      <th>date</th>\n",
       "      <td>-0.005411</td>\n",
       "      <td>1.000000</td>\n",
       "      <td>0.013667</td>\n",
       "      <td>-0.008842</td>\n",
       "      <td>0.022921</td>\n",
       "    </tr>\n",
       "    <tr>\n",
       "      <th>tag2</th>\n",
       "      <td>-0.180749</td>\n",
       "      <td>0.013667</td>\n",
       "      <td>1.000000</td>\n",
       "      <td>0.149690</td>\n",
       "      <td>0.134344</td>\n",
       "    </tr>\n",
       "    <tr>\n",
       "      <th>image</th>\n",
       "      <td>-0.140988</td>\n",
       "      <td>-0.008842</td>\n",
       "      <td>0.149690</td>\n",
       "      <td>1.000000</td>\n",
       "      <td>0.295685</td>\n",
       "    </tr>\n",
       "    <tr>\n",
       "      <th>retweet</th>\n",
       "      <td>-0.051925</td>\n",
       "      <td>0.022921</td>\n",
       "      <td>0.134344</td>\n",
       "      <td>0.295685</td>\n",
       "      <td>1.000000</td>\n",
       "    </tr>\n",
       "  </tbody>\n",
       "</table>\n",
       "</div>"
      ],
      "text/plain": [
       "          user_id2      date      tag2     image   retweet\n",
       "user_id2  1.000000 -0.005411 -0.180749 -0.140988 -0.051925\n",
       "date     -0.005411  1.000000  0.013667 -0.008842  0.022921\n",
       "tag2     -0.180749  0.013667  1.000000  0.149690  0.134344\n",
       "image    -0.140988 -0.008842  0.149690  1.000000  0.295685\n",
       "retweet  -0.051925  0.022921  0.134344  0.295685  1.000000"
      ]
     },
     "execution_count": 174,
     "metadata": {},
     "output_type": "execute_result"
    },
    {
     "data": {
      "image/png": "[encoded data removed]",
      "text/plain": [
       "<Figure size 432x288 with 2 Axes>"
      ]
     },
     "metadata": {
      "needs_background": "light"
     },
     "output_type": "display_data"
    }
   ],
   "source": [
    "corr_a_data, ha_data = calculation_corr(a_data)\n",
    "corr_a_data"
   ]
  },
  {
   "cell_type": "code",
   "execution_count": 175,
   "metadata": {},
   "outputs": [
    {
     "data": {
      "text/html": [
       "<div>\n",
       "<style scoped>\n",
       "    .dataframe tbody tr th:only-of-type {\n",
       "        vertical-align: middle;\n",
       "    }\n",
       "\n",
       "    .dataframe tbody tr th {\n",
       "        vertical-align: top;\n",
       "    }\n",
       "\n",
       "    .dataframe thead th {\n",
       "        text-align: right;\n",
       "    }\n",
       "</style>\n",
       "<table border=\"1\" class=\"dataframe\">\n",
       "  <thead>\n",
       "    <tr style=\"text-align: right;\">\n",
       "      <th></th>\n",
       "      <th>user_id2</th>\n",
       "      <th>date</th>\n",
       "      <th>tag2</th>\n",
       "      <th>image</th>\n",
       "      <th>retweet</th>\n",
       "    </tr>\n",
       "  </thead>\n",
       "  <tbody>\n",
       "    <tr>\n",
       "      <th>user_id2</th>\n",
       "      <td>1.000000</td>\n",
       "      <td>-0.096004</td>\n",
       "      <td>-0.171328</td>\n",
       "      <td>-0.287848</td>\n",
       "      <td>-0.166257</td>\n",
       "    </tr>\n",
       "    <tr>\n",
       "      <th>date</th>\n",
       "      <td>-0.096004</td>\n",
       "      <td>1.000000</td>\n",
       "      <td>0.052354</td>\n",
       "      <td>0.030406</td>\n",
       "      <td>0.031749</td>\n",
       "    </tr>\n",
       "    <tr>\n",
       "      <th>tag2</th>\n",
       "      <td>-0.171328</td>\n",
       "      <td>0.052354</td>\n",
       "      <td>1.000000</td>\n",
       "      <td>0.142938</td>\n",
       "      <td>0.203438</td>\n",
       "    </tr>\n",
       "    <tr>\n",
       "      <th>image</th>\n",
       "      <td>-0.287848</td>\n",
       "      <td>0.030406</td>\n",
       "      <td>0.142938</td>\n",
       "      <td>1.000000</td>\n",
       "      <td>0.415366</td>\n",
       "    </tr>\n",
       "    <tr>\n",
       "      <th>retweet</th>\n",
       "      <td>-0.166257</td>\n",
       "      <td>0.031749</td>\n",
       "      <td>0.203438</td>\n",
       "      <td>0.415366</td>\n",
       "      <td>1.000000</td>\n",
       "    </tr>\n",
       "  </tbody>\n",
       "</table>\n",
       "</div>"
      ],
      "text/plain": [
       "          user_id2      date      tag2     image   retweet\n",
       "user_id2  1.000000 -0.096004 -0.171328 -0.287848 -0.166257\n",
       "date     -0.096004  1.000000  0.052354  0.030406  0.031749\n",
       "tag2     -0.171328  0.052354  1.000000  0.142938  0.203438\n",
       "image    -0.287848  0.030406  0.142938  1.000000  0.415366\n",
       "retweet  -0.166257  0.031749  0.203438  0.415366  1.000000"
      ]
     },
     "execution_count": 175,
     "metadata": {},
     "output_type": "execute_result"
    },
    {
     "data": {
      "image/png": "[encoded data removed]",
      "text/plain": [
       "<Figure size 432x288 with 2 Axes>"
      ]
     },
     "metadata": {
      "needs_background": "light"
     },
     "output_type": "display_data"
    }
   ],
   "source": [
    "corr_b_data, hb_data = calculation_corr(b_data)\n",
    "corr_b_data"
   ]
  },
  {
   "cell_type": "code",
   "execution_count": 8,
   "metadata": {},
   "outputs": [
    {
     "name": "stdout",
     "output_type": "stream",
     "text": [
      "retweet                0.0   1.0\n",
      "screen_name                     \n",
      "☆たかたのゆめちゃん☆（公式）        523   182\n",
      "【花巻温泉公式キャラクター】フクロー      49   283\n",
      "いわて花巻空港（公式）             88   574\n",
      "おおふなトン【公式】             101    53\n",
      "さんてつくん @ 三陸鉄道【鉄ログ】     119   229\n",
      "ねまるべ遠野@はしご酒＆ジンギスカン       9    31\n",
      "イーハトーブログ               257   821\n",
      "ココよちゃん＠いわて【岩手の宿】      1652   267\n",
      "一関市公式アカウント             118     8\n",
      "伝承園                    159  1186\n",
      "奥州市公式アカウント             124    15\n",
      "岩手県                   1519     1\n",
      "岩手県地域振興室               294   340\n",
      "岩手県宮古市公式アカウント          332    61\n",
      "岩手県広聴広報課               773  1809\n",
      "岩手県東京事務所               143   134\n",
      "岩手県盛岡広域振興局             130   498\n",
      "岩手県警察交通部【公式】            85    87\n",
      "川源ぶどう園(花巻市)              4     4\n",
      "盛岡市                    325   418\n",
      "花巻市                    801   944\n",
      "花巻観光協会                 137   228\n",
      "達増拓也 TASSO 希望郷いわて      708    55\n",
      "遠野たかむろ水光園               15   186\n",
      "遠野テレビ                  763     3\n",
      "遠野市生涯現役いきいき促進協議会        42    61\n",
      "遠野市観光協会/Tono Tourist   127   801\n",
      "遠野物語を紐解く               539   543\n",
      "遠野萌えキャラプロジェクト           11    14\n",
      "遠野郷八幡宮（公式）               8    67\n",
      "遠野醸造                    25    42\n",
      "（一社）遠野ふるさと公社            20    55\n"
     ]
    }
   ],
   "source": [
    "cross = pd.crosstab(use_data.screen_name,use_data.retweet)\n",
    "print(cross)"
   ]
  },
  {
   "cell_type": "code",
   "execution_count": 27,
   "metadata": {},
   "outputs": [
    {
     "name": "stdout",
     "output_type": "stream",
     "text": [
      "retweet     0.0  1.0\n",
      "postdate            \n",
      "2018-01-01    6    8\n",
      "2018-01-02    1   10\n",
      "2018-01-03    4   10\n",
      "2018-01-04    4   15\n",
      "2018-01-05    6   13\n",
      "2018-01-06    6    7\n",
      "2018-01-07    5    9\n",
      "2018-01-08    7   11\n",
      "2018-01-09    9   11\n",
      "2018-01-10    8   14\n",
      "2018-01-11    8   20\n",
      "2018-01-12    9   25\n",
      "2018-01-13    7   10\n",
      "2018-01-14    6    2\n",
      "2018-01-15   13   13\n",
      "2018-01-16   11   21\n",
      "2018-01-17   16   21\n",
      "2018-01-18    9   22\n",
      "2018-01-19   21   11\n",
      "2018-01-20   11   13\n",
      "2018-01-21    6    6\n",
      "2018-01-22   13   17\n",
      "2018-01-23   10   15\n",
      "2018-01-24   10   15\n",
      "2018-01-25   19   21\n",
      "2018-01-26    6   29\n",
      "2018-01-27    8   10\n",
      "2018-01-28    8   13\n",
      "2018-01-29    9   21\n",
      "2018-01-30    8   15\n",
      "...         ...  ...\n",
      "2018-12-02    4    0\n",
      "2018-12-03   20    0\n",
      "2018-12-04   11    0\n",
      "2018-12-05   17    0\n",
      "2018-12-06    8    0\n",
      "2018-12-07   10    0\n",
      "2018-12-08    7    0\n",
      "2018-12-09    4    0\n",
      "2018-12-10    6    0\n",
      "2018-12-11   18    1\n",
      "2018-12-12   10    1\n",
      "2018-12-13   11    2\n",
      "2018-12-14   11    6\n",
      "2018-12-15    5    0\n",
      "2018-12-16    8    0\n",
      "2018-12-17    8    0\n",
      "2018-12-18   11    3\n",
      "2018-12-19    3    2\n",
      "2018-12-20   11    4\n",
      "2018-12-21   14    1\n",
      "2018-12-22    6    1\n",
      "2018-12-23    9    0\n",
      "2018-12-24    6    2\n",
      "2018-12-25    8    7\n",
      "2018-12-26    6    6\n",
      "2018-12-27    8    4\n",
      "2018-12-28   19    1\n",
      "2018-12-29    1    0\n",
      "2018-12-30    8    0\n",
      "2018-12-31   11    0\n",
      "\n",
      "[365 rows x 2 columns]\n"
     ]
    }
   ],
   "source": [
    "cross = pd.crosstab(use_data.postdate,use_data.retweet)\n",
    "print(cross[754:1119])"
   ]
  },
  {
   "cell_type": "code",
   "execution_count": 35,
   "metadata": {},
   "outputs": [
    {
     "data": {
      "text/plain": [
       "<matplotlib.axes._subplots.AxesSubplot at 0x1132a4470>"
      ]
     },
     "execution_count": 35,
     "metadata": {},
     "output_type": "execute_result"
    },
    {
     "data": {
      "image/png": "[encoded data removed]",
      "text/plain": [
       "<Figure size 432x288 with 1 Axes>"
      ]
     },
     "metadata": {
      "needs_background": "light"
     },
     "output_type": "display_data"
    }
   ],
   "source": [
    "use_data['screen_name'].value_counts().plot.bar()"
   ]
  },
  {
   "cell_type": "code",
   "execution_count": 77,
   "metadata": {},
   "outputs": [],
   "source": [
    "a_cross = pd.crosstab(all_data.postdate,all_data.retweet)"
   ]
  },
  {
   "cell_type": "code",
   "execution_count": 83,
   "metadata": {},
   "outputs": [
    {
     "name": "stdout",
     "output_type": "stream",
     "text": [
      "retweet     0.0  1.0\n",
      "postdate            \n",
      "2018-01-01   16    9\n",
      "2018-01-02   11   10\n",
      "2018-01-03    9   10\n",
      "2018-01-04   23   15\n",
      "2018-01-05   19   13\n",
      "2018-01-06   32    7\n",
      "2018-01-07   23    9\n",
      "2018-01-08   43   11\n",
      "2018-01-09   40   11\n",
      "2018-01-10   39   14\n",
      "2018-01-11   39   20\n",
      "2018-01-12   41   25\n",
      "2018-01-13   38   10\n",
      "2018-01-14   32    2\n",
      "2018-01-15   53   13\n",
      "2018-01-16   34   21\n",
      "2018-01-17   58   21\n",
      "2018-01-18   54   23\n",
      "2018-01-19   85   11\n",
      "2018-01-20   50   13\n",
      "2018-01-21   50    6\n",
      "2018-01-22   54   17\n",
      "2018-01-23   71   15\n",
      "2018-01-24   55   15\n",
      "2018-01-25   64   21\n",
      "2018-01-26   54   29\n",
      "2018-01-27   50   10\n",
      "2018-01-28   59   13\n",
      "2018-01-29   53   22\n",
      "2018-01-30   51   15\n",
      "...         ...  ...\n",
      "2018-12-02   28    0\n",
      "2018-12-03   73    0\n",
      "2018-12-04   52    0\n",
      "2018-12-05   50    0\n",
      "2018-12-06   51    0\n",
      "2018-12-07   58    0\n",
      "2018-12-08   22    0\n",
      "2018-12-09   24    0\n",
      "2018-12-10   39    0\n",
      "2018-12-11   66    1\n",
      "2018-12-12   66    1\n",
      "2018-12-13   62    2\n",
      "2018-12-14   54    6\n",
      "2018-12-15   29    0\n",
      "2018-12-16   33    0\n",
      "2018-12-17   57    0\n",
      "2018-12-18   63    3\n",
      "2018-12-19   43    2\n",
      "2018-12-20   66    4\n",
      "2018-12-21   53    1\n",
      "2018-12-22   44    1\n",
      "2018-12-23   34    0\n",
      "2018-12-24   34    2\n",
      "2018-12-25   62    7\n",
      "2018-12-26   32    6\n",
      "2018-12-27   55    4\n",
      "2018-12-28   82    1\n",
      "2018-12-29   20    0\n",
      "2018-12-30   28    0\n",
      "2018-12-31   59    0\n",
      "\n",
      "[365 rows x 2 columns]\n"
     ]
    }
   ],
   "source": [
    "print(a_cross[762:1127])"
   ]
  },
  {
   "cell_type": "code",
   "execution_count": 112,
   "metadata": {},
   "outputs": [
    {
     "name": "stdout",
     "output_type": "stream",
     "text": [
      "retweet     0.0  1.0\n",
      "postdate            \n",
      "2016-09-05   52    7\n",
      "2016-09-06   55    5\n",
      "2016-09-07   43    1\n",
      "2016-09-08   98    1\n",
      "2016-09-09  101    3\n",
      "2016-09-10   27    7\n",
      "2016-09-11   18   12\n",
      "2016-09-12   26    6\n",
      "2016-09-13   34    8\n",
      "2016-09-14   36    9\n",
      "2016-09-15   29   10\n",
      "2016-09-16   33   21\n",
      "2016-09-17   29    9\n",
      "2016-09-18   15    7\n",
      "2016-09-19    4    5\n",
      "2016-09-20   29   11\n",
      "2016-09-21   38   13\n",
      "2016-09-22   19   12\n",
      "2016-09-23   37   24\n",
      "2016-09-24   23    7\n",
      "2016-09-25   20   11\n",
      "2016-09-26   26   12\n",
      "2016-09-27   20   15\n",
      "2016-09-28   27   14\n",
      "2016-09-29   19   12\n",
      "2016-09-30   48   21\n",
      "2016-10-01   46   17\n",
      "2016-10-02   26    7\n",
      "2016-10-03   30    5\n",
      "2016-10-04   37   10\n",
      "...         ...  ...\n",
      "2018-09-28   30   18\n",
      "2018-09-29   42   11\n",
      "2018-09-30   58    4\n",
      "2018-10-01   76   10\n",
      "2018-10-02   33   20\n",
      "2018-10-03   47   10\n",
      "2018-10-04   41   24\n",
      "2018-10-05   36   22\n",
      "2018-10-06   29    8\n",
      "2018-10-07   60    6\n",
      "2018-10-08   24    4\n",
      "2018-10-09   35   12\n",
      "2018-10-10   40   13\n",
      "2018-10-11   33   11\n",
      "2018-10-12   32   15\n",
      "2018-10-13   11   10\n",
      "2018-10-14   14   11\n",
      "2018-10-15   26   12\n",
      "2018-10-16   17    9\n",
      "2018-10-17   11   12\n",
      "2018-10-18   20   20\n",
      "2018-10-19   46    7\n",
      "2018-10-20   39    5\n",
      "2018-10-21   31    8\n",
      "2018-10-22   36   16\n",
      "2018-10-23   37   16\n",
      "2018-10-24   41    9\n",
      "2018-10-25   34   17\n",
      "2018-10-26   42   17\n",
      "2018-10-27    8    5\n",
      "\n",
      "[783 rows x 2 columns]\n"
     ]
    }
   ],
   "source": [
    "print(a_cross[279:1062])"
   ]
  },
  {
   "cell_type": "code",
   "execution_count": null,
   "metadata": {},
   "outputs": [],
   "source": []
  }
 ],
 "metadata": {
  "jupytext": {
   "text_representation": {
    "extension": ".py",
    "format_name": "light",
    "format_version": "1.5",
    "jupytext_version": "1.3.1"
   }
  },
  "kernelspec": {
   "display_name": "Python 3",
   "language": "python",
   "name": "python3"
  },
  "language_info": {
   "codemirror_mode": {
    "name": "ipython",
    "version": 3
   },
   "file_extension": ".py",
   "mimetype": "text/x-python",
   "name": "python",
   "nbconvert_exporter": "python",
   "pygments_lexer": "ipython3",
   "version": "3.6.7"
  }
 },
 "nbformat": 4,
 "nbformat_minor": 4
}
