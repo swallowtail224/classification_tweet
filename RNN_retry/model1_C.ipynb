{
 "cells": [
  {
   "cell_type": "code",
   "execution_count": 1,
   "metadata": {},
   "outputs": [
    {
     "name": "stderr",
     "output_type": "stream",
     "text": [
      "Using TensorFlow backend.\n"
     ]
    }
   ],
   "source": [
    "from keras.layers import Input, Dense, Embedding, LSTM, Dropout, concatenate\n",
    "from keras.models import Model\n",
    "from keras.callbacks import EarlyStopping\n",
    "from keras.utils import plot_model\n",
    "from keras.preprocessing.text import Tokenizer\n",
    "from keras.preprocessing.sequence import pad_sequences\n",
    "import numpy as np\n",
    "from keras.utils.np_utils import to_categorical\n",
    "import keras.backend as K\n",
    "from functools import partial\n",
    "import pandas as pd\n",
    "from gensim.models import word2vec\n",
    "from keras.optimizers import Adam"
   ]
  },
  {
   "cell_type": "code",
   "execution_count": 2,
   "metadata": {},
   "outputs": [],
   "source": [
    "def normalize_y_pred(y_pred):\n",
    "    return K.one_hot(K.argmax(y_pred), y_pred.shape[-1])\n",
    "\n",
    "def class_true_positive(class_label, y_true, y_pred):\n",
    "    y_pred = normalize_y_pred(y_pred)\n",
    "    return K.cast(K.equal(y_true[:, class_label] + y_pred[:, class_label], 2), K.floatx())\n",
    "\n",
    "def class_accuracy(class_label, y_true, y_pred):\n",
    "    y_pred = normalize_y_pred(y_pred)\n",
    "    return K.cast(K.equal(y_true[:, class_label], y_pred[:, class_label]),\n",
    "                  K.floatx())\n",
    "\n",
    "def class_precision(class_label, y_true, y_pred):\n",
    "    y_pred = normalize_y_pred(y_pred)\n",
    "    return K.sum(class_true_positive(class_label, y_true, y_pred)) / (K.sum(y_pred[:, class_label]) + K.epsilon())\n",
    "\n",
    "\n",
    "def class_recall(class_label, y_true, y_pred):\n",
    "    return K.sum(class_true_positive(class_label, y_true, y_pred)) / (K.sum(y_true[:, class_label]) + K.epsilon())\n",
    "\n",
    "\n",
    "def class_f_measure(class_label, y_true, y_pred):\n",
    "    precision = class_precision(class_label, y_true, y_pred)\n",
    "    recall = class_recall(class_label, y_true, y_pred)\n",
    "    return (2 * precision * recall) / (precision + recall + K.epsilon())\n",
    "\n",
    "\n",
    "def true_positive(y_true, y_pred):\n",
    "    y_pred = normalize_y_pred(y_pred)\n",
    "    return K.cast(K.equal(y_true + y_pred, 2),\n",
    "                  K.floatx())\n",
    "\n",
    "\n",
    "def micro_precision(y_true, y_pred):\n",
    "    y_pred = normalize_y_pred(y_pred)\n",
    "    return K.sum(true_positive(y_true, y_pred)) / (K.sum(y_pred) + K.epsilon())\n",
    "\n",
    "\n",
    "def micro_recall(y_true, y_pred):\n",
    "    return K.sum(true_positive(y_true, y_pred)) / (K.sum(y_true) + K.epsilon())\n",
    "\n",
    "\n",
    "def micro_f_measure(y_true, y_pred):\n",
    "    precision = micro_precision(y_true, y_pred)\n",
    "    recall = micro_recall(y_true, y_pred)\n",
    "    return (2 * precision * recall) / (precision + recall + K.epsilon())\n",
    "\n",
    "\n",
    "def average_accuracy(y_true, y_pred):\n",
    "    class_count = y_pred.shape[-1]\n",
    "    class_acc_list = [class_accuracy(i, y_true, y_pred) for i in range(class_count)]\n",
    "    class_acc_matrix = K.concatenate(class_acc_list, axis=0)\n",
    "    return K.mean(class_acc_matrix, axis=0)\n",
    "\n",
    "\n",
    "def macro_precision(y_true, y_pred):\n",
    "    class_count = y_pred.shape[-1]\n",
    "    return K.sum([class_precision(i, y_true, y_pred) for i in range(class_count)]) / K.cast(class_count, K.floatx())\n",
    "\n",
    "\n",
    "def macro_recall(y_true, y_pred):\n",
    "    class_count = y_pred.shape[-1]\n",
    "    return K.sum([class_recall(i, y_true, y_pred) for i in range(class_count)]) / K.cast(class_count, K.floatx())\n",
    "\n",
    "\n",
    "def macro_f_measure(y_true, y_pred):\n",
    "    precision = macro_precision(y_true, y_pred)\n",
    "    recall = macro_recall(y_true, y_pred)\n",
    "    return (2 * precision * recall) / (precision + recall + K.epsilon())\n",
    "\n",
    "def weight_variable(shape):\n",
    "    return K.truncated_normal(shape, stddev = 0.01)"
   ]
  },
  {
   "cell_type": "code",
   "execution_count": 3,
   "metadata": {},
   "outputs": [
    {
     "name": "stderr",
     "output_type": "stream",
     "text": [
      "/Users/swallowtail/.local/share/virtualenvs/classification_tweet-zASJ7jKU/lib/python3.6/site-packages/smart_open/smart_open_lib.py:402: UserWarning: This function is deprecated, use smart_open.open instead. See the migration notes for details: https://github.com/RaRe-Technologies/smart_open/blob/master/README.rst#migrating-to-the-new-open-function\n",
      "  'See the migration notes for details: %s' % _MIGRATION_NOTES_URL\n"
     ]
    },
    {
     "name": "stdout",
     "output_type": "stream",
     "text": [
      "20000\n",
      "<class 'pandas.core.frame.DataFrame'>\n",
      "RangeIndex: 20000 entries, 0 to 19999\n",
      "Data columns (total 12 columns):\n",
      "screen_name    20000 non-null object\n",
      "user_id        20000 non-null float64\n",
      "tweet_id       20000 non-null float64\n",
      "tweet          20000 non-null object\n",
      "tweet2         20000 non-null object\n",
      "postdate       20000 non-null object\n",
      "cos_day        20000 non-null float64\n",
      "sin_day        20000 non-null float64\n",
      "tag            20000 non-null object\n",
      "image_url      20000 non-null object\n",
      "image          20000 non-null int64\n",
      "retweet        20000 non-null float64\n",
      "dtypes: float64(5), int64(1), object(6)\n",
      "memory usage: 1.8+ MB\n"
     ]
    }
   ],
   "source": [
    "#学習済みモデルのロード\n",
    "embeddings_model = word2vec.Word2Vec.load('Datas/Word2Vec_model/dC.model')\n",
    "#データの読み込み\n",
    "use_data = pd.read_csv(filepath_or_buffer=\"Datas/pickup_data.csv\", encoding=\"utf_8\", sep=\",\")\n",
    "print(len(use_data))\n",
    "use_data.info()"
   ]
  },
  {
   "cell_type": "code",
   "execution_count": 4,
   "metadata": {},
   "outputs": [
    {
     "name": "stdout",
     "output_type": "stream",
     "text": [
      "Found 20281 unique tokens.\n"
     ]
    },
    {
     "name": "stderr",
     "output_type": "stream",
     "text": [
      "/Users/swallowtail/.local/share/virtualenvs/classification_tweet-zASJ7jKU/lib/python3.6/site-packages/ipykernel_launcher.py:22: DeprecationWarning: Call to deprecated `__getitem__` (Method will be removed in 4.0.0, use self.wv.__getitem__() instead).\n"
     ]
    },
    {
     "name": "stdout",
     "output_type": "stream",
     "text": [
      "Shape of data tensor:(20000, 50)\n",
      "Shape of label tensor:(20000, 2)\n"
     ]
    }
   ],
   "source": [
    "maxlen = 50\n",
    "train = 0.7\n",
    "validation = 0.1\n",
    "max_words = 25000\n",
    "\n",
    "#データをランダムにシャッフル\n",
    "use_data_s = use_data.sample(frac=1, random_state=150)\n",
    "\n",
    "# word indexを作成\n",
    "tokenizer = Tokenizer(num_words=max_words)\n",
    "tokenizer.fit_on_texts(use_data_s['tweet2'])\n",
    "sequences = tokenizer.texts_to_sequences(use_data_s['tweet2'])\n",
    "\n",
    "word_index = tokenizer.word_index\n",
    "num_words = len(word_index)\n",
    "\n",
    "print(\"Found {} unique tokens.\".format(len(word_index)))\n",
    "\n",
    "embedding_matrix = np.zeros((num_words+1, 50))\n",
    "for word, i in word_index.items():\n",
    "    if word in embeddings_model.wv.index2word:\n",
    "        embedding_matrix[i] = embeddings_model[word]\n",
    "\n",
    "data = pad_sequences(sequences, maxlen=maxlen)\n",
    "\n",
    "# バイナリの行列に変換\n",
    "categorical_labels = to_categorical(use_data_s['retweet'])\n",
    "labels = np.asarray(categorical_labels)\n",
    "\n",
    "print(\"Shape of data tensor:{}\".format(data.shape))\n",
    "print(\"Shape of label tensor:{}\".format(labels.shape))\n",
    "\n",
    "indices = [int(len(labels) * n) for n in [train, train + validation]]\n",
    "x_train, x_val, x_test = np.split(data, indices)\n",
    "y_train, y_val, y_test = np.split(labels, indices)"
   ]
  },
  {
   "cell_type": "code",
   "execution_count": 5,
   "metadata": {},
   "outputs": [
    {
     "name": "stdout",
     "output_type": "stream",
     "text": [
      "_________________________________________________________________\n",
      "Layer (type)                 Output Shape              Param #   \n",
      "=================================================================\n",
      "input_postText (InputLayer)  (None, 50)                0         \n",
      "_________________________________________________________________\n",
      "embedding_1 (Embedding)      (None, 50, 50)            1014100   \n",
      "_________________________________________________________________\n",
      "dropout_1 (Dropout)          (None, 50, 50)            0         \n",
      "_________________________________________________________________\n",
      "lstm_1 (LSTM)                (None, 32)                10624     \n",
      "_________________________________________________________________\n",
      "dropout_2 (Dropout)          (None, 32)                0         \n",
      "_________________________________________________________________\n",
      "output (Dense)               (None, 2)                 66        \n",
      "=================================================================\n",
      "Total params: 1,024,790\n",
      "Trainable params: 10,690\n",
      "Non-trainable params: 1,014,100\n",
      "_________________________________________________________________\n"
     ]
    }
   ],
   "source": [
    "p_input = Input(shape=(50, ), dtype='int32', name='input_postText')\n",
    "\n",
    "em = Embedding(input_dim=num_words+1, output_dim=50, input_length=50, weights=[embedding_matrix], trainable=False)(p_input)\n",
    "d_em = Dropout(0.5)(em)\n",
    "lstm_out = LSTM(32, kernel_initializer=weight_variable)(d_em)\n",
    "d_lstm_out = Dropout(0.5)(lstm_out)\n",
    "output = Dense(2, activation='softmax', name = 'output')(d_lstm_out)\n",
    "\n",
    "model = Model(inputs=p_input, outputs = output)\n",
    "optimizer = Adam(lr=1e-4)\n",
    "model.compile(optimizer=optimizer, loss='categorical_crossentropy',  metrics=['acc', macro_precision, macro_recall, macro_f_measure])\n",
    "model.summary()\n",
    "#plot_model(model, show_shapes=True, show_layer_names=True, to_file='model_image/model1.png')\n",
    "\n",
    "early_stopping = EarlyStopping(patience=5, verbose=1)"
   ]
  },
  {
   "cell_type": "code",
   "execution_count": 6,
   "metadata": {},
   "outputs": [
    {
     "name": "stdout",
     "output_type": "stream",
     "text": [
      "Train on 14000 samples, validate on 1999 samples\n",
      "Epoch 1/100\n",
      "14000/14000 [==============================] - 8s 548us/step - loss: 0.6819 - acc: 0.5456 - macro_precision: 0.5480 - macro_recall: 0.5456 - macro_f_measure: 0.5468 - val_loss: 0.6731 - val_acc: 0.5908 - val_macro_precision: 0.6014 - val_macro_recall: 0.5924 - val_macro_f_measure: 0.5969\n",
      "Epoch 2/100\n",
      "14000/14000 [==============================] - 7s 528us/step - loss: 0.6566 - acc: 0.6058 - macro_precision: 0.6077 - macro_recall: 0.6059 - macro_f_measure: 0.6068 - val_loss: 0.6474 - val_acc: 0.6348 - val_macro_precision: 0.6454 - val_macro_recall: 0.6327 - val_macro_f_measure: 0.6390\n",
      "Epoch 3/100\n",
      "14000/14000 [==============================] - 7s 467us/step - loss: 0.6294 - acc: 0.6318 - macro_precision: 0.6637 - macro_recall: 0.6319 - macro_f_measure: 0.6473 - val_loss: 0.6216 - val_acc: 0.6403 - val_macro_precision: 0.6823 - val_macro_recall: 0.6374 - val_macro_f_measure: 0.6590\n",
      "Epoch 4/100\n",
      "14000/14000 [==============================] - 5s 376us/step - loss: 0.6038 - acc: 0.6566 - macro_precision: 0.6864 - macro_recall: 0.6568 - macro_f_measure: 0.6713 - val_loss: 0.5935 - val_acc: 0.6698 - val_macro_precision: 0.7021 - val_macro_recall: 0.6676 - val_macro_f_measure: 0.6844\n",
      "Epoch 5/100\n",
      "14000/14000 [==============================] - 6s 394us/step - loss: 0.5779 - acc: 0.6857 - macro_precision: 0.7051 - macro_recall: 0.6856 - macro_f_measure: 0.6952 - val_loss: 0.5715 - val_acc: 0.7029 - val_macro_precision: 0.7137 - val_macro_recall: 0.7020 - val_macro_f_measure: 0.7078\n",
      "Epoch 6/100\n",
      "14000/14000 [==============================] - 4s 281us/step - loss: 0.5646 - acc: 0.7041 - macro_precision: 0.7090 - macro_recall: 0.7042 - macro_f_measure: 0.7066 - val_loss: 0.5623 - val_acc: 0.7119 - val_macro_precision: 0.7122 - val_macro_recall: 0.7115 - val_macro_f_measure: 0.7118\n",
      "Epoch 7/100\n",
      "14000/14000 [==============================] - 4s 292us/step - loss: 0.5597 - acc: 0.7077 - macro_precision: 0.7102 - macro_recall: 0.7078 - macro_f_measure: 0.7090 - val_loss: 0.5588 - val_acc: 0.7149 - val_macro_precision: 0.7161 - val_macro_recall: 0.7141 - val_macro_f_measure: 0.7151\n",
      "Epoch 8/100\n",
      "14000/14000 [==============================] - 4s 279us/step - loss: 0.5557 - acc: 0.7104 - macro_precision: 0.7131 - macro_recall: 0.7106 - macro_f_measure: 0.7118 - val_loss: 0.5566 - val_acc: 0.7119 - val_macro_precision: 0.7132 - val_macro_recall: 0.7112 - val_macro_f_measure: 0.7122\n",
      "Epoch 9/100\n",
      "14000/14000 [==============================] - 4s 301us/step - loss: 0.5509 - acc: 0.7123 - macro_precision: 0.7145 - macro_recall: 0.7119 - macro_f_measure: 0.7132 - val_loss: 0.5551 - val_acc: 0.7174 - val_macro_precision: 0.7203 - val_macro_recall: 0.7169 - val_macro_f_measure: 0.7186\n",
      "Epoch 10/100\n",
      "14000/14000 [==============================] - 6s 423us/step - loss: 0.5494 - acc: 0.7166 - macro_precision: 0.7190 - macro_recall: 0.7171 - macro_f_measure: 0.7180 - val_loss: 0.5528 - val_acc: 0.7184 - val_macro_precision: 0.7212 - val_macro_recall: 0.7180 - val_macro_f_measure: 0.7196\n",
      "Epoch 11/100\n",
      "14000/14000 [==============================] - 7s 529us/step - loss: 0.5458 - acc: 0.7191 - macro_precision: 0.7214 - macro_recall: 0.7188 - macro_f_measure: 0.7201 - val_loss: 0.5507 - val_acc: 0.7169 - val_macro_precision: 0.7174 - val_macro_recall: 0.7166 - val_macro_f_measure: 0.7170\n",
      "Epoch 12/100\n",
      "14000/14000 [==============================] - 8s 539us/step - loss: 0.5480 - acc: 0.7164 - macro_precision: 0.7179 - macro_recall: 0.7162 - macro_f_measure: 0.7171 - val_loss: 0.5491 - val_acc: 0.7189 - val_macro_precision: 0.7201 - val_macro_recall: 0.7185 - val_macro_f_measure: 0.7193\n",
      "Epoch 13/100\n",
      "14000/14000 [==============================] - 5s 377us/step - loss: 0.5472 - acc: 0.7142 - macro_precision: 0.7164 - macro_recall: 0.7145 - macro_f_measure: 0.7155 - val_loss: 0.5484 - val_acc: 0.7199 - val_macro_precision: 0.7234 - val_macro_recall: 0.7196 - val_macro_f_measure: 0.7215\n",
      "Epoch 14/100\n",
      "14000/14000 [==============================] - 5s 389us/step - loss: 0.5412 - acc: 0.7199 - macro_precision: 0.7216 - macro_recall: 0.7201 - macro_f_measure: 0.7208 - val_loss: 0.5469 - val_acc: 0.7224 - val_macro_precision: 0.7265 - val_macro_recall: 0.7221 - val_macro_f_measure: 0.7243\n",
      "Epoch 15/100\n",
      "14000/14000 [==============================] - 5s 362us/step - loss: 0.5429 - acc: 0.7166 - macro_precision: 0.7190 - macro_recall: 0.7168 - macro_f_measure: 0.7179 - val_loss: 0.5449 - val_acc: 0.7169 - val_macro_precision: 0.7179 - val_macro_recall: 0.7165 - val_macro_f_measure: 0.7172\n",
      "Epoch 16/100\n",
      "14000/14000 [==============================] - 4s 313us/step - loss: 0.5372 - acc: 0.7206 - macro_precision: 0.7222 - macro_recall: 0.7203 - macro_f_measure: 0.7213 - val_loss: 0.5454 - val_acc: 0.7294 - val_macro_precision: 0.7353 - val_macro_recall: 0.7290 - val_macro_f_measure: 0.7321\n",
      "Epoch 17/100\n",
      "14000/14000 [==============================] - 5s 348us/step - loss: 0.5404 - acc: 0.7211 - macro_precision: 0.7239 - macro_recall: 0.7212 - macro_f_measure: 0.7225 - val_loss: 0.5429 - val_acc: 0.7179 - val_macro_precision: 0.7182 - val_macro_recall: 0.7173 - val_macro_f_measure: 0.7178\n",
      "Epoch 18/100\n",
      "14000/14000 [==============================] - 6s 454us/step - loss: 0.5399 - acc: 0.7210 - macro_precision: 0.7234 - macro_recall: 0.7208 - macro_f_measure: 0.7221 - val_loss: 0.5418 - val_acc: 0.7184 - val_macro_precision: 0.7187 - val_macro_recall: 0.7177 - val_macro_f_measure: 0.7182\n",
      "Epoch 19/100\n",
      "14000/14000 [==============================] - 6s 423us/step - loss: 0.5366 - acc: 0.7196 - macro_precision: 0.7207 - macro_recall: 0.7193 - macro_f_measure: 0.7200 - val_loss: 0.5434 - val_acc: 0.7279 - val_macro_precision: 0.7337 - val_macro_recall: 0.7274 - val_macro_f_measure: 0.7305\n",
      "Epoch 20/100\n",
      "14000/14000 [==============================] - 7s 473us/step - loss: 0.5365 - acc: 0.7220 - macro_precision: 0.7245 - macro_recall: 0.7217 - macro_f_measure: 0.7231 - val_loss: 0.5401 - val_acc: 0.7214 - val_macro_precision: 0.7225 - val_macro_recall: 0.7207 - val_macro_f_measure: 0.7216\n",
      "Epoch 21/100\n",
      "14000/14000 [==============================] - 5s 350us/step - loss: 0.5379 - acc: 0.7227 - macro_precision: 0.7255 - macro_recall: 0.7227 - macro_f_measure: 0.7241 - val_loss: 0.5391 - val_acc: 0.7174 - val_macro_precision: 0.7174 - val_macro_recall: 0.7169 - val_macro_f_measure: 0.7172\n",
      "Epoch 22/100\n",
      "14000/14000 [==============================] - 5s 356us/step - loss: 0.5357 - acc: 0.7194 - macro_precision: 0.7210 - macro_recall: 0.7194 - macro_f_measure: 0.7202 - val_loss: 0.5392 - val_acc: 0.7249 - val_macro_precision: 0.7273 - val_macro_recall: 0.7245 - val_macro_f_measure: 0.7259\n",
      "Epoch 23/100\n",
      "14000/14000 [==============================] - 5s 349us/step - loss: 0.5374 - acc: 0.7194 - macro_precision: 0.7215 - macro_recall: 0.7194 - macro_f_measure: 0.7205 - val_loss: 0.5386 - val_acc: 0.7289 - val_macro_precision: 0.7327 - val_macro_recall: 0.7286 - val_macro_f_measure: 0.7306\n",
      "Epoch 24/100\n",
      "14000/14000 [==============================] - 5s 334us/step - loss: 0.5383 - acc: 0.7189 - macro_precision: 0.7218 - macro_recall: 0.7189 - macro_f_measure: 0.7204 - val_loss: 0.5375 - val_acc: 0.7254 - val_macro_precision: 0.7264 - val_macro_recall: 0.7249 - val_macro_f_measure: 0.7256\n",
      "Epoch 25/100\n",
      "14000/14000 [==============================] - 5s 341us/step - loss: 0.5365 - acc: 0.7167 - macro_precision: 0.7187 - macro_recall: 0.7171 - macro_f_measure: 0.7179 - val_loss: 0.5384 - val_acc: 0.7299 - val_macro_precision: 0.7356 - val_macro_recall: 0.7291 - val_macro_f_measure: 0.7323\n",
      "Epoch 26/100\n",
      "14000/14000 [==============================] - 6s 394us/step - loss: 0.5346 - acc: 0.7240 - macro_precision: 0.7269 - macro_recall: 0.7241 - macro_f_measure: 0.7255 - val_loss: 0.5355 - val_acc: 0.7269 - val_macro_precision: 0.7284 - val_macro_recall: 0.7265 - val_macro_f_measure: 0.7274\n",
      "Epoch 27/100\n",
      "14000/14000 [==============================] - 5s 363us/step - loss: 0.5338 - acc: 0.7244 - macro_precision: 0.7269 - macro_recall: 0.7245 - macro_f_measure: 0.7257 - val_loss: 0.5353 - val_acc: 0.7259 - val_macro_precision: 0.7285 - val_macro_recall: 0.7254 - val_macro_f_measure: 0.7269\n"
     ]
    },
    {
     "name": "stdout",
     "output_type": "stream",
     "text": [
      "Epoch 28/100\n",
      "14000/14000 [==============================] - 5s 381us/step - loss: 0.5322 - acc: 0.7243 - macro_precision: 0.7264 - macro_recall: 0.7246 - macro_f_measure: 0.7255 - val_loss: 0.5351 - val_acc: 0.7274 - val_macro_precision: 0.7311 - val_macro_recall: 0.7270 - val_macro_f_measure: 0.7290\n",
      "Epoch 29/100\n",
      "14000/14000 [==============================] - 5s 352us/step - loss: 0.5300 - acc: 0.7266 - macro_precision: 0.7288 - macro_recall: 0.7265 - macro_f_measure: 0.7276 - val_loss: 0.5335 - val_acc: 0.7269 - val_macro_precision: 0.7273 - val_macro_recall: 0.7264 - val_macro_f_measure: 0.7269\n",
      "Epoch 30/100\n",
      "14000/14000 [==============================] - 4s 302us/step - loss: 0.5295 - acc: 0.7267 - macro_precision: 0.7286 - macro_recall: 0.7268 - macro_f_measure: 0.7277 - val_loss: 0.5323 - val_acc: 0.7294 - val_macro_precision: 0.7299 - val_macro_recall: 0.7289 - val_macro_f_measure: 0.7294\n",
      "Epoch 31/100\n",
      "14000/14000 [==============================] - 5s 323us/step - loss: 0.5307 - acc: 0.7257 - macro_precision: 0.7288 - macro_recall: 0.7258 - macro_f_measure: 0.7273 - val_loss: 0.5329 - val_acc: 0.7309 - val_macro_precision: 0.7337 - val_macro_recall: 0.7303 - val_macro_f_measure: 0.7320\n",
      "Epoch 32/100\n",
      "14000/14000 [==============================] - 5s 330us/step - loss: 0.5278 - acc: 0.7281 - macro_precision: 0.7301 - macro_recall: 0.7276 - macro_f_measure: 0.7288 - val_loss: 0.5330 - val_acc: 0.7274 - val_macro_precision: 0.7304 - val_macro_recall: 0.7269 - val_macro_f_measure: 0.7286\n",
      "Epoch 33/100\n",
      "14000/14000 [==============================] - 4s 314us/step - loss: 0.5306 - acc: 0.7222 - macro_precision: 0.7254 - macro_recall: 0.7224 - macro_f_measure: 0.7239 - val_loss: 0.5320 - val_acc: 0.7289 - val_macro_precision: 0.7308 - val_macro_recall: 0.7284 - val_macro_f_measure: 0.7296\n",
      "Epoch 34/100\n",
      "14000/14000 [==============================] - 4s 297us/step - loss: 0.5318 - acc: 0.7241 - macro_precision: 0.7266 - macro_recall: 0.7240 - macro_f_measure: 0.7253 - val_loss: 0.5339 - val_acc: 0.7339 - val_macro_precision: 0.7394 - val_macro_recall: 0.7327 - val_macro_f_measure: 0.7360\n",
      "Epoch 35/100\n",
      "14000/14000 [==============================] - 5s 359us/step - loss: 0.5284 - acc: 0.7251 - macro_precision: 0.7281 - macro_recall: 0.7255 - macro_f_measure: 0.7268 - val_loss: 0.5319 - val_acc: 0.7299 - val_macro_precision: 0.7330 - val_macro_recall: 0.7294 - val_macro_f_measure: 0.7312\n",
      "Epoch 36/100\n",
      "14000/14000 [==============================] - 7s 481us/step - loss: 0.5298 - acc: 0.7241 - macro_precision: 0.7274 - macro_recall: 0.7239 - macro_f_measure: 0.7257 - val_loss: 0.5301 - val_acc: 0.7309 - val_macro_precision: 0.7318 - val_macro_recall: 0.7306 - val_macro_f_measure: 0.7312\n",
      "Epoch 37/100\n",
      "14000/14000 [==============================] - 6s 427us/step - loss: 0.5303 - acc: 0.7224 - macro_precision: 0.7252 - macro_recall: 0.7228 - macro_f_measure: 0.7240 - val_loss: 0.5303 - val_acc: 0.7329 - val_macro_precision: 0.7352 - val_macro_recall: 0.7323 - val_macro_f_measure: 0.7338\n",
      "Epoch 38/100\n",
      "14000/14000 [==============================] - 5s 350us/step - loss: 0.5267 - acc: 0.7276 - macro_precision: 0.7311 - macro_recall: 0.7278 - macro_f_measure: 0.7294 - val_loss: 0.5292 - val_acc: 0.7259 - val_macro_precision: 0.7262 - val_macro_recall: 0.7255 - val_macro_f_measure: 0.7258\n",
      "Epoch 39/100\n",
      "14000/14000 [==============================] - 5s 363us/step - loss: 0.5254 - acc: 0.7261 - macro_precision: 0.7285 - macro_recall: 0.7262 - macro_f_measure: 0.7273 - val_loss: 0.5288 - val_acc: 0.7269 - val_macro_precision: 0.7272 - val_macro_recall: 0.7263 - val_macro_f_measure: 0.7268\n",
      "Epoch 40/100\n",
      "14000/14000 [==============================] - 5s 368us/step - loss: 0.5254 - acc: 0.7288 - macro_precision: 0.7324 - macro_recall: 0.7292 - macro_f_measure: 0.7308 - val_loss: 0.5294 - val_acc: 0.7294 - val_macro_precision: 0.7323 - val_macro_recall: 0.7289 - val_macro_f_measure: 0.7306\n",
      "Epoch 41/100\n",
      "14000/14000 [==============================] - 5s 336us/step - loss: 0.5269 - acc: 0.7246 - macro_precision: 0.7283 - macro_recall: 0.7250 - macro_f_measure: 0.7267 - val_loss: 0.5302 - val_acc: 0.7339 - val_macro_precision: 0.7393 - val_macro_recall: 0.7330 - val_macro_f_measure: 0.7361\n",
      "Epoch 42/100\n",
      "14000/14000 [==============================] - 5s 381us/step - loss: 0.5270 - acc: 0.7276 - macro_precision: 0.7305 - macro_recall: 0.7276 - macro_f_measure: 0.7290 - val_loss: 0.5282 - val_acc: 0.7279 - val_macro_precision: 0.7299 - val_macro_recall: 0.7274 - val_macro_f_measure: 0.7286\n",
      "Epoch 43/100\n",
      "14000/14000 [==============================] - 6s 446us/step - loss: 0.5269 - acc: 0.7257 - macro_precision: 0.7292 - macro_recall: 0.7263 - macro_f_measure: 0.7277 - val_loss: 0.5313 - val_acc: 0.7334 - val_macro_precision: 0.7402 - val_macro_recall: 0.7325 - val_macro_f_measure: 0.7363\n",
      "Epoch 44/100\n",
      "14000/14000 [==============================] - 5s 390us/step - loss: 0.5264 - acc: 0.7226 - macro_precision: 0.7257 - macro_recall: 0.7226 - macro_f_measure: 0.7241 - val_loss: 0.5289 - val_acc: 0.7359 - val_macro_precision: 0.7402 - val_macro_recall: 0.7351 - val_macro_f_measure: 0.7377\n",
      "Epoch 45/100\n",
      "14000/14000 [==============================] - 7s 505us/step - loss: 0.5226 - acc: 0.7308 - macro_precision: 0.7336 - macro_recall: 0.7303 - macro_f_measure: 0.7319 - val_loss: 0.5283 - val_acc: 0.7314 - val_macro_precision: 0.7349 - val_macro_recall: 0.7307 - val_macro_f_measure: 0.7328\n",
      "Epoch 46/100\n",
      "14000/14000 [==============================] - 6s 418us/step - loss: 0.5201 - acc: 0.7318 - macro_precision: 0.7358 - macro_recall: 0.7319 - macro_f_measure: 0.7338 - val_loss: 0.5280 - val_acc: 0.7349 - val_macro_precision: 0.7387 - val_macro_recall: 0.7341 - val_macro_f_measure: 0.7364\n",
      "Epoch 47/100\n",
      "14000/14000 [==============================] - 4s 321us/step - loss: 0.5253 - acc: 0.7293 - macro_precision: 0.7323 - macro_recall: 0.7296 - macro_f_measure: 0.7309 - val_loss: 0.5300 - val_acc: 0.7374 - val_macro_precision: 0.7449 - val_macro_recall: 0.7364 - val_macro_f_measure: 0.7407\n",
      "Epoch 48/100\n",
      "14000/14000 [==============================] - 4s 311us/step - loss: 0.5213 - acc: 0.7309 - macro_precision: 0.7347 - macro_recall: 0.7304 - macro_f_measure: 0.7325 - val_loss: 0.5306 - val_acc: 0.7374 - val_macro_precision: 0.7478 - val_macro_recall: 0.7361 - val_macro_f_measure: 0.7419\n",
      "Epoch 49/100\n",
      "14000/14000 [==============================] - 5s 323us/step - loss: 0.5253 - acc: 0.7295 - macro_precision: 0.7339 - macro_recall: 0.7293 - macro_f_measure: 0.7316 - val_loss: 0.5259 - val_acc: 0.7364 - val_macro_precision: 0.7393 - val_macro_recall: 0.7359 - val_macro_f_measure: 0.7376\n",
      "Epoch 50/100\n",
      "14000/14000 [==============================] - 4s 314us/step - loss: 0.5215 - acc: 0.7264 - macro_precision: 0.7303 - macro_recall: 0.7265 - macro_f_measure: 0.7284 - val_loss: 0.5277 - val_acc: 0.7409 - val_macro_precision: 0.7482 - val_macro_recall: 0.7398 - val_macro_f_measure: 0.7440\n",
      "Epoch 51/100\n",
      "14000/14000 [==============================] - 4s 321us/step - loss: 0.5198 - acc: 0.7289 - macro_precision: 0.7321 - macro_recall: 0.7292 - macro_f_measure: 0.7306 - val_loss: 0.5260 - val_acc: 0.7339 - val_macro_precision: 0.7380 - val_macro_recall: 0.7331 - val_macro_f_measure: 0.7355\n",
      "Epoch 52/100\n",
      "14000/14000 [==============================] - 5s 334us/step - loss: 0.5200 - acc: 0.7330 - macro_precision: 0.7360 - macro_recall: 0.7330 - macro_f_measure: 0.7345 - val_loss: 0.5260 - val_acc: 0.7359 - val_macro_precision: 0.7409 - val_macro_recall: 0.7349 - val_macro_f_measure: 0.7379\n",
      "Epoch 53/100\n",
      "14000/14000 [==============================] - 6s 403us/step - loss: 0.5205 - acc: 0.7321 - macro_precision: 0.7366 - macro_recall: 0.7324 - macro_f_measure: 0.7344 - val_loss: 0.5251 - val_acc: 0.7299 - val_macro_precision: 0.7323 - val_macro_recall: 0.7293 - val_macro_f_measure: 0.7308\n",
      "Epoch 54/100\n",
      "14000/14000 [==============================] - 4s 321us/step - loss: 0.5222 - acc: 0.7336 - macro_precision: 0.7372 - macro_recall: 0.7334 - macro_f_measure: 0.7353 - val_loss: 0.5247 - val_acc: 0.7314 - val_macro_precision: 0.7330 - val_macro_recall: 0.7311 - val_macro_f_measure: 0.7321\n",
      "Epoch 55/100\n"
     ]
    },
    {
     "name": "stdout",
     "output_type": "stream",
     "text": [
      "14000/14000 [==============================] - 6s 403us/step - loss: 0.5194 - acc: 0.7336 - macro_precision: 0.7377 - macro_recall: 0.7334 - macro_f_measure: 0.7355 - val_loss: 0.5254 - val_acc: 0.7374 - val_macro_precision: 0.7404 - val_macro_recall: 0.7367 - val_macro_f_measure: 0.7386\n",
      "Epoch 56/100\n",
      "14000/14000 [==============================] - 5s 346us/step - loss: 0.5210 - acc: 0.7315 - macro_precision: 0.7347 - macro_recall: 0.7313 - macro_f_measure: 0.7330 - val_loss: 0.5238 - val_acc: 0.7349 - val_macro_precision: 0.7380 - val_macro_recall: 0.7341 - val_macro_f_measure: 0.7360\n",
      "Epoch 57/100\n",
      "14000/14000 [==============================] - 5s 350us/step - loss: 0.5154 - acc: 0.7329 - macro_precision: 0.7366 - macro_recall: 0.7325 - macro_f_measure: 0.7345 - val_loss: 0.5261 - val_acc: 0.7434 - val_macro_precision: 0.7524 - val_macro_recall: 0.7422 - val_macro_f_measure: 0.7473\n",
      "Epoch 58/100\n",
      "14000/14000 [==============================] - 5s 362us/step - loss: 0.5187 - acc: 0.7328 - macro_precision: 0.7357 - macro_recall: 0.7324 - macro_f_measure: 0.7341 - val_loss: 0.5240 - val_acc: 0.7399 - val_macro_precision: 0.7447 - val_macro_recall: 0.7390 - val_macro_f_measure: 0.7418\n",
      "Epoch 59/100\n",
      "14000/14000 [==============================] - 5s 344us/step - loss: 0.5157 - acc: 0.7354 - macro_precision: 0.7380 - macro_recall: 0.7353 - macro_f_measure: 0.7366 - val_loss: 0.5236 - val_acc: 0.7404 - val_macro_precision: 0.7453 - val_macro_recall: 0.7395 - val_macro_f_measure: 0.7424\n",
      "Epoch 60/100\n",
      "14000/14000 [==============================] - 5s 356us/step - loss: 0.5160 - acc: 0.7346 - macro_precision: 0.7384 - macro_recall: 0.7345 - macro_f_measure: 0.7364 - val_loss: 0.5252 - val_acc: 0.7429 - val_macro_precision: 0.7512 - val_macro_recall: 0.7417 - val_macro_f_measure: 0.7465\n",
      "Epoch 61/100\n",
      "14000/14000 [==============================] - 5s 375us/step - loss: 0.5165 - acc: 0.7336 - macro_precision: 0.7373 - macro_recall: 0.7336 - macro_f_measure: 0.7354 - val_loss: 0.5227 - val_acc: 0.7369 - val_macro_precision: 0.7406 - val_macro_recall: 0.7362 - val_macro_f_measure: 0.7384\n",
      "Epoch 62/100\n",
      "14000/14000 [==============================] - 4s 293us/step - loss: 0.5163 - acc: 0.7364 - macro_precision: 0.7410 - macro_recall: 0.7360 - macro_f_measure: 0.7385 - val_loss: 0.5228 - val_acc: 0.7354 - val_macro_precision: 0.7380 - val_macro_recall: 0.7347 - val_macro_f_measure: 0.7363\n",
      "Epoch 63/100\n",
      "14000/14000 [==============================] - 4s 282us/step - loss: 0.5171 - acc: 0.7359 - macro_precision: 0.7393 - macro_recall: 0.7357 - macro_f_measure: 0.7374 - val_loss: 0.5236 - val_acc: 0.7394 - val_macro_precision: 0.7457 - val_macro_recall: 0.7384 - val_macro_f_measure: 0.7420\n",
      "Epoch 64/100\n",
      "14000/14000 [==============================] - 5s 351us/step - loss: 0.5147 - acc: 0.7393 - macro_precision: 0.7445 - macro_recall: 0.7394 - macro_f_measure: 0.7419 - val_loss: 0.5227 - val_acc: 0.7349 - val_macro_precision: 0.7378 - val_macro_recall: 0.7344 - val_macro_f_measure: 0.7361\n",
      "Epoch 65/100\n",
      "14000/14000 [==============================] - 4s 282us/step - loss: 0.5148 - acc: 0.7316 - macro_precision: 0.7345 - macro_recall: 0.7316 - macro_f_measure: 0.7331 - val_loss: 0.5245 - val_acc: 0.7414 - val_macro_precision: 0.7499 - val_macro_recall: 0.7399 - val_macro_f_measure: 0.7448\n",
      "Epoch 66/100\n",
      "14000/14000 [==============================] - 5s 370us/step - loss: 0.5147 - acc: 0.7347 - macro_precision: 0.7390 - macro_recall: 0.7346 - macro_f_measure: 0.7367 - val_loss: 0.5234 - val_acc: 0.7379 - val_macro_precision: 0.7428 - val_macro_recall: 0.7369 - val_macro_f_measure: 0.7398\n",
      "Epoch 67/100\n",
      "14000/14000 [==============================] - 6s 394us/step - loss: 0.5132 - acc: 0.7354 - macro_precision: 0.7392 - macro_recall: 0.7356 - macro_f_measure: 0.7374 - val_loss: 0.5229 - val_acc: 0.7404 - val_macro_precision: 0.7446 - val_macro_recall: 0.7397 - val_macro_f_measure: 0.7421\n",
      "Epoch 68/100\n",
      "14000/14000 [==============================] - 6s 451us/step - loss: 0.5143 - acc: 0.7364 - macro_precision: 0.7406 - macro_recall: 0.7365 - macro_f_measure: 0.7385 - val_loss: 0.5227 - val_acc: 0.7394 - val_macro_precision: 0.7436 - val_macro_recall: 0.7386 - val_macro_f_measure: 0.7411\n",
      "Epoch 69/100\n",
      "14000/14000 [==============================] - 7s 471us/step - loss: 0.5127 - acc: 0.7349 - macro_precision: 0.7383 - macro_recall: 0.7347 - macro_f_measure: 0.7365 - val_loss: 0.5258 - val_acc: 0.7374 - val_macro_precision: 0.7493 - val_macro_recall: 0.7362 - val_macro_f_measure: 0.7427\n",
      "Epoch 00069: early stopping\n"
     ]
    }
   ],
   "source": [
    "history = model.fit(x_train, y_train,\n",
    "                    epochs=100, \n",
    "                    batch_size=300,\n",
    "                    validation_data=(x_val, y_val),\n",
    "                    callbacks=[early_stopping])"
   ]
  },
  {
   "cell_type": "code",
   "execution_count": 7,
   "metadata": {},
   "outputs": [
    {
     "name": "stdout",
     "output_type": "stream",
     "text": [
      "4001/4001 [==============================] - 1s 300us/step\n",
      "[0.5046075212008219, 0.7373156710822294, 0.7468913396845099, 0.7384286721597103, 0.7424924583680569]\n"
     ]
    }
   ],
   "source": [
    "loss_and_metrics = model.evaluate(x_test, y_test)\n",
    "print(loss_and_metrics)"
   ]
  },
  {
   "cell_type": "code",
   "execution_count": 8,
   "metadata": {},
   "outputs": [
    {
     "data": {
      "text/plain": [
       "<Figure size 432x288 with 0 Axes>"
      ]
     },
     "execution_count": 8,
     "metadata": {},
     "output_type": "execute_result"
    },
    {
     "data": {
      "image/png": "[encoded data removed]",
      "text/plain": [
       "<Figure size 432x288 with 1 Axes>"
      ]
     },
     "metadata": {
      "needs_background": "light"
     },
     "output_type": "display_data"
    },
    {
     "data": {
      "image/png": "[encoded data removed]",
      "text/plain": [
       "<Figure size 432x288 with 1 Axes>"
      ]
     },
     "metadata": {
      "needs_background": "light"
     },
     "output_type": "display_data"
    },
    {
     "data": {
      "text/plain": [
       "<Figure size 432x288 with 0 Axes>"
      ]
     },
     "metadata": {},
     "output_type": "display_data"
    }
   ],
   "source": [
    "%matplotlib inline\n",
    "import matplotlib.pyplot as plt\n",
    "\n",
    "acc = history.history['acc']\n",
    "val_acc = history.history['val_acc']\n",
    "loss = history.history['loss']\n",
    "val_loss = history.history['val_loss']\n",
    "epochs = range(1, len(acc) + 1)\n",
    "\n",
    "plt.plot(epochs, acc, 'b--', label='Training acc')\n",
    "plt.plot(epochs, val_acc, 'b', label='Validation acc')\n",
    "plt.title('Training and validation accuracy')\n",
    "plt.legend()\n",
    "#plt.savefig(\"RNN_tweet/Figs/N_method1/N_acc.png\")\n",
    "\n",
    "plt.figure()\n",
    "\n",
    "plt.plot(epochs, loss, 'b--', label='Training loss')\n",
    "plt.plot(epochs, val_loss, 'b', label='Validation loss')\n",
    "plt.title('Training and validation loss')\n",
    "plt.legend()\n",
    "#plt.savefig(\"RNN_tweet/Figs/N_method1/N_loss.png\")\n",
    "\n",
    "plt.figure()"
   ]
  },
  {
   "cell_type": "code",
   "execution_count": 9,
   "metadata": {
    "lines_to_next_cell": 0
   },
   "outputs": [
    {
     "data": {
      "image/png": "[encoded data removed]",
      "text/plain": [
       "<Figure size 432x288 with 2 Axes>"
      ]
     },
     "metadata": {
      "needs_background": "light"
     },
     "output_type": "display_data"
    }
   ],
   "source": [
    "fig = plt.figure()\n",
    "ax_acc = fig.add_subplot(111)\n",
    "ax_acc.plot(epochs, val_acc, 'b--', label='Validation acc')\n",
    "plt.legend(bbox_to_anchor=(0, 1), loc='upper left', borderaxespad=0.5, fontsize=10)\n",
    "\n",
    "ax_loss = ax_acc.twinx()\n",
    "ax_loss.plot(epochs, val_loss, 'b', label='Validation loss')\n",
    "plt.legend(bbox_to_anchor=(0, 0.9), loc='upper left', borderaxespad=0.5, fontsize=10)\n",
    "plt.title('Validation acc and Validation loss')\n",
    "ax_acc.set_xlabel('epochs')\n",
    "ax_acc.set_ylabel('Validation acc')\n",
    "ax_loss.grid(True)\n",
    "ax_loss.set_ylabel('Validation loss')\n",
    "plt.show()\n",
    "\n",
    "#plt.savefig(\"N_f_measure.png\")"
   ]
  },
  {
   "cell_type": "code",
   "execution_count": null,
   "metadata": {
    "lines_to_next_cell": 2
   },
   "outputs": [],
   "source": []
  }
 ],
 "metadata": {
  "jupytext": {
   "encoding": "# -*- coding: utf-8 -*-",
   "text_representation": {
    "extension": ".py",
    "format_name": "light",
    "format_version": "1.5",
    "jupytext_version": "1.3.0"
   }
  },
  "kernelspec": {
   "display_name": "Python 3",
   "language": "python",
   "name": "python3"
  },
  "language_info": {
   "codemirror_mode": {
    "name": "ipython",
    "version": 3
   },
   "file_extension": ".py",
   "mimetype": "text/x-python",
   "name": "python",
   "nbconvert_exporter": "python",
   "pygments_lexer": "ipython3",
   "version": "3.6.7"
  }
 },
 "nbformat": 4,
 "nbformat_minor": 2
}
