{
 "cells": [
  {
   "cell_type": "code",
   "execution_count": 11,
   "metadata": {},
   "outputs": [],
   "source": [
    "from keras.layers import Input, Dense, Embedding, LSTM, Dropout, concatenate\n",
    "from keras.models import Model\n",
    "from keras.callbacks import EarlyStopping\n",
    "from keras.utils import plot_model\n",
    "from keras.preprocessing.text import Tokenizer\n",
    "from keras.preprocessing.sequence import pad_sequences\n",
    "import numpy as np\n",
    "from keras.utils.np_utils import to_categorical\n",
    "import keras.backend as K\n",
    "from functools import partial\n",
    "import pandas as pd\n",
    "from gensim.models import word2vec\n",
    "from keras.optimizers import Adam"
   ]
  },
  {
   "cell_type": "code",
   "execution_count": 2,
   "metadata": {},
   "outputs": [],
   "source": [
    "def normalize_y_pred(y_pred):\n",
    "    return K.one_hot(K.argmax(y_pred), y_pred.shape[-1])\n",
    "\n",
    "def class_true_positive(class_label, y_true, y_pred):\n",
    "    y_pred = normalize_y_pred(y_pred)\n",
    "    return K.cast(K.equal(y_true[:, class_label] + y_pred[:, class_label], 2), K.floatx())\n",
    "\n",
    "def class_accuracy(class_label, y_true, y_pred):\n",
    "    y_pred = normalize_y_pred(y_pred)\n",
    "    return K.cast(K.equal(y_true[:, class_label], y_pred[:, class_label]),\n",
    "                  K.floatx())\n",
    "\n",
    "def class_precision(class_label, y_true, y_pred):\n",
    "    y_pred = normalize_y_pred(y_pred)\n",
    "    return K.sum(class_true_positive(class_label, y_true, y_pred)) / (K.sum(y_pred[:, class_label]) + K.epsilon())\n",
    "\n",
    "\n",
    "def class_recall(class_label, y_true, y_pred):\n",
    "    return K.sum(class_true_positive(class_label, y_true, y_pred)) / (K.sum(y_true[:, class_label]) + K.epsilon())\n",
    "\n",
    "\n",
    "def class_f_measure(class_label, y_true, y_pred):\n",
    "    precision = class_precision(class_label, y_true, y_pred)\n",
    "    recall = class_recall(class_label, y_true, y_pred)\n",
    "    return (2 * precision * recall) / (precision + recall + K.epsilon())\n",
    "\n",
    "\n",
    "def true_positive(y_true, y_pred):\n",
    "    y_pred = normalize_y_pred(y_pred)\n",
    "    return K.cast(K.equal(y_true + y_pred, 2),\n",
    "                  K.floatx())\n",
    "\n",
    "\n",
    "def micro_precision(y_true, y_pred):\n",
    "    y_pred = normalize_y_pred(y_pred)\n",
    "    return K.sum(true_positive(y_true, y_pred)) / (K.sum(y_pred) + K.epsilon())\n",
    "\n",
    "\n",
    "def micro_recall(y_true, y_pred):\n",
    "    return K.sum(true_positive(y_true, y_pred)) / (K.sum(y_true) + K.epsilon())\n",
    "\n",
    "\n",
    "def micro_f_measure(y_true, y_pred):\n",
    "    precision = micro_precision(y_true, y_pred)\n",
    "    recall = micro_recall(y_true, y_pred)\n",
    "    return (2 * precision * recall) / (precision + recall + K.epsilon())\n",
    "\n",
    "\n",
    "def average_accuracy(y_true, y_pred):\n",
    "    class_count = y_pred.shape[-1]\n",
    "    class_acc_list = [class_accuracy(i, y_true, y_pred) for i in range(class_count)]\n",
    "    class_acc_matrix = K.concatenate(class_acc_list, axis=0)\n",
    "    return K.mean(class_acc_matrix, axis=0)\n",
    "\n",
    "\n",
    "def macro_precision(y_true, y_pred):\n",
    "    class_count = y_pred.shape[-1]\n",
    "    return K.sum([class_precision(i, y_true, y_pred) for i in range(class_count)]) / K.cast(class_count, K.floatx())\n",
    "\n",
    "\n",
    "def macro_recall(y_true, y_pred):\n",
    "    class_count = y_pred.shape[-1]\n",
    "    return K.sum([class_recall(i, y_true, y_pred) for i in range(class_count)]) / K.cast(class_count, K.floatx())\n",
    "\n",
    "\n",
    "def macro_f_measure(y_true, y_pred):\n",
    "    precision = macro_precision(y_true, y_pred)\n",
    "    recall = macro_recall(y_true, y_pred)\n",
    "    return (2 * precision * recall) / (precision + recall + K.epsilon())\n",
    "\n",
    "def weight_variable(shape):\n",
    "    return K.truncated_normal(shape, stddev = 0.01)"
   ]
  },
  {
   "cell_type": "code",
   "execution_count": 3,
   "metadata": {},
   "outputs": [
    {
     "name": "stderr",
     "output_type": "stream",
     "text": [
      "/Users/swallowtail/.local/share/virtualenvs/classification_tweet-zASJ7jKU/lib/python3.6/site-packages/smart_open/smart_open_lib.py:402: UserWarning: This function is deprecated, use smart_open.open instead. See the migration notes for details: https://github.com/RaRe-Technologies/smart_open/blob/master/README.rst#migrating-to-the-new-open-function\n",
      "  'See the migration notes for details: %s' % _MIGRATION_NOTES_URL\n"
     ]
    },
    {
     "name": "stdout",
     "output_type": "stream",
     "text": [
      "20000\n",
      "<class 'pandas.core.frame.DataFrame'>\n",
      "RangeIndex: 20000 entries, 0 to 19999\n",
      "Data columns (total 12 columns):\n",
      "screen_name    20000 non-null object\n",
      "user_id        20000 non-null float64\n",
      "tweet_id       20000 non-null float64\n",
      "tweet          20000 non-null object\n",
      "tweet2         20000 non-null object\n",
      "postdate       20000 non-null object\n",
      "cos_day        20000 non-null float64\n",
      "sin_day        20000 non-null float64\n",
      "tag            20000 non-null object\n",
      "image_url      20000 non-null object\n",
      "image          20000 non-null int64\n",
      "retweet        20000 non-null float64\n",
      "dtypes: float64(5), int64(1), object(6)\n",
      "memory usage: 1.8+ MB\n"
     ]
    }
   ],
   "source": [
    "#学習済みモデルのロード\n",
    "embeddings_model = word2vec.Word2Vec.load('Datas/Word2Vec_model/dC.model')\n",
    "#データの読み込み\n",
    "use_data = pd.read_csv(filepath_or_buffer=\"Datas/pickup_data.csv\", encoding=\"utf_8\", sep=\",\")\n",
    "print(len(use_data))\n",
    "use_data.info()"
   ]
  },
  {
   "cell_type": "code",
   "execution_count": 4,
   "metadata": {},
   "outputs": [
    {
     "name": "stdout",
     "output_type": "stream",
     "text": [
      "Found 20281 unique tokens.\n"
     ]
    },
    {
     "name": "stderr",
     "output_type": "stream",
     "text": [
      "/Users/swallowtail/.local/share/virtualenvs/classification_tweet-zASJ7jKU/lib/python3.6/site-packages/ipykernel_launcher.py:22: DeprecationWarning: Call to deprecated `__getitem__` (Method will be removed in 4.0.0, use self.wv.__getitem__() instead).\n"
     ]
    },
    {
     "name": "stdout",
     "output_type": "stream",
     "text": [
      "Shape of data tensor:(20000, 50)\n",
      "Shape of label tensor:(20000, 2)\n"
     ]
    }
   ],
   "source": [
    "maxlen = 50\n",
    "train = 0.7\n",
    "validation = 0.1\n",
    "max_words = 25000\n",
    "\n",
    "#データをランダムにシャッフル\n",
    "use_data_s = use_data.sample(frac=1, random_state=150)\n",
    "\n",
    "# word indexを作成\n",
    "tokenizer = Tokenizer(num_words=max_words)\n",
    "tokenizer.fit_on_texts(use_data_s['tweet2'])\n",
    "sequences = tokenizer.texts_to_sequences(use_data_s['tweet2'])\n",
    "\n",
    "word_index = tokenizer.word_index\n",
    "num_words = len(word_index)\n",
    "\n",
    "print(\"Found {} unique tokens.\".format(len(word_index)))\n",
    "\n",
    "embedding_matrix = np.zeros((num_words+1, 50))\n",
    "for word, i in word_index.items():\n",
    "    if word in embeddings_model.wv.index2word:\n",
    "        embedding_matrix[i] = embeddings_model[word]\n",
    "\n",
    "data = pad_sequences(sequences, maxlen=maxlen)\n",
    "\n",
    "# バイナリの行列に変換\n",
    "categorical_labels = to_categorical(use_data_s['retweet'])\n",
    "labels = np.asarray(categorical_labels)\n",
    "\n",
    "print(\"Shape of data tensor:{}\".format(data.shape))\n",
    "print(\"Shape of label tensor:{}\".format(labels.shape))\n",
    "\n",
    "indices = [int(len(labels) * n) for n in [train, train + validation]]\n",
    "x_train, x_val, x_test = np.split(data, indices)\n",
    "y_train, y_val, y_test = np.split(labels, indices)"
   ]
  },
  {
   "cell_type": "code",
   "execution_count": 5,
   "metadata": {},
   "outputs": [
    {
     "name": "stdout",
     "output_type": "stream",
     "text": [
      "_________________________________________________________________\n",
      "Layer (type)                 Output Shape              Param #   \n",
      "=================================================================\n",
      "input_postText (InputLayer)  (None, 50)                0         \n",
      "_________________________________________________________________\n",
      "embedding_1 (Embedding)      (None, 50, 50)            1014100   \n",
      "_________________________________________________________________\n",
      "dropout_1 (Dropout)          (None, 50, 50)            0         \n",
      "_________________________________________________________________\n",
      "lstm_1 (LSTM)                (None, 32)                10624     \n",
      "_________________________________________________________________\n",
      "dropout_2 (Dropout)          (None, 32)                0         \n",
      "_________________________________________________________________\n",
      "output (Dense)               (None, 2)                 66        \n",
      "=================================================================\n",
      "Total params: 1,024,790\n",
      "Trainable params: 10,690\n",
      "Non-trainable params: 1,014,100\n",
      "_________________________________________________________________\n"
     ]
    }
   ],
   "source": [
    "p_input = Input(shape=(50, ), dtype='int32', name='input_postText')\n",
    "\n",
    "em = Embedding(input_dim=num_words+1, output_dim=50, input_length=50, weights=[embedding_matrix], trainable=False)(p_input)\n",
    "d_em = Dropout(0.5)(em)\n",
    "lstm_out = LSTM(32, kernel_initializer=weight_variable)(d_em)\n",
    "d_lstm_out = Dropout(0.5)(lstm_out)\n",
    "output = Dense(2, activation='softmax', name = 'output')(d_lstm_out)\n",
    "\n",
    "model = Model(inputs=p_input, outputs = output)\n",
    "optimizer = Adam(lr=1e-4)\n",
    "model.compile(optimizer=optimizer, loss='categorical_crossentropy',  metrics=['acc', macro_precision, macro_recall, macro_f_measure])\n",
    "model.summary()\n",
    "#plot_model(model, show_shapes=True, show_layer_names=True, to_file='model_image/model1.png')\n",
    "\n",
    "early_stopping = EarlyStopping(patience=5, verbose=1)"
   ]
  },
  {
   "cell_type": "code",
   "execution_count": 6,
   "metadata": {},
   "outputs": [
    {
     "name": "stdout",
     "output_type": "stream",
     "text": [
      "Train on 14000 samples, validate on 1999 samples\n",
      "Epoch 1/100\n",
      "14000/14000 [==============================] - 5s 369us/step - loss: 0.6801 - acc: 0.5475 - macro_precision: 0.5539 - macro_recall: 0.5476 - macro_f_measure: 0.5507 - val_loss: 0.6700 - val_acc: 0.5888 - val_macro_precision: 0.5971 - val_macro_recall: 0.5902 - val_macro_f_measure: 0.5936\n",
      "Epoch 2/100\n",
      "14000/14000 [==============================] - 4s 293us/step - loss: 0.6538 - acc: 0.6051 - macro_precision: 0.6079 - macro_recall: 0.6057 - macro_f_measure: 0.6068 - val_loss: 0.6445 - val_acc: 0.6303 - val_macro_precision: 0.6454 - val_macro_recall: 0.6278 - val_macro_f_measure: 0.6365\n",
      "Epoch 3/100\n",
      "14000/14000 [==============================] - 5s 348us/step - loss: 0.6270 - acc: 0.6307 - macro_precision: 0.6583 - macro_recall: 0.6311 - macro_f_measure: 0.6444 - val_loss: 0.6197 - val_acc: 0.6393 - val_macro_precision: 0.6955 - val_macro_recall: 0.6362 - val_macro_f_measure: 0.6645\n",
      "Epoch 4/100\n",
      "14000/14000 [==============================] - 5s 369us/step - loss: 0.6034 - acc: 0.6497 - macro_precision: 0.6816 - macro_recall: 0.6500 - macro_f_measure: 0.6654 - val_loss: 0.5941 - val_acc: 0.6658 - val_macro_precision: 0.6982 - val_macro_recall: 0.6631 - val_macro_f_measure: 0.6802\n",
      "Epoch 5/100\n",
      "14000/14000 [==============================] - 5s 331us/step - loss: 0.5801 - acc: 0.6813 - macro_precision: 0.7003 - macro_recall: 0.6812 - macro_f_measure: 0.6906 - val_loss: 0.5735 - val_acc: 0.6993 - val_macro_precision: 0.7221 - val_macro_recall: 0.6977 - val_macro_f_measure: 0.7097\n",
      "Epoch 6/100\n",
      "14000/14000 [==============================] - 5s 386us/step - loss: 0.5663 - acc: 0.7033 - macro_precision: 0.7106 - macro_recall: 0.7033 - macro_f_measure: 0.7069 - val_loss: 0.5625 - val_acc: 0.7214 - val_macro_precision: 0.7241 - val_macro_recall: 0.7212 - val_macro_f_measure: 0.7226\n",
      "Epoch 7/100\n",
      "14000/14000 [==============================] - 4s 320us/step - loss: 0.5590 - acc: 0.7079 - macro_precision: 0.7107 - macro_recall: 0.7079 - macro_f_measure: 0.7093 - val_loss: 0.5583 - val_acc: 0.7194 - val_macro_precision: 0.7242 - val_macro_recall: 0.7189 - val_macro_f_measure: 0.7215\n",
      "Epoch 8/100\n",
      "14000/14000 [==============================] - 5s 388us/step - loss: 0.5539 - acc: 0.7151 - macro_precision: 0.7173 - macro_recall: 0.7150 - macro_f_measure: 0.7161 - val_loss: 0.5558 - val_acc: 0.7159 - val_macro_precision: 0.7201 - val_macro_recall: 0.7156 - val_macro_f_measure: 0.7179\n",
      "Epoch 9/100\n",
      "14000/14000 [==============================] - 4s 293us/step - loss: 0.5538 - acc: 0.7126 - macro_precision: 0.7149 - macro_recall: 0.7127 - macro_f_measure: 0.7138 - val_loss: 0.5529 - val_acc: 0.7134 - val_macro_precision: 0.7131 - val_macro_recall: 0.7130 - val_macro_f_measure: 0.7131\n",
      "Epoch 10/100\n",
      "14000/14000 [==============================] - 4s 274us/step - loss: 0.5496 - acc: 0.7154 - macro_precision: 0.7175 - macro_recall: 0.7154 - macro_f_measure: 0.7165 - val_loss: 0.5520 - val_acc: 0.7114 - val_macro_precision: 0.7125 - val_macro_recall: 0.7108 - val_macro_f_measure: 0.7117\n",
      "Epoch 11/100\n",
      "14000/14000 [==============================] - 4s 270us/step - loss: 0.5482 - acc: 0.7146 - macro_precision: 0.7157 - macro_recall: 0.7143 - macro_f_measure: 0.7150 - val_loss: 0.5510 - val_acc: 0.7144 - val_macro_precision: 0.7168 - val_macro_recall: 0.7140 - val_macro_f_measure: 0.7154\n",
      "Epoch 12/100\n",
      "14000/14000 [==============================] - 4s 273us/step - loss: 0.5457 - acc: 0.7174 - macro_precision: 0.7202 - macro_recall: 0.7175 - macro_f_measure: 0.7188 - val_loss: 0.5491 - val_acc: 0.7174 - val_macro_precision: 0.7206 - val_macro_recall: 0.7170 - val_macro_f_measure: 0.7188\n",
      "Epoch 13/100\n",
      "14000/14000 [==============================] - 4s 290us/step - loss: 0.5454 - acc: 0.7154 - macro_precision: 0.7176 - macro_recall: 0.7156 - macro_f_measure: 0.7166 - val_loss: 0.5491 - val_acc: 0.7234 - val_macro_precision: 0.7285 - val_macro_recall: 0.7228 - val_macro_f_measure: 0.7256\n",
      "Epoch 14/100\n",
      "14000/14000 [==============================] - 4s 281us/step - loss: 0.5432 - acc: 0.7205 - macro_precision: 0.7229 - macro_recall: 0.7208 - macro_f_measure: 0.7219 - val_loss: 0.5467 - val_acc: 0.7134 - val_macro_precision: 0.7140 - val_macro_recall: 0.7130 - val_macro_f_measure: 0.7135\n",
      "Epoch 15/100\n",
      "14000/14000 [==============================] - 4s 285us/step - loss: 0.5428 - acc: 0.7184 - macro_precision: 0.7202 - macro_recall: 0.7186 - macro_f_measure: 0.7194 - val_loss: 0.5463 - val_acc: 0.7219 - val_macro_precision: 0.7248 - val_macro_recall: 0.7213 - val_macro_f_measure: 0.7231\n",
      "Epoch 16/100\n",
      "14000/14000 [==============================] - 4s 277us/step - loss: 0.5409 - acc: 0.7193 - macro_precision: 0.7217 - macro_recall: 0.7191 - macro_f_measure: 0.7204 - val_loss: 0.5451 - val_acc: 0.7219 - val_macro_precision: 0.7248 - val_macro_recall: 0.7213 - val_macro_f_measure: 0.7230\n",
      "Epoch 17/100\n",
      "14000/14000 [==============================] - 4s 271us/step - loss: 0.5386 - acc: 0.7222 - macro_precision: 0.7251 - macro_recall: 0.7221 - macro_f_measure: 0.7236 - val_loss: 0.5442 - val_acc: 0.7219 - val_macro_precision: 0.7249 - val_macro_recall: 0.7214 - val_macro_f_measure: 0.7231\n",
      "Epoch 18/100\n",
      "14000/14000 [==============================] - 4s 271us/step - loss: 0.5407 - acc: 0.7209 - macro_precision: 0.7226 - macro_recall: 0.7209 - macro_f_measure: 0.7218 - val_loss: 0.5431 - val_acc: 0.7184 - val_macro_precision: 0.7196 - val_macro_recall: 0.7180 - val_macro_f_measure: 0.7188\n",
      "Epoch 19/100\n",
      "14000/14000 [==============================] - 5s 327us/step - loss: 0.5390 - acc: 0.7225 - macro_precision: 0.7246 - macro_recall: 0.7221 - macro_f_measure: 0.7233 - val_loss: 0.5419 - val_acc: 0.7184 - val_macro_precision: 0.7194 - val_macro_recall: 0.7181 - val_macro_f_measure: 0.7187\n",
      "Epoch 20/100\n",
      "14000/14000 [==============================] - 5s 353us/step - loss: 0.5409 - acc: 0.7179 - macro_precision: 0.7190 - macro_recall: 0.7176 - macro_f_measure: 0.7183 - val_loss: 0.5425 - val_acc: 0.7244 - val_macro_precision: 0.7281 - val_macro_recall: 0.7239 - val_macro_f_measure: 0.7260\n",
      "Epoch 21/100\n",
      "14000/14000 [==============================] - 5s 354us/step - loss: 0.5367 - acc: 0.7223 - macro_precision: 0.7242 - macro_recall: 0.7220 - macro_f_measure: 0.7231 - val_loss: 0.5409 - val_acc: 0.7229 - val_macro_precision: 0.7253 - val_macro_recall: 0.7226 - val_macro_f_measure: 0.7240\n",
      "Epoch 22/100\n",
      "14000/14000 [==============================] - 5s 391us/step - loss: 0.5406 - acc: 0.7179 - macro_precision: 0.7199 - macro_recall: 0.7176 - macro_f_measure: 0.7187 - val_loss: 0.5404 - val_acc: 0.7259 - val_macro_precision: 0.7290 - val_macro_recall: 0.7256 - val_macro_f_measure: 0.7273\n",
      "Epoch 23/100\n",
      "14000/14000 [==============================] - 6s 452us/step - loss: 0.5367 - acc: 0.7236 - macro_precision: 0.7253 - macro_recall: 0.7235 - macro_f_measure: 0.7244 - val_loss: 0.5406 - val_acc: 0.7299 - val_macro_precision: 0.7343 - val_macro_recall: 0.7294 - val_macro_f_measure: 0.7318\n",
      "Epoch 24/100\n",
      "14000/14000 [==============================] - 5s 393us/step - loss: 0.5345 - acc: 0.7258 - macro_precision: 0.7282 - macro_recall: 0.7255 - macro_f_measure: 0.7269 - val_loss: 0.5383 - val_acc: 0.7199 - val_macro_precision: 0.7212 - val_macro_recall: 0.7195 - val_macro_f_measure: 0.7203\n",
      "Epoch 25/100\n",
      "14000/14000 [==============================] - 5s 356us/step - loss: 0.5347 - acc: 0.7209 - macro_precision: 0.7225 - macro_recall: 0.7207 - macro_f_measure: 0.7216 - val_loss: 0.5387 - val_acc: 0.7264 - val_macro_precision: 0.7299 - val_macro_recall: 0.7260 - val_macro_f_measure: 0.7279\n",
      "Epoch 26/100\n",
      "14000/14000 [==============================] - 4s 311us/step - loss: 0.5323 - acc: 0.7258 - macro_precision: 0.7281 - macro_recall: 0.7259 - macro_f_measure: 0.7270 - val_loss: 0.5375 - val_acc: 0.7249 - val_macro_precision: 0.7272 - val_macro_recall: 0.7245 - val_macro_f_measure: 0.7259\n",
      "Epoch 27/100\n",
      "14000/14000 [==============================] - 4s 312us/step - loss: 0.5338 - acc: 0.7214 - macro_precision: 0.7242 - macro_recall: 0.7218 - macro_f_measure: 0.7230 - val_loss: 0.5374 - val_acc: 0.7269 - val_macro_precision: 0.7302 - val_macro_recall: 0.7266 - val_macro_f_measure: 0.7284\n"
     ]
    },
    {
     "name": "stdout",
     "output_type": "stream",
     "text": [
      "Epoch 28/100\n",
      "14000/14000 [==============================] - 4s 293us/step - loss: 0.5373 - acc: 0.7184 - macro_precision: 0.7210 - macro_recall: 0.7180 - macro_f_measure: 0.7194 - val_loss: 0.5362 - val_acc: 0.7264 - val_macro_precision: 0.7288 - val_macro_recall: 0.7259 - val_macro_f_measure: 0.7273\n",
      "Epoch 29/100\n",
      "14000/14000 [==============================] - 4s 294us/step - loss: 0.5333 - acc: 0.7260 - macro_precision: 0.7281 - macro_recall: 0.7261 - macro_f_measure: 0.7271 - val_loss: 0.5355 - val_acc: 0.7269 - val_macro_precision: 0.7299 - val_macro_recall: 0.7265 - val_macro_f_measure: 0.7282\n",
      "Epoch 30/100\n",
      "14000/14000 [==============================] - 4s 290us/step - loss: 0.5330 - acc: 0.7223 - macro_precision: 0.7244 - macro_recall: 0.7226 - macro_f_measure: 0.7235 - val_loss: 0.5351 - val_acc: 0.7294 - val_macro_precision: 0.7324 - val_macro_recall: 0.7290 - val_macro_f_measure: 0.7307\n",
      "Epoch 31/100\n",
      "14000/14000 [==============================] - 4s 290us/step - loss: 0.5317 - acc: 0.7244 - macro_precision: 0.7268 - macro_recall: 0.7242 - macro_f_measure: 0.7255 - val_loss: 0.5348 - val_acc: 0.7289 - val_macro_precision: 0.7326 - val_macro_recall: 0.7282 - val_macro_f_measure: 0.7304\n",
      "Epoch 32/100\n",
      "14000/14000 [==============================] - 4s 289us/step - loss: 0.5310 - acc: 0.7262 - macro_precision: 0.7278 - macro_recall: 0.7263 - macro_f_measure: 0.7270 - val_loss: 0.5351 - val_acc: 0.7304 - val_macro_precision: 0.7358 - val_macro_recall: 0.7296 - val_macro_f_measure: 0.7327\n",
      "Epoch 33/100\n",
      "14000/14000 [==============================] - 4s 291us/step - loss: 0.5323 - acc: 0.7256 - macro_precision: 0.7291 - macro_recall: 0.7260 - macro_f_measure: 0.7275 - val_loss: 0.5330 - val_acc: 0.7274 - val_macro_precision: 0.7287 - val_macro_recall: 0.7270 - val_macro_f_measure: 0.7279\n",
      "Epoch 34/100\n",
      "14000/14000 [==============================] - 4s 291us/step - loss: 0.5301 - acc: 0.7219 - macro_precision: 0.7240 - macro_recall: 0.7216 - macro_f_measure: 0.7228 - val_loss: 0.5333 - val_acc: 0.7319 - val_macro_precision: 0.7348 - val_macro_recall: 0.7313 - val_macro_f_measure: 0.7331\n",
      "Epoch 35/100\n",
      "14000/14000 [==============================] - 4s 289us/step - loss: 0.5294 - acc: 0.7266 - macro_precision: 0.7292 - macro_recall: 0.7266 - macro_f_measure: 0.7279 - val_loss: 0.5331 - val_acc: 0.7334 - val_macro_precision: 0.7364 - val_macro_recall: 0.7328 - val_macro_f_measure: 0.7346\n",
      "Epoch 36/100\n",
      "14000/14000 [==============================] - 4s 300us/step - loss: 0.5309 - acc: 0.7234 - macro_precision: 0.7266 - macro_recall: 0.7239 - macro_f_measure: 0.7252 - val_loss: 0.5327 - val_acc: 0.7279 - val_macro_precision: 0.7306 - val_macro_recall: 0.7274 - val_macro_f_measure: 0.7290\n",
      "Epoch 37/100\n",
      "14000/14000 [==============================] - 4s 297us/step - loss: 0.5307 - acc: 0.7259 - macro_precision: 0.7286 - macro_recall: 0.7257 - macro_f_measure: 0.7271 - val_loss: 0.5324 - val_acc: 0.7254 - val_macro_precision: 0.7266 - val_macro_recall: 0.7251 - val_macro_f_measure: 0.7258\n",
      "Epoch 38/100\n",
      "14000/14000 [==============================] - 4s 295us/step - loss: 0.5310 - acc: 0.7241 - macro_precision: 0.7268 - macro_recall: 0.7240 - macro_f_measure: 0.7254 - val_loss: 0.5319 - val_acc: 0.7309 - val_macro_precision: 0.7338 - val_macro_recall: 0.7305 - val_macro_f_measure: 0.7322\n",
      "Epoch 39/100\n",
      "14000/14000 [==============================] - 4s 293us/step - loss: 0.5287 - acc: 0.7245 - macro_precision: 0.7272 - macro_recall: 0.7245 - macro_f_measure: 0.7259 - val_loss: 0.5305 - val_acc: 0.7299 - val_macro_precision: 0.7323 - val_macro_recall: 0.7295 - val_macro_f_measure: 0.7309\n",
      "Epoch 40/100\n",
      "14000/14000 [==============================] - 4s 293us/step - loss: 0.5293 - acc: 0.7250 - macro_precision: 0.7279 - macro_recall: 0.7257 - macro_f_measure: 0.7268 - val_loss: 0.5311 - val_acc: 0.7319 - val_macro_precision: 0.7357 - val_macro_recall: 0.7313 - val_macro_f_measure: 0.7335\n",
      "Epoch 41/100\n",
      "14000/14000 [==============================] - 4s 294us/step - loss: 0.5295 - acc: 0.7266 - macro_precision: 0.7294 - macro_recall: 0.7262 - macro_f_measure: 0.7278 - val_loss: 0.5301 - val_acc: 0.7274 - val_macro_precision: 0.7281 - val_macro_recall: 0.7270 - val_macro_f_measure: 0.7276\n",
      "Epoch 42/100\n",
      "14000/14000 [==============================] - 4s 296us/step - loss: 0.5290 - acc: 0.7284 - macro_precision: 0.7301 - macro_recall: 0.7282 - macro_f_measure: 0.7292 - val_loss: 0.5304 - val_acc: 0.7344 - val_macro_precision: 0.7381 - val_macro_recall: 0.7335 - val_macro_f_measure: 0.7358\n",
      "Epoch 43/100\n",
      "14000/14000 [==============================] - 4s 299us/step - loss: 0.5273 - acc: 0.7272 - macro_precision: 0.7311 - macro_recall: 0.7273 - macro_f_measure: 0.7292 - val_loss: 0.5293 - val_acc: 0.7304 - val_macro_precision: 0.7310 - val_macro_recall: 0.7303 - val_macro_f_measure: 0.7306\n",
      "Epoch 44/100\n",
      "14000/14000 [==============================] - 4s 295us/step - loss: 0.5337 - acc: 0.7223 - macro_precision: 0.7262 - macro_recall: 0.7226 - macro_f_measure: 0.7244 - val_loss: 0.5317 - val_acc: 0.7284 - val_macro_precision: 0.7343 - val_macro_recall: 0.7274 - val_macro_f_measure: 0.7308\n",
      "Epoch 45/100\n",
      "14000/14000 [==============================] - 4s 295us/step - loss: 0.5296 - acc: 0.7240 - macro_precision: 0.7272 - macro_recall: 0.7238 - macro_f_measure: 0.7255 - val_loss: 0.5310 - val_acc: 0.7339 - val_macro_precision: 0.7392 - val_macro_recall: 0.7332 - val_macro_f_measure: 0.7362\n",
      "Epoch 46/100\n",
      "14000/14000 [==============================] - 4s 293us/step - loss: 0.5269 - acc: 0.7275 - macro_precision: 0.7308 - macro_recall: 0.7277 - macro_f_measure: 0.7292 - val_loss: 0.5286 - val_acc: 0.7309 - val_macro_precision: 0.7330 - val_macro_recall: 0.7303 - val_macro_f_measure: 0.7316\n",
      "Epoch 47/100\n",
      "14000/14000 [==============================] - 4s 293us/step - loss: 0.5279 - acc: 0.7291 - macro_precision: 0.7317 - macro_recall: 0.7291 - macro_f_measure: 0.7304 - val_loss: 0.5295 - val_acc: 0.7329 - val_macro_precision: 0.7365 - val_macro_recall: 0.7322 - val_macro_f_measure: 0.7344\n",
      "Epoch 48/100\n",
      "14000/14000 [==============================] - 4s 292us/step - loss: 0.5254 - acc: 0.7257 - macro_precision: 0.7280 - macro_recall: 0.7257 - macro_f_measure: 0.7269 - val_loss: 0.5290 - val_acc: 0.7369 - val_macro_precision: 0.7413 - val_macro_recall: 0.7360 - val_macro_f_measure: 0.7386\n",
      "Epoch 49/100\n",
      "14000/14000 [==============================] - 4s 294us/step - loss: 0.5257 - acc: 0.7316 - macro_precision: 0.7349 - macro_recall: 0.7316 - macro_f_measure: 0.7332 - val_loss: 0.5296 - val_acc: 0.7364 - val_macro_precision: 0.7419 - val_macro_recall: 0.7355 - val_macro_f_measure: 0.7387\n",
      "Epoch 50/100\n",
      "14000/14000 [==============================] - 4s 292us/step - loss: 0.5224 - acc: 0.7325 - macro_precision: 0.7362 - macro_recall: 0.7322 - macro_f_measure: 0.7342 - val_loss: 0.5281 - val_acc: 0.7329 - val_macro_precision: 0.7359 - val_macro_recall: 0.7322 - val_macro_f_measure: 0.7341\n",
      "Epoch 51/100\n",
      "14000/14000 [==============================] - 4s 300us/step - loss: 0.5262 - acc: 0.7301 - macro_precision: 0.7335 - macro_recall: 0.7304 - macro_f_measure: 0.7319 - val_loss: 0.5264 - val_acc: 0.7374 - val_macro_precision: 0.7404 - val_macro_recall: 0.7368 - val_macro_f_measure: 0.7386\n",
      "Epoch 52/100\n",
      "14000/14000 [==============================] - 4s 298us/step - loss: 0.5254 - acc: 0.7287 - macro_precision: 0.7317 - macro_recall: 0.7287 - macro_f_measure: 0.7302 - val_loss: 0.5300 - val_acc: 0.7369 - val_macro_precision: 0.7472 - val_macro_recall: 0.7362 - val_macro_f_measure: 0.7417\n",
      "Epoch 53/100\n",
      "14000/14000 [==============================] - 4s 300us/step - loss: 0.5228 - acc: 0.7306 - macro_precision: 0.7348 - macro_recall: 0.7307 - macro_f_measure: 0.7328 - val_loss: 0.5264 - val_acc: 0.7304 - val_macro_precision: 0.7332 - val_macro_recall: 0.7298 - val_macro_f_measure: 0.7315\n",
      "Epoch 54/100\n",
      "14000/14000 [==============================] - 4s 294us/step - loss: 0.5257 - acc: 0.7277 - macro_precision: 0.7307 - macro_recall: 0.7280 - macro_f_measure: 0.7293 - val_loss: 0.5283 - val_acc: 0.7354 - val_macro_precision: 0.7421 - val_macro_recall: 0.7345 - val_macro_f_measure: 0.7382\n",
      "Epoch 55/100\n",
      "14000/14000 [==============================] - 4s 301us/step - loss: 0.5226 - acc: 0.7299 - macro_precision: 0.7337 - macro_recall: 0.7299 - macro_f_measure: 0.7318 - val_loss: 0.5262 - val_acc: 0.7364 - val_macro_precision: 0.7406 - val_macro_recall: 0.7355 - val_macro_f_measure: 0.7380\n",
      "Epoch 56/100\n",
      "14000/14000 [==============================] - 4s 294us/step - loss: 0.5245 - acc: 0.7296 - macro_precision: 0.7323 - macro_recall: 0.7298 - macro_f_measure: 0.7311 - val_loss: 0.5252 - val_acc: 0.7329 - val_macro_precision: 0.7354 - val_macro_recall: 0.7323 - val_macro_f_measure: 0.7338\n",
      "Epoch 57/100\n",
      "14000/14000 [==============================] - 4s 288us/step - loss: 0.5177 - acc: 0.7301 - macro_precision: 0.7336 - macro_recall: 0.7303 - macro_f_measure: 0.7320 - val_loss: 0.5255 - val_acc: 0.7364 - val_macro_precision: 0.7409 - val_macro_recall: 0.7355 - val_macro_f_measure: 0.7382\n",
      "Epoch 58/100\n",
      "14000/14000 [==============================] - 4s 304us/step - loss: 0.5205 - acc: 0.7339 - macro_precision: 0.7373 - macro_recall: 0.7339 - macro_f_measure: 0.7356 - val_loss: 0.5242 - val_acc: 0.7354 - val_macro_precision: 0.7380 - val_macro_recall: 0.7349 - val_macro_f_measure: 0.7364\n",
      "Epoch 59/100\n",
      "14000/14000 [==============================] - 4s 304us/step - loss: 0.5231 - acc: 0.7306 - macro_precision: 0.7344 - macro_recall: 0.7306 - macro_f_measure: 0.7325 - val_loss: 0.5245 - val_acc: 0.7334 - val_macro_precision: 0.7359 - val_macro_recall: 0.7330 - val_macro_f_measure: 0.7344\n",
      "Epoch 60/100\n",
      "14000/14000 [==============================] - 6s 415us/step - loss: 0.5226 - acc: 0.7324 - macro_precision: 0.7351 - macro_recall: 0.7320 - macro_f_measure: 0.7335 - val_loss: 0.5273 - val_acc: 0.7374 - val_macro_precision: 0.7463 - val_macro_recall: 0.7361 - val_macro_f_measure: 0.7412\n",
      "Epoch 61/100\n",
      "14000/14000 [==============================] - 7s 495us/step - loss: 0.5198 - acc: 0.7329 - macro_precision: 0.7369 - macro_recall: 0.7325 - macro_f_measure: 0.7347 - val_loss: 0.5250 - val_acc: 0.7409 - val_macro_precision: 0.7471 - val_macro_recall: 0.7399 - val_macro_f_measure: 0.7435\n",
      "Epoch 62/100\n",
      "14000/14000 [==============================] - 6s 451us/step - loss: 0.5193 - acc: 0.7344 - macro_precision: 0.7385 - macro_recall: 0.7347 - macro_f_measure: 0.7366 - val_loss: 0.5238 - val_acc: 0.7379 - val_macro_precision: 0.7427 - val_macro_recall: 0.7369 - val_macro_f_measure: 0.7398\n",
      "Epoch 63/100\n",
      "14000/14000 [==============================] - 5s 340us/step - loss: 0.5232 - acc: 0.7328 - macro_precision: 0.7369 - macro_recall: 0.7329 - macro_f_measure: 0.7349 - val_loss: 0.5221 - val_acc: 0.7354 - val_macro_precision: 0.7369 - val_macro_recall: 0.7352 - val_macro_f_measure: 0.7360\n",
      "Epoch 64/100\n",
      "14000/14000 [==============================] - 4s 292us/step - loss: 0.5180 - acc: 0.7336 - macro_precision: 0.7371 - macro_recall: 0.7336 - macro_f_measure: 0.7354 - val_loss: 0.5277 - val_acc: 0.7394 - val_macro_precision: 0.7506 - val_macro_recall: 0.7382 - val_macro_f_measure: 0.7444\n",
      "Epoch 65/100\n",
      "14000/14000 [==============================] - 4s 288us/step - loss: 0.5202 - acc: 0.7360 - macro_precision: 0.7394 - macro_recall: 0.7361 - macro_f_measure: 0.7377 - val_loss: 0.5236 - val_acc: 0.7359 - val_macro_precision: 0.7406 - val_macro_recall: 0.7349 - val_macro_f_measure: 0.7378\n",
      "Epoch 66/100\n",
      "14000/14000 [==============================] - 4s 294us/step - loss: 0.5170 - acc: 0.7333 - macro_precision: 0.7364 - macro_recall: 0.7334 - macro_f_measure: 0.7349 - val_loss: 0.5231 - val_acc: 0.7364 - val_macro_precision: 0.7413 - val_macro_recall: 0.7355 - val_macro_f_measure: 0.7384\n",
      "Epoch 67/100\n",
      "14000/14000 [==============================] - 4s 292us/step - loss: 0.5176 - acc: 0.7361 - macro_precision: 0.7399 - macro_recall: 0.7358 - macro_f_measure: 0.7378 - val_loss: 0.5221 - val_acc: 0.7329 - val_macro_precision: 0.7335 - val_macro_recall: 0.7327 - val_macro_f_measure: 0.7331\n",
      "Epoch 68/100\n",
      "14000/14000 [==============================] - 4s 291us/step - loss: 0.5167 - acc: 0.7331 - macro_precision: 0.7378 - macro_recall: 0.7333 - macro_f_measure: 0.7355 - val_loss: 0.5230 - val_acc: 0.7404 - val_macro_precision: 0.7472 - val_macro_recall: 0.7395 - val_macro_f_measure: 0.7433\n",
      "Epoch 69/100\n",
      "14000/14000 [==============================] - 4s 296us/step - loss: 0.5154 - acc: 0.7353 - macro_precision: 0.7399 - macro_recall: 0.7352 - macro_f_measure: 0.7375 - val_loss: 0.5204 - val_acc: 0.7364 - val_macro_precision: 0.7400 - val_macro_recall: 0.7354 - val_macro_f_measure: 0.7377\n",
      "Epoch 70/100\n",
      "14000/14000 [==============================] - 4s 291us/step - loss: 0.5185 - acc: 0.7344 - macro_precision: 0.7380 - macro_recall: 0.7346 - macro_f_measure: 0.7363 - val_loss: 0.5227 - val_acc: 0.7359 - val_macro_precision: 0.7422 - val_macro_recall: 0.7346 - val_macro_f_measure: 0.7383\n",
      "Epoch 71/100\n",
      "14000/14000 [==============================] - 4s 296us/step - loss: 0.5136 - acc: 0.7349 - macro_precision: 0.7384 - macro_recall: 0.7349 - macro_f_measure: 0.7366 - val_loss: 0.5196 - val_acc: 0.7429 - val_macro_precision: 0.7484 - val_macro_recall: 0.7420 - val_macro_f_measure: 0.7452\n",
      "Epoch 72/100\n",
      "14000/14000 [==============================] - 4s 293us/step - loss: 0.5148 - acc: 0.7373 - macro_precision: 0.7416 - macro_recall: 0.7371 - macro_f_measure: 0.7393 - val_loss: 0.5210 - val_acc: 0.7429 - val_macro_precision: 0.7500 - val_macro_recall: 0.7418 - val_macro_f_measure: 0.7458\n",
      "Epoch 73/100\n",
      "14000/14000 [==============================] - 4s 292us/step - loss: 0.5162 - acc: 0.7358 - macro_precision: 0.7404 - macro_recall: 0.7360 - macro_f_measure: 0.7381 - val_loss: 0.5185 - val_acc: 0.7339 - val_macro_precision: 0.7367 - val_macro_recall: 0.7332 - val_macro_f_measure: 0.7349\n",
      "Epoch 74/100\n",
      "14000/14000 [==============================] - 4s 295us/step - loss: 0.5161 - acc: 0.7372 - macro_precision: 0.7409 - macro_recall: 0.7371 - macro_f_measure: 0.7390 - val_loss: 0.5207 - val_acc: 0.7404 - val_macro_precision: 0.7482 - val_macro_recall: 0.7390 - val_macro_f_measure: 0.7436\n",
      "Epoch 75/100\n",
      "14000/14000 [==============================] - 4s 292us/step - loss: 0.5136 - acc: 0.7396 - macro_precision: 0.7436 - macro_recall: 0.7400 - macro_f_measure: 0.7418 - val_loss: 0.5195 - val_acc: 0.7409 - val_macro_precision: 0.7488 - val_macro_recall: 0.7396 - val_macro_f_measure: 0.7442\n",
      "Epoch 76/100\n",
      "14000/14000 [==============================] - 4s 296us/step - loss: 0.5160 - acc: 0.7381 - macro_precision: 0.7423 - macro_recall: 0.7381 - macro_f_measure: 0.7402 - val_loss: 0.5180 - val_acc: 0.7419 - val_macro_precision: 0.7479 - val_macro_recall: 0.7408 - val_macro_f_measure: 0.7444\n",
      "Epoch 77/100\n",
      "14000/14000 [==============================] - 4s 293us/step - loss: 0.5135 - acc: 0.7383 - macro_precision: 0.7429 - macro_recall: 0.7385 - macro_f_measure: 0.7407 - val_loss: 0.5202 - val_acc: 0.7414 - val_macro_precision: 0.7497 - val_macro_recall: 0.7403 - val_macro_f_measure: 0.7449\n",
      "Epoch 78/100\n",
      "14000/14000 [==============================] - 4s 304us/step - loss: 0.5134 - acc: 0.7389 - macro_precision: 0.7429 - macro_recall: 0.7389 - macro_f_measure: 0.7409 - val_loss: 0.5201 - val_acc: 0.7429 - val_macro_precision: 0.7511 - val_macro_recall: 0.7416 - val_macro_f_measure: 0.7463\n",
      "Epoch 79/100\n",
      "14000/14000 [==============================] - 4s 293us/step - loss: 0.5106 - acc: 0.7374 - macro_precision: 0.7412 - macro_recall: 0.7374 - macro_f_measure: 0.7393 - val_loss: 0.5179 - val_acc: 0.7384 - val_macro_precision: 0.7442 - val_macro_recall: 0.7373 - val_macro_f_measure: 0.7407\n",
      "Epoch 80/100\n",
      "14000/14000 [==============================] - 4s 305us/step - loss: 0.5104 - acc: 0.7384 - macro_precision: 0.7417 - macro_recall: 0.7384 - macro_f_measure: 0.7401 - val_loss: 0.5174 - val_acc: 0.7429 - val_macro_precision: 0.7480 - val_macro_recall: 0.7420 - val_macro_f_measure: 0.7450\n",
      "Epoch 81/100\n",
      "14000/14000 [==============================] - 4s 296us/step - loss: 0.5108 - acc: 0.7417 - macro_precision: 0.7456 - macro_recall: 0.7418 - macro_f_measure: 0.7437 - val_loss: 0.5179 - val_acc: 0.7394 - val_macro_precision: 0.7442 - val_macro_recall: 0.7382 - val_macro_f_measure: 0.7412\n",
      "Epoch 82/100\n"
     ]
    },
    {
     "name": "stdout",
     "output_type": "stream",
     "text": [
      "14000/14000 [==============================] - 4s 295us/step - loss: 0.5137 - acc: 0.7394 - macro_precision: 0.7444 - macro_recall: 0.7396 - macro_f_measure: 0.7420 - val_loss: 0.5227 - val_acc: 0.7389 - val_macro_precision: 0.7527 - val_macro_recall: 0.7374 - val_macro_f_measure: 0.7450\n",
      "Epoch 83/100\n",
      "14000/14000 [==============================] - 4s 294us/step - loss: 0.5122 - acc: 0.7378 - macro_precision: 0.7418 - macro_recall: 0.7383 - macro_f_measure: 0.7401 - val_loss: 0.5213 - val_acc: 0.7404 - val_macro_precision: 0.7538 - val_macro_recall: 0.7390 - val_macro_f_measure: 0.7463\n",
      "Epoch 84/100\n",
      "14000/14000 [==============================] - 4s 295us/step - loss: 0.5117 - acc: 0.7378 - macro_precision: 0.7424 - macro_recall: 0.7375 - macro_f_measure: 0.7399 - val_loss: 0.5175 - val_acc: 0.7469 - val_macro_precision: 0.7559 - val_macro_recall: 0.7455 - val_macro_f_measure: 0.7506\n",
      "Epoch 85/100\n",
      "14000/14000 [==============================] - 4s 292us/step - loss: 0.5115 - acc: 0.7406 - macro_precision: 0.7438 - macro_recall: 0.7403 - macro_f_measure: 0.7420 - val_loss: 0.5142 - val_acc: 0.7369 - val_macro_precision: 0.7392 - val_macro_recall: 0.7361 - val_macro_f_measure: 0.7377\n",
      "Epoch 86/100\n",
      "14000/14000 [==============================] - 4s 290us/step - loss: 0.5113 - acc: 0.7404 - macro_precision: 0.7434 - macro_recall: 0.7400 - macro_f_measure: 0.7417 - val_loss: 0.5145 - val_acc: 0.7419 - val_macro_precision: 0.7460 - val_macro_recall: 0.7408 - val_macro_f_measure: 0.7434\n",
      "Epoch 87/100\n",
      "14000/14000 [==============================] - 4s 289us/step - loss: 0.5093 - acc: 0.7388 - macro_precision: 0.7420 - macro_recall: 0.7386 - macro_f_measure: 0.7403 - val_loss: 0.5152 - val_acc: 0.7429 - val_macro_precision: 0.7476 - val_macro_recall: 0.7418 - val_macro_f_measure: 0.7447\n",
      "Epoch 88/100\n",
      "14000/14000 [==============================] - 4s 289us/step - loss: 0.5124 - acc: 0.7370 - macro_precision: 0.7405 - macro_recall: 0.7371 - macro_f_measure: 0.7388 - val_loss: 0.5162 - val_acc: 0.7444 - val_macro_precision: 0.7524 - val_macro_recall: 0.7429 - val_macro_f_measure: 0.7476\n",
      "Epoch 89/100\n",
      "14000/14000 [==============================] - 4s 288us/step - loss: 0.5122 - acc: 0.7396 - macro_precision: 0.7447 - macro_recall: 0.7389 - macro_f_measure: 0.7418 - val_loss: 0.5138 - val_acc: 0.7424 - val_macro_precision: 0.7463 - val_macro_recall: 0.7411 - val_macro_f_measure: 0.7437\n",
      "Epoch 90/100\n",
      "14000/14000 [==============================] - 4s 290us/step - loss: 0.5095 - acc: 0.7431 - macro_precision: 0.7470 - macro_recall: 0.7427 - macro_f_measure: 0.7448 - val_loss: 0.5155 - val_acc: 0.7454 - val_macro_precision: 0.7528 - val_macro_recall: 0.7442 - val_macro_f_measure: 0.7485\n",
      "Epoch 91/100\n",
      "14000/14000 [==============================] - 4s 292us/step - loss: 0.5112 - acc: 0.7411 - macro_precision: 0.7472 - macro_recall: 0.7411 - macro_f_measure: 0.7441 - val_loss: 0.5128 - val_acc: 0.7414 - val_macro_precision: 0.7450 - val_macro_recall: 0.7405 - val_macro_f_measure: 0.7428\n",
      "Epoch 92/100\n",
      "14000/14000 [==============================] - 4s 292us/step - loss: 0.5071 - acc: 0.7424 - macro_precision: 0.7459 - macro_recall: 0.7423 - macro_f_measure: 0.7441 - val_loss: 0.5123 - val_acc: 0.7429 - val_macro_precision: 0.7460 - val_macro_recall: 0.7423 - val_macro_f_measure: 0.7442\n",
      "Epoch 93/100\n",
      "14000/14000 [==============================] - 4s 295us/step - loss: 0.5100 - acc: 0.7396 - macro_precision: 0.7430 - macro_recall: 0.7397 - macro_f_measure: 0.7414 - val_loss: 0.5147 - val_acc: 0.7459 - val_macro_precision: 0.7535 - val_macro_recall: 0.7444 - val_macro_f_measure: 0.7490\n",
      "Epoch 94/100\n",
      "14000/14000 [==============================] - 4s 296us/step - loss: 0.5094 - acc: 0.7436 - macro_precision: 0.7496 - macro_recall: 0.7439 - macro_f_measure: 0.7467 - val_loss: 0.5157 - val_acc: 0.7459 - val_macro_precision: 0.7533 - val_macro_recall: 0.7442 - val_macro_f_measure: 0.7488\n",
      "Epoch 95/100\n",
      "14000/14000 [==============================] - 4s 291us/step - loss: 0.5109 - acc: 0.7404 - macro_precision: 0.7444 - macro_recall: 0.7402 - macro_f_measure: 0.7423 - val_loss: 0.5156 - val_acc: 0.7454 - val_macro_precision: 0.7525 - val_macro_recall: 0.7439 - val_macro_f_measure: 0.7482\n",
      "Epoch 96/100\n",
      "14000/14000 [==============================] - 4s 292us/step - loss: 0.5070 - acc: 0.7393 - macro_precision: 0.7426 - macro_recall: 0.7392 - macro_f_measure: 0.7409 - val_loss: 0.5153 - val_acc: 0.7439 - val_macro_precision: 0.7521 - val_macro_recall: 0.7422 - val_macro_f_measure: 0.7471\n",
      "Epoch 97/100\n",
      "14000/14000 [==============================] - 4s 291us/step - loss: 0.5074 - acc: 0.7440 - macro_precision: 0.7484 - macro_recall: 0.7443 - macro_f_measure: 0.7463 - val_loss: 0.5136 - val_acc: 0.7449 - val_macro_precision: 0.7514 - val_macro_recall: 0.7437 - val_macro_f_measure: 0.7475\n",
      "Epoch 00097: early stopping\n"
     ]
    }
   ],
   "source": [
    "history = model.fit(x_train, y_train,\n",
    "                    epochs=100, \n",
    "                    batch_size=300,\n",
    "                    validation_data=(x_val, y_val),\n",
    "                    callbacks=[early_stopping])"
   ]
  },
  {
   "cell_type": "code",
   "execution_count": 8,
   "metadata": {},
   "outputs": [
    {
     "name": "stdout",
     "output_type": "stream",
     "text": [
      "4001/4001 [==============================] - 1s 273us/step\n",
      "[0.5008677483792906, 0.74656335916021, 0.7512595165344931, 0.7483658960866082, 0.7497033326514391]\n"
     ]
    }
   ],
   "source": [
    "loss_and_metrics = model.evaluate(x_test, y_test)\n",
    "print(loss_and_metrics)"
   ]
  },
  {
   "cell_type": "code",
   "execution_count": 21,
   "metadata": {},
   "outputs": [],
   "source": [
    "classes = model.predict(x_test)\n",
    "np.savetxt('Datas/result/model1_dC_predict.csv', classes, delimiter = ',')"
   ]
  },
  {
   "cell_type": "code",
   "execution_count": 22,
   "metadata": {},
   "outputs": [],
   "source": [
    "model.save('Datas/models/model1_dC.h5')"
   ]
  },
  {
   "cell_type": "code",
   "execution_count": 9,
   "metadata": {},
   "outputs": [
    {
     "data": {
      "text/plain": [
       "<Figure size 432x288 with 0 Axes>"
      ]
     },
     "execution_count": 9,
     "metadata": {},
     "output_type": "execute_result"
    },
    {
     "data": {
      "image/png": "[encoded data removed]",
      "text/plain": [
       "<Figure size 432x288 with 1 Axes>"
      ]
     },
     "metadata": {
      "needs_background": "light"
     },
     "output_type": "display_data"
    },
    {
     "data": {
      "image/png": "[encoded data removed]",
      "text/plain": [
       "<Figure size 432x288 with 1 Axes>"
      ]
     },
     "metadata": {
      "needs_background": "light"
     },
     "output_type": "display_data"
    },
    {
     "data": {
      "text/plain": [
       "<Figure size 432x288 with 0 Axes>"
      ]
     },
     "metadata": {},
     "output_type": "display_data"
    }
   ],
   "source": [
    "%matplotlib inline\n",
    "import matplotlib.pyplot as plt\n",
    "\n",
    "acc = history.history['acc']\n",
    "val_acc = history.history['val_acc']\n",
    "loss = history.history['loss']\n",
    "val_loss = history.history['val_loss']\n",
    "epochs = range(1, len(acc) + 1)\n",
    "\n",
    "plt.plot(epochs, acc, 'b--', label='Training acc')\n",
    "plt.plot(epochs, val_acc, 'b', label='Validation acc')\n",
    "plt.title('Training and validation accuracy')\n",
    "plt.legend()\n",
    "plt.savefig(\"Datas/Figs/C/test_and_val_acc.png\")\n",
    "\n",
    "plt.figure()\n",
    "\n",
    "plt.plot(epochs, loss, 'b--', label='Training loss')\n",
    "plt.plot(epochs, val_loss, 'b', label='Validation loss')\n",
    "plt.title('Training and validation loss')\n",
    "plt.legend()\n",
    "plt.savefig(\"Datas/Figs/C/test_and_val_loss.png\")\n",
    "\n",
    "plt.figure()"
   ]
  },
  {
   "cell_type": "code",
   "execution_count": 10,
   "metadata": {},
   "outputs": [
    {
     "data": {
      "image/png": "[encoded data removed]",
      "text/plain": [
       "<Figure size 432x288 with 2 Axes>"
      ]
     },
     "metadata": {
      "needs_background": "light"
     },
     "output_type": "display_data"
    }
   ],
   "source": [
    "fig = plt.figure()\n",
    "ax_acc = fig.add_subplot(111)\n",
    "ax_acc.plot(epochs, val_acc, 'r', label='Validation acc')\n",
    "plt.legend(bbox_to_anchor=(0, 1), loc='upper left', borderaxespad=0.5, fontsize=10)\n",
    "ax_loss = ax_acc.twinx()\n",
    "ax_loss.plot(epochs, val_loss, 'b', label='Validation loss')\n",
    "plt.legend(bbox_to_anchor=(0, 0.9), loc='upper left', borderaxespad=0.5, fontsize=10)\n",
    "plt.title('Validation acc and Validation loss')\n",
    "ax_acc.set_xlabel('epochs')\n",
    "ax_acc.set_ylabel('Validation acc')\n",
    "ax_loss.grid(True)\n",
    "ax_loss.set_ylabel('Validation loss')\n",
    "plt.savefig(\"Datas/Figs/C/val_acc_loss.png\")\n",
    "plt.show()"
   ]
  },
  {
   "cell_type": "code",
   "execution_count": null,
   "metadata": {
    "lines_to_next_cell": 2
   },
   "outputs": [],
   "source": []
  }
 ],
 "metadata": {
  "jupytext": {
   "encoding": "# -*- coding: utf-8 -*-",
   "text_representation": {
    "extension": ".py",
    "format_name": "light",
    "format_version": "1.5",
    "jupytext_version": "1.3.0"
   }
  },
  "kernelspec": {
   "display_name": "Python 3",
   "language": "python",
   "name": "python3"
  },
  "language_info": {
   "codemirror_mode": {
    "name": "ipython",
    "version": 3
   },
   "file_extension": ".py",
   "mimetype": "text/x-python",
   "name": "python",
   "nbconvert_exporter": "python",
   "pygments_lexer": "ipython3",
   "version": "3.6.7"
  }
 },
 "nbformat": 4,
 "nbformat_minor": 2
}
