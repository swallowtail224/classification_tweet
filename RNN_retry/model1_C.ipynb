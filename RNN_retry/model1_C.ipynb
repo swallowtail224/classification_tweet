{
 "cells": [
  {
   "cell_type": "code",
   "execution_count": 1,
   "metadata": {},
   "outputs": [
    {
     "name": "stderr",
     "output_type": "stream",
     "text": [
      "Using TensorFlow backend.\n",
      "G:\\ganda\\conda\\tensorflow_test\\lib\\site-packages\\gensim\\utils.py:1197: UserWarning: detected Windows; aliasing chunkize to chunkize_serial\n",
      "  warnings.warn(\"detected Windows; aliasing chunkize to chunkize_serial\")\n"
     ]
    }
   ],
   "source": [
    "from keras.layers import Input, Dense, Embedding, LSTM, Dropout, concatenate\n",
    "from keras.models import Model\n",
    "from keras.callbacks import EarlyStopping\n",
    "from keras.utils import plot_model\n",
    "from keras.preprocessing.text import Tokenizer\n",
    "from keras.preprocessing.sequence import pad_sequences\n",
    "import numpy as np\n",
    "from keras.utils.np_utils import to_categorical\n",
    "import keras.backend as K\n",
    "from functools import partial\n",
    "import pandas as pd\n",
    "from gensim.models import word2vec\n",
    "from keras.optimizers import Adam"
   ]
  },
  {
   "cell_type": "code",
   "execution_count": 2,
   "metadata": {},
   "outputs": [],
   "source": [
    "def normalize_y_pred(y_pred):\n",
    "    return K.one_hot(K.argmax(y_pred), y_pred.shape[-1])\n",
    "\n",
    "def class_true_positive(class_label, y_true, y_pred):\n",
    "    y_pred = normalize_y_pred(y_pred)\n",
    "    return K.cast(K.equal(y_true[:, class_label] + y_pred[:, class_label], 2), K.floatx())\n",
    "\n",
    "def class_accuracy(class_label, y_true, y_pred):\n",
    "    y_pred = normalize_y_pred(y_pred)\n",
    "    return K.cast(K.equal(y_true[:, class_label], y_pred[:, class_label]),\n",
    "                  K.floatx())\n",
    "\n",
    "def class_precision(class_label, y_true, y_pred):\n",
    "    y_pred = normalize_y_pred(y_pred)\n",
    "    return K.sum(class_true_positive(class_label, y_true, y_pred)) / (K.sum(y_pred[:, class_label]) + K.epsilon())\n",
    "\n",
    "\n",
    "def class_recall(class_label, y_true, y_pred):\n",
    "    return K.sum(class_true_positive(class_label, y_true, y_pred)) / (K.sum(y_true[:, class_label]) + K.epsilon())\n",
    "\n",
    "\n",
    "def class_f_measure(class_label, y_true, y_pred):\n",
    "    precision = class_precision(class_label, y_true, y_pred)\n",
    "    recall = class_recall(class_label, y_true, y_pred)\n",
    "    return (2 * precision * recall) / (precision + recall + K.epsilon())\n",
    "\n",
    "\n",
    "def true_positive(y_true, y_pred):\n",
    "    y_pred = normalize_y_pred(y_pred)\n",
    "    return K.cast(K.equal(y_true + y_pred, 2),\n",
    "                  K.floatx())\n",
    "\n",
    "\n",
    "def micro_precision(y_true, y_pred):\n",
    "    y_pred = normalize_y_pred(y_pred)\n",
    "    return K.sum(true_positive(y_true, y_pred)) / (K.sum(y_pred) + K.epsilon())\n",
    "\n",
    "\n",
    "def micro_recall(y_true, y_pred):\n",
    "    return K.sum(true_positive(y_true, y_pred)) / (K.sum(y_true) + K.epsilon())\n",
    "\n",
    "\n",
    "def micro_f_measure(y_true, y_pred):\n",
    "    precision = micro_precision(y_true, y_pred)\n",
    "    recall = micro_recall(y_true, y_pred)\n",
    "    return (2 * precision * recall) / (precision + recall + K.epsilon())\n",
    "\n",
    "\n",
    "def average_accuracy(y_true, y_pred):\n",
    "    class_count = y_pred.shape[-1]\n",
    "    class_acc_list = [class_accuracy(i, y_true, y_pred) for i in range(class_count)]\n",
    "    class_acc_matrix = K.concatenate(class_acc_list, axis=0)\n",
    "    return K.mean(class_acc_matrix, axis=0)\n",
    "\n",
    "\n",
    "def macro_precision(y_true, y_pred):\n",
    "    class_count = y_pred.shape[-1]\n",
    "    return K.sum([class_precision(i, y_true, y_pred) for i in range(class_count)]) / K.cast(class_count, K.floatx())\n",
    "\n",
    "\n",
    "def macro_recall(y_true, y_pred):\n",
    "    class_count = y_pred.shape[-1]\n",
    "    return K.sum([class_recall(i, y_true, y_pred) for i in range(class_count)]) / K.cast(class_count, K.floatx())\n",
    "\n",
    "\n",
    "def macro_f_measure(y_true, y_pred):\n",
    "    precision = macro_precision(y_true, y_pred)\n",
    "    recall = macro_recall(y_true, y_pred)\n",
    "    return (2 * precision * recall) / (precision + recall + K.epsilon())\n",
    "\n",
    "def weight_variable(shape):\n",
    "    return K.truncated_normal(shape, stddev = 0.01)"
   ]
  },
  {
   "cell_type": "code",
   "execution_count": 3,
   "metadata": {},
   "outputs": [
    {
     "name": "stdout",
     "output_type": "stream",
     "text": [
      "20000\n",
      "<class 'pandas.core.frame.DataFrame'>\n",
      "RangeIndex: 20000 entries, 0 to 19999\n",
      "Data columns (total 12 columns):\n",
      "screen_name    20000 non-null object\n",
      "user_id        20000 non-null float64\n",
      "tweet_id       20000 non-null float64\n",
      "tweet          20000 non-null object\n",
      "tweet2         20000 non-null object\n",
      "postdate       20000 non-null object\n",
      "cos_day        20000 non-null float64\n",
      "sin_day        20000 non-null float64\n",
      "tag            20000 non-null object\n",
      "image_url      20000 non-null object\n",
      "image          20000 non-null int64\n",
      "retweet        20000 non-null float64\n",
      "dtypes: float64(5), int64(1), object(6)\n",
      "memory usage: 1.8+ MB\n"
     ]
    }
   ],
   "source": [
    "#学習済みモデルのロード\n",
    "embeddings_model = word2vec.Word2Vec.load('Datas/Word2Vec_model/dC.model')\n",
    "#データの読み込み\n",
    "use_data = pd.read_csv(filepath_or_buffer=\"Datas/pickup_data.csv\", encoding=\"utf_8\", sep=\",\")\n",
    "print(len(use_data))\n",
    "use_data.info()"
   ]
  },
  {
   "cell_type": "code",
   "execution_count": 4,
   "metadata": {},
   "outputs": [
    {
     "name": "stdout",
     "output_type": "stream",
     "text": [
      "Found 20281 unique tokens.\n"
     ]
    },
    {
     "name": "stderr",
     "output_type": "stream",
     "text": [
      "G:\\ganda\\conda\\tensorflow_test\\lib\\site-packages\\ipykernel_launcher.py:22: DeprecationWarning: Call to deprecated `__getitem__` (Method will be removed in 4.0.0, use self.wv.__getitem__() instead).\n"
     ]
    },
    {
     "name": "stdout",
     "output_type": "stream",
     "text": [
      "Shape of data tensor:(20000, 50)\n",
      "Shape of label tensor:(20000, 2)\n"
     ]
    }
   ],
   "source": [
    "maxlen = 50\n",
    "train = 0.7\n",
    "validation = 0.1\n",
    "max_words = 25000\n",
    "\n",
    "#データをランダムにシャッフル\n",
    "use_data_s = use_data.sample(frac=1, random_state=150)\n",
    "\n",
    "# word indexを作成\n",
    "tokenizer = Tokenizer(num_words=max_words)\n",
    "tokenizer.fit_on_texts(use_data_s['tweet2'])\n",
    "sequences = tokenizer.texts_to_sequences(use_data_s['tweet2'])\n",
    "\n",
    "word_index = tokenizer.word_index\n",
    "num_words = len(word_index)\n",
    "\n",
    "print(\"Found {} unique tokens.\".format(len(word_index)))\n",
    "\n",
    "embedding_matrix = np.zeros((num_words+1, 50))\n",
    "for word, i in word_index.items():\n",
    "    if word in embeddings_model.wv.index2word:\n",
    "        embedding_matrix[i] = embeddings_model[word]\n",
    "\n",
    "data = pad_sequences(sequences, maxlen=maxlen)\n",
    "\n",
    "# バイナリの行列に変換\n",
    "categorical_labels = to_categorical(use_data_s['retweet'])\n",
    "labels = np.asarray(categorical_labels)\n",
    "\n",
    "print(\"Shape of data tensor:{}\".format(data.shape))\n",
    "print(\"Shape of label tensor:{}\".format(labels.shape))\n",
    "\n",
    "indices = [int(len(labels) * n) for n in [train, train + validation]]\n",
    "x_train, x_val, x_test = np.split(data, indices)\n",
    "y_train, y_val, y_test = np.split(labels, indices)"
   ]
  },
  {
   "cell_type": "code",
   "execution_count": 5,
   "metadata": {},
   "outputs": [
    {
     "name": "stdout",
     "output_type": "stream",
     "text": [
      "_________________________________________________________________\n",
      "Layer (type)                 Output Shape              Param #   \n",
      "=================================================================\n",
      "input_postText (InputLayer)  (None, 50)                0         \n",
      "_________________________________________________________________\n",
      "embedding_1 (Embedding)      (None, 50, 50)            1014100   \n",
      "_________________________________________________________________\n",
      "dropout_1 (Dropout)          (None, 50, 50)            0         \n",
      "_________________________________________________________________\n",
      "lstm_1 (LSTM)                (None, 32)                10624     \n",
      "_________________________________________________________________\n",
      "dropout_2 (Dropout)          (None, 32)                0         \n",
      "_________________________________________________________________\n",
      "output (Dense)               (None, 2)                 66        \n",
      "=================================================================\n",
      "Total params: 1,024,790\n",
      "Trainable params: 10,690\n",
      "Non-trainable params: 1,014,100\n",
      "_________________________________________________________________\n"
     ]
    }
   ],
   "source": [
    "p_input = Input(shape=(50, ), dtype='int32', name='input_postText')\n",
    "\n",
    "em = Embedding(input_dim=num_words+1, output_dim=50, input_length=50, weights=[embedding_matrix], trainable=False)(p_input)\n",
    "d_em = Dropout(0.5)(em)\n",
    "lstm_out = LSTM(32, kernel_initializer=weight_variable)(d_em)\n",
    "d_lstm_out = Dropout(0.5)(lstm_out)\n",
    "output = Dense(2, activation='softmax', name = 'output')(d_lstm_out)\n",
    "\n",
    "model = Model(inputs=p_input, outputs = output)\n",
    "optimizer = Adam(lr=1e-4)\n",
    "model.compile(optimizer=optimizer, loss='categorical_crossentropy',  metrics=['acc', macro_precision, macro_recall, macro_f_measure])\n",
    "model.summary()\n",
    "#plot_model(model, show_shapes=True, show_layer_names=True, to_file='model_image/model1.png')\n",
    "\n",
    "early_stopping = EarlyStopping(patience=5, verbose=1)"
   ]
  },
  {
   "cell_type": "code",
   "execution_count": 6,
   "metadata": {},
   "outputs": [
    {
     "name": "stdout",
     "output_type": "stream",
     "text": [
      "Train on 14000 samples, validate on 1999 samples\n",
      "Epoch 1/100\n",
      "14000/14000 [==============================] - 6s 422us/step - loss: 0.6802 - acc: 0.5538 - macro_precision: 0.5581 - macro_recall: 0.5545 - macro_f_measure: 0.5563 - val_loss: 0.6682 - val_acc: 0.6093 - val_macro_precision: 0.6132 - val_macro_recall: 0.6100 - val_macro_f_measure: 0.6116\n",
      "Epoch 2/100\n",
      "14000/14000 [==============================] - 5s 335us/step - loss: 0.6496 - acc: 0.6216 - macro_precision: 0.6233 - macro_recall: 0.6209 - macro_f_measure: 0.6221 - val_loss: 0.6386 - val_acc: 0.6393 - val_macro_precision: 0.6644 - val_macro_recall: 0.6375 - val_macro_f_measure: 0.6506\n",
      "Epoch 3/100\n",
      "14000/14000 [==============================] - 5s 328us/step - loss: 0.6197 - acc: 0.6424 - macro_precision: 0.6703 - macro_recall: 0.6424 - macro_f_measure: 0.6561 - val_loss: 0.6097 - val_acc: 0.6588 - val_macro_precision: 0.6979 - val_macro_recall: 0.6563 - val_macro_f_measure: 0.6763\n",
      "Epoch 4/100\n",
      "14000/14000 [==============================] - 5s 329us/step - loss: 0.5915 - acc: 0.6694 - macro_precision: 0.6948 - macro_recall: 0.6690 - macro_f_measure: 0.6816 - val_loss: 0.5791 - val_acc: 0.6993 - val_macro_precision: 0.7147 - val_macro_recall: 0.6978 - val_macro_f_measure: 0.7061\n",
      "Epoch 5/100\n",
      "14000/14000 [==============================] - 5s 335us/step - loss: 0.5697 - acc: 0.7013 - macro_precision: 0.7091 - macro_recall: 0.7019 - macro_f_measure: 0.7055 - val_loss: 0.5649 - val_acc: 0.7144 - val_macro_precision: 0.7231 - val_macro_recall: 0.7128 - val_macro_f_measure: 0.7179\n",
      "Epoch 6/100\n",
      "14000/14000 [==============================] - 5s 331us/step - loss: 0.5591 - acc: 0.7064 - macro_precision: 0.7090 - macro_recall: 0.7063 - macro_f_measure: 0.7077 - val_loss: 0.5579 - val_acc: 0.7199 - val_macro_precision: 0.7215 - val_macro_recall: 0.7186 - val_macro_f_measure: 0.7201\n",
      "Epoch 7/100\n",
      "14000/14000 [==============================] - 5s 328us/step - loss: 0.5563 - acc: 0.7096 - macro_precision: 0.7107 - macro_recall: 0.7095 - macro_f_measure: 0.7101 - val_loss: 0.5550 - val_acc: 0.7254 - val_macro_precision: 0.7269 - val_macro_recall: 0.7242 - val_macro_f_measure: 0.7255\n",
      "Epoch 8/100\n",
      "14000/14000 [==============================] - 5s 325us/step - loss: 0.5520 - acc: 0.7106 - macro_precision: 0.7127 - macro_recall: 0.7104 - macro_f_measure: 0.7116 - val_loss: 0.5525 - val_acc: 0.7184 - val_macro_precision: 0.7206 - val_macro_recall: 0.7170 - val_macro_f_measure: 0.7188\n",
      "Epoch 9/100\n",
      "14000/14000 [==============================] - 5s 339us/step - loss: 0.5485 - acc: 0.7161 - macro_precision: 0.7177 - macro_recall: 0.7160 - macro_f_measure: 0.7169 - val_loss: 0.5502 - val_acc: 0.7189 - val_macro_precision: 0.7202 - val_macro_recall: 0.7176 - val_macro_f_measure: 0.7189\n",
      "Epoch 10/100\n",
      "14000/14000 [==============================] - 5s 333us/step - loss: 0.5458 - acc: 0.7203 - macro_precision: 0.7224 - macro_recall: 0.7205 - macro_f_measure: 0.7214 - val_loss: 0.5486 - val_acc: 0.7174 - val_macro_precision: 0.7182 - val_macro_recall: 0.7162 - val_macro_f_measure: 0.7172\n",
      "Epoch 11/100\n",
      "14000/14000 [==============================] - 5s 342us/step - loss: 0.5466 - acc: 0.7186 - macro_precision: 0.7204 - macro_recall: 0.7187 - macro_f_measure: 0.7196 - val_loss: 0.5473 - val_acc: 0.7124 - val_macro_precision: 0.7122 - val_macro_recall: 0.7114 - val_macro_f_measure: 0.7118\n",
      "Epoch 12/100\n",
      "14000/14000 [==============================] - 5s 338us/step - loss: 0.5415 - acc: 0.7193 - macro_precision: 0.7218 - macro_recall: 0.7194 - macro_f_measure: 0.7206 - val_loss: 0.5461 - val_acc: 0.7174 - val_macro_precision: 0.7175 - val_macro_recall: 0.7163 - val_macro_f_measure: 0.7169\n",
      "Epoch 13/100\n",
      "14000/14000 [==============================] - 5s 337us/step - loss: 0.5431 - acc: 0.7167 - macro_precision: 0.7185 - macro_recall: 0.7166 - macro_f_measure: 0.7176 - val_loss: 0.5455 - val_acc: 0.7199 - val_macro_precision: 0.7220 - val_macro_recall: 0.7187 - val_macro_f_measure: 0.7204\n",
      "Epoch 14/100\n",
      "14000/14000 [==============================] - 5s 325us/step - loss: 0.5408 - acc: 0.7206 - macro_precision: 0.7228 - macro_recall: 0.7203 - macro_f_measure: 0.7216 - val_loss: 0.5439 - val_acc: 0.7174 - val_macro_precision: 0.7175 - val_macro_recall: 0.7164 - val_macro_f_measure: 0.7169\n",
      "Epoch 15/100\n",
      "14000/14000 [==============================] - 5s 334us/step - loss: 0.5405 - acc: 0.7201 - macro_precision: 0.7219 - macro_recall: 0.7197 - macro_f_measure: 0.7208 - val_loss: 0.5429 - val_acc: 0.7264 - val_macro_precision: 0.7295 - val_macro_recall: 0.7251 - val_macro_f_measure: 0.7273\n",
      "Epoch 16/100\n",
      "14000/14000 [==============================] - 5s 330us/step - loss: 0.5399 - acc: 0.7206 - macro_precision: 0.7232 - macro_recall: 0.7203 - macro_f_measure: 0.7217 - val_loss: 0.5418 - val_acc: 0.7209 - val_macro_precision: 0.7225 - val_macro_recall: 0.7197 - val_macro_f_measure: 0.7211\n",
      "Epoch 17/100\n",
      "14000/14000 [==============================] - 5s 330us/step - loss: 0.5377 - acc: 0.7249 - macro_precision: 0.7271 - macro_recall: 0.7252 - macro_f_measure: 0.7261 - val_loss: 0.5413 - val_acc: 0.7279 - val_macro_precision: 0.7314 - val_macro_recall: 0.7265 - val_macro_f_measure: 0.7289\n",
      "Epoch 18/100\n",
      "14000/14000 [==============================] - 5s 329us/step - loss: 0.5366 - acc: 0.7246 - macro_precision: 0.7269 - macro_recall: 0.7243 - macro_f_measure: 0.7256 - val_loss: 0.5411 - val_acc: 0.7284 - val_macro_precision: 0.7331 - val_macro_recall: 0.7270 - val_macro_f_measure: 0.7300\n",
      "Epoch 19/100\n",
      "14000/14000 [==============================] - 5s 330us/step - loss: 0.5370 - acc: 0.7196 - macro_precision: 0.7219 - macro_recall: 0.7195 - macro_f_measure: 0.7207 - val_loss: 0.5401 - val_acc: 0.7294 - val_macro_precision: 0.7335 - val_macro_recall: 0.7280 - val_macro_f_measure: 0.7308\n",
      "Epoch 20/100\n",
      "14000/14000 [==============================] - 5s 333us/step - loss: 0.5316 - acc: 0.7257 - macro_precision: 0.7284 - macro_recall: 0.7258 - macro_f_measure: 0.7271 - val_loss: 0.5397 - val_acc: 0.7284 - val_macro_precision: 0.7336 - val_macro_recall: 0.7270 - val_macro_f_measure: 0.7303\n",
      "Epoch 21/100\n",
      "14000/14000 [==============================] - 5s 331us/step - loss: 0.5341 - acc: 0.7260 - macro_precision: 0.7281 - macro_recall: 0.7260 - macro_f_measure: 0.7270 - val_loss: 0.5374 - val_acc: 0.7249 - val_macro_precision: 0.7272 - val_macro_recall: 0.7236 - val_macro_f_measure: 0.7254\n",
      "Epoch 22/100\n",
      "14000/14000 [==============================] - 5s 330us/step - loss: 0.5342 - acc: 0.7244 - macro_precision: 0.7258 - macro_recall: 0.7243 - macro_f_measure: 0.7250 - val_loss: 0.5378 - val_acc: 0.7284 - val_macro_precision: 0.7332 - val_macro_recall: 0.7270 - val_macro_f_measure: 0.7301\n",
      "Epoch 23/100\n",
      "14000/14000 [==============================] - 5s 323us/step - loss: 0.5336 - acc: 0.7224 - macro_precision: 0.7253 - macro_recall: 0.7223 - macro_f_measure: 0.7238 - val_loss: 0.5373 - val_acc: 0.7289 - val_macro_precision: 0.7338 - val_macro_recall: 0.7274 - val_macro_f_measure: 0.7306\n",
      "Epoch 24/100\n",
      "14000/14000 [==============================] - 5s 327us/step - loss: 0.5344 - acc: 0.7224 - macro_precision: 0.7244 - macro_recall: 0.7221 - macro_f_measure: 0.7233 - val_loss: 0.5372 - val_acc: 0.7269 - val_macro_precision: 0.7324 - val_macro_recall: 0.7253 - val_macro_f_measure: 0.7288\n",
      "Epoch 25/100\n",
      "14000/14000 [==============================] - 5s 327us/step - loss: 0.5294 - acc: 0.7249 - macro_precision: 0.7276 - macro_recall: 0.7250 - macro_f_measure: 0.7263 - val_loss: 0.5345 - val_acc: 0.7234 - val_macro_precision: 0.7238 - val_macro_recall: 0.7223 - val_macro_f_measure: 0.7230\n",
      "Epoch 26/100\n",
      "14000/14000 [==============================] - 5s 332us/step - loss: 0.5311 - acc: 0.7297 - macro_precision: 0.7328 - macro_recall: 0.7302 - macro_f_measure: 0.7315 - val_loss: 0.5339 - val_acc: 0.7274 - val_macro_precision: 0.7287 - val_macro_recall: 0.7262 - val_macro_f_measure: 0.7275\n",
      "Epoch 27/100\n",
      "14000/14000 [==============================] - 5s 325us/step - loss: 0.5310 - acc: 0.7268 - macro_precision: 0.7294 - macro_recall: 0.7271 - macro_f_measure: 0.7282 - val_loss: 0.5363 - val_acc: 0.7334 - val_macro_precision: 0.7403 - val_macro_recall: 0.7318 - val_macro_f_measure: 0.7360\n"
     ]
    },
    {
     "name": "stdout",
     "output_type": "stream",
     "text": [
      "Epoch 28/100\n",
      "14000/14000 [==============================] - 5s 326us/step - loss: 0.5315 - acc: 0.7244 - macro_precision: 0.7276 - macro_recall: 0.7246 - macro_f_measure: 0.7261 - val_loss: 0.5342 - val_acc: 0.7314 - val_macro_precision: 0.7359 - val_macro_recall: 0.7301 - val_macro_f_measure: 0.7330\n",
      "Epoch 29/100\n",
      "14000/14000 [==============================] - 5s 331us/step - loss: 0.5280 - acc: 0.7260 - macro_precision: 0.7287 - macro_recall: 0.7257 - macro_f_measure: 0.7272 - val_loss: 0.5326 - val_acc: 0.7324 - val_macro_precision: 0.7360 - val_macro_recall: 0.7313 - val_macro_f_measure: 0.7336\n",
      "Epoch 30/100\n",
      "14000/14000 [==============================] - 5s 324us/step - loss: 0.5328 - acc: 0.7229 - macro_precision: 0.7256 - macro_recall: 0.7226 - macro_f_measure: 0.7241 - val_loss: 0.5313 - val_acc: 0.7289 - val_macro_precision: 0.7305 - val_macro_recall: 0.7278 - val_macro_f_measure: 0.7292\n",
      "Epoch 31/100\n",
      "14000/14000 [==============================] - 5s 324us/step - loss: 0.5293 - acc: 0.7206 - macro_precision: 0.7229 - macro_recall: 0.7204 - macro_f_measure: 0.7216 - val_loss: 0.5312 - val_acc: 0.7304 - val_macro_precision: 0.7320 - val_macro_recall: 0.7294 - val_macro_f_measure: 0.7307\n",
      "Epoch 32/100\n",
      "14000/14000 [==============================] - 5s 329us/step - loss: 0.5325 - acc: 0.7263 - macro_precision: 0.7296 - macro_recall: 0.7266 - macro_f_measure: 0.7281 - val_loss: 0.5322 - val_acc: 0.7314 - val_macro_precision: 0.7356 - val_macro_recall: 0.7302 - val_macro_f_measure: 0.7329\n",
      "Epoch 33/100\n",
      "14000/14000 [==============================] - 5s 335us/step - loss: 0.5299 - acc: 0.7230 - macro_precision: 0.7253 - macro_recall: 0.7229 - macro_f_measure: 0.7241 - val_loss: 0.5315 - val_acc: 0.7354 - val_macro_precision: 0.7404 - val_macro_recall: 0.7340 - val_macro_f_measure: 0.7372\n",
      "Epoch 34/100\n",
      "14000/14000 [==============================] - 5s 327us/step - loss: 0.5278 - acc: 0.7257 - macro_precision: 0.7289 - macro_recall: 0.7258 - macro_f_measure: 0.7273 - val_loss: 0.5305 - val_acc: 0.7379 - val_macro_precision: 0.7430 - val_macro_recall: 0.7364 - val_macro_f_measure: 0.7397\n",
      "Epoch 35/100\n",
      "14000/14000 [==============================] - 5s 329us/step - loss: 0.5282 - acc: 0.7279 - macro_precision: 0.7316 - macro_recall: 0.7278 - macro_f_measure: 0.7297 - val_loss: 0.5302 - val_acc: 0.7334 - val_macro_precision: 0.7371 - val_macro_recall: 0.7320 - val_macro_f_measure: 0.7346\n",
      "Epoch 36/100\n",
      "14000/14000 [==============================] - 5s 332us/step - loss: 0.5231 - acc: 0.7283 - macro_precision: 0.7309 - macro_recall: 0.7287 - macro_f_measure: 0.7298 - val_loss: 0.5294 - val_acc: 0.7339 - val_macro_precision: 0.7384 - val_macro_recall: 0.7325 - val_macro_f_measure: 0.7354\n",
      "Epoch 37/100\n",
      "14000/14000 [==============================] - 5s 329us/step - loss: 0.5272 - acc: 0.7281 - macro_precision: 0.7306 - macro_recall: 0.7281 - macro_f_measure: 0.7294 - val_loss: 0.5292 - val_acc: 0.7344 - val_macro_precision: 0.7384 - val_macro_recall: 0.7330 - val_macro_f_measure: 0.7357\n",
      "Epoch 38/100\n",
      "14000/14000 [==============================] - 5s 331us/step - loss: 0.5251 - acc: 0.7335 - macro_precision: 0.7367 - macro_recall: 0.7332 - macro_f_measure: 0.7350 - val_loss: 0.5284 - val_acc: 0.7314 - val_macro_precision: 0.7345 - val_macro_recall: 0.7301 - val_macro_f_measure: 0.7323\n",
      "Epoch 39/100\n",
      "14000/14000 [==============================] - 5s 331us/step - loss: 0.5235 - acc: 0.7329 - macro_precision: 0.7367 - macro_recall: 0.7330 - macro_f_measure: 0.7348 - val_loss: 0.5293 - val_acc: 0.7374 - val_macro_precision: 0.7441 - val_macro_recall: 0.7358 - val_macro_f_measure: 0.7399\n",
      "Epoch 40/100\n",
      "14000/14000 [==============================] - 5s 336us/step - loss: 0.5225 - acc: 0.7286 - macro_precision: 0.7315 - macro_recall: 0.7286 - macro_f_measure: 0.7300 - val_loss: 0.5279 - val_acc: 0.7384 - val_macro_precision: 0.7441 - val_macro_recall: 0.7369 - val_macro_f_measure: 0.7404\n",
      "Epoch 41/100\n",
      "14000/14000 [==============================] - 5s 335us/step - loss: 0.5237 - acc: 0.7336 - macro_precision: 0.7374 - macro_recall: 0.7331 - macro_f_measure: 0.7353 - val_loss: 0.5275 - val_acc: 0.7379 - val_macro_precision: 0.7428 - val_macro_recall: 0.7365 - val_macro_f_measure: 0.7396\n",
      "Epoch 42/100\n",
      "14000/14000 [==============================] - 5s 331us/step - loss: 0.5224 - acc: 0.7306 - macro_precision: 0.7338 - macro_recall: 0.7310 - macro_f_measure: 0.7324 - val_loss: 0.5269 - val_acc: 0.7379 - val_macro_precision: 0.7417 - val_macro_recall: 0.7366 - val_macro_f_measure: 0.7392\n",
      "Epoch 43/100\n",
      "14000/14000 [==============================] - 5s 338us/step - loss: 0.5239 - acc: 0.7285 - macro_precision: 0.7316 - macro_recall: 0.7286 - macro_f_measure: 0.7301 - val_loss: 0.5266 - val_acc: 0.7399 - val_macro_precision: 0.7437 - val_macro_recall: 0.7386 - val_macro_f_measure: 0.7411\n",
      "Epoch 44/100\n",
      "14000/14000 [==============================] - 5s 337us/step - loss: 0.5225 - acc: 0.7298 - macro_precision: 0.7333 - macro_recall: 0.7301 - macro_f_measure: 0.7317 - val_loss: 0.5266 - val_acc: 0.7414 - val_macro_precision: 0.7467 - val_macro_recall: 0.7400 - val_macro_f_measure: 0.7433\n",
      "Epoch 45/100\n",
      "14000/14000 [==============================] - 5s 330us/step - loss: 0.5234 - acc: 0.7305 - macro_precision: 0.7346 - macro_recall: 0.7303 - macro_f_measure: 0.7324 - val_loss: 0.5271 - val_acc: 0.7389 - val_macro_precision: 0.7440 - val_macro_recall: 0.7374 - val_macro_f_measure: 0.7407\n",
      "Epoch 46/100\n",
      "14000/14000 [==============================] - 5s 336us/step - loss: 0.5225 - acc: 0.7338 - macro_precision: 0.7367 - macro_recall: 0.7337 - macro_f_measure: 0.7352 - val_loss: 0.5269 - val_acc: 0.7394 - val_macro_precision: 0.7441 - val_macro_recall: 0.7381 - val_macro_f_measure: 0.7411\n",
      "Epoch 47/100\n",
      "14000/14000 [==============================] - 5s 324us/step - loss: 0.5204 - acc: 0.7354 - macro_precision: 0.7387 - macro_recall: 0.7356 - macro_f_measure: 0.7371 - val_loss: 0.5253 - val_acc: 0.7364 - val_macro_precision: 0.7376 - val_macro_recall: 0.7355 - val_macro_f_measure: 0.7365\n",
      "Epoch 48/100\n",
      "14000/14000 [==============================] - 5s 326us/step - loss: 0.5207 - acc: 0.7323 - macro_precision: 0.7351 - macro_recall: 0.7319 - macro_f_measure: 0.7335 - val_loss: 0.5258 - val_acc: 0.7414 - val_macro_precision: 0.7470 - val_macro_recall: 0.7399 - val_macro_f_measure: 0.7434\n",
      "Epoch 49/100\n",
      "14000/14000 [==============================] - 5s 328us/step - loss: 0.5222 - acc: 0.7305 - macro_precision: 0.7340 - macro_recall: 0.7308 - macro_f_measure: 0.7324 - val_loss: 0.5261 - val_acc: 0.7389 - val_macro_precision: 0.7440 - val_macro_recall: 0.7375 - val_macro_f_measure: 0.7407\n",
      "Epoch 50/100\n",
      "14000/14000 [==============================] - 5s 327us/step - loss: 0.5189 - acc: 0.7342 - macro_precision: 0.7377 - macro_recall: 0.7347 - macro_f_measure: 0.7362 - val_loss: 0.5281 - val_acc: 0.7414 - val_macro_precision: 0.7496 - val_macro_recall: 0.7398 - val_macro_f_measure: 0.7447\n",
      "Epoch 51/100\n",
      "14000/14000 [==============================] - 5s 331us/step - loss: 0.5235 - acc: 0.7291 - macro_precision: 0.7334 - macro_recall: 0.7287 - macro_f_measure: 0.7310 - val_loss: 0.5248 - val_acc: 0.7354 - val_macro_precision: 0.7393 - val_macro_recall: 0.7341 - val_macro_f_measure: 0.7367\n",
      "Epoch 52/100\n",
      "14000/14000 [==============================] - 5s 326us/step - loss: 0.5185 - acc: 0.7369 - macro_precision: 0.7415 - macro_recall: 0.7371 - macro_f_measure: 0.7393 - val_loss: 0.5262 - val_acc: 0.7434 - val_macro_precision: 0.7506 - val_macro_recall: 0.7418 - val_macro_f_measure: 0.7462\n",
      "Epoch 53/100\n",
      "14000/14000 [==============================] - 5s 332us/step - loss: 0.5212 - acc: 0.7325 - macro_precision: 0.7373 - macro_recall: 0.7328 - macro_f_measure: 0.7350 - val_loss: 0.5255 - val_acc: 0.7374 - val_macro_precision: 0.7416 - val_macro_recall: 0.7360 - val_macro_f_measure: 0.7388\n",
      "Epoch 54/100\n",
      "14000/14000 [==============================] - 5s 322us/step - loss: 0.5194 - acc: 0.7347 - macro_precision: 0.7377 - macro_recall: 0.7348 - macro_f_measure: 0.7363 - val_loss: 0.5238 - val_acc: 0.7374 - val_macro_precision: 0.7404 - val_macro_recall: 0.7363 - val_macro_f_measure: 0.7383\n",
      "Epoch 55/100\n"
     ]
    },
    {
     "name": "stdout",
     "output_type": "stream",
     "text": [
      "14000/14000 [==============================] - 5s 328us/step - loss: 0.5204 - acc: 0.7356 - macro_precision: 0.7401 - macro_recall: 0.7349 - macro_f_measure: 0.7375 - val_loss: 0.5240 - val_acc: 0.7424 - val_macro_precision: 0.7485 - val_macro_recall: 0.7408 - val_macro_f_measure: 0.7446\n",
      "Epoch 56/100\n",
      "14000/14000 [==============================] - 5s 325us/step - loss: 0.5185 - acc: 0.7344 - macro_precision: 0.7378 - macro_recall: 0.7345 - macro_f_measure: 0.7362 - val_loss: 0.5229 - val_acc: 0.7364 - val_macro_precision: 0.7395 - val_macro_recall: 0.7351 - val_macro_f_measure: 0.7373\n",
      "Epoch 57/100\n",
      "14000/14000 [==============================] - 5s 328us/step - loss: 0.5164 - acc: 0.7344 - macro_precision: 0.7388 - macro_recall: 0.7346 - macro_f_measure: 0.7366 - val_loss: 0.5222 - val_acc: 0.7319 - val_macro_precision: 0.7339 - val_macro_recall: 0.7308 - val_macro_f_measure: 0.7323\n",
      "Epoch 58/100\n",
      "14000/14000 [==============================] - 5s 323us/step - loss: 0.5165 - acc: 0.7306 - macro_precision: 0.7342 - macro_recall: 0.7311 - macro_f_measure: 0.7327 - val_loss: 0.5263 - val_acc: 0.7389 - val_macro_precision: 0.7488 - val_macro_recall: 0.7371 - val_macro_f_measure: 0.7429\n",
      "Epoch 59/100\n",
      "14000/14000 [==============================] - 5s 323us/step - loss: 0.5143 - acc: 0.7386 - macro_precision: 0.7431 - macro_recall: 0.7387 - macro_f_measure: 0.7409 - val_loss: 0.5225 - val_acc: 0.7344 - val_macro_precision: 0.7373 - val_macro_recall: 0.7331 - val_macro_f_measure: 0.7352\n",
      "Epoch 60/100\n",
      "14000/14000 [==============================] - 5s 334us/step - loss: 0.5166 - acc: 0.7364 - macro_precision: 0.7395 - macro_recall: 0.7361 - macro_f_measure: 0.7378 - val_loss: 0.5234 - val_acc: 0.7429 - val_macro_precision: 0.7493 - val_macro_recall: 0.7413 - val_macro_f_measure: 0.7452\n",
      "Epoch 61/100\n",
      "14000/14000 [==============================] - 5s 336us/step - loss: 0.5160 - acc: 0.7344 - macro_precision: 0.7382 - macro_recall: 0.7343 - macro_f_measure: 0.7362 - val_loss: 0.5233 - val_acc: 0.7384 - val_macro_precision: 0.7433 - val_macro_recall: 0.7369 - val_macro_f_measure: 0.7401\n",
      "Epoch 62/100\n",
      "14000/14000 [==============================] - 5s 330us/step - loss: 0.5161 - acc: 0.7359 - macro_precision: 0.7396 - macro_recall: 0.7358 - macro_f_measure: 0.7377 - val_loss: 0.5239 - val_acc: 0.7394 - val_macro_precision: 0.7471 - val_macro_recall: 0.7378 - val_macro_f_measure: 0.7424\n",
      "Epoch 00062: early stopping\n"
     ]
    }
   ],
   "source": [
    "history = model.fit(x_train, y_train,\n",
    "                    epochs=100, \n",
    "                    batch_size=256,\n",
    "                    validation_data=(x_val, y_val),\n",
    "                    callbacks=[early_stopping])"
   ]
  },
  {
   "cell_type": "code",
   "execution_count": 7,
   "metadata": {},
   "outputs": [
    {
     "name": "stdout",
     "output_type": "stream",
     "text": [
      "4001/4001 [==============================] - 4s 891us/step\n",
      "[0.5061009049900075, 0.7408147963009247, 0.7464754299442937, 0.7421533083415156, 0.744178669448496]\n"
     ]
    }
   ],
   "source": [
    "loss_and_metrics = model.evaluate(x_test, y_test)\n",
    "print(loss_and_metrics)"
   ]
  },
  {
   "cell_type": "code",
   "execution_count": 8,
   "metadata": {},
   "outputs": [],
   "source": [
    "classes = model.predict(x_test)\n",
    "np.savetxt('Datas/result/model1_dC_predict.csv', classes, delimiter = ',')"
   ]
  },
  {
   "cell_type": "code",
   "execution_count": 11,
   "metadata": {},
   "outputs": [],
   "source": [
    "model.save('Datas/models/model1_dC.h5')"
   ]
  },
  {
   "cell_type": "code",
   "execution_count": 9,
   "metadata": {},
   "outputs": [
    {
     "data": {
      "text/plain": [
       "<Figure size 432x288 with 0 Axes>"
      ]
     },
     "execution_count": 9,
     "metadata": {},
     "output_type": "execute_result"
    },
    {
     "data": {
      "image/png": "[encoded data removed]",
      "text/plain": [
       "<Figure size 432x288 with 1 Axes>"
      ]
     },
     "metadata": {
      "needs_background": "light"
     },
     "output_type": "display_data"
    },
    {
     "data": {
      "image/png": "[encoded data removed]",
      "text/plain": [
       "<Figure size 432x288 with 1 Axes>"
      ]
     },
     "metadata": {
      "needs_background": "light"
     },
     "output_type": "display_data"
    },
    {
     "data": {
      "text/plain": [
       "<Figure size 432x288 with 0 Axes>"
      ]
     },
     "metadata": {},
     "output_type": "display_data"
    }
   ],
   "source": [
    "%matplotlib inline\n",
    "import matplotlib.pyplot as plt\n",
    "\n",
    "acc = history.history['acc']\n",
    "val_acc = history.history['val_acc']\n",
    "loss = history.history['loss']\n",
    "val_loss = history.history['val_loss']\n",
    "epochs = range(1, len(acc) + 1)\n",
    "\n",
    "plt.plot(epochs, acc, 'b--', label='Training acc')\n",
    "plt.plot(epochs, val_acc, 'b', label='Validation acc')\n",
    "plt.title('Training and validation accuracy')\n",
    "plt.legend()\n",
    "plt.savefig(\"Datas/Figs/C/test_and_val_acc.png\")\n",
    "\n",
    "plt.figure()\n",
    "\n",
    "plt.plot(epochs, loss, 'b--', label='Training loss')\n",
    "plt.plot(epochs, val_loss, 'b', label='Validation loss')\n",
    "plt.title('Training and validation loss')\n",
    "plt.legend()\n",
    "plt.savefig(\"Datas/Figs/C/test_and_val_loss.png\")\n",
    "\n",
    "plt.figure()"
   ]
  },
  {
   "cell_type": "code",
   "execution_count": 10,
   "metadata": {},
   "outputs": [
    {
     "data": {
      "image/png": "[encoded data removed]",
      "text/plain": [
       "<Figure size 432x288 with 2 Axes>"
      ]
     },
     "metadata": {
      "needs_background": "light"
     },
     "output_type": "display_data"
    }
   ],
   "source": [
    "fig = plt.figure()\n",
    "ax_acc = fig.add_subplot(111)\n",
    "ax_acc.plot(epochs, val_acc, 'r', label='Validation acc')\n",
    "plt.legend(bbox_to_anchor=(0, 1), loc='upper left', borderaxespad=0.5, fontsize=10)\n",
    "ax_loss = ax_acc.twinx()\n",
    "ax_loss.plot(epochs, val_loss, 'b', label='Validation loss')\n",
    "plt.legend(bbox_to_anchor=(0, 0.9), loc='upper left', borderaxespad=0.5, fontsize=10)\n",
    "plt.title('Validation acc and Validation loss')\n",
    "ax_acc.set_xlabel('epochs')\n",
    "ax_acc.set_ylabel('Validation acc')\n",
    "ax_loss.grid(True)\n",
    "ax_loss.set_ylabel('Validation loss')\n",
    "plt.savefig(\"Datas/Figs/C/val_acc_loss.png\")\n",
    "plt.show()"
   ]
  },
  {
   "cell_type": "code",
   "execution_count": null,
   "metadata": {
    "lines_to_next_cell": 2
   },
   "outputs": [],
   "source": []
  }
 ],
 "metadata": {
  "jupytext": {
   "encoding": "# -*- coding: utf-8 -*-",
   "text_representation": {
    "extension": ".py",
    "format_name": "light",
    "format_version": "1.5",
    "jupytext_version": "1.3.0"
   }
  },
  "kernelspec": {
   "display_name": "Python 3",
   "language": "python",
   "name": "python3"
  },
  "language_info": {
   "codemirror_mode": {
    "name": "ipython",
    "version": 3
   },
   "file_extension": ".py",
   "mimetype": "text/x-python",
   "name": "python",
   "nbconvert_exporter": "python",
   "pygments_lexer": "ipython3",
   "version": "3.6.7"
  }
 },
 "nbformat": 4,
 "nbformat_minor": 2
}
