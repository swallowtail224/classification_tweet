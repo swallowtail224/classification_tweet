{
 "cells": [
  {
   "cell_type": "code",
   "execution_count": 2,
   "metadata": {},
   "outputs": [],
   "source": [
    "import pandas as pd"
   ]
  },
  {
   "cell_type": "code",
   "execution_count": 3,
   "metadata": {},
   "outputs": [
    {
     "name": "stdout",
     "output_type": "stream",
     "text": [
      "57926\n",
      "<class 'pandas.core.frame.DataFrame'>\n",
      "RangeIndex: 57926 entries, 0 to 57925\n",
      "Data columns (total 12 columns):\n",
      "screen_name    57926 non-null object\n",
      "user_id        57926 non-null float64\n",
      "tweet_id       57926 non-null float64\n",
      "tweet          57926 non-null object\n",
      "tweet2         57823 non-null object\n",
      "postdate       57926 non-null object\n",
      "cos_day        57926 non-null float64\n",
      "sin_day        57926 non-null float64\n",
      "tag            57926 non-null object\n",
      "image_url      57926 non-null object\n",
      "image          57926 non-null int64\n",
      "retweet        57926 non-null float64\n",
      "dtypes: float64(5), int64(1), object(6)\n",
      "memory usage: 5.3+ MB\n"
     ]
    }
   ],
   "source": [
    "#データの読み込み\n",
    "all_data = pd.read_csv(filepath_or_buffer=\"Datas/all_data/A_extract_allData.csv\", encoding=\"utf_8\", sep=\",\")\n",
    "print(len(all_data))\n",
    "all_data.info()"
   ]
  },
  {
   "cell_type": "code",
   "execution_count": 4,
   "metadata": {},
   "outputs": [
    {
     "name": "stdout",
     "output_type": "stream",
     "text": [
      "screen_name      0\n",
      "user_id          0\n",
      "tweet_id         0\n",
      "tweet            0\n",
      "tweet2         103\n",
      "postdate         0\n",
      "cos_day          0\n",
      "sin_day          0\n",
      "tag              0\n",
      "image_url        0\n",
      "image            0\n",
      "retweet          0\n",
      "dtype: int64\n"
     ]
    },
    {
     "data": {
      "text/plain": [
       "10068"
      ]
     },
     "execution_count": 4,
     "metadata": {},
     "output_type": "execute_result"
    }
   ],
   "source": [
    "#NaNデータのカウント\n",
    "print(all_data.isnull().sum())\n",
    "#NaNのデータを削除\n",
    "use_data = all_data.dropna(how='any')\n",
    "#掲載したツイート数のカウント\n",
    "published_post = use_data['retweet'] == 1\n",
    "published_post.sum()"
   ]
  },
  {
   "cell_type": "code",
   "execution_count": 5,
   "metadata": {},
   "outputs": [],
   "source": [
    "#掲載したツイートとそうでなかったツイートで分割\n",
    "publish_tweet = use_data.query('retweet == 1')\n",
    "non_publish_tweet = use_data.query('retweet == 0')\n",
    "#それぞれから1万件ランダム抽出\n",
    "p_post = publish_tweet.sample(n=10000, random_state=1)\n",
    "n_post = non_publish_tweet.sample(n=10000, random_state=1)\n",
    "#抽出したデータを結合\n",
    "data = pd.concat([p_post,n_post])\n",
    "pickup_data = data.sort_index()"
   ]
  },
  {
   "cell_type": "code",
   "execution_count": 6,
   "metadata": {},
   "outputs": [],
   "source": [
    "pickup_data.to_csv(\"Datas/A_pickup_data.csv\",index=False, sep=\",\")"
   ]
  },
  {
   "cell_type": "code",
   "execution_count": 7,
   "metadata": {},
   "outputs": [
    {
     "name": "stdout",
     "output_type": "stream",
     "text": [
      "<class 'pandas.core.frame.DataFrame'>\n",
      "RangeIndex: 20000 entries, 0 to 19999\n",
      "Data columns (total 12 columns):\n",
      "screen_name    20000 non-null object\n",
      "user_id        20000 non-null float64\n",
      "tweet_id       20000 non-null float64\n",
      "tweet          20000 non-null object\n",
      "tweet2         20000 non-null object\n",
      "postdate       20000 non-null object\n",
      "cos_day        20000 non-null float64\n",
      "sin_day        20000 non-null float64\n",
      "tag            20000 non-null object\n",
      "image_url      20000 non-null object\n",
      "image          20000 non-null int64\n",
      "retweet        20000 non-null float64\n",
      "dtypes: float64(5), int64(1), object(6)\n",
      "memory usage: 1.8+ MB\n"
     ]
    }
   ],
   "source": [
    "#確認\n",
    "test = pd.read_csv(filepath_or_buffer=\"Datas/A_pickup_data.csv\", encoding=\"utf_8\", sep=\",\")\n",
    "test.info()"
   ]
  },
  {
   "cell_type": "code",
   "execution_count": null,
   "metadata": {},
   "outputs": [],
   "source": []
  }
 ],
 "metadata": {
  "jupytext": {
   "encoding": "# -*- coding: utf-8 -*-",
   "text_representation": {
    "extension": ".py",
    "format_name": "light",
    "format_version": "1.5",
    "jupytext_version": "1.3.0"
   }
  },
  "kernelspec": {
   "display_name": "Python 3",
   "language": "python",
   "name": "python3"
  },
  "language_info": {
   "codemirror_mode": {
    "name": "ipython",
    "version": 3
   },
   "file_extension": ".py",
   "mimetype": "text/x-python",
   "name": "python",
   "nbconvert_exporter": "python",
   "pygments_lexer": "ipython3",
   "version": "3.6.7"
  }
 },
 "nbformat": 4,
 "nbformat_minor": 2
}
