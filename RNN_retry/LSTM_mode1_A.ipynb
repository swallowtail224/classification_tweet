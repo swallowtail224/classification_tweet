{
 "cells": [
  {
   "cell_type": "code",
   "execution_count": 1,
   "metadata": {},
   "outputs": [
    {
     "name": "stderr",
     "output_type": "stream",
     "text": [
      "Using TensorFlow backend.\n"
     ]
    }
   ],
   "source": [
    "from keras.layers import Input, Dense, Embedding, LSTM, Dropout, concatenate\n",
    "from keras.models import Model\n",
    "from keras.callbacks import EarlyStopping\n",
    "from keras.utils import plot_model\n",
    "from keras.preprocessing.text import Tokenizer\n",
    "from keras.preprocessing.sequence import pad_sequences\n",
    "import numpy as np\n",
    "from keras.utils.np_utils import to_categorical\n",
    "import keras.backend as K\n",
    "from functools import partial\n",
    "import pandas as pd\n",
    "import numpy as np"
   ]
  },
  {
   "cell_type": "code",
   "execution_count": 2,
   "metadata": {},
   "outputs": [],
   "source": [
    "def normalize_y_pred(y_pred):\n",
    "    return K.one_hot(K.argmax(y_pred), y_pred.shape[-1])\n",
    "\n",
    "def class_true_positive(class_label, y_true, y_pred):\n",
    "    y_pred = normalize_y_pred(y_pred)\n",
    "    return K.cast(K.equal(y_true[:, class_label] + y_pred[:, class_label], 2), K.floatx())\n",
    "\n",
    "def class_accuracy(class_label, y_true, y_pred):\n",
    "    y_pred = normalize_y_pred(y_pred)\n",
    "    return K.cast(K.equal(y_true[:, class_label], y_pred[:, class_label]),\n",
    "                  K.floatx())\n",
    "\n",
    "def class_precision(class_label, y_true, y_pred):\n",
    "    y_pred = normalize_y_pred(y_pred)\n",
    "    return K.sum(class_true_positive(class_label, y_true, y_pred)) / (K.sum(y_pred[:, class_label]) + K.epsilon())\n",
    "\n",
    "\n",
    "def class_recall(class_label, y_true, y_pred):\n",
    "    return K.sum(class_true_positive(class_label, y_true, y_pred)) / (K.sum(y_true[:, class_label]) + K.epsilon())\n",
    "\n",
    "\n",
    "def class_f_measure(class_label, y_true, y_pred):\n",
    "    precision = class_precision(class_label, y_true, y_pred)\n",
    "    recall = class_recall(class_label, y_true, y_pred)\n",
    "    return (2 * precision * recall) / (precision + recall + K.epsilon())\n",
    "\n",
    "\n",
    "def true_positive(y_true, y_pred):\n",
    "    y_pred = normalize_y_pred(y_pred)\n",
    "    return K.cast(K.equal(y_true + y_pred, 2),\n",
    "                  K.floatx())\n",
    "\n",
    "\n",
    "def micro_precision(y_true, y_pred):\n",
    "    y_pred = normalize_y_pred(y_pred)\n",
    "    return K.sum(true_positive(y_true, y_pred)) / (K.sum(y_pred) + K.epsilon())\n",
    "\n",
    "\n",
    "def micro_recall(y_true, y_pred):\n",
    "    return K.sum(true_positive(y_true, y_pred)) / (K.sum(y_true) + K.epsilon())\n",
    "\n",
    "\n",
    "def micro_f_measure(y_true, y_pred):\n",
    "    precision = micro_precision(y_true, y_pred)\n",
    "    recall = micro_recall(y_true, y_pred)\n",
    "    return (2 * precision * recall) / (precision + recall + K.epsilon())\n",
    "\n",
    "\n",
    "def average_accuracy(y_true, y_pred):\n",
    "    class_count = y_pred.shape[-1]\n",
    "    class_acc_list = [class_accuracy(i, y_true, y_pred) for i in range(class_count)]\n",
    "    class_acc_matrix = K.concatenate(class_acc_list, axis=0)\n",
    "    return K.mean(class_acc_matrix, axis=0)\n",
    "\n",
    "\n",
    "def macro_precision(y_true, y_pred):\n",
    "    class_count = y_pred.shape[-1]\n",
    "    return K.sum([class_precision(i, y_true, y_pred) for i in range(class_count)]) / K.cast(class_count, K.floatx())\n",
    "\n",
    "\n",
    "def macro_recall(y_true, y_pred):\n",
    "    class_count = y_pred.shape[-1]\n",
    "    return K.sum([class_recall(i, y_true, y_pred) for i in range(class_count)]) / K.cast(class_count, K.floatx())\n",
    "\n",
    "\n",
    "def macro_f_measure(y_true, y_pred):\n",
    "    precision = macro_precision(y_true, y_pred)\n",
    "    recall = macro_recall(y_true, y_pred)\n",
    "    return (2 * precision * recall) / (precision + recall + K.epsilon())\n",
    "\n",
    "def weight_variable(shape):\n",
    "    return K.truncated_normal(shape, stddev = 0.01)"
   ]
  },
  {
   "cell_type": "code",
   "execution_count": 3,
   "metadata": {},
   "outputs": [
    {
     "name": "stdout",
     "output_type": "stream",
     "text": [
      "20000\n",
      "<class 'pandas.core.frame.DataFrame'>\n",
      "RangeIndex: 20000 entries, 0 to 19999\n",
      "Data columns (total 12 columns):\n",
      "screen_name    20000 non-null object\n",
      "user_id        20000 non-null float64\n",
      "tweet_id       20000 non-null float64\n",
      "tweet          20000 non-null object\n",
      "tweet2         20000 non-null object\n",
      "postdate       20000 non-null object\n",
      "cos_day        20000 non-null float64\n",
      "sin_day        20000 non-null float64\n",
      "tag            20000 non-null object\n",
      "image_url      20000 non-null object\n",
      "image          20000 non-null int64\n",
      "retweet        20000 non-null float64\n",
      "dtypes: float64(5), int64(1), object(6)\n",
      "memory usage: 1.8+ MB\n"
     ]
    }
   ],
   "source": [
    "#データの読み込み\n",
    "use_data = pd.read_csv(filepath_or_buffer=\"Datas/pickup_data.csv\", encoding=\"utf_8\", sep=\",\")\n",
    "print(len(use_data))\n",
    "use_data.info()"
   ]
  },
  {
   "cell_type": "code",
   "execution_count": 4,
   "metadata": {},
   "outputs": [
    {
     "name": "stdout",
     "output_type": "stream",
     "text": [
      "Found 20281 unique tokens.\n",
      "Shape of data tensor:(20000, 50)\n",
      "Shape of label tensor:(20000, 2)\n"
     ]
    }
   ],
   "source": [
    "maxlen = 50\n",
    "train = 0.7\n",
    "validation = 0.1\n",
    "max_words = 25000\n",
    "\n",
    "#データをランダムにシャッフル\n",
    "use_data_s = use_data.sample(frac=1, random_state=150)\n",
    "\n",
    "# word indexを作成\n",
    "tokenizer = Tokenizer(num_words=max_words)\n",
    "tokenizer.fit_on_texts(use_data_s['tweet2'])\n",
    "sequences = tokenizer.texts_to_sequences(use_data_s['tweet2'])\n",
    "\n",
    "word_index = tokenizer.word_index\n",
    "print(\"Found {} unique tokens.\".format(len(word_index)))\n",
    "\n",
    "data = pad_sequences(sequences, maxlen=maxlen)\n",
    "\n",
    "# バイナリの行列に変換\n",
    "categorical_labels = to_categorical(use_data_s['retweet'])\n",
    "labels = np.asarray(categorical_labels)\n",
    "\n",
    "print(\"Shape of data tensor:{}\".format(data.shape))\n",
    "print(\"Shape of label tensor:{}\".format(labels.shape))\n",
    "\n",
    "indices = [int(len(labels) * n) for n in [train, train + validation]]\n",
    "x_train, x_val, x_test = np.split(data, indices)\n",
    "y_train, y_val, y_test = np.split(labels, indices)"
   ]
  },
  {
   "cell_type": "code",
   "execution_count": 5,
   "metadata": {},
   "outputs": [
    {
     "name": "stdout",
     "output_type": "stream",
     "text": [
      "7005\n"
     ]
    }
   ],
   "source": [
    "#学習データ内の掲載データ数のカウント\n",
    "count = 0\n",
    "for i in y_train:\n",
    "    if i[1] == 1.0:\n",
    "        count+=1\n",
    "print(count)"
   ]
  },
  {
   "cell_type": "code",
   "execution_count": 6,
   "metadata": {},
   "outputs": [
    {
     "name": "stdout",
     "output_type": "stream",
     "text": [
      "_________________________________________________________________\n",
      "Layer (type)                 Output Shape              Param #   \n",
      "=================================================================\n",
      "input_postText (InputLayer)  (None, 50)                0         \n",
      "_________________________________________________________________\n",
      "embedding_1 (Embedding)      (None, 50, 50)            1250000   \n",
      "_________________________________________________________________\n",
      "dropout_1 (Dropout)          (None, 50, 50)            0         \n",
      "_________________________________________________________________\n",
      "lstm_1 (LSTM)                (None, 32)                10624     \n",
      "_________________________________________________________________\n",
      "dropout_2 (Dropout)          (None, 32)                0         \n",
      "_________________________________________________________________\n",
      "output (Dense)               (None, 2)                 66        \n",
      "=================================================================\n",
      "Total params: 1,260,690\n",
      "Trainable params: 1,260,690\n",
      "Non-trainable params: 0\n",
      "_________________________________________________________________\n"
     ]
    }
   ],
   "source": [
    "p_input = Input(shape=(50, ), dtype='int32', name='input_postText')\n",
    "\n",
    "em = Embedding(input_dim=max_words, output_dim=50, input_length=50)(p_input)\n",
    "d_em = Dropout(0.5)(em)\n",
    "lstm_out = LSTM(32, kernel_initializer=weight_variable)(d_em)\n",
    "d_lstm_out = Dropout(0.5)(lstm_out)\n",
    "output = Dense(2, activation='softmax', name = 'output')(d_lstm_out)\n",
    "\n",
    "model = Model(inputs=p_input, outputs = output)\n",
    "model.compile(optimizer='Adam', loss='categorical_crossentropy',  metrics=['acc', macro_precision, macro_recall, macro_f_measure])\n",
    "model.summary()\n",
    "#plot_model(model, show_shapes=True, show_layer_names=True, to_file='model_image/model1.png')\n",
    "\n",
    "early_stopping = EarlyStopping(patience=0, verbose=1)"
   ]
  },
  {
   "cell_type": "code",
   "execution_count": 7,
   "metadata": {},
   "outputs": [
    {
     "name": "stdout",
     "output_type": "stream",
     "text": [
      "Train on 14000 samples, validate on 1999 samples\n",
      "Epoch 1/100\n",
      "14000/14000 [==============================] - 7s 477us/step - loss: 0.6454 - acc: 0.6078 - macro_precision: 0.5914 - macro_recall: 0.6079 - macro_f_measure: 0.5917 - val_loss: 0.5429 - val_acc: 0.7024 - val_macro_precision: 0.7030 - val_macro_recall: 0.7019 - val_macro_f_measure: 0.7025\n",
      "Epoch 2/100\n",
      "14000/14000 [==============================] - 6s 395us/step - loss: 0.4824 - acc: 0.7677 - macro_precision: 0.7744 - macro_recall: 0.7676 - macro_f_measure: 0.7710 - val_loss: 0.5037 - val_acc: 0.7574 - val_macro_precision: 0.7602 - val_macro_recall: 0.7563 - val_macro_f_measure: 0.7582\n",
      "Epoch 3/100\n",
      "14000/14000 [==============================] - 5s 392us/step - loss: 0.4021 - acc: 0.8211 - macro_precision: 0.8245 - macro_recall: 0.8210 - macro_f_measure: 0.8227 - val_loss: 0.5113 - val_acc: 0.7469 - val_macro_precision: 0.7571 - val_macro_recall: 0.7454 - val_macro_f_measure: 0.7512\n",
      "Epoch 00003: early stopping\n"
     ]
    }
   ],
   "source": [
    "history = model.fit(x_train, y_train,\n",
    "                    epochs=100, \n",
    "                    batch_size=256,\n",
    "                    validation_data=(x_val, y_val),\n",
    "                    callbacks=[early_stopping])"
   ]
  },
  {
   "cell_type": "code",
   "execution_count": 8,
   "metadata": {},
   "outputs": [
    {
     "name": "stdout",
     "output_type": "stream",
     "text": [
      "4001/4001 [==============================] - 1s 277us/step\n",
      "[0.4948358329565708, 0.7535616095976005, 0.7615914314843749, 0.7544605094800738, 0.7577735826212952]\n"
     ]
    }
   ],
   "source": [
    "loss_and_metrics = model.evaluate(x_test, y_test)\n",
    "print(loss_and_metrics)"
   ]
  },
  {
   "cell_type": "code",
   "execution_count": 10,
   "metadata": {},
   "outputs": [],
   "source": [
    "classes = model.predict(x_test)\n",
    "np.savetxt('Datas/result/model1_dA_predict.csv', classes, delimiter = ',')"
   ]
  },
  {
   "cell_type": "code",
   "execution_count": 12,
   "metadata": {},
   "outputs": [],
   "source": [
    "model.save('Datas/models/model1_dA.h5')"
   ]
  },
  {
   "cell_type": "code",
   "execution_count": null,
   "metadata": {},
   "outputs": [],
   "source": [
    "#シード値150 0.7700574856285929, 0.7703967081162668, 0.769495237278837, 0.7698049866774773"
   ]
  }
 ],
 "metadata": {
  "jupytext": {
   "encoding": "# -*- coding: utf-8 -*-",
   "text_representation": {
    "extension": ".py",
    "format_name": "light",
    "format_version": "1.5",
    "jupytext_version": "1.3.0"
   }
  },
  "kernelspec": {
   "display_name": "Python 3",
   "language": "python",
   "name": "python3"
  },
  "language_info": {
   "codemirror_mode": {
    "name": "ipython",
    "version": 3
   },
   "file_extension": ".py",
   "mimetype": "text/x-python",
   "name": "python",
   "nbconvert_exporter": "python",
   "pygments_lexer": "ipython3",
   "version": "3.6.7"
  }
 },
 "nbformat": 4,
 "nbformat_minor": 2
}
