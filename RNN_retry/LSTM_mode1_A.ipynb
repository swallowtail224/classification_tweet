{
 "cells": [
  {
   "cell_type": "code",
   "execution_count": 1,
   "metadata": {},
   "outputs": [
    {
     "name": "stderr",
     "output_type": "stream",
     "text": [
      "Using TensorFlow backend.\n"
     ]
    }
   ],
   "source": [
    "from keras.layers import Input, Dense, Embedding, LSTM, Dropout, concatenate\n",
    "from keras.models import Model\n",
    "from keras.callbacks import EarlyStopping\n",
    "from keras.utils import plot_model\n",
    "from keras.preprocessing.text import Tokenizer\n",
    "from keras.preprocessing.sequence import pad_sequences\n",
    "import numpy as np\n",
    "from keras.utils.np_utils import to_categorical\n",
    "import keras.backend as K\n",
    "from functools import partial\n",
    "import pandas as pd\n",
    "import numpy as np\n",
    "from keras.optimizers import Adam"
   ]
  },
  {
   "cell_type": "code",
   "execution_count": 2,
   "metadata": {},
   "outputs": [],
   "source": [
    "def normalize_y_pred(y_pred):\n",
    "    return K.one_hot(K.argmax(y_pred), y_pred.shape[-1])\n",
    "\n",
    "def class_true_positive(class_label, y_true, y_pred):\n",
    "    y_pred = normalize_y_pred(y_pred)\n",
    "    return K.cast(K.equal(y_true[:, class_label] + y_pred[:, class_label], 2), K.floatx())\n",
    "\n",
    "def class_accuracy(class_label, y_true, y_pred):\n",
    "    y_pred = normalize_y_pred(y_pred)\n",
    "    return K.cast(K.equal(y_true[:, class_label], y_pred[:, class_label]),\n",
    "                  K.floatx())\n",
    "\n",
    "def class_precision(class_label, y_true, y_pred):\n",
    "    y_pred = normalize_y_pred(y_pred)\n",
    "    return K.sum(class_true_positive(class_label, y_true, y_pred)) / (K.sum(y_pred[:, class_label]) + K.epsilon())\n",
    "\n",
    "\n",
    "def class_recall(class_label, y_true, y_pred):\n",
    "    return K.sum(class_true_positive(class_label, y_true, y_pred)) / (K.sum(y_true[:, class_label]) + K.epsilon())\n",
    "\n",
    "\n",
    "def class_f_measure(class_label, y_true, y_pred):\n",
    "    precision = class_precision(class_label, y_true, y_pred)\n",
    "    recall = class_recall(class_label, y_true, y_pred)\n",
    "    return (2 * precision * recall) / (precision + recall + K.epsilon())\n",
    "\n",
    "\n",
    "def true_positive(y_true, y_pred):\n",
    "    y_pred = normalize_y_pred(y_pred)\n",
    "    return K.cast(K.equal(y_true + y_pred, 2),\n",
    "                  K.floatx())\n",
    "\n",
    "\n",
    "def micro_precision(y_true, y_pred):\n",
    "    y_pred = normalize_y_pred(y_pred)\n",
    "    return K.sum(true_positive(y_true, y_pred)) / (K.sum(y_pred) + K.epsilon())\n",
    "\n",
    "\n",
    "def micro_recall(y_true, y_pred):\n",
    "    return K.sum(true_positive(y_true, y_pred)) / (K.sum(y_true) + K.epsilon())\n",
    "\n",
    "\n",
    "def micro_f_measure(y_true, y_pred):\n",
    "    precision = micro_precision(y_true, y_pred)\n",
    "    recall = micro_recall(y_true, y_pred)\n",
    "    return (2 * precision * recall) / (precision + recall + K.epsilon())\n",
    "\n",
    "\n",
    "def average_accuracy(y_true, y_pred):\n",
    "    class_count = y_pred.shape[-1]\n",
    "    class_acc_list = [class_accuracy(i, y_true, y_pred) for i in range(class_count)]\n",
    "    class_acc_matrix = K.concatenate(class_acc_list, axis=0)\n",
    "    return K.mean(class_acc_matrix, axis=0)\n",
    "\n",
    "\n",
    "def macro_precision(y_true, y_pred):\n",
    "    class_count = y_pred.shape[-1]\n",
    "    return K.sum([class_precision(i, y_true, y_pred) for i in range(class_count)]) / K.cast(class_count, K.floatx())\n",
    "\n",
    "\n",
    "def macro_recall(y_true, y_pred):\n",
    "    class_count = y_pred.shape[-1]\n",
    "    return K.sum([class_recall(i, y_true, y_pred) for i in range(class_count)]) / K.cast(class_count, K.floatx())\n",
    "\n",
    "\n",
    "def macro_f_measure(y_true, y_pred):\n",
    "    precision = macro_precision(y_true, y_pred)\n",
    "    recall = macro_recall(y_true, y_pred)\n",
    "    return (2 * precision * recall) / (precision + recall + K.epsilon())\n",
    "\n",
    "def weight_variable(shape):\n",
    "    return K.truncated_normal(shape, stddev = 0.01)"
   ]
  },
  {
   "cell_type": "code",
   "execution_count": 3,
   "metadata": {},
   "outputs": [
    {
     "name": "stdout",
     "output_type": "stream",
     "text": [
      "20000\n",
      "<class 'pandas.core.frame.DataFrame'>\n",
      "RangeIndex: 20000 entries, 0 to 19999\n",
      "Data columns (total 12 columns):\n",
      "screen_name    20000 non-null object\n",
      "user_id        20000 non-null float64\n",
      "tweet_id       20000 non-null float64\n",
      "tweet          20000 non-null object\n",
      "tweet2         20000 non-null object\n",
      "postdate       20000 non-null object\n",
      "cos_day        20000 non-null float64\n",
      "sin_day        20000 non-null float64\n",
      "tag            20000 non-null object\n",
      "image_url      20000 non-null object\n",
      "image          20000 non-null int64\n",
      "retweet        20000 non-null float64\n",
      "dtypes: float64(5), int64(1), object(6)\n",
      "memory usage: 1.8+ MB\n"
     ]
    }
   ],
   "source": [
    "#データの読み込み\n",
    "use_data = pd.read_csv(filepath_or_buffer=\"Datas/pickup_data.csv\", encoding=\"utf_8\", sep=\",\")\n",
    "print(len(use_data))\n",
    "use_data.info()"
   ]
  },
  {
   "cell_type": "code",
   "execution_count": 4,
   "metadata": {},
   "outputs": [
    {
     "name": "stdout",
     "output_type": "stream",
     "text": [
      "Found 20281 unique tokens.\n",
      "Shape of data tensor:(20000, 50)\n",
      "Shape of label tensor:(20000, 2)\n"
     ]
    }
   ],
   "source": [
    "maxlen = 50\n",
    "train = 0.7\n",
    "validation = 0.1\n",
    "max_words = 25000\n",
    "\n",
    "#データをランダムにシャッフル\n",
    "use_data_s = use_data.sample(frac=1, random_state=150)\n",
    "\n",
    "# word indexを作成\n",
    "tokenizer = Tokenizer(num_words=max_words)\n",
    "tokenizer.fit_on_texts(use_data_s['tweet2'])\n",
    "sequences = tokenizer.texts_to_sequences(use_data_s['tweet2'])\n",
    "\n",
    "word_index = tokenizer.word_index\n",
    "print(\"Found {} unique tokens.\".format(len(word_index)))\n",
    "\n",
    "data = pad_sequences(sequences, maxlen=maxlen)\n",
    "\n",
    "# バイナリの行列に変換\n",
    "categorical_labels = to_categorical(use_data_s['retweet'])\n",
    "labels = np.asarray(categorical_labels)\n",
    "\n",
    "print(\"Shape of data tensor:{}\".format(data.shape))\n",
    "print(\"Shape of label tensor:{}\".format(labels.shape))\n",
    "\n",
    "indices = [int(len(labels) * n) for n in [train, train + validation]]\n",
    "x_train, x_val, x_test = np.split(data, indices)\n",
    "y_train, y_val, y_test = np.split(labels, indices)"
   ]
  },
  {
   "cell_type": "code",
   "execution_count": 5,
   "metadata": {},
   "outputs": [
    {
     "name": "stdout",
     "output_type": "stream",
     "text": [
      "1012\n"
     ]
    }
   ],
   "source": [
    "#学習データ内の掲載データ数のカウント\n",
    "count = 0\n",
    "for i in y_val:\n",
    "    if i[1] == 1.0:\n",
    "        count+=1\n",
    "print(count)"
   ]
  },
  {
   "cell_type": "code",
   "execution_count": 6,
   "metadata": {},
   "outputs": [
    {
     "name": "stdout",
     "output_type": "stream",
     "text": [
      "_________________________________________________________________\n",
      "Layer (type)                 Output Shape              Param #   \n",
      "=================================================================\n",
      "input_postText (InputLayer)  (None, 50)                0         \n",
      "_________________________________________________________________\n",
      "embedding_1 (Embedding)      (None, 50, 50)            1250000   \n",
      "_________________________________________________________________\n",
      "dropout_1 (Dropout)          (None, 50, 50)            0         \n",
      "_________________________________________________________________\n",
      "lstm_1 (LSTM)                (None, 32)                10624     \n",
      "_________________________________________________________________\n",
      "dropout_2 (Dropout)          (None, 32)                0         \n",
      "_________________________________________________________________\n",
      "output (Dense)               (None, 2)                 66        \n",
      "=================================================================\n",
      "Total params: 1,260,690\n",
      "Trainable params: 1,260,690\n",
      "Non-trainable params: 0\n",
      "_________________________________________________________________\n"
     ]
    }
   ],
   "source": [
    "p_input = Input(shape=(50, ), dtype='int32', name='input_postText')\n",
    "\n",
    "em = Embedding(input_dim=max_words, output_dim=50, input_length=50)(p_input)\n",
    "d_em = Dropout(0.5)(em)\n",
    "lstm_out = LSTM(32, kernel_initializer=weight_variable)(d_em)\n",
    "d_lstm_out = Dropout(0.5)(lstm_out)\n",
    "output = Dense(2, activation='softmax', name = 'output')(d_lstm_out)\n",
    "\n",
    "model = Model(inputs=p_input, outputs = output)\n",
    "optimizer = Adam(lr=1e-4)\n",
    "model.compile(optimizer=optimizer, loss='categorical_crossentropy',  metrics=['acc', macro_precision, macro_recall, macro_f_measure])\n",
    "model.summary()\n",
    "#plot_model(model, show_shapes=True, show_layer_names=True, to_file='model_image/model1.png')\n",
    "\n",
    "early_stopping = EarlyStopping(patience=1, verbose=1)"
   ]
  },
  {
   "cell_type": "code",
   "execution_count": 7,
   "metadata": {},
   "outputs": [
    {
     "name": "stdout",
     "output_type": "stream",
     "text": [
      "Train on 14000 samples, validate on 1999 samples\n",
      "Epoch 1/50\n",
      "14000/14000 [==============================] - 10s 682us/step - loss: 0.6929 - acc: 0.5359 - macro_precision: 0.5417 - macro_recall: 0.5373 - macro_f_measure: 0.5395 - val_loss: 0.6926 - val_acc: 0.5753 - val_macro_precision: 0.5815 - val_macro_recall: 0.5764 - val_macro_f_measure: 0.5789\n",
      "Epoch 2/50\n",
      "14000/14000 [==============================] - 6s 452us/step - loss: 0.6912 - acc: 0.5844 - macro_precision: 0.6078 - macro_recall: 0.5844 - macro_f_measure: 0.5957 - val_loss: 0.6894 - val_acc: 0.6368 - val_macro_precision: 0.6387 - val_macro_recall: 0.6370 - val_macro_f_measure: 0.6379\n",
      "Epoch 3/50\n",
      "14000/14000 [==============================] - 7s 492us/step - loss: 0.6808 - acc: 0.6384 - macro_precision: 0.6538 - macro_recall: 0.6392 - macro_f_measure: 0.6463 - val_loss: 0.6710 - val_acc: 0.6138 - val_macro_precision: 0.6397 - val_macro_recall: 0.6163 - val_macro_f_measure: 0.6277\n",
      "Epoch 4/50\n",
      "14000/14000 [==============================] - 9s 618us/step - loss: 0.6425 - acc: 0.6515 - macro_precision: 0.6571 - macro_recall: 0.6524 - macro_f_measure: 0.6547 - val_loss: 0.6220 - val_acc: 0.6548 - val_macro_precision: 0.6549 - val_macro_recall: 0.6546 - val_macro_f_measure: 0.6547\n",
      "Epoch 5/50\n",
      "14000/14000 [==============================] - 6s 431us/step - loss: 0.5852 - acc: 0.6985 - macro_precision: 0.7000 - macro_recall: 0.6986 - macro_f_measure: 0.6993 - val_loss: 0.5766 - val_acc: 0.6938 - val_macro_precision: 0.6991 - val_macro_recall: 0.6924 - val_macro_f_measure: 0.6957\n",
      "Epoch 6/50\n",
      "14000/14000 [==============================] - 6s 427us/step - loss: 0.5406 - acc: 0.7324 - macro_precision: 0.7358 - macro_recall: 0.7321 - macro_f_measure: 0.7340 - val_loss: 0.5470 - val_acc: 0.7124 - val_macro_precision: 0.7127 - val_macro_recall: 0.7114 - val_macro_f_measure: 0.7121\n",
      "Epoch 7/50\n",
      "14000/14000 [==============================] - 6s 424us/step - loss: 0.5123 - acc: 0.7559 - macro_precision: 0.7582 - macro_recall: 0.7563 - macro_f_measure: 0.7573 - val_loss: 0.5351 - val_acc: 0.7214 - val_macro_precision: 0.7217 - val_macro_recall: 0.7208 - val_macro_f_measure: 0.7213\n",
      "Epoch 8/50\n",
      "14000/14000 [==============================] - 6s 428us/step - loss: 0.4896 - acc: 0.7721 - macro_precision: 0.7747 - macro_recall: 0.7721 - macro_f_measure: 0.7734 - val_loss: 0.5246 - val_acc: 0.7374 - val_macro_precision: 0.7383 - val_macro_recall: 0.7364 - val_macro_f_measure: 0.7374\n",
      "Epoch 9/50\n",
      "14000/14000 [==============================] - 6s 426us/step - loss: 0.4699 - acc: 0.7847 - macro_precision: 0.7860 - macro_recall: 0.7849 - macro_f_measure: 0.7854 - val_loss: 0.5188 - val_acc: 0.7439 - val_macro_precision: 0.7482 - val_macro_recall: 0.7429 - val_macro_f_measure: 0.7455\n",
      "Epoch 10/50\n",
      "14000/14000 [==============================] - 6s 448us/step - loss: 0.4521 - acc: 0.7959 - macro_precision: 0.7982 - macro_recall: 0.7959 - macro_f_measure: 0.7970 - val_loss: 0.5155 - val_acc: 0.7409 - val_macro_precision: 0.7411 - val_macro_recall: 0.7402 - val_macro_f_measure: 0.7407\n",
      "Epoch 11/50\n",
      "14000/14000 [==============================] - 6s 409us/step - loss: 0.4389 - acc: 0.8055 - macro_precision: 0.8066 - macro_recall: 0.8051 - macro_f_measure: 0.8059 - val_loss: 0.5124 - val_acc: 0.7479 - val_macro_precision: 0.7492 - val_macro_recall: 0.7469 - val_macro_f_measure: 0.7481\n",
      "Epoch 12/50\n",
      "14000/14000 [==============================] - 6s 418us/step - loss: 0.4239 - acc: 0.8124 - macro_precision: 0.8136 - macro_recall: 0.8126 - macro_f_measure: 0.8131 - val_loss: 0.5117 - val_acc: 0.7474 - val_macro_precision: 0.7492 - val_macro_recall: 0.7465 - val_macro_f_measure: 0.7479\n",
      "Epoch 13/50\n",
      "14000/14000 [==============================] - 6s 412us/step - loss: 0.4102 - acc: 0.8200 - macro_precision: 0.8211 - macro_recall: 0.8199 - macro_f_measure: 0.8205 - val_loss: 0.5132 - val_acc: 0.7464 - val_macro_precision: 0.7467 - val_macro_recall: 0.7456 - val_macro_f_measure: 0.7462\n",
      "Epoch 14/50\n",
      "14000/14000 [==============================] - 6s 415us/step - loss: 0.4004 - acc: 0.8257 - macro_precision: 0.8271 - macro_recall: 0.8258 - macro_f_measure: 0.8265 - val_loss: 0.5139 - val_acc: 0.7484 - val_macro_precision: 0.7489 - val_macro_recall: 0.7476 - val_macro_f_measure: 0.7482\n",
      "Epoch 15/50\n",
      "14000/14000 [==============================] - 6s 421us/step - loss: 0.3879 - acc: 0.8314 - macro_precision: 0.8328 - macro_recall: 0.8310 - macro_f_measure: 0.8319 - val_loss: 0.5143 - val_acc: 0.7484 - val_macro_precision: 0.7495 - val_macro_recall: 0.7476 - val_macro_f_measure: 0.7485\n",
      "Epoch 16/50\n",
      "14000/14000 [==============================] - 6s 416us/step - loss: 0.3795 - acc: 0.8386 - macro_precision: 0.8401 - macro_recall: 0.8384 - macro_f_measure: 0.8392 - val_loss: 0.5195 - val_acc: 0.7499 - val_macro_precision: 0.7497 - val_macro_recall: 0.7495 - val_macro_f_measure: 0.7496\n",
      "Epoch 17/50\n",
      "14000/14000 [==============================] - 6s 413us/step - loss: 0.3721 - acc: 0.8411 - macro_precision: 0.8421 - macro_recall: 0.8409 - macro_f_measure: 0.8415 - val_loss: 0.5169 - val_acc: 0.7489 - val_macro_precision: 0.7492 - val_macro_recall: 0.7481 - val_macro_f_measure: 0.7487\n",
      "Epoch 18/50\n",
      "14000/14000 [==============================] - 6s 413us/step - loss: 0.3618 - acc: 0.8467 - macro_precision: 0.8476 - macro_recall: 0.8467 - macro_f_measure: 0.8471 - val_loss: 0.5215 - val_acc: 0.7499 - val_macro_precision: 0.7499 - val_macro_recall: 0.7492 - val_macro_f_measure: 0.7495\n",
      "Epoch 19/50\n",
      "14000/14000 [==============================] - 6s 424us/step - loss: 0.3545 - acc: 0.8479 - macro_precision: 0.8485 - macro_recall: 0.8479 - macro_f_measure: 0.8482 - val_loss: 0.5237 - val_acc: 0.7539 - val_macro_precision: 0.7536 - val_macro_recall: 0.7535 - val_macro_f_measure: 0.7536\n",
      "Epoch 20/50\n",
      "14000/14000 [==============================] - 7s 504us/step - loss: 0.3460 - acc: 0.8575 - macro_precision: 0.8584 - macro_recall: 0.8572 - macro_f_measure: 0.8578 - val_loss: 0.5326 - val_acc: 0.7499 - val_macro_precision: 0.7499 - val_macro_recall: 0.7498 - val_macro_f_measure: 0.7499\n",
      "Epoch 21/50\n",
      "14000/14000 [==============================] - 6s 428us/step - loss: 0.3370 - acc: 0.8569 - macro_precision: 0.8578 - macro_recall: 0.8570 - macro_f_measure: 0.8574 - val_loss: 0.5232 - val_acc: 0.7449 - val_macro_precision: 0.7468 - val_macro_recall: 0.7441 - val_macro_f_measure: 0.7455\n",
      "Epoch 22/50\n",
      "14000/14000 [==============================] - 6s 414us/step - loss: 0.3297 - acc: 0.8650 - macro_precision: 0.8659 - macro_recall: 0.8647 - macro_f_measure: 0.8653 - val_loss: 0.5424 - val_acc: 0.7504 - val_macro_precision: 0.7504 - val_macro_recall: 0.7504 - val_macro_f_measure: 0.7504\n",
      "Epoch 23/50\n",
      "14000/14000 [==============================] - 6s 419us/step - loss: 0.3234 - acc: 0.8650 - macro_precision: 0.8651 - macro_recall: 0.8653 - macro_f_measure: 0.8652 - val_loss: 0.5364 - val_acc: 0.7469 - val_macro_precision: 0.7473 - val_macro_recall: 0.7463 - val_macro_f_measure: 0.7468\n",
      "Epoch 24/50\n",
      "14000/14000 [==============================] - 6s 421us/step - loss: 0.3147 - acc: 0.8701 - macro_precision: 0.8707 - macro_recall: 0.8701 - macro_f_measure: 0.8704 - val_loss: 0.5417 - val_acc: 0.7519 - val_macro_precision: 0.7518 - val_macro_recall: 0.7514 - val_macro_f_measure: 0.7516\n",
      "Epoch 25/50\n",
      "14000/14000 [==============================] - 6s 424us/step - loss: 0.3070 - acc: 0.8739 - macro_precision: 0.8740 - macro_recall: 0.8734 - macro_f_measure: 0.8737 - val_loss: 0.5491 - val_acc: 0.7484 - val_macro_precision: 0.7482 - val_macro_recall: 0.7481 - val_macro_f_measure: 0.7482\n",
      "Epoch 26/50\n",
      "14000/14000 [==============================] - 6s 414us/step - loss: 0.3009 - acc: 0.8784 - macro_precision: 0.8788 - macro_recall: 0.8784 - macro_f_measure: 0.8786 - val_loss: 0.5459 - val_acc: 0.7479 - val_macro_precision: 0.7482 - val_macro_recall: 0.7475 - val_macro_f_measure: 0.7479\n",
      "Epoch 27/50\n",
      "14000/14000 [==============================] - 7s 476us/step - loss: 0.2966 - acc: 0.8806 - macro_precision: 0.8812 - macro_recall: 0.8806 - macro_f_measure: 0.8809 - val_loss: 0.5520 - val_acc: 0.7494 - val_macro_precision: 0.7494 - val_macro_recall: 0.7491 - val_macro_f_measure: 0.7492\n",
      "Epoch 28/50\n"
     ]
    },
    {
     "name": "stdout",
     "output_type": "stream",
     "text": [
      "14000/14000 [==============================] - 6s 398us/step - loss: 0.2876 - acc: 0.8831 - macro_precision: 0.8833 - macro_recall: 0.8834 - macro_f_measure: 0.8834 - val_loss: 0.5650 - val_acc: 0.7539 - val_macro_precision: 0.7537 - val_macro_recall: 0.7537 - val_macro_f_measure: 0.7537\n",
      "Epoch 29/50\n",
      "14000/14000 [==============================] - 6s 404us/step - loss: 0.2815 - acc: 0.8836 - macro_precision: 0.8837 - macro_recall: 0.8838 - macro_f_measure: 0.8837 - val_loss: 0.5695 - val_acc: 0.7504 - val_macro_precision: 0.7503 - val_macro_recall: 0.7503 - val_macro_f_measure: 0.7503\n",
      "Epoch 30/50\n",
      "14000/14000 [==============================] - 6s 418us/step - loss: 0.2783 - acc: 0.8869 - macro_precision: 0.8874 - macro_recall: 0.8867 - macro_f_measure: 0.8871 - val_loss: 0.5684 - val_acc: 0.7484 - val_macro_precision: 0.7487 - val_macro_recall: 0.7480 - val_macro_f_measure: 0.7483\n",
      "Epoch 31/50\n",
      "14000/14000 [==============================] - 6s 441us/step - loss: 0.2710 - acc: 0.8912 - macro_precision: 0.8916 - macro_recall: 0.8912 - macro_f_measure: 0.8914 - val_loss: 0.5805 - val_acc: 0.7484 - val_macro_precision: 0.7483 - val_macro_recall: 0.7482 - val_macro_f_measure: 0.7482\n",
      "Epoch 32/50\n",
      "14000/14000 [==============================] - 6s 408us/step - loss: 0.2669 - acc: 0.8940 - macro_precision: 0.8944 - macro_recall: 0.8942 - macro_f_measure: 0.8943 - val_loss: 0.5972 - val_acc: 0.7449 - val_macro_precision: 0.7448 - val_macro_recall: 0.7448 - val_macro_f_measure: 0.7448\n",
      "Epoch 33/50\n",
      "14000/14000 [==============================] - 6s 405us/step - loss: 0.2588 - acc: 0.8964 - macro_precision: 0.8966 - macro_recall: 0.8962 - macro_f_measure: 0.8964 - val_loss: 0.5985 - val_acc: 0.7469 - val_macro_precision: 0.7467 - val_macro_recall: 0.7467 - val_macro_f_measure: 0.7467\n",
      "Epoch 34/50\n",
      "14000/14000 [==============================] - 6s 405us/step - loss: 0.2551 - acc: 0.8994 - macro_precision: 0.8999 - macro_recall: 0.8991 - macro_f_measure: 0.8995 - val_loss: 0.5970 - val_acc: 0.7469 - val_macro_precision: 0.7467 - val_macro_recall: 0.7467 - val_macro_f_measure: 0.7467\n",
      "Epoch 35/50\n",
      "14000/14000 [==============================] - 6s 414us/step - loss: 0.2507 - acc: 0.9003 - macro_precision: 0.9006 - macro_recall: 0.9005 - macro_f_measure: 0.9006 - val_loss: 0.6035 - val_acc: 0.7479 - val_macro_precision: 0.7477 - val_macro_recall: 0.7477 - val_macro_f_measure: 0.7477\n",
      "Epoch 36/50\n",
      "14000/14000 [==============================] - 6s 413us/step - loss: 0.2465 - acc: 0.9031 - macro_precision: 0.9029 - macro_recall: 0.9034 - macro_f_measure: 0.9031 - val_loss: 0.6105 - val_acc: 0.7454 - val_macro_precision: 0.7453 - val_macro_recall: 0.7453 - val_macro_f_measure: 0.7453\n",
      "Epoch 37/50\n",
      "14000/14000 [==============================] - 7s 491us/step - loss: 0.2419 - acc: 0.9051 - macro_precision: 0.9052 - macro_recall: 0.9051 - macro_f_measure: 0.9052 - val_loss: 0.6124 - val_acc: 0.7474 - val_macro_precision: 0.7473 - val_macro_recall: 0.7472 - val_macro_f_measure: 0.7473\n",
      "Epoch 38/50\n",
      "14000/14000 [==============================] - 7s 535us/step - loss: 0.2422 - acc: 0.9028 - macro_precision: 0.9031 - macro_recall: 0.9026 - macro_f_measure: 0.9029 - val_loss: 0.6172 - val_acc: 0.7459 - val_macro_precision: 0.7459 - val_macro_recall: 0.7457 - val_macro_f_measure: 0.7458\n",
      "Epoch 39/50\n",
      "14000/14000 [==============================] - 7s 472us/step - loss: 0.2373 - acc: 0.9066 - macro_precision: 0.9067 - macro_recall: 0.9067 - macro_f_measure: 0.9067 - val_loss: 0.6313 - val_acc: 0.7489 - val_macro_precision: 0.7488 - val_macro_recall: 0.7488 - val_macro_f_measure: 0.7488\n",
      "Epoch 40/50\n",
      "14000/14000 [==============================] - 7s 472us/step - loss: 0.2280 - acc: 0.9100 - macro_precision: 0.9101 - macro_recall: 0.9099 - macro_f_measure: 0.9100 - val_loss: 0.6281 - val_acc: 0.7449 - val_macro_precision: 0.7451 - val_macro_recall: 0.7444 - val_macro_f_measure: 0.7448\n",
      "Epoch 41/50\n",
      "14000/14000 [==============================] - 6s 403us/step - loss: 0.2271 - acc: 0.9086 - macro_precision: 0.9088 - macro_recall: 0.9084 - macro_f_measure: 0.9086 - val_loss: 0.6299 - val_acc: 0.7429 - val_macro_precision: 0.7431 - val_macro_recall: 0.7425 - val_macro_f_measure: 0.7428\n",
      "Epoch 42/50\n",
      "14000/14000 [==============================] - 6s 406us/step - loss: 0.2235 - acc: 0.9136 - macro_precision: 0.9140 - macro_recall: 0.9134 - macro_f_measure: 0.9137 - val_loss: 0.6407 - val_acc: 0.7404 - val_macro_precision: 0.7403 - val_macro_recall: 0.7401 - val_macro_f_measure: 0.7402\n",
      "Epoch 43/50\n",
      "14000/14000 [==============================] - 6s 422us/step - loss: 0.2216 - acc: 0.9121 - macro_precision: 0.9118 - macro_recall: 0.9124 - macro_f_measure: 0.9121 - val_loss: 0.6393 - val_acc: 0.7389 - val_macro_precision: 0.7389 - val_macro_recall: 0.7385 - val_macro_f_measure: 0.7387\n",
      "Epoch 44/50\n",
      "14000/14000 [==============================] - 7s 475us/step - loss: 0.2156 - acc: 0.9151 - macro_precision: 0.9153 - macro_recall: 0.9152 - macro_f_measure: 0.9153 - val_loss: 0.6841 - val_acc: 0.7424 - val_macro_precision: 0.7426 - val_macro_recall: 0.7424 - val_macro_f_measure: 0.7425\n",
      "Epoch 45/50\n",
      "14000/14000 [==============================] - 6s 441us/step - loss: 0.2148 - acc: 0.9150 - macro_precision: 0.9149 - macro_recall: 0.9154 - macro_f_measure: 0.9152 - val_loss: 0.6756 - val_acc: 0.7414 - val_macro_precision: 0.7411 - val_macro_recall: 0.7412 - val_macro_f_measure: 0.7412\n",
      "Epoch 46/50\n",
      "14000/14000 [==============================] - 6s 402us/step - loss: 0.2138 - acc: 0.9159 - macro_precision: 0.9158 - macro_recall: 0.9158 - macro_f_measure: 0.9158 - val_loss: 0.6637 - val_acc: 0.7444 - val_macro_precision: 0.7449 - val_macro_recall: 0.7440 - val_macro_f_measure: 0.7444\n",
      "Epoch 47/50\n",
      "14000/14000 [==============================] - 6s 405us/step - loss: 0.2064 - acc: 0.9180 - macro_precision: 0.9180 - macro_recall: 0.9179 - macro_f_measure: 0.9179 - val_loss: 0.6936 - val_acc: 0.7429 - val_macro_precision: 0.7427 - val_macro_recall: 0.7427 - val_macro_f_measure: 0.7427\n",
      "Epoch 48/50\n",
      "14000/14000 [==============================] - 6s 405us/step - loss: 0.2017 - acc: 0.9221 - macro_precision: 0.9222 - macro_recall: 0.9224 - macro_f_measure: 0.9223 - val_loss: 0.6973 - val_acc: 0.7429 - val_macro_precision: 0.7427 - val_macro_recall: 0.7425 - val_macro_f_measure: 0.7426\n",
      "Epoch 49/50\n",
      "14000/14000 [==============================] - 6s 408us/step - loss: 0.1985 - acc: 0.9216 - macro_precision: 0.9222 - macro_recall: 0.9215 - macro_f_measure: 0.9219 - val_loss: 0.6975 - val_acc: 0.7379 - val_macro_precision: 0.7377 - val_macro_recall: 0.7376 - val_macro_f_measure: 0.7377\n",
      "Epoch 50/50\n",
      "14000/14000 [==============================] - 6s 404us/step - loss: 0.2011 - acc: 0.9201 - macro_precision: 0.9202 - macro_recall: 0.9202 - macro_f_measure: 0.9202 - val_loss: 0.7003 - val_acc: 0.7369 - val_macro_precision: 0.7368 - val_macro_recall: 0.7366 - val_macro_f_measure: 0.7367\n"
     ]
    }
   ],
   "source": [
    "history = model.fit(x_train, y_train,\n",
    "                    epochs=50, \n",
    "                    batch_size=256,\n",
    "                    validation_data=(x_val, y_val))#,\n",
    "                    #callbacks=[early_stopping])"
   ]
  },
  {
   "cell_type": "code",
   "execution_count": 8,
   "metadata": {},
   "outputs": [
    {
     "name": "stdout",
     "output_type": "stream",
     "text": [
      "4001/4001 [==============================] - 1s 286us/step\n",
      "[0.6890417848852537, 0.7455636090977256, 0.7443871053419421, 0.7462203433977845, 0.7452411989783144]\n"
     ]
    }
   ],
   "source": [
    "loss_and_metrics = model.evaluate(x_test, y_test)\n",
    "print(loss_and_metrics)"
   ]
  },
  {
   "cell_type": "code",
   "execution_count": 10,
   "metadata": {},
   "outputs": [],
   "source": [
    "classes = model.predict(x_test)\n",
    "#np.savetxt('Datas/result/model1_dA_predict.csv', classes, delimiter = ',')"
   ]
  },
  {
   "cell_type": "code",
   "execution_count": 12,
   "metadata": {},
   "outputs": [],
   "source": [
    "#model.save('Datas/models/model1_dA.h5')"
   ]
  },
  {
   "cell_type": "code",
   "execution_count": null,
   "metadata": {},
   "outputs": [],
   "source": [
    "#シード値150 0.7700574856285929, 0.7703967081162668, 0.769495237278837, 0.7698049866774773"
   ]
  },
  {
   "cell_type": "code",
   "execution_count": 9,
   "metadata": {},
   "outputs": [
    {
     "data": {
      "text/plain": [
       "<Figure size 432x288 with 0 Axes>"
      ]
     },
     "execution_count": 9,
     "metadata": {},
     "output_type": "execute_result"
    },
    {
     "data": {
      "image/png": "[encoded data removed]",
      "text/plain": [
       "<Figure size 432x288 with 1 Axes>"
      ]
     },
     "metadata": {
      "needs_background": "light"
     },
     "output_type": "display_data"
    },
    {
     "data": {
      "image/png": "[encoded data removed]",
      "text/plain": [
       "<Figure size 432x288 with 1 Axes>"
      ]
     },
     "metadata": {
      "needs_background": "light"
     },
     "output_type": "display_data"
    },
    {
     "data": {
      "text/plain": [
       "<Figure size 432x288 with 0 Axes>"
      ]
     },
     "metadata": {},
     "output_type": "display_data"
    }
   ],
   "source": [
    "%matplotlib inline\n",
    "import matplotlib.pyplot as plt\n",
    "\n",
    "acc = history.history['acc']\n",
    "val_acc = history.history['val_acc']\n",
    "loss = history.history['loss']\n",
    "val_loss = history.history['val_loss']\n",
    "epochs = range(1, len(acc) + 1)\n",
    "\n",
    "plt.plot(epochs, acc, 'b--', label='Training acc')\n",
    "plt.plot(epochs, val_acc, 'b', label='Validation acc')\n",
    "plt.title('Training and validation accuracy')\n",
    "plt.legend()\n",
    "#plt.savefig(\"RNN_tweet/Figs/N_method1/N_acc.png\")\n",
    "\n",
    "plt.figure()\n",
    "\n",
    "plt.plot(epochs, loss, 'b--', label='Training loss')\n",
    "plt.plot(epochs, val_loss, 'b', label='Validation loss')\n",
    "plt.title('Training and validation loss')\n",
    "plt.legend()\n",
    "#plt.savefig(\"RNN_tweet/Figs/N_method1/N_loss.png\")\n",
    "\n",
    "plt.figure()"
   ]
  },
  {
   "cell_type": "code",
   "execution_count": 10,
   "metadata": {
    "lines_to_next_cell": 0
   },
   "outputs": [
    {
     "data": {
      "image/png": "[encoded data removed]",
      "text/plain": [
       "<Figure size 432x288 with 2 Axes>"
      ]
     },
     "metadata": {
      "needs_background": "light"
     },
     "output_type": "display_data"
    }
   ],
   "source": [
    "fig = plt.figure()\n",
    "ax_acc = fig.add_subplot(111)\n",
    "ax_acc.plot(epochs, val_acc, 'b--', label='Validation acc')\n",
    "plt.legend(bbox_to_anchor=(0, 1), loc='upper left', borderaxespad=0.5, fontsize=10)\n",
    "\n",
    "ax_loss = ax_acc.twinx()\n",
    "ax_loss.plot(epochs, val_loss, 'b', label='Validation loss')\n",
    "plt.legend(bbox_to_anchor=(0, 0.9), loc='upper left', borderaxespad=0.5, fontsize=10)\n",
    "plt.title('Validation acc and Validation loss')\n",
    "ax_acc.set_xlabel('epochs')\n",
    "ax_acc.set_ylabel('Validation acc')\n",
    "ax_loss.grid(True)\n",
    "ax_loss.set_ylabel('Validation loss')\n",
    "plt.show()\n",
    "\n",
    "#plt.savefig(\"N_f_measure.png\")"
   ]
  },
  {
   "cell_type": "code",
   "execution_count": null,
   "metadata": {
    "lines_to_next_cell": 2
   },
   "outputs": [],
   "source": []
  }
 ],
 "metadata": {
  "jupytext": {
   "encoding": "# -*- coding: utf-8 -*-",
   "text_representation": {
    "extension": ".py",
    "format_name": "light",
    "format_version": "1.5",
    "jupytext_version": "1.3.0"
   }
  },
  "kernelspec": {
   "display_name": "Python 3",
   "language": "python",
   "name": "python3"
  },
  "language_info": {
   "codemirror_mode": {
    "name": "ipython",
    "version": 3
   },
   "file_extension": ".py",
   "mimetype": "text/x-python",
   "name": "python",
   "nbconvert_exporter": "python",
   "pygments_lexer": "ipython3",
   "version": "3.6.7"
  }
 },
 "nbformat": 4,
 "nbformat_minor": 2
}
