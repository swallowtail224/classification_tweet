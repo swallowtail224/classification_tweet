{
 "cells": [
  {
   "cell_type": "code",
   "execution_count": 4,
   "metadata": {},
   "outputs": [],
   "source": [
    "from gensim.models import word2vec\n",
    "import numpy as np\n",
    "import pandas as pd"
   ]
  },
  {
   "cell_type": "code",
   "execution_count": 2,
   "metadata": {},
   "outputs": [],
   "source": [
    "#word2vecモデルの作成と保存\n",
    "def make_model(text_data, model_name):\n",
    "    data = word2vec.LineSentence(text_data)\n",
    "    model = word2vec.Word2Vec(data, size = 50, window=10, hs= 1, sg=1)\n",
    "    model.save(model_name)\n",
    "    return model"
   ]
  },
  {
   "cell_type": "code",
   "execution_count": 7,
   "metadata": {
    "scrolled": true
   },
   "outputs": [
    {
     "name": "stdout",
     "output_type": "stream",
     "text": [
      "20000\n",
      "<class 'pandas.core.frame.DataFrame'>\n",
      "RangeIndex: 20000 entries, 0 to 19999\n",
      "Data columns (total 12 columns):\n",
      "screen_name    20000 non-null object\n",
      "user_id        20000 non-null float64\n",
      "tweet_id       20000 non-null float64\n",
      "tweet          20000 non-null object\n",
      "tweet2         20000 non-null object\n",
      "postdate       20000 non-null object\n",
      "cos_day        20000 non-null float64\n",
      "sin_day        20000 non-null float64\n",
      "tag            20000 non-null object\n",
      "image_url      20000 non-null object\n",
      "image          20000 non-null int64\n",
      "retweet        20000 non-null float64\n",
      "dtypes: float64(5), int64(1), object(6)\n",
      "memory usage: 1.8+ MB\n"
     ]
    }
   ],
   "source": [
    "#データの読み込み\n",
    "C_use_data = pd.read_csv(filepath_or_buffer=\"Datas/pickup_data.csv\", encoding=\"utf_8\", sep=\",\")\n",
    "print(len(C_use_data))\n",
    "C_use_data.info()\n",
    "D_use_data = pd.read_csv(filepath_or_buffer=\"Datas/A_pickup_data.csv\", encoding=\"utf_8\", sep=\",\")\n",
    "print(len(D_use_data))\n",
    "D_use_data.info()"
   ]
  },
  {
   "cell_type": "code",
   "execution_count": 9,
   "metadata": {},
   "outputs": [],
   "source": [
    "#テキストデータの作成\n",
    "C_use_data.drop(['screen_name','user_id','tweet_id', 'tweet','postdate', 'cos_day', 'sin_day', 'tag', 'image_url', 'image', 'retweet'], axis=1, inplace=True)\n",
    "C_use_data.to_csv(\"Datas/Word2Vec_model/dC_tweet.txt\",header=False, index=False, sep=\",\")\n",
    "D_use_data.drop(['screen_name','user_id','tweet_id', 'tweet','postdate', 'cos_day', 'sin_day', 'tag', 'image_url', 'image', 'retweet'], axis=1, inplace=True)\n",
    "D_use_data.to_csv(\"Datas/Word2Vec_model/dD_tweet.txt\",header=False, index=False, sep=\",\")"
   ]
  },
  {
   "cell_type": "code",
   "execution_count": 14,
   "metadata": {},
   "outputs": [],
   "source": [
    "#モデルの作成と保存\n",
    "C_model = make_model(\"Datas/Word2Vec_model/dC_tweet.txt\", \"Datas/Word2Vec_model/dC.model\")\n",
    "D_model = make_model(\"Datas/Word2Vec_model/dD_tweet.txt\", \"Datas/Word2Vec_model/dD.model\")"
   ]
  }
 ],
 "metadata": {
  "jupytext": {
   "text_representation": {
    "extension": ".py",
    "format_name": "light",
    "format_version": "1.5",
    "jupytext_version": "1.3.0"
   }
  },
  "kernelspec": {
   "display_name": "Python 3",
   "language": "python",
   "name": "python3"
  },
  "language_info": {
   "codemirror_mode": {
    "name": "ipython",
    "version": 3
   },
   "file_extension": ".py",
   "mimetype": "text/x-python",
   "name": "python",
   "nbconvert_exporter": "python",
   "pygments_lexer": "ipython3",
   "version": "3.6.7"
  }
 },
 "nbformat": 4,
 "nbformat_minor": 2
}
