{
 "cells": [
  {
   "cell_type": "code",
   "execution_count": 1,
   "metadata": {},
   "outputs": [
    {
     "name": "stderr",
     "output_type": "stream",
     "text": [
      "Using TensorFlow backend.\n"
     ]
    }
   ],
   "source": [
    "from keras.layers import Input, Dense, Embedding, LSTM, Dropout, concatenate\n",
    "from keras.models import Model\n",
    "from keras.callbacks import EarlyStopping\n",
    "from keras.utils import plot_model\n",
    "from keras.preprocessing.text import Tokenizer\n",
    "from keras.preprocessing.sequence import pad_sequences\n",
    "import numpy as np\n",
    "from keras.utils.np_utils import to_categorical\n",
    "import keras.backend as K\n",
    "from functools import partial\n",
    "import pandas as pd\n",
    "from gensim.models import word2vec\n",
    "from keras.optimizers import Adam"
   ]
  },
  {
   "cell_type": "code",
   "execution_count": 2,
   "metadata": {},
   "outputs": [],
   "source": [
    "def normalize_y_pred(y_pred):\n",
    "    return K.one_hot(K.argmax(y_pred), y_pred.shape[-1])\n",
    "\n",
    "def class_true_positive(class_label, y_true, y_pred):\n",
    "    y_pred = normalize_y_pred(y_pred)\n",
    "    return K.cast(K.equal(y_true[:, class_label] + y_pred[:, class_label], 2), K.floatx())\n",
    "\n",
    "def class_accuracy(class_label, y_true, y_pred):\n",
    "    y_pred = normalize_y_pred(y_pred)\n",
    "    return K.cast(K.equal(y_true[:, class_label], y_pred[:, class_label]),\n",
    "                  K.floatx())\n",
    "\n",
    "def class_precision(class_label, y_true, y_pred):\n",
    "    y_pred = normalize_y_pred(y_pred)\n",
    "    return K.sum(class_true_positive(class_label, y_true, y_pred)) / (K.sum(y_pred[:, class_label]) + K.epsilon())\n",
    "\n",
    "\n",
    "def class_recall(class_label, y_true, y_pred):\n",
    "    return K.sum(class_true_positive(class_label, y_true, y_pred)) / (K.sum(y_true[:, class_label]) + K.epsilon())\n",
    "\n",
    "\n",
    "def class_f_measure(class_label, y_true, y_pred):\n",
    "    precision = class_precision(class_label, y_true, y_pred)\n",
    "    recall = class_recall(class_label, y_true, y_pred)\n",
    "    return (2 * precision * recall) / (precision + recall + K.epsilon())\n",
    "\n",
    "\n",
    "def true_positive(y_true, y_pred):\n",
    "    y_pred = normalize_y_pred(y_pred)\n",
    "    return K.cast(K.equal(y_true + y_pred, 2),\n",
    "                  K.floatx())\n",
    "\n",
    "\n",
    "def micro_precision(y_true, y_pred):\n",
    "    y_pred = normalize_y_pred(y_pred)\n",
    "    return K.sum(true_positive(y_true, y_pred)) / (K.sum(y_pred) + K.epsilon())\n",
    "\n",
    "\n",
    "def micro_recall(y_true, y_pred):\n",
    "    return K.sum(true_positive(y_true, y_pred)) / (K.sum(y_true) + K.epsilon())\n",
    "\n",
    "\n",
    "def micro_f_measure(y_true, y_pred):\n",
    "    precision = micro_precision(y_true, y_pred)\n",
    "    recall = micro_recall(y_true, y_pred)\n",
    "    return (2 * precision * recall) / (precision + recall + K.epsilon())\n",
    "\n",
    "\n",
    "def average_accuracy(y_true, y_pred):\n",
    "    class_count = y_pred.shape[-1]\n",
    "    class_acc_list = [class_accuracy(i, y_true, y_pred) for i in range(class_count)]\n",
    "    class_acc_matrix = K.concatenate(class_acc_list, axis=0)\n",
    "    return K.mean(class_acc_matrix, axis=0)\n",
    "\n",
    "\n",
    "def macro_precision(y_true, y_pred):\n",
    "    class_count = y_pred.shape[-1]\n",
    "    return K.sum([class_precision(i, y_true, y_pred) for i in range(class_count)]) / K.cast(class_count, K.floatx())\n",
    "\n",
    "\n",
    "def macro_recall(y_true, y_pred):\n",
    "    class_count = y_pred.shape[-1]\n",
    "    return K.sum([class_recall(i, y_true, y_pred) for i in range(class_count)]) / K.cast(class_count, K.floatx())\n",
    "\n",
    "\n",
    "def macro_f_measure(y_true, y_pred):\n",
    "    precision = macro_precision(y_true, y_pred)\n",
    "    recall = macro_recall(y_true, y_pred)\n",
    "    return (2 * precision * recall) / (precision + recall + K.epsilon())\n",
    "\n",
    "def weight_variable(shape):\n",
    "    return K.truncated_normal(shape, stddev = 0.01)"
   ]
  },
  {
   "cell_type": "code",
   "execution_count": 3,
   "metadata": {},
   "outputs": [
    {
     "name": "stderr",
     "output_type": "stream",
     "text": [
      "/Users/swallowtail/.local/share/virtualenvs/classification_tweet-zASJ7jKU/lib/python3.6/site-packages/smart_open/smart_open_lib.py:402: UserWarning: This function is deprecated, use smart_open.open instead. See the migration notes for details: https://github.com/RaRe-Technologies/smart_open/blob/master/README.rst#migrating-to-the-new-open-function\n",
      "  'See the migration notes for details: %s' % _MIGRATION_NOTES_URL\n"
     ]
    },
    {
     "name": "stdout",
     "output_type": "stream",
     "text": [
      "20000\n",
      "<class 'pandas.core.frame.DataFrame'>\n",
      "RangeIndex: 20000 entries, 0 to 19999\n",
      "Data columns (total 12 columns):\n",
      "screen_name    20000 non-null object\n",
      "user_id        20000 non-null float64\n",
      "tweet_id       20000 non-null float64\n",
      "tweet          20000 non-null object\n",
      "tweet2         20000 non-null object\n",
      "postdate       20000 non-null object\n",
      "cos_day        20000 non-null float64\n",
      "sin_day        20000 non-null float64\n",
      "tag            20000 non-null object\n",
      "image_url      20000 non-null object\n",
      "image          20000 non-null int64\n",
      "retweet        20000 non-null float64\n",
      "dtypes: float64(5), int64(1), object(6)\n",
      "memory usage: 1.8+ MB\n"
     ]
    }
   ],
   "source": [
    "#学習済みモデルのロード\n",
    "embeddings_model = word2vec.Word2Vec.load('Datas/Word2Vec_model/dD.model')\n",
    "#データの読み込み\n",
    "use_data = pd.read_csv(filepath_or_buffer=\"Datas/A_pickup_data.csv\", encoding=\"utf_8\", sep=\",\")\n",
    "print(len(use_data))\n",
    "use_data.info()"
   ]
  },
  {
   "cell_type": "code",
   "execution_count": 4,
   "metadata": {},
   "outputs": [
    {
     "name": "stdout",
     "output_type": "stream",
     "text": [
      "Found 23377 unique tokens.\n"
     ]
    },
    {
     "name": "stderr",
     "output_type": "stream",
     "text": [
      "/Users/swallowtail/.local/share/virtualenvs/classification_tweet-zASJ7jKU/lib/python3.6/site-packages/ipykernel_launcher.py:22: DeprecationWarning: Call to deprecated `__getitem__` (Method will be removed in 4.0.0, use self.wv.__getitem__() instead).\n"
     ]
    },
    {
     "name": "stdout",
     "output_type": "stream",
     "text": [
      "Shape of data tensor:(20000, 50)\n",
      "Shape of label tensor:(20000, 2)\n"
     ]
    }
   ],
   "source": [
    "maxlen = 50\n",
    "train = 0.7\n",
    "validation = 0.1\n",
    "max_words = 25000\n",
    "\n",
    "#データをランダムにシャッフル\n",
    "use_data_s = use_data.sample(frac=1, random_state=150)\n",
    "\n",
    "# word indexを作成\n",
    "tokenizer = Tokenizer(num_words=max_words)\n",
    "tokenizer.fit_on_texts(use_data_s['tweet2'])\n",
    "sequences = tokenizer.texts_to_sequences(use_data_s['tweet2'])\n",
    "\n",
    "word_index = tokenizer.word_index\n",
    "num_words = len(word_index)\n",
    "\n",
    "print(\"Found {} unique tokens.\".format(len(word_index)))\n",
    "\n",
    "embedding_matrix = np.zeros((num_words+1, 50))\n",
    "for word, i in word_index.items():\n",
    "    if word in embeddings_model.wv.index2word:\n",
    "        embedding_matrix[i] = embeddings_model[word]\n",
    "\n",
    "data = pad_sequences(sequences, maxlen=maxlen)\n",
    "\n",
    "# バイナリの行列に変換\n",
    "categorical_labels = to_categorical(use_data_s['retweet'])\n",
    "labels = np.asarray(categorical_labels)\n",
    "\n",
    "print(\"Shape of data tensor:{}\".format(data.shape))\n",
    "print(\"Shape of label tensor:{}\".format(labels.shape))\n",
    "\n",
    "indices = [int(len(labels) * n) for n in [train, train + validation]]\n",
    "x_train, x_val, x_test = np.split(data, indices)\n",
    "y_train, y_val, y_test = np.split(labels, indices)"
   ]
  },
  {
   "cell_type": "code",
   "execution_count": 5,
   "metadata": {},
   "outputs": [
    {
     "name": "stdout",
     "output_type": "stream",
     "text": [
      "_________________________________________________________________\n",
      "Layer (type)                 Output Shape              Param #   \n",
      "=================================================================\n",
      "input_postText (InputLayer)  (None, 50)                0         \n",
      "_________________________________________________________________\n",
      "embedding_1 (Embedding)      (None, 50, 50)            1168900   \n",
      "_________________________________________________________________\n",
      "dropout_1 (Dropout)          (None, 50, 50)            0         \n",
      "_________________________________________________________________\n",
      "lstm_1 (LSTM)                (None, 32)                10624     \n",
      "_________________________________________________________________\n",
      "dropout_2 (Dropout)          (None, 32)                0         \n",
      "_________________________________________________________________\n",
      "output (Dense)               (None, 2)                 66        \n",
      "=================================================================\n",
      "Total params: 1,179,590\n",
      "Trainable params: 10,690\n",
      "Non-trainable params: 1,168,900\n",
      "_________________________________________________________________\n"
     ]
    }
   ],
   "source": [
    "p_input = Input(shape=(50, ), dtype='int32', name='input_postText')\n",
    "\n",
    "em = Embedding(input_dim=num_words+1, output_dim=50, input_length=50, weights=[embedding_matrix], trainable=False)(p_input)\n",
    "d_em = Dropout(0.5)(em)\n",
    "lstm_out = LSTM(32, kernel_initializer=weight_variable)(d_em)\n",
    "d_lstm_out = Dropout(0.5)(lstm_out)\n",
    "output = Dense(2, activation='softmax', name = 'output')(d_lstm_out)\n",
    "\n",
    "model = Model(inputs=p_input, outputs = output)\n",
    "optimizer = Adam(lr=1e-4)\n",
    "model.compile(optimizer=optimizer, loss='categorical_crossentropy',  metrics=['acc', macro_precision, macro_recall, macro_f_measure])\n",
    "model.summary()\n",
    "#plot_model(model, show_shapes=True, show_layer_names=True, to_file='model_image/model1.png')\n",
    "\n",
    "early_stopping = EarlyStopping(patience=5, verbose=1)"
   ]
  },
  {
   "cell_type": "code",
   "execution_count": 6,
   "metadata": {},
   "outputs": [
    {
     "name": "stdout",
     "output_type": "stream",
     "text": [
      "Train on 14000 samples, validate on 1999 samples\n",
      "Epoch 1/100\n",
      "14000/14000 [==============================] - 5s 337us/step - loss: 0.6789 - acc: 0.5483 - macro_precision: 0.5534 - macro_recall: 0.5470 - macro_f_measure: 0.5502 - val_loss: 0.6660 - val_acc: 0.5883 - val_macro_precision: 0.5989 - val_macro_recall: 0.5910 - val_macro_f_measure: 0.5949\n",
      "Epoch 2/100\n",
      "14000/14000 [==============================] - 4s 288us/step - loss: 0.6483 - acc: 0.6178 - macro_precision: 0.6295 - macro_recall: 0.6199 - macro_f_measure: 0.6246 - val_loss: 0.6325 - val_acc: 0.6503 - val_macro_precision: 0.6858 - val_macro_recall: 0.6458 - val_macro_f_measure: 0.6652\n",
      "Epoch 3/100\n",
      "14000/14000 [==============================] - 4s 296us/step - loss: 0.6165 - acc: 0.6450 - macro_precision: 0.6794 - macro_recall: 0.6465 - macro_f_measure: 0.6625 - val_loss: 0.5960 - val_acc: 0.6738 - val_macro_precision: 0.7147 - val_macro_recall: 0.6691 - val_macro_f_measure: 0.6911\n",
      "Epoch 4/100\n",
      "14000/14000 [==============================] - 4s 270us/step - loss: 0.5843 - acc: 0.6836 - macro_precision: 0.7015 - macro_recall: 0.6846 - macro_f_measure: 0.6929 - val_loss: 0.5640 - val_acc: 0.7014 - val_macro_precision: 0.7125 - val_macro_recall: 0.6986 - val_macro_f_measure: 0.7054\n",
      "Epoch 5/100\n",
      "14000/14000 [==============================] - 4s 283us/step - loss: 0.5661 - acc: 0.6996 - macro_precision: 0.7051 - macro_recall: 0.7001 - macro_f_measure: 0.7026 - val_loss: 0.5515 - val_acc: 0.7119 - val_macro_precision: 0.7125 - val_macro_recall: 0.7109 - val_macro_f_measure: 0.7117\n",
      "Epoch 6/100\n",
      "14000/14000 [==============================] - 4s 295us/step - loss: 0.5575 - acc: 0.7061 - macro_precision: 0.7092 - macro_recall: 0.7065 - macro_f_measure: 0.7078 - val_loss: 0.5468 - val_acc: 0.7219 - val_macro_precision: 0.7234 - val_macro_recall: 0.7210 - val_macro_f_measure: 0.7222\n",
      "Epoch 7/100\n",
      "14000/14000 [==============================] - 5s 337us/step - loss: 0.5514 - acc: 0.7099 - macro_precision: 0.7113 - macro_recall: 0.7101 - macro_f_measure: 0.7107 - val_loss: 0.5430 - val_acc: 0.7209 - val_macro_precision: 0.7238 - val_macro_recall: 0.7196 - val_macro_f_measure: 0.7217\n",
      "Epoch 8/100\n",
      "14000/14000 [==============================] - 5s 359us/step - loss: 0.5493 - acc: 0.7149 - macro_precision: 0.7170 - macro_recall: 0.7149 - macro_f_measure: 0.7159 - val_loss: 0.5405 - val_acc: 0.7244 - val_macro_precision: 0.7266 - val_macro_recall: 0.7231 - val_macro_f_measure: 0.7249\n",
      "Epoch 9/100\n",
      "14000/14000 [==============================] - 4s 261us/step - loss: 0.5431 - acc: 0.7162 - macro_precision: 0.7180 - macro_recall: 0.7170 - macro_f_measure: 0.7175 - val_loss: 0.5366 - val_acc: 0.7194 - val_macro_precision: 0.7202 - val_macro_recall: 0.7188 - val_macro_f_measure: 0.7195\n",
      "Epoch 10/100\n",
      "14000/14000 [==============================] - 4s 254us/step - loss: 0.5447 - acc: 0.7176 - macro_precision: 0.7189 - macro_recall: 0.7179 - macro_f_measure: 0.7184 - val_loss: 0.5353 - val_acc: 0.7269 - val_macro_precision: 0.7279 - val_macro_recall: 0.7261 - val_macro_f_measure: 0.7270\n",
      "Epoch 11/100\n",
      "14000/14000 [==============================] - 5s 331us/step - loss: 0.5395 - acc: 0.7163 - macro_precision: 0.7173 - macro_recall: 0.7166 - macro_f_measure: 0.7169 - val_loss: 0.5337 - val_acc: 0.7249 - val_macro_precision: 0.7258 - val_macro_recall: 0.7242 - val_macro_f_measure: 0.7250\n",
      "Epoch 12/100\n",
      "14000/14000 [==============================] - 4s 304us/step - loss: 0.5416 - acc: 0.7134 - macro_precision: 0.7151 - macro_recall: 0.7137 - macro_f_measure: 0.7144 - val_loss: 0.5314 - val_acc: 0.7209 - val_macro_precision: 0.7227 - val_macro_recall: 0.7198 - val_macro_f_measure: 0.7213\n",
      "Epoch 13/100\n",
      "14000/14000 [==============================] - 4s 271us/step - loss: 0.5383 - acc: 0.7181 - macro_precision: 0.7195 - macro_recall: 0.7182 - macro_f_measure: 0.7188 - val_loss: 0.5298 - val_acc: 0.7244 - val_macro_precision: 0.7262 - val_macro_recall: 0.7232 - val_macro_f_measure: 0.7247\n",
      "Epoch 14/100\n",
      "14000/14000 [==============================] - 4s 275us/step - loss: 0.5377 - acc: 0.7171 - macro_precision: 0.7196 - macro_recall: 0.7176 - macro_f_measure: 0.7186 - val_loss: 0.5282 - val_acc: 0.7279 - val_macro_precision: 0.7304 - val_macro_recall: 0.7265 - val_macro_f_measure: 0.7285\n",
      "Epoch 15/100\n",
      "14000/14000 [==============================] - 4s 273us/step - loss: 0.5363 - acc: 0.7199 - macro_precision: 0.7216 - macro_recall: 0.7204 - macro_f_measure: 0.7210 - val_loss: 0.5263 - val_acc: 0.7299 - val_macro_precision: 0.7317 - val_macro_recall: 0.7286 - val_macro_f_measure: 0.7302\n",
      "Epoch 16/100\n",
      "14000/14000 [==============================] - 4s 272us/step - loss: 0.5328 - acc: 0.7211 - macro_precision: 0.7221 - macro_recall: 0.7213 - macro_f_measure: 0.7217 - val_loss: 0.5258 - val_acc: 0.7274 - val_macro_precision: 0.7305 - val_macro_recall: 0.7258 - val_macro_f_measure: 0.7281\n",
      "Epoch 17/100\n",
      "14000/14000 [==============================] - 4s 282us/step - loss: 0.5353 - acc: 0.7213 - macro_precision: 0.7226 - macro_recall: 0.7212 - macro_f_measure: 0.7219 - val_loss: 0.5248 - val_acc: 0.7319 - val_macro_precision: 0.7323 - val_macro_recall: 0.7312 - val_macro_f_measure: 0.7318\n",
      "Epoch 18/100\n",
      "14000/14000 [==============================] - 5s 322us/step - loss: 0.5338 - acc: 0.7213 - macro_precision: 0.7235 - macro_recall: 0.7215 - macro_f_measure: 0.7225 - val_loss: 0.5245 - val_acc: 0.7294 - val_macro_precision: 0.7329 - val_macro_recall: 0.7276 - val_macro_f_measure: 0.7303\n",
      "Epoch 19/100\n",
      "14000/14000 [==============================] - 5s 348us/step - loss: 0.5332 - acc: 0.7247 - macro_precision: 0.7269 - macro_recall: 0.7253 - macro_f_measure: 0.7261 - val_loss: 0.5223 - val_acc: 0.7339 - val_macro_precision: 0.7357 - val_macro_recall: 0.7328 - val_macro_f_measure: 0.7342\n",
      "Epoch 20/100\n",
      "14000/14000 [==============================] - 4s 303us/step - loss: 0.5308 - acc: 0.7240 - macro_precision: 0.7252 - macro_recall: 0.7235 - macro_f_measure: 0.7243 - val_loss: 0.5217 - val_acc: 0.7344 - val_macro_precision: 0.7367 - val_macro_recall: 0.7329 - val_macro_f_measure: 0.7348\n",
      "Epoch 21/100\n",
      "14000/14000 [==============================] - 4s 305us/step - loss: 0.5290 - acc: 0.7266 - macro_precision: 0.7290 - macro_recall: 0.7271 - macro_f_measure: 0.7280 - val_loss: 0.5203 - val_acc: 0.7329 - val_macro_precision: 0.7349 - val_macro_recall: 0.7315 - val_macro_f_measure: 0.7332\n",
      "Epoch 22/100\n",
      "14000/14000 [==============================] - 5s 374us/step - loss: 0.5258 - acc: 0.7279 - macro_precision: 0.7292 - macro_recall: 0.7280 - macro_f_measure: 0.7286 - val_loss: 0.5198 - val_acc: 0.7314 - val_macro_precision: 0.7333 - val_macro_recall: 0.7301 - val_macro_f_measure: 0.7317\n",
      "Epoch 23/100\n",
      "14000/14000 [==============================] - 4s 281us/step - loss: 0.5262 - acc: 0.7287 - macro_precision: 0.7300 - macro_recall: 0.7287 - macro_f_measure: 0.7294 - val_loss: 0.5186 - val_acc: 0.7339 - val_macro_precision: 0.7369 - val_macro_recall: 0.7323 - val_macro_f_measure: 0.7346\n",
      "Epoch 24/100\n",
      "14000/14000 [==============================] - 4s 291us/step - loss: 0.5269 - acc: 0.7246 - macro_precision: 0.7267 - macro_recall: 0.7251 - macro_f_measure: 0.7259 - val_loss: 0.5180 - val_acc: 0.7334 - val_macro_precision: 0.7348 - val_macro_recall: 0.7322 - val_macro_f_measure: 0.7335\n",
      "Epoch 25/100\n",
      "14000/14000 [==============================] - 7s 490us/step - loss: 0.5232 - acc: 0.7293 - macro_precision: 0.7307 - macro_recall: 0.7293 - macro_f_measure: 0.7300 - val_loss: 0.5162 - val_acc: 0.7324 - val_macro_precision: 0.7335 - val_macro_recall: 0.7315 - val_macro_f_measure: 0.7325\n",
      "Epoch 26/100\n",
      "14000/14000 [==============================] - 6s 463us/step - loss: 0.5246 - acc: 0.7269 - macro_precision: 0.7289 - macro_recall: 0.7271 - macro_f_measure: 0.7280 - val_loss: 0.5167 - val_acc: 0.7384 - val_macro_precision: 0.7404 - val_macro_recall: 0.7371 - val_macro_f_measure: 0.7387\n",
      "Epoch 27/100\n",
      "14000/14000 [==============================] - 4s 287us/step - loss: 0.5232 - acc: 0.7289 - macro_precision: 0.7310 - macro_recall: 0.7289 - macro_f_measure: 0.7299 - val_loss: 0.5152 - val_acc: 0.7334 - val_macro_precision: 0.7345 - val_macro_recall: 0.7325 - val_macro_f_measure: 0.7334\n"
     ]
    },
    {
     "name": "stdout",
     "output_type": "stream",
     "text": [
      "Epoch 28/100\n",
      "14000/14000 [==============================] - 4s 251us/step - loss: 0.5248 - acc: 0.7284 - macro_precision: 0.7308 - macro_recall: 0.7284 - macro_f_measure: 0.7296 - val_loss: 0.5142 - val_acc: 0.7369 - val_macro_precision: 0.7380 - val_macro_recall: 0.7360 - val_macro_f_measure: 0.7370\n",
      "Epoch 29/100\n",
      "14000/14000 [==============================] - 4s 272us/step - loss: 0.5204 - acc: 0.7327 - macro_precision: 0.7350 - macro_recall: 0.7326 - macro_f_measure: 0.7338 - val_loss: 0.5141 - val_acc: 0.7389 - val_macro_precision: 0.7409 - val_macro_recall: 0.7376 - val_macro_f_measure: 0.7393\n",
      "Epoch 30/100\n",
      "14000/14000 [==============================] - 4s 309us/step - loss: 0.5205 - acc: 0.7286 - macro_precision: 0.7307 - macro_recall: 0.7290 - macro_f_measure: 0.7299 - val_loss: 0.5139 - val_acc: 0.7379 - val_macro_precision: 0.7412 - val_macro_recall: 0.7360 - val_macro_f_measure: 0.7386\n",
      "Epoch 31/100\n",
      "14000/14000 [==============================] - 5s 360us/step - loss: 0.5222 - acc: 0.7291 - macro_precision: 0.7313 - macro_recall: 0.7293 - macro_f_measure: 0.7303 - val_loss: 0.5124 - val_acc: 0.7399 - val_macro_precision: 0.7421 - val_macro_recall: 0.7387 - val_macro_f_measure: 0.7404\n",
      "Epoch 32/100\n",
      "14000/14000 [==============================] - 6s 438us/step - loss: 0.5242 - acc: 0.7309 - macro_precision: 0.7340 - macro_recall: 0.7313 - macro_f_measure: 0.7326 - val_loss: 0.5130 - val_acc: 0.7399 - val_macro_precision: 0.7413 - val_macro_recall: 0.7389 - val_macro_f_measure: 0.7401\n",
      "Epoch 33/100\n",
      "14000/14000 [==============================] - 7s 527us/step - loss: 0.5202 - acc: 0.7276 - macro_precision: 0.7298 - macro_recall: 0.7280 - macro_f_measure: 0.7289 - val_loss: 0.5119 - val_acc: 0.7424 - val_macro_precision: 0.7446 - val_macro_recall: 0.7411 - val_macro_f_measure: 0.7428\n",
      "Epoch 34/100\n",
      "14000/14000 [==============================] - 4s 304us/step - loss: 0.5210 - acc: 0.7290 - macro_precision: 0.7316 - macro_recall: 0.7290 - macro_f_measure: 0.7302 - val_loss: 0.5115 - val_acc: 0.7414 - val_macro_precision: 0.7432 - val_macro_recall: 0.7405 - val_macro_f_measure: 0.7419\n",
      "Epoch 35/100\n",
      "14000/14000 [==============================] - 4s 307us/step - loss: 0.5202 - acc: 0.7281 - macro_precision: 0.7306 - macro_recall: 0.7287 - macro_f_measure: 0.7296 - val_loss: 0.5114 - val_acc: 0.7404 - val_macro_precision: 0.7419 - val_macro_recall: 0.7395 - val_macro_f_measure: 0.7407\n",
      "Epoch 36/100\n",
      "14000/14000 [==============================] - 6s 409us/step - loss: 0.5177 - acc: 0.7332 - macro_precision: 0.7354 - macro_recall: 0.7339 - macro_f_measure: 0.7347 - val_loss: 0.5108 - val_acc: 0.7394 - val_macro_precision: 0.7403 - val_macro_recall: 0.7387 - val_macro_f_measure: 0.7395\n",
      "Epoch 37/100\n",
      "14000/14000 [==============================] - 5s 382us/step - loss: 0.5196 - acc: 0.7331 - macro_precision: 0.7360 - macro_recall: 0.7332 - macro_f_measure: 0.7346 - val_loss: 0.5105 - val_acc: 0.7394 - val_macro_precision: 0.7415 - val_macro_recall: 0.7383 - val_macro_f_measure: 0.7399\n",
      "Epoch 38/100\n",
      "14000/14000 [==============================] - 6s 437us/step - loss: 0.5185 - acc: 0.7328 - macro_precision: 0.7361 - macro_recall: 0.7333 - macro_f_measure: 0.7347 - val_loss: 0.5107 - val_acc: 0.7409 - val_macro_precision: 0.7445 - val_macro_recall: 0.7390 - val_macro_f_measure: 0.7417\n",
      "Epoch 39/100\n",
      "14000/14000 [==============================] - 5s 324us/step - loss: 0.5158 - acc: 0.7351 - macro_precision: 0.7372 - macro_recall: 0.7356 - macro_f_measure: 0.7364 - val_loss: 0.5107 - val_acc: 0.7424 - val_macro_precision: 0.7459 - val_macro_recall: 0.7407 - val_macro_f_measure: 0.7433\n",
      "Epoch 40/100\n",
      "14000/14000 [==============================] - 6s 397us/step - loss: 0.5150 - acc: 0.7350 - macro_precision: 0.7373 - macro_recall: 0.7355 - macro_f_measure: 0.7364 - val_loss: 0.5096 - val_acc: 0.7419 - val_macro_precision: 0.7454 - val_macro_recall: 0.7403 - val_macro_f_measure: 0.7428\n",
      "Epoch 41/100\n",
      "14000/14000 [==============================] - 4s 268us/step - loss: 0.5169 - acc: 0.7321 - macro_precision: 0.7341 - macro_recall: 0.7325 - macro_f_measure: 0.7333 - val_loss: 0.5083 - val_acc: 0.7409 - val_macro_precision: 0.7432 - val_macro_recall: 0.7397 - val_macro_f_measure: 0.7415\n",
      "Epoch 42/100\n",
      "14000/14000 [==============================] - 4s 253us/step - loss: 0.5151 - acc: 0.7333 - macro_precision: 0.7355 - macro_recall: 0.7336 - macro_f_measure: 0.7346 - val_loss: 0.5081 - val_acc: 0.7364 - val_macro_precision: 0.7374 - val_macro_recall: 0.7357 - val_macro_f_measure: 0.7365\n",
      "Epoch 43/100\n",
      "14000/14000 [==============================] - 4s 265us/step - loss: 0.5145 - acc: 0.7347 - macro_precision: 0.7373 - macro_recall: 0.7349 - macro_f_measure: 0.7361 - val_loss: 0.5092 - val_acc: 0.7354 - val_macro_precision: 0.7360 - val_macro_recall: 0.7349 - val_macro_f_measure: 0.7354\n",
      "Epoch 44/100\n",
      "14000/14000 [==============================] - 5s 333us/step - loss: 0.5134 - acc: 0.7368 - macro_precision: 0.7391 - macro_recall: 0.7367 - macro_f_measure: 0.7379 - val_loss: 0.5085 - val_acc: 0.7459 - val_macro_precision: 0.7499 - val_macro_recall: 0.7442 - val_macro_f_measure: 0.7470\n",
      "Epoch 45/100\n",
      "14000/14000 [==============================] - 4s 276us/step - loss: 0.5116 - acc: 0.7411 - macro_precision: 0.7433 - macro_recall: 0.7417 - macro_f_measure: 0.7425 - val_loss: 0.5073 - val_acc: 0.7429 - val_macro_precision: 0.7458 - val_macro_recall: 0.7415 - val_macro_f_measure: 0.7436\n",
      "Epoch 46/100\n",
      "14000/14000 [==============================] - 5s 375us/step - loss: 0.5151 - acc: 0.7361 - macro_precision: 0.7400 - macro_recall: 0.7367 - macro_f_measure: 0.7383 - val_loss: 0.5081 - val_acc: 0.7454 - val_macro_precision: 0.7486 - val_macro_recall: 0.7439 - val_macro_f_measure: 0.7463\n",
      "Epoch 47/100\n",
      "14000/14000 [==============================] - 4s 280us/step - loss: 0.5153 - acc: 0.7377 - macro_precision: 0.7402 - macro_recall: 0.7376 - macro_f_measure: 0.7389 - val_loss: 0.5075 - val_acc: 0.7444 - val_macro_precision: 0.7481 - val_macro_recall: 0.7428 - val_macro_f_measure: 0.7454\n",
      "Epoch 48/100\n",
      "14000/14000 [==============================] - 4s 278us/step - loss: 0.5125 - acc: 0.7392 - macro_precision: 0.7419 - macro_recall: 0.7397 - macro_f_measure: 0.7408 - val_loss: 0.5064 - val_acc: 0.7419 - val_macro_precision: 0.7447 - val_macro_recall: 0.7403 - val_macro_f_measure: 0.7425\n",
      "Epoch 49/100\n",
      "14000/14000 [==============================] - 4s 286us/step - loss: 0.5103 - acc: 0.7379 - macro_precision: 0.7397 - macro_recall: 0.7386 - macro_f_measure: 0.7392 - val_loss: 0.5087 - val_acc: 0.7489 - val_macro_precision: 0.7568 - val_macro_recall: 0.7466 - val_macro_f_measure: 0.7516\n",
      "Epoch 50/100\n",
      "14000/14000 [==============================] - 4s 279us/step - loss: 0.5135 - acc: 0.7338 - macro_precision: 0.7364 - macro_recall: 0.7340 - macro_f_measure: 0.7352 - val_loss: 0.5051 - val_acc: 0.7439 - val_macro_precision: 0.7458 - val_macro_recall: 0.7427 - val_macro_f_measure: 0.7443\n",
      "Epoch 51/100\n",
      "14000/14000 [==============================] - 4s 305us/step - loss: 0.5115 - acc: 0.7368 - macro_precision: 0.7403 - macro_recall: 0.7373 - macro_f_measure: 0.7388 - val_loss: 0.5050 - val_acc: 0.7444 - val_macro_precision: 0.7470 - val_macro_recall: 0.7430 - val_macro_f_measure: 0.7450\n",
      "Epoch 52/100\n",
      "14000/14000 [==============================] - 5s 379us/step - loss: 0.5089 - acc: 0.7410 - macro_precision: 0.7434 - macro_recall: 0.7414 - macro_f_measure: 0.7424 - val_loss: 0.5047 - val_acc: 0.7429 - val_macro_precision: 0.7445 - val_macro_recall: 0.7417 - val_macro_f_measure: 0.7431\n",
      "Epoch 53/100\n",
      "14000/14000 [==============================] - 6s 406us/step - loss: 0.5110 - acc: 0.7366 - macro_precision: 0.7389 - macro_recall: 0.7368 - macro_f_measure: 0.7379 - val_loss: 0.5047 - val_acc: 0.7474 - val_macro_precision: 0.7509 - val_macro_recall: 0.7459 - val_macro_f_measure: 0.7484\n",
      "Epoch 54/100\n",
      "14000/14000 [==============================] - 6s 419us/step - loss: 0.5080 - acc: 0.7404 - macro_precision: 0.7436 - macro_recall: 0.7409 - macro_f_measure: 0.7422 - val_loss: 0.5045 - val_acc: 0.7414 - val_macro_precision: 0.7430 - val_macro_recall: 0.7404 - val_macro_f_measure: 0.7417\n",
      "Epoch 55/100\n"
     ]
    },
    {
     "name": "stdout",
     "output_type": "stream",
     "text": [
      "14000/14000 [==============================] - 6s 457us/step - loss: 0.5100 - acc: 0.7414 - macro_precision: 0.7441 - macro_recall: 0.7416 - macro_f_measure: 0.7428 - val_loss: 0.5047 - val_acc: 0.7474 - val_macro_precision: 0.7522 - val_macro_recall: 0.7458 - val_macro_f_measure: 0.7490\n",
      "Epoch 56/100\n",
      "14000/14000 [==============================] - 7s 470us/step - loss: 0.5096 - acc: 0.7404 - macro_precision: 0.7437 - macro_recall: 0.7415 - macro_f_measure: 0.7426 - val_loss: 0.5047 - val_acc: 0.7484 - val_macro_precision: 0.7530 - val_macro_recall: 0.7467 - val_macro_f_measure: 0.7498\n",
      "Epoch 57/100\n",
      "14000/14000 [==============================] - 5s 371us/step - loss: 0.5114 - acc: 0.7412 - macro_precision: 0.7444 - macro_recall: 0.7415 - macro_f_measure: 0.7429 - val_loss: 0.5097 - val_acc: 0.7459 - val_macro_precision: 0.7570 - val_macro_recall: 0.7434 - val_macro_f_measure: 0.7501\n",
      "Epoch 58/100\n",
      "14000/14000 [==============================] - 7s 471us/step - loss: 0.5102 - acc: 0.7394 - macro_precision: 0.7427 - macro_recall: 0.7400 - macro_f_measure: 0.7413 - val_loss: 0.5035 - val_acc: 0.7479 - val_macro_precision: 0.7511 - val_macro_recall: 0.7466 - val_macro_f_measure: 0.7488\n",
      "Epoch 59/100\n",
      "14000/14000 [==============================] - 6s 402us/step - loss: 0.5090 - acc: 0.7393 - macro_precision: 0.7415 - macro_recall: 0.7394 - macro_f_measure: 0.7405 - val_loss: 0.5059 - val_acc: 0.7484 - val_macro_precision: 0.7548 - val_macro_recall: 0.7464 - val_macro_f_measure: 0.7506\n",
      "Epoch 60/100\n",
      "14000/14000 [==============================] - 5s 327us/step - loss: 0.5057 - acc: 0.7419 - macro_precision: 0.7454 - macro_recall: 0.7424 - macro_f_measure: 0.7439 - val_loss: 0.5039 - val_acc: 0.7469 - val_macro_precision: 0.7498 - val_macro_recall: 0.7456 - val_macro_f_measure: 0.7477\n",
      "Epoch 61/100\n",
      "14000/14000 [==============================] - 5s 327us/step - loss: 0.5094 - acc: 0.7402 - macro_precision: 0.7425 - macro_recall: 0.7405 - macro_f_measure: 0.7415 - val_loss: 0.5042 - val_acc: 0.7474 - val_macro_precision: 0.7536 - val_macro_recall: 0.7455 - val_macro_f_measure: 0.7495\n",
      "Epoch 62/100\n",
      "14000/14000 [==============================] - 4s 267us/step - loss: 0.5065 - acc: 0.7424 - macro_precision: 0.7448 - macro_recall: 0.7426 - macro_f_measure: 0.7437 - val_loss: 0.5027 - val_acc: 0.7504 - val_macro_precision: 0.7539 - val_macro_recall: 0.7489 - val_macro_f_measure: 0.7514\n",
      "Epoch 63/100\n",
      "14000/14000 [==============================] - 4s 269us/step - loss: 0.5097 - acc: 0.7406 - macro_precision: 0.7432 - macro_recall: 0.7408 - macro_f_measure: 0.7420 - val_loss: 0.5047 - val_acc: 0.7489 - val_macro_precision: 0.7519 - val_macro_recall: 0.7477 - val_macro_f_measure: 0.7498\n",
      "Epoch 64/100\n",
      "14000/14000 [==============================] - 3s 241us/step - loss: 0.5072 - acc: 0.7421 - macro_precision: 0.7445 - macro_recall: 0.7420 - macro_f_measure: 0.7433 - val_loss: 0.5034 - val_acc: 0.7504 - val_macro_precision: 0.7554 - val_macro_recall: 0.7487 - val_macro_f_measure: 0.7520\n",
      "Epoch 65/100\n",
      "14000/14000 [==============================] - 3s 241us/step - loss: 0.5048 - acc: 0.7452 - macro_precision: 0.7476 - macro_recall: 0.7458 - macro_f_measure: 0.7467 - val_loss: 0.5032 - val_acc: 0.7434 - val_macro_precision: 0.7449 - val_macro_recall: 0.7425 - val_macro_f_measure: 0.7437\n",
      "Epoch 66/100\n",
      "14000/14000 [==============================] - 3s 247us/step - loss: 0.5063 - acc: 0.7414 - macro_precision: 0.7447 - macro_recall: 0.7420 - macro_f_measure: 0.7433 - val_loss: 0.5019 - val_acc: 0.7444 - val_macro_precision: 0.7463 - val_macro_recall: 0.7434 - val_macro_f_measure: 0.7449\n",
      "Epoch 67/100\n",
      "14000/14000 [==============================] - 3s 245us/step - loss: 0.5047 - acc: 0.7413 - macro_precision: 0.7446 - macro_recall: 0.7418 - macro_f_measure: 0.7432 - val_loss: 0.5022 - val_acc: 0.7439 - val_macro_precision: 0.7451 - val_macro_recall: 0.7432 - val_macro_f_measure: 0.7442\n",
      "Epoch 68/100\n",
      "14000/14000 [==============================] - 4s 306us/step - loss: 0.5040 - acc: 0.7455 - macro_precision: 0.7483 - macro_recall: 0.7460 - macro_f_measure: 0.7471 - val_loss: 0.5022 - val_acc: 0.7489 - val_macro_precision: 0.7528 - val_macro_recall: 0.7476 - val_macro_f_measure: 0.7502\n",
      "Epoch 69/100\n",
      "14000/14000 [==============================] - 5s 369us/step - loss: 0.5041 - acc: 0.7439 - macro_precision: 0.7463 - macro_recall: 0.7441 - macro_f_measure: 0.7452 - val_loss: 0.5027 - val_acc: 0.7499 - val_macro_precision: 0.7538 - val_macro_recall: 0.7485 - val_macro_f_measure: 0.7511\n",
      "Epoch 70/100\n",
      "14000/14000 [==============================] - 4s 260us/step - loss: 0.5066 - acc: 0.7435 - macro_precision: 0.7459 - macro_recall: 0.7438 - macro_f_measure: 0.7448 - val_loss: 0.5033 - val_acc: 0.7474 - val_macro_precision: 0.7499 - val_macro_recall: 0.7464 - val_macro_f_measure: 0.7481\n",
      "Epoch 71/100\n",
      "14000/14000 [==============================] - 5s 322us/step - loss: 0.5051 - acc: 0.7439 - macro_precision: 0.7461 - macro_recall: 0.7444 - macro_f_measure: 0.7453 - val_loss: 0.5014 - val_acc: 0.7494 - val_macro_precision: 0.7539 - val_macro_recall: 0.7479 - val_macro_f_measure: 0.7509\n",
      "Epoch 72/100\n",
      "14000/14000 [==============================] - 5s 324us/step - loss: 0.5060 - acc: 0.7444 - macro_precision: 0.7476 - macro_recall: 0.7454 - macro_f_measure: 0.7465 - val_loss: 0.5010 - val_acc: 0.7464 - val_macro_precision: 0.7494 - val_macro_recall: 0.7451 - val_macro_f_measure: 0.7473\n",
      "Epoch 73/100\n",
      "14000/14000 [==============================] - 4s 284us/step - loss: 0.5016 - acc: 0.7447 - macro_precision: 0.7480 - macro_recall: 0.7452 - macro_f_measure: 0.7466 - val_loss: 0.5023 - val_acc: 0.7509 - val_macro_precision: 0.7592 - val_macro_recall: 0.7487 - val_macro_f_measure: 0.7539\n",
      "Epoch 74/100\n",
      "14000/14000 [==============================] - 4s 296us/step - loss: 0.5069 - acc: 0.7431 - macro_precision: 0.7460 - macro_recall: 0.7436 - macro_f_measure: 0.7448 - val_loss: 0.5007 - val_acc: 0.7524 - val_macro_precision: 0.7571 - val_macro_recall: 0.7508 - val_macro_f_measure: 0.7540\n",
      "Epoch 75/100\n",
      "14000/14000 [==============================] - 5s 344us/step - loss: 0.5044 - acc: 0.7446 - macro_precision: 0.7476 - macro_recall: 0.7452 - macro_f_measure: 0.7464 - val_loss: 0.5016 - val_acc: 0.7469 - val_macro_precision: 0.7495 - val_macro_recall: 0.7457 - val_macro_f_measure: 0.7476\n",
      "Epoch 76/100\n",
      "14000/14000 [==============================] - 4s 319us/step - loss: 0.5055 - acc: 0.7459 - macro_precision: 0.7480 - macro_recall: 0.7461 - macro_f_measure: 0.7470 - val_loss: 0.5010 - val_acc: 0.7499 - val_macro_precision: 0.7542 - val_macro_recall: 0.7484 - val_macro_f_measure: 0.7513\n",
      "Epoch 77/100\n",
      "14000/14000 [==============================] - 4s 281us/step - loss: 0.5042 - acc: 0.7458 - macro_precision: 0.7492 - macro_recall: 0.7467 - macro_f_measure: 0.7479 - val_loss: 0.5014 - val_acc: 0.7489 - val_macro_precision: 0.7528 - val_macro_recall: 0.7474 - val_macro_f_measure: 0.7501\n",
      "Epoch 78/100\n",
      "14000/14000 [==============================] - 4s 274us/step - loss: 0.5024 - acc: 0.7520 - macro_precision: 0.7550 - macro_recall: 0.7526 - macro_f_measure: 0.7538 - val_loss: 0.5003 - val_acc: 0.7499 - val_macro_precision: 0.7528 - val_macro_recall: 0.7487 - val_macro_f_measure: 0.7507\n",
      "Epoch 79/100\n",
      "14000/14000 [==============================] - 4s 283us/step - loss: 0.5035 - acc: 0.7451 - macro_precision: 0.7482 - macro_recall: 0.7455 - macro_f_measure: 0.7469 - val_loss: 0.5005 - val_acc: 0.7474 - val_macro_precision: 0.7485 - val_macro_recall: 0.7467 - val_macro_f_measure: 0.7476\n",
      "Epoch 80/100\n",
      "14000/14000 [==============================] - 4s 283us/step - loss: 0.5053 - acc: 0.7472 - macro_precision: 0.7502 - macro_recall: 0.7478 - macro_f_measure: 0.7490 - val_loss: 0.4997 - val_acc: 0.7494 - val_macro_precision: 0.7522 - val_macro_recall: 0.7484 - val_macro_f_measure: 0.7503\n",
      "Epoch 81/100\n",
      "14000/14000 [==============================] - 4s 277us/step - loss: 0.5011 - acc: 0.7463 - macro_precision: 0.7499 - macro_recall: 0.7472 - macro_f_measure: 0.7486 - val_loss: 0.5015 - val_acc: 0.7524 - val_macro_precision: 0.7597 - val_macro_recall: 0.7505 - val_macro_f_measure: 0.7551\n",
      "Epoch 82/100\n"
     ]
    },
    {
     "name": "stdout",
     "output_type": "stream",
     "text": [
      "14000/14000 [==============================] - 4s 261us/step - loss: 0.5042 - acc: 0.7457 - macro_precision: 0.7484 - macro_recall: 0.7461 - macro_f_measure: 0.7472 - val_loss: 0.5009 - val_acc: 0.7529 - val_macro_precision: 0.7584 - val_macro_recall: 0.7513 - val_macro_f_measure: 0.7548\n",
      "Epoch 83/100\n",
      "14000/14000 [==============================] - 5s 383us/step - loss: 0.5053 - acc: 0.7429 - macro_precision: 0.7458 - macro_recall: 0.7433 - macro_f_measure: 0.7445 - val_loss: 0.5009 - val_acc: 0.7504 - val_macro_precision: 0.7550 - val_macro_recall: 0.7489 - val_macro_f_measure: 0.7519\n",
      "Epoch 84/100\n",
      "14000/14000 [==============================] - 6s 420us/step - loss: 0.5024 - acc: 0.7464 - macro_precision: 0.7490 - macro_recall: 0.7471 - macro_f_measure: 0.7481 - val_loss: 0.4993 - val_acc: 0.7474 - val_macro_precision: 0.7507 - val_macro_recall: 0.7462 - val_macro_f_measure: 0.7484\n",
      "Epoch 85/100\n",
      "14000/14000 [==============================] - 4s 287us/step - loss: 0.4999 - acc: 0.7457 - macro_precision: 0.7483 - macro_recall: 0.7458 - macro_f_measure: 0.7471 - val_loss: 0.4994 - val_acc: 0.7494 - val_macro_precision: 0.7525 - val_macro_recall: 0.7482 - val_macro_f_measure: 0.7504\n",
      "Epoch 86/100\n",
      "14000/14000 [==============================] - 4s 316us/step - loss: 0.5007 - acc: 0.7504 - macro_precision: 0.7538 - macro_recall: 0.7510 - macro_f_measure: 0.7524 - val_loss: 0.5005 - val_acc: 0.7524 - val_macro_precision: 0.7587 - val_macro_recall: 0.7506 - val_macro_f_measure: 0.7546\n",
      "Epoch 87/100\n",
      "14000/14000 [==============================] - 4s 272us/step - loss: 0.5000 - acc: 0.7524 - macro_precision: 0.7559 - macro_recall: 0.7528 - macro_f_measure: 0.7543 - val_loss: 0.5002 - val_acc: 0.7529 - val_macro_precision: 0.7586 - val_macro_recall: 0.7513 - val_macro_f_measure: 0.7549\n",
      "Epoch 88/100\n",
      "14000/14000 [==============================] - 4s 281us/step - loss: 0.5000 - acc: 0.7496 - macro_precision: 0.7521 - macro_recall: 0.7499 - macro_f_measure: 0.7510 - val_loss: 0.4977 - val_acc: 0.7534 - val_macro_precision: 0.7569 - val_macro_recall: 0.7520 - val_macro_f_measure: 0.7544\n",
      "Epoch 89/100\n",
      "14000/14000 [==============================] - 4s 308us/step - loss: 0.5017 - acc: 0.7481 - macro_precision: 0.7536 - macro_recall: 0.7485 - macro_f_measure: 0.7510 - val_loss: 0.4988 - val_acc: 0.7519 - val_macro_precision: 0.7539 - val_macro_recall: 0.7510 - val_macro_f_measure: 0.7524\n",
      "Epoch 90/100\n",
      "14000/14000 [==============================] - 4s 280us/step - loss: 0.5033 - acc: 0.7445 - macro_precision: 0.7478 - macro_recall: 0.7454 - macro_f_measure: 0.7466 - val_loss: 0.4986 - val_acc: 0.7564 - val_macro_precision: 0.7609 - val_macro_recall: 0.7547 - val_macro_f_measure: 0.7578\n",
      "Epoch 91/100\n",
      "14000/14000 [==============================] - 4s 282us/step - loss: 0.5012 - acc: 0.7471 - macro_precision: 0.7504 - macro_recall: 0.7475 - macro_f_measure: 0.7489 - val_loss: 0.4983 - val_acc: 0.7529 - val_macro_precision: 0.7561 - val_macro_recall: 0.7515 - val_macro_f_measure: 0.7537\n",
      "Epoch 92/100\n",
      "14000/14000 [==============================] - 4s 282us/step - loss: 0.5010 - acc: 0.7471 - macro_precision: 0.7498 - macro_recall: 0.7478 - macro_f_measure: 0.7488 - val_loss: 0.4994 - val_acc: 0.7524 - val_macro_precision: 0.7566 - val_macro_recall: 0.7508 - val_macro_f_measure: 0.7537\n",
      "Epoch 93/100\n",
      "14000/14000 [==============================] - 4s 281us/step - loss: 0.5008 - acc: 0.7479 - macro_precision: 0.7497 - macro_recall: 0.7483 - macro_f_measure: 0.7490 - val_loss: 0.4991 - val_acc: 0.7484 - val_macro_precision: 0.7495 - val_macro_recall: 0.7476 - val_macro_f_measure: 0.7485\n",
      "Epoch 00093: early stopping\n"
     ]
    }
   ],
   "source": [
    "history = model.fit(x_train, y_train,\n",
    "                    epochs=100, \n",
    "                    batch_size=256,\n",
    "                    validation_data=(x_val, y_val),\n",
    "                    callbacks=[early_stopping])"
   ]
  },
  {
   "cell_type": "code",
   "execution_count": 7,
   "metadata": {},
   "outputs": [
    {
     "name": "stdout",
     "output_type": "stream",
     "text": [
      "4001/4001 [==============================] - 1s 272us/step\n",
      "[0.49023836599888687, 0.759810047488128, 0.7614831597737687, 0.758882307091584, 0.7600942524156997]\n"
     ]
    }
   ],
   "source": [
    "loss_and_metrics = model.evaluate(x_test, y_test)\n",
    "print(loss_and_metrics)"
   ]
  },
  {
   "cell_type": "code",
   "execution_count": 21,
   "metadata": {},
   "outputs": [],
   "source": [
    "classes = model.predict(x_test)\n",
    "np.savetxt('Datas/result/model1_dC_predict.csv', classes, delimiter = ',')"
   ]
  },
  {
   "cell_type": "code",
   "execution_count": 22,
   "metadata": {},
   "outputs": [],
   "source": [
    "model.save('Datas/models/model1_dC.h5')"
   ]
  },
  {
   "cell_type": "code",
   "execution_count": 8,
   "metadata": {},
   "outputs": [
    {
     "data": {
      "text/plain": [
       "<Figure size 432x288 with 0 Axes>"
      ]
     },
     "execution_count": 8,
     "metadata": {},
     "output_type": "execute_result"
    },
    {
     "data": {
      "image/png": "[encoded data removed]",
      "text/plain": [
       "<Figure size 432x288 with 1 Axes>"
      ]
     },
     "metadata": {
      "needs_background": "light"
     },
     "output_type": "display_data"
    },
    {
     "data": {
      "image/png": "[encoded data removed]",
      "text/plain": [
       "<Figure size 432x288 with 1 Axes>"
      ]
     },
     "metadata": {
      "needs_background": "light"
     },
     "output_type": "display_data"
    },
    {
     "data": {
      "text/plain": [
       "<Figure size 432x288 with 0 Axes>"
      ]
     },
     "metadata": {},
     "output_type": "display_data"
    }
   ],
   "source": [
    "%matplotlib inline\n",
    "import matplotlib.pyplot as plt\n",
    "\n",
    "acc = history.history['acc']\n",
    "val_acc = history.history['val_acc']\n",
    "loss = history.history['loss']\n",
    "val_loss = history.history['val_loss']\n",
    "epochs = range(1, len(acc) + 1)\n",
    "\n",
    "plt.plot(epochs, acc, 'b--', label='Training acc')\n",
    "plt.plot(epochs, val_acc, 'b', label='Validation acc')\n",
    "plt.title('Training and validation accuracy')\n",
    "plt.legend()\n",
    "#plt.savefig(\"Datas/Figs/C/test_and_val_acc.png\")\n",
    "\n",
    "plt.figure()\n",
    "\n",
    "plt.plot(epochs, loss, 'b--', label='Training loss')\n",
    "plt.plot(epochs, val_loss, 'b', label='Validation loss')\n",
    "plt.title('Training and validation loss')\n",
    "plt.legend()\n",
    "#plt.savefig(\"Datas/Figs/C/test_and_val_loss.png\")\n",
    "\n",
    "plt.figure()"
   ]
  },
  {
   "cell_type": "code",
   "execution_count": 9,
   "metadata": {},
   "outputs": [
    {
     "data": {
      "image/png": "[encoded data removed]",
      "text/plain": [
       "<Figure size 432x288 with 2 Axes>"
      ]
     },
     "metadata": {
      "needs_background": "light"
     },
     "output_type": "display_data"
    }
   ],
   "source": [
    "fig = plt.figure()\n",
    "ax_acc = fig.add_subplot(111)\n",
    "ax_acc.plot(epochs, val_acc, 'r', label='Validation acc')\n",
    "plt.legend(bbox_to_anchor=(0, 1), loc='upper left', borderaxespad=0.5, fontsize=10)\n",
    "ax_loss = ax_acc.twinx()\n",
    "ax_loss.plot(epochs, val_loss, 'b', label='Validation loss')\n",
    "plt.legend(bbox_to_anchor=(0, 0.9), loc='upper left', borderaxespad=0.5, fontsize=10)\n",
    "plt.title('Validation acc and Validation loss')\n",
    "ax_acc.set_xlabel('epochs')\n",
    "ax_acc.set_ylabel('Validation acc')\n",
    "ax_loss.grid(True)\n",
    "ax_loss.set_ylabel('Validation loss')\n",
    "#plt.savefig(\"Datas/Figs/C/val_acc_loss.png\")\n",
    "plt.show()"
   ]
  },
  {
   "cell_type": "code",
   "execution_count": null,
   "metadata": {
    "lines_to_next_cell": 2
   },
   "outputs": [],
   "source": []
  }
 ],
 "metadata": {
  "jupytext": {
   "encoding": "# -*- coding: utf-8 -*-",
   "text_representation": {
    "extension": ".py",
    "format_name": "light",
    "format_version": "1.5",
    "jupytext_version": "1.3.0"
   }
  },
  "kernelspec": {
   "display_name": "Python 3",
   "language": "python",
   "name": "python3"
  },
  "language_info": {
   "codemirror_mode": {
    "name": "ipython",
    "version": 3
   },
   "file_extension": ".py",
   "mimetype": "text/x-python",
   "name": "python",
   "nbconvert_exporter": "python",
   "pygments_lexer": "ipython3",
   "version": "3.6.7"
  }
 },
 "nbformat": 4,
 "nbformat_minor": 2
}
