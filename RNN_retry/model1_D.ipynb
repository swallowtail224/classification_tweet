{
 "cells": [
  {
   "cell_type": "code",
   "execution_count": 1,
   "metadata": {},
   "outputs": [
    {
     "name": "stderr",
     "output_type": "stream",
     "text": [
      "Using TensorFlow backend.\n",
      "G:\\ganda\\conda\\tensorflow_test\\lib\\site-packages\\gensim\\utils.py:1197: UserWarning: detected Windows; aliasing chunkize to chunkize_serial\n",
      "  warnings.warn(\"detected Windows; aliasing chunkize to chunkize_serial\")\n"
     ]
    }
   ],
   "source": [
    "from keras.layers import Input, Dense, Embedding, LSTM, Dropout, concatenate\n",
    "from keras.models import Model\n",
    "from keras.callbacks import EarlyStopping\n",
    "from keras.utils import plot_model\n",
    "from keras.preprocessing.text import Tokenizer\n",
    "from keras.preprocessing.sequence import pad_sequences\n",
    "import numpy as np\n",
    "from keras.utils.np_utils import to_categorical\n",
    "import keras.backend as K\n",
    "from functools import partial\n",
    "import pandas as pd\n",
    "from gensim.models import word2vec\n",
    "from keras.optimizers import Adam"
   ]
  },
  {
   "cell_type": "code",
   "execution_count": 2,
   "metadata": {},
   "outputs": [],
   "source": [
    "def normalize_y_pred(y_pred):\n",
    "    return K.one_hot(K.argmax(y_pred), y_pred.shape[-1])\n",
    "\n",
    "def class_true_positive(class_label, y_true, y_pred):\n",
    "    y_pred = normalize_y_pred(y_pred)\n",
    "    return K.cast(K.equal(y_true[:, class_label] + y_pred[:, class_label], 2), K.floatx())\n",
    "\n",
    "def class_accuracy(class_label, y_true, y_pred):\n",
    "    y_pred = normalize_y_pred(y_pred)\n",
    "    return K.cast(K.equal(y_true[:, class_label], y_pred[:, class_label]),\n",
    "                  K.floatx())\n",
    "\n",
    "def class_precision(class_label, y_true, y_pred):\n",
    "    y_pred = normalize_y_pred(y_pred)\n",
    "    return K.sum(class_true_positive(class_label, y_true, y_pred)) / (K.sum(y_pred[:, class_label]) + K.epsilon())\n",
    "\n",
    "\n",
    "def class_recall(class_label, y_true, y_pred):\n",
    "    return K.sum(class_true_positive(class_label, y_true, y_pred)) / (K.sum(y_true[:, class_label]) + K.epsilon())\n",
    "\n",
    "\n",
    "def class_f_measure(class_label, y_true, y_pred):\n",
    "    precision = class_precision(class_label, y_true, y_pred)\n",
    "    recall = class_recall(class_label, y_true, y_pred)\n",
    "    return (2 * precision * recall) / (precision + recall + K.epsilon())\n",
    "\n",
    "\n",
    "def true_positive(y_true, y_pred):\n",
    "    y_pred = normalize_y_pred(y_pred)\n",
    "    return K.cast(K.equal(y_true + y_pred, 2),\n",
    "                  K.floatx())\n",
    "\n",
    "\n",
    "def micro_precision(y_true, y_pred):\n",
    "    y_pred = normalize_y_pred(y_pred)\n",
    "    return K.sum(true_positive(y_true, y_pred)) / (K.sum(y_pred) + K.epsilon())\n",
    "\n",
    "\n",
    "def micro_recall(y_true, y_pred):\n",
    "    return K.sum(true_positive(y_true, y_pred)) / (K.sum(y_true) + K.epsilon())\n",
    "\n",
    "\n",
    "def micro_f_measure(y_true, y_pred):\n",
    "    precision = micro_precision(y_true, y_pred)\n",
    "    recall = micro_recall(y_true, y_pred)\n",
    "    return (2 * precision * recall) / (precision + recall + K.epsilon())\n",
    "\n",
    "\n",
    "def average_accuracy(y_true, y_pred):\n",
    "    class_count = y_pred.shape[-1]\n",
    "    class_acc_list = [class_accuracy(i, y_true, y_pred) for i in range(class_count)]\n",
    "    class_acc_matrix = K.concatenate(class_acc_list, axis=0)\n",
    "    return K.mean(class_acc_matrix, axis=0)\n",
    "\n",
    "\n",
    "def macro_precision(y_true, y_pred):\n",
    "    class_count = y_pred.shape[-1]\n",
    "    return K.sum([class_precision(i, y_true, y_pred) for i in range(class_count)]) / K.cast(class_count, K.floatx())\n",
    "\n",
    "\n",
    "def macro_recall(y_true, y_pred):\n",
    "    class_count = y_pred.shape[-1]\n",
    "    return K.sum([class_recall(i, y_true, y_pred) for i in range(class_count)]) / K.cast(class_count, K.floatx())\n",
    "\n",
    "\n",
    "def macro_f_measure(y_true, y_pred):\n",
    "    precision = macro_precision(y_true, y_pred)\n",
    "    recall = macro_recall(y_true, y_pred)\n",
    "    return (2 * precision * recall) / (precision + recall + K.epsilon())\n",
    "\n",
    "def weight_variable(shape):\n",
    "    return K.truncated_normal(shape, stddev = 0.01)"
   ]
  },
  {
   "cell_type": "code",
   "execution_count": 3,
   "metadata": {},
   "outputs": [
    {
     "name": "stdout",
     "output_type": "stream",
     "text": [
      "20000\n",
      "<class 'pandas.core.frame.DataFrame'>\n",
      "RangeIndex: 20000 entries, 0 to 19999\n",
      "Data columns (total 12 columns):\n",
      "screen_name    20000 non-null object\n",
      "user_id        20000 non-null float64\n",
      "tweet_id       20000 non-null float64\n",
      "tweet          20000 non-null object\n",
      "tweet2         20000 non-null object\n",
      "postdate       20000 non-null object\n",
      "cos_day        20000 non-null float64\n",
      "sin_day        20000 non-null float64\n",
      "tag            20000 non-null object\n",
      "image_url      20000 non-null object\n",
      "image          20000 non-null int64\n",
      "retweet        20000 non-null float64\n",
      "dtypes: float64(5), int64(1), object(6)\n",
      "memory usage: 1.8+ MB\n"
     ]
    }
   ],
   "source": [
    "#学習済みモデルのロード\n",
    "embeddings_model = word2vec.Word2Vec.load('Datas/Word2Vec_model/dD.model')\n",
    "#データの読み込み\n",
    "use_data = pd.read_csv(filepath_or_buffer=\"Datas/A_pickup_data.csv\", encoding=\"utf_8\", sep=\",\")\n",
    "print(len(use_data))\n",
    "use_data.info()"
   ]
  },
  {
   "cell_type": "code",
   "execution_count": 4,
   "metadata": {},
   "outputs": [
    {
     "name": "stdout",
     "output_type": "stream",
     "text": [
      "Found 23377 unique tokens.\n"
     ]
    },
    {
     "name": "stderr",
     "output_type": "stream",
     "text": [
      "G:\\ganda\\conda\\tensorflow_test\\lib\\site-packages\\ipykernel_launcher.py:22: DeprecationWarning: Call to deprecated `__getitem__` (Method will be removed in 4.0.0, use self.wv.__getitem__() instead).\n"
     ]
    },
    {
     "name": "stdout",
     "output_type": "stream",
     "text": [
      "Shape of data tensor:(20000, 50)\n",
      "Shape of label tensor:(20000, 2)\n"
     ]
    }
   ],
   "source": [
    "maxlen = 50\n",
    "train = 0.7\n",
    "validation = 0.1\n",
    "max_words = 25000\n",
    "\n",
    "#データをランダムにシャッフル\n",
    "use_data_s = use_data.sample(frac=1, random_state=150)\n",
    "\n",
    "# word indexを作成\n",
    "tokenizer = Tokenizer(num_words=max_words)\n",
    "tokenizer.fit_on_texts(use_data_s['tweet2'])\n",
    "sequences = tokenizer.texts_to_sequences(use_data_s['tweet2'])\n",
    "\n",
    "word_index = tokenizer.word_index\n",
    "num_words = len(word_index)\n",
    "\n",
    "print(\"Found {} unique tokens.\".format(len(word_index)))\n",
    "\n",
    "embedding_matrix = np.zeros((num_words+1, 50))\n",
    "for word, i in word_index.items():\n",
    "    if word in embeddings_model.wv.index2word:\n",
    "        embedding_matrix[i] = embeddings_model[word]\n",
    "\n",
    "data = pad_sequences(sequences, maxlen=maxlen)\n",
    "\n",
    "# バイナリの行列に変換\n",
    "categorical_labels = to_categorical(use_data_s['retweet'])\n",
    "labels = np.asarray(categorical_labels)\n",
    "\n",
    "print(\"Shape of data tensor:{}\".format(data.shape))\n",
    "print(\"Shape of label tensor:{}\".format(labels.shape))\n",
    "\n",
    "indices = [int(len(labels) * n) for n in [train, train + validation]]\n",
    "x_train, x_val, x_test = np.split(data, indices)\n",
    "y_train, y_val, y_test = np.split(labels, indices)"
   ]
  },
  {
   "cell_type": "code",
   "execution_count": 5,
   "metadata": {},
   "outputs": [
    {
     "name": "stdout",
     "output_type": "stream",
     "text": [
      "_________________________________________________________________\n",
      "Layer (type)                 Output Shape              Param #   \n",
      "=================================================================\n",
      "input_postText (InputLayer)  (None, 50)                0         \n",
      "_________________________________________________________________\n",
      "embedding_1 (Embedding)      (None, 50, 50)            1168900   \n",
      "_________________________________________________________________\n",
      "dropout_1 (Dropout)          (None, 50, 50)            0         \n",
      "_________________________________________________________________\n",
      "lstm_1 (LSTM)                (None, 32)                10624     \n",
      "_________________________________________________________________\n",
      "dropout_2 (Dropout)          (None, 32)                0         \n",
      "_________________________________________________________________\n",
      "output (Dense)               (None, 2)                 66        \n",
      "=================================================================\n",
      "Total params: 1,179,590\n",
      "Trainable params: 10,690\n",
      "Non-trainable params: 1,168,900\n",
      "_________________________________________________________________\n"
     ]
    }
   ],
   "source": [
    "p_input = Input(shape=(50, ), dtype='int32', name='input_postText')\n",
    "\n",
    "em = Embedding(input_dim=num_words+1, output_dim=50, input_length=50, weights=[embedding_matrix], trainable=False)(p_input)\n",
    "d_em = Dropout(0.5)(em)\n",
    "lstm_out = LSTM(32, kernel_initializer=weight_variable)(d_em)\n",
    "d_lstm_out = Dropout(0.5)(lstm_out)\n",
    "output = Dense(2, activation='softmax', name = 'output')(d_lstm_out)\n",
    "\n",
    "model = Model(inputs=p_input, outputs = output)\n",
    "optimizer = Adam(lr=1e-4)\n",
    "model.compile(optimizer=optimizer, loss='categorical_crossentropy',  metrics=['acc', macro_precision, macro_recall, macro_f_measure])\n",
    "model.summary()\n",
    "#plot_model(model, show_shapes=True, show_layer_names=True, to_file='model_image/model1.png')\n",
    "\n",
    "early_stopping = EarlyStopping(patience=5, verbose=1)"
   ]
  },
  {
   "cell_type": "code",
   "execution_count": 6,
   "metadata": {},
   "outputs": [
    {
     "name": "stdout",
     "output_type": "stream",
     "text": [
      "Train on 14000 samples, validate on 1999 samples\n",
      "Epoch 1/100\n",
      "14000/14000 [==============================] - 5s 361us/step - loss: 0.6741 - acc: 0.5829 - macro_precision: 0.5851 - macro_recall: 0.5827 - macro_f_measure: 0.5839 - val_loss: 0.6572 - val_acc: 0.6428 - val_macro_precision: 0.6429 - val_macro_recall: 0.6430 - val_macro_f_measure: 0.6429\n",
      "Epoch 2/100\n",
      "14000/14000 [==============================] - 4s 291us/step - loss: 0.6391 - acc: 0.6271 - macro_precision: 0.6401 - macro_recall: 0.6289 - macro_f_measure: 0.6344 - val_loss: 0.6228 - val_acc: 0.6538 - val_macro_precision: 0.6803 - val_macro_recall: 0.6498 - val_macro_f_measure: 0.6647\n",
      "Epoch 3/100\n",
      "14000/14000 [==============================] - 4s 287us/step - loss: 0.6097 - acc: 0.6489 - macro_precision: 0.6755 - macro_recall: 0.6507 - macro_f_measure: 0.6628 - val_loss: 0.5876 - val_acc: 0.6733 - val_macro_precision: 0.7032 - val_macro_recall: 0.6693 - val_macro_f_measure: 0.6858\n",
      "Epoch 4/100\n",
      "14000/14000 [==============================] - 4s 288us/step - loss: 0.5791 - acc: 0.6831 - macro_precision: 0.7008 - macro_recall: 0.6840 - macro_f_measure: 0.6923 - val_loss: 0.5582 - val_acc: 0.7144 - val_macro_precision: 0.7277 - val_macro_recall: 0.7116 - val_macro_f_measure: 0.7196\n",
      "Epoch 5/100\n",
      "14000/14000 [==============================] - 4s 290us/step - loss: 0.5605 - acc: 0.7075 - macro_precision: 0.7127 - macro_recall: 0.7080 - macro_f_measure: 0.7103 - val_loss: 0.5481 - val_acc: 0.7209 - val_macro_precision: 0.7216 - val_macro_recall: 0.7198 - val_macro_f_measure: 0.7207\n",
      "Epoch 6/100\n",
      "14000/14000 [==============================] - 4s 286us/step - loss: 0.5517 - acc: 0.7124 - macro_precision: 0.7138 - macro_recall: 0.7126 - macro_f_measure: 0.7132 - val_loss: 0.5431 - val_acc: 0.7249 - val_macro_precision: 0.7280 - val_macro_recall: 0.7233 - val_macro_f_measure: 0.7257\n",
      "Epoch 7/100\n",
      "14000/14000 [==============================] - 4s 286us/step - loss: 0.5508 - acc: 0.7120 - macro_precision: 0.7137 - macro_recall: 0.7129 - macro_f_measure: 0.7133 - val_loss: 0.5405 - val_acc: 0.7264 - val_macro_precision: 0.7290 - val_macro_recall: 0.7249 - val_macro_f_measure: 0.7269\n",
      "Epoch 8/100\n",
      "14000/14000 [==============================] - 4s 290us/step - loss: 0.5458 - acc: 0.7123 - macro_precision: 0.7137 - macro_recall: 0.7127 - macro_f_measure: 0.7132 - val_loss: 0.5376 - val_acc: 0.7259 - val_macro_precision: 0.7266 - val_macro_recall: 0.7251 - val_macro_f_measure: 0.7258\n",
      "Epoch 9/100\n",
      "14000/14000 [==============================] - 4s 288us/step - loss: 0.5414 - acc: 0.7192 - macro_precision: 0.7207 - macro_recall: 0.7196 - macro_f_measure: 0.7201 - val_loss: 0.5362 - val_acc: 0.7259 - val_macro_precision: 0.7266 - val_macro_recall: 0.7250 - val_macro_f_measure: 0.7258\n",
      "Epoch 10/100\n",
      "14000/14000 [==============================] - 4s 292us/step - loss: 0.5411 - acc: 0.7186 - macro_precision: 0.7200 - macro_recall: 0.7186 - macro_f_measure: 0.7193 - val_loss: 0.5339 - val_acc: 0.7244 - val_macro_precision: 0.7260 - val_macro_recall: 0.7232 - val_macro_f_measure: 0.7246\n",
      "Epoch 11/100\n",
      "14000/14000 [==============================] - 4s 289us/step - loss: 0.5415 - acc: 0.7171 - macro_precision: 0.7183 - macro_recall: 0.7176 - macro_f_measure: 0.7180 - val_loss: 0.5327 - val_acc: 0.7254 - val_macro_precision: 0.7263 - val_macro_recall: 0.7243 - val_macro_f_measure: 0.7253\n",
      "Epoch 12/100\n",
      "14000/14000 [==============================] - 4s 286us/step - loss: 0.5375 - acc: 0.7234 - macro_precision: 0.7249 - macro_recall: 0.7237 - macro_f_measure: 0.7243 - val_loss: 0.5307 - val_acc: 0.7254 - val_macro_precision: 0.7271 - val_macro_recall: 0.7240 - val_macro_f_measure: 0.7256\n",
      "Epoch 13/100\n",
      "14000/14000 [==============================] - 4s 292us/step - loss: 0.5378 - acc: 0.7197 - macro_precision: 0.7214 - macro_recall: 0.7202 - macro_f_measure: 0.7208 - val_loss: 0.5300 - val_acc: 0.7249 - val_macro_precision: 0.7253 - val_macro_recall: 0.7244 - val_macro_f_measure: 0.7249\n",
      "Epoch 14/100\n",
      "14000/14000 [==============================] - 4s 289us/step - loss: 0.5379 - acc: 0.7208 - macro_precision: 0.7225 - macro_recall: 0.7210 - macro_f_measure: 0.7217 - val_loss: 0.5285 - val_acc: 0.7319 - val_macro_precision: 0.7334 - val_macro_recall: 0.7307 - val_macro_f_measure: 0.7320\n",
      "Epoch 15/100\n",
      "14000/14000 [==============================] - 4s 289us/step - loss: 0.5349 - acc: 0.7185 - macro_precision: 0.7198 - macro_recall: 0.7186 - macro_f_measure: 0.7192 - val_loss: 0.5269 - val_acc: 0.7284 - val_macro_precision: 0.7291 - val_macro_recall: 0.7273 - val_macro_f_measure: 0.7282\n",
      "Epoch 16/100\n",
      "14000/14000 [==============================] - 4s 281us/step - loss: 0.5342 - acc: 0.7212 - macro_precision: 0.7226 - macro_recall: 0.7214 - macro_f_measure: 0.7220 - val_loss: 0.5261 - val_acc: 0.7314 - val_macro_precision: 0.7338 - val_macro_recall: 0.7299 - val_macro_f_measure: 0.7318\n",
      "Epoch 17/100\n",
      "14000/14000 [==============================] - 4s 295us/step - loss: 0.5346 - acc: 0.7206 - macro_precision: 0.7220 - macro_recall: 0.7207 - macro_f_measure: 0.7213 - val_loss: 0.5241 - val_acc: 0.7319 - val_macro_precision: 0.7338 - val_macro_recall: 0.7305 - val_macro_f_measure: 0.7322\n",
      "Epoch 18/100\n",
      "14000/14000 [==============================] - 4s 287us/step - loss: 0.5303 - acc: 0.7231 - macro_precision: 0.7242 - macro_recall: 0.7230 - macro_f_measure: 0.7236 - val_loss: 0.5231 - val_acc: 0.7324 - val_macro_precision: 0.7351 - val_macro_recall: 0.7308 - val_macro_f_measure: 0.7329\n",
      "Epoch 19/100\n",
      "14000/14000 [==============================] - 4s 289us/step - loss: 0.5325 - acc: 0.7205 - macro_precision: 0.7222 - macro_recall: 0.7208 - macro_f_measure: 0.7215 - val_loss: 0.5217 - val_acc: 0.7324 - val_macro_precision: 0.7342 - val_macro_recall: 0.7312 - val_macro_f_measure: 0.7327\n",
      "Epoch 20/100\n",
      "14000/14000 [==============================] - 4s 288us/step - loss: 0.5338 - acc: 0.7223 - macro_precision: 0.7238 - macro_recall: 0.7227 - macro_f_measure: 0.7232 - val_loss: 0.5215 - val_acc: 0.7344 - val_macro_precision: 0.7352 - val_macro_recall: 0.7335 - val_macro_f_measure: 0.7344\n",
      "Epoch 21/100\n",
      "14000/14000 [==============================] - 4s 288us/step - loss: 0.5287 - acc: 0.7241 - macro_precision: 0.7254 - macro_recall: 0.7240 - macro_f_measure: 0.7247 - val_loss: 0.5209 - val_acc: 0.7319 - val_macro_precision: 0.7331 - val_macro_recall: 0.7307 - val_macro_f_measure: 0.7319\n",
      "Epoch 22/100\n",
      "14000/14000 [==============================] - 4s 288us/step - loss: 0.5273 - acc: 0.7280 - macro_precision: 0.7301 - macro_recall: 0.7286 - macro_f_measure: 0.7294 - val_loss: 0.5202 - val_acc: 0.7389 - val_macro_precision: 0.7413 - val_macro_recall: 0.7373 - val_macro_f_measure: 0.7393\n",
      "Epoch 23/100\n",
      "14000/14000 [==============================] - 4s 280us/step - loss: 0.5271 - acc: 0.7272 - macro_precision: 0.7288 - macro_recall: 0.7270 - macro_f_measure: 0.7279 - val_loss: 0.5193 - val_acc: 0.7329 - val_macro_precision: 0.7330 - val_macro_recall: 0.7322 - val_macro_f_measure: 0.7326\n",
      "Epoch 24/100\n",
      "14000/14000 [==============================] - 4s 290us/step - loss: 0.5280 - acc: 0.7292 - macro_precision: 0.7312 - macro_recall: 0.7294 - macro_f_measure: 0.7303 - val_loss: 0.5181 - val_acc: 0.7369 - val_macro_precision: 0.7383 - val_macro_recall: 0.7359 - val_macro_f_measure: 0.7371\n",
      "Epoch 25/100\n",
      "14000/14000 [==============================] - 4s 291us/step - loss: 0.5273 - acc: 0.7291 - macro_precision: 0.7303 - macro_recall: 0.7296 - macro_f_measure: 0.7299 - val_loss: 0.5171 - val_acc: 0.7384 - val_macro_precision: 0.7401 - val_macro_recall: 0.7371 - val_macro_f_measure: 0.7386\n",
      "Epoch 26/100\n",
      "14000/14000 [==============================] - 4s 285us/step - loss: 0.5252 - acc: 0.7278 - macro_precision: 0.7294 - macro_recall: 0.7277 - macro_f_measure: 0.7285 - val_loss: 0.5175 - val_acc: 0.7394 - val_macro_precision: 0.7415 - val_macro_recall: 0.7381 - val_macro_f_measure: 0.7398\n",
      "Epoch 27/100\n",
      "14000/14000 [==============================] - 4s 291us/step - loss: 0.5240 - acc: 0.7291 - macro_precision: 0.7308 - macro_recall: 0.7296 - macro_f_measure: 0.7302 - val_loss: 0.5169 - val_acc: 0.7384 - val_macro_precision: 0.7403 - val_macro_recall: 0.7372 - val_macro_f_measure: 0.7387\n"
     ]
    },
    {
     "name": "stdout",
     "output_type": "stream",
     "text": [
      "Epoch 28/100\n",
      "14000/14000 [==============================] - 4s 288us/step - loss: 0.5229 - acc: 0.7263 - macro_precision: 0.7290 - macro_recall: 0.7270 - macro_f_measure: 0.7280 - val_loss: 0.5166 - val_acc: 0.7404 - val_macro_precision: 0.7406 - val_macro_recall: 0.7396 - val_macro_f_measure: 0.7401\n",
      "Epoch 29/100\n",
      "14000/14000 [==============================] - 4s 294us/step - loss: 0.5231 - acc: 0.7304 - macro_precision: 0.7317 - macro_recall: 0.7308 - macro_f_measure: 0.7312 - val_loss: 0.5159 - val_acc: 0.7394 - val_macro_precision: 0.7418 - val_macro_recall: 0.7381 - val_macro_f_measure: 0.7399\n",
      "Epoch 30/100\n",
      "14000/14000 [==============================] - 4s 291us/step - loss: 0.5222 - acc: 0.7313 - macro_precision: 0.7327 - macro_recall: 0.7316 - macro_f_measure: 0.7322 - val_loss: 0.5153 - val_acc: 0.7394 - val_macro_precision: 0.7429 - val_macro_recall: 0.7378 - val_macro_f_measure: 0.7403\n",
      "Epoch 31/100\n",
      "14000/14000 [==============================] - 4s 290us/step - loss: 0.5199 - acc: 0.7320 - macro_precision: 0.7341 - macro_recall: 0.7323 - macro_f_measure: 0.7332 - val_loss: 0.5150 - val_acc: 0.7389 - val_macro_precision: 0.7422 - val_macro_recall: 0.7373 - val_macro_f_measure: 0.7398\n",
      "Epoch 32/100\n",
      "14000/14000 [==============================] - 4s 290us/step - loss: 0.5208 - acc: 0.7336 - macro_precision: 0.7354 - macro_recall: 0.7340 - macro_f_measure: 0.7347 - val_loss: 0.5140 - val_acc: 0.7419 - val_macro_precision: 0.7445 - val_macro_recall: 0.7404 - val_macro_f_measure: 0.7424\n",
      "Epoch 33/100\n",
      "14000/14000 [==============================] - 4s 290us/step - loss: 0.5226 - acc: 0.7301 - macro_precision: 0.7319 - macro_recall: 0.7303 - macro_f_measure: 0.7311 - val_loss: 0.5140 - val_acc: 0.7394 - val_macro_precision: 0.7421 - val_macro_recall: 0.7378 - val_macro_f_measure: 0.7399\n",
      "Epoch 34/100\n",
      "14000/14000 [==============================] - 4s 287us/step - loss: 0.5201 - acc: 0.7331 - macro_precision: 0.7359 - macro_recall: 0.7337 - macro_f_measure: 0.7348 - val_loss: 0.5148 - val_acc: 0.7419 - val_macro_precision: 0.7473 - val_macro_recall: 0.7399 - val_macro_f_measure: 0.7436\n",
      "Epoch 35/100\n",
      "14000/14000 [==============================] - 4s 289us/step - loss: 0.5198 - acc: 0.7323 - macro_precision: 0.7346 - macro_recall: 0.7330 - macro_f_measure: 0.7338 - val_loss: 0.5134 - val_acc: 0.7409 - val_macro_precision: 0.7434 - val_macro_recall: 0.7395 - val_macro_f_measure: 0.7414\n",
      "Epoch 36/100\n",
      "14000/14000 [==============================] - 4s 291us/step - loss: 0.5176 - acc: 0.7322 - macro_precision: 0.7347 - macro_recall: 0.7325 - macro_f_measure: 0.7336 - val_loss: 0.5131 - val_acc: 0.7374 - val_macro_precision: 0.7391 - val_macro_recall: 0.7362 - val_macro_f_measure: 0.7377\n",
      "Epoch 37/100\n",
      "14000/14000 [==============================] - 4s 286us/step - loss: 0.5187 - acc: 0.7314 - macro_precision: 0.7335 - macro_recall: 0.7319 - macro_f_measure: 0.7327 - val_loss: 0.5127 - val_acc: 0.7414 - val_macro_precision: 0.7441 - val_macro_recall: 0.7400 - val_macro_f_measure: 0.7421\n",
      "Epoch 38/100\n",
      "14000/14000 [==============================] - 4s 290us/step - loss: 0.5213 - acc: 0.7341 - macro_precision: 0.7371 - macro_recall: 0.7348 - macro_f_measure: 0.7359 - val_loss: 0.5123 - val_acc: 0.7364 - val_macro_precision: 0.7370 - val_macro_recall: 0.7357 - val_macro_f_measure: 0.7363\n",
      "Epoch 39/100\n",
      "14000/14000 [==============================] - 4s 304us/step - loss: 0.5194 - acc: 0.7322 - macro_precision: 0.7341 - macro_recall: 0.7321 - macro_f_measure: 0.7331 - val_loss: 0.5113 - val_acc: 0.7434 - val_macro_precision: 0.7456 - val_macro_recall: 0.7423 - val_macro_f_measure: 0.7439\n",
      "Epoch 40/100\n",
      "14000/14000 [==============================] - 4s 290us/step - loss: 0.5151 - acc: 0.7332 - macro_precision: 0.7351 - macro_recall: 0.7332 - macro_f_measure: 0.7341 - val_loss: 0.5118 - val_acc: 0.7419 - val_macro_precision: 0.7480 - val_macro_recall: 0.7397 - val_macro_f_measure: 0.7438\n",
      "Epoch 41/100\n",
      "14000/14000 [==============================] - 4s 288us/step - loss: 0.5184 - acc: 0.7345 - macro_precision: 0.7375 - macro_recall: 0.7346 - macro_f_measure: 0.7361 - val_loss: 0.5125 - val_acc: 0.7424 - val_macro_precision: 0.7497 - val_macro_recall: 0.7403 - val_macro_f_measure: 0.7449\n",
      "Epoch 42/100\n",
      "14000/14000 [==============================] - 4s 293us/step - loss: 0.5186 - acc: 0.7346 - macro_precision: 0.7375 - macro_recall: 0.7353 - macro_f_measure: 0.7364 - val_loss: 0.5102 - val_acc: 0.7424 - val_macro_precision: 0.7448 - val_macro_recall: 0.7412 - val_macro_f_measure: 0.7430\n",
      "Epoch 43/100\n",
      "14000/14000 [==============================] - 4s 297us/step - loss: 0.5171 - acc: 0.7344 - macro_precision: 0.7367 - macro_recall: 0.7343 - macro_f_measure: 0.7355 - val_loss: 0.5102 - val_acc: 0.7439 - val_macro_precision: 0.7476 - val_macro_recall: 0.7422 - val_macro_f_measure: 0.7449\n",
      "Epoch 44/100\n",
      "14000/14000 [==============================] - 4s 296us/step - loss: 0.5184 - acc: 0.7381 - macro_precision: 0.7414 - macro_recall: 0.7389 - macro_f_measure: 0.7401 - val_loss: 0.5106 - val_acc: 0.7334 - val_macro_precision: 0.7336 - val_macro_recall: 0.7328 - val_macro_f_measure: 0.7332\n",
      "Epoch 45/100\n",
      "14000/14000 [==============================] - 4s 289us/step - loss: 0.5178 - acc: 0.7344 - macro_precision: 0.7369 - macro_recall: 0.7351 - macro_f_measure: 0.7360 - val_loss: 0.5116 - val_acc: 0.7454 - val_macro_precision: 0.7505 - val_macro_recall: 0.7434 - val_macro_f_measure: 0.7470\n",
      "Epoch 46/100\n",
      "14000/14000 [==============================] - 4s 292us/step - loss: 0.5153 - acc: 0.7357 - macro_precision: 0.7383 - macro_recall: 0.7359 - macro_f_measure: 0.7371 - val_loss: 0.5088 - val_acc: 0.7414 - val_macro_precision: 0.7440 - val_macro_recall: 0.7401 - val_macro_f_measure: 0.7421\n",
      "Epoch 47/100\n",
      "14000/14000 [==============================] - 4s 288us/step - loss: 0.5138 - acc: 0.7341 - macro_precision: 0.7360 - macro_recall: 0.7346 - macro_f_measure: 0.7353 - val_loss: 0.5083 - val_acc: 0.7434 - val_macro_precision: 0.7469 - val_macro_recall: 0.7420 - val_macro_f_measure: 0.7444\n",
      "Epoch 48/100\n",
      "14000/14000 [==============================] - 4s 296us/step - loss: 0.5124 - acc: 0.7396 - macro_precision: 0.7422 - macro_recall: 0.7402 - macro_f_measure: 0.7412 - val_loss: 0.5078 - val_acc: 0.7374 - val_macro_precision: 0.7388 - val_macro_recall: 0.7363 - val_macro_f_measure: 0.7376\n",
      "Epoch 49/100\n",
      "14000/14000 [==============================] - 4s 288us/step - loss: 0.5114 - acc: 0.7366 - macro_precision: 0.7393 - macro_recall: 0.7371 - macro_f_measure: 0.7382 - val_loss: 0.5085 - val_acc: 0.7429 - val_macro_precision: 0.7475 - val_macro_recall: 0.7414 - val_macro_f_measure: 0.7444\n",
      "Epoch 50/100\n",
      "14000/14000 [==============================] - 4s 288us/step - loss: 0.5153 - acc: 0.7316 - macro_precision: 0.7340 - macro_recall: 0.7319 - macro_f_measure: 0.7330 - val_loss: 0.5078 - val_acc: 0.7349 - val_macro_precision: 0.7360 - val_macro_recall: 0.7340 - val_macro_f_measure: 0.7350\n",
      "Epoch 51/100\n",
      "14000/14000 [==============================] - 4s 287us/step - loss: 0.5125 - acc: 0.7377 - macro_precision: 0.7406 - macro_recall: 0.7381 - macro_f_measure: 0.7394 - val_loss: 0.5069 - val_acc: 0.7454 - val_macro_precision: 0.7489 - val_macro_recall: 0.7438 - val_macro_f_measure: 0.7464\n",
      "Epoch 52/100\n",
      "14000/14000 [==============================] - 4s 290us/step - loss: 0.5106 - acc: 0.7385 - macro_precision: 0.7413 - macro_recall: 0.7390 - macro_f_measure: 0.7402 - val_loss: 0.5070 - val_acc: 0.7484 - val_macro_precision: 0.7531 - val_macro_recall: 0.7466 - val_macro_f_measure: 0.7498\n",
      "Epoch 53/100\n",
      "14000/14000 [==============================] - 4s 286us/step - loss: 0.5129 - acc: 0.7390 - macro_precision: 0.7407 - macro_recall: 0.7392 - macro_f_measure: 0.7400 - val_loss: 0.5072 - val_acc: 0.7479 - val_macro_precision: 0.7528 - val_macro_recall: 0.7460 - val_macro_f_measure: 0.7494\n",
      "Epoch 54/100\n",
      "14000/14000 [==============================] - 4s 289us/step - loss: 0.5103 - acc: 0.7391 - macro_precision: 0.7415 - macro_recall: 0.7395 - macro_f_measure: 0.7405 - val_loss: 0.5050 - val_acc: 0.7469 - val_macro_precision: 0.7511 - val_macro_recall: 0.7453 - val_macro_f_measure: 0.7482\n",
      "Epoch 55/100\n"
     ]
    },
    {
     "name": "stdout",
     "output_type": "stream",
     "text": [
      "14000/14000 [==============================] - 4s 283us/step - loss: 0.5103 - acc: 0.7384 - macro_precision: 0.7416 - macro_recall: 0.7386 - macro_f_measure: 0.7401 - val_loss: 0.5055 - val_acc: 0.7429 - val_macro_precision: 0.7464 - val_macro_recall: 0.7414 - val_macro_f_measure: 0.7439\n",
      "Epoch 56/100\n",
      "14000/14000 [==============================] - 4s 285us/step - loss: 0.5075 - acc: 0.7421 - macro_precision: 0.7441 - macro_recall: 0.7420 - macro_f_measure: 0.7431 - val_loss: 0.5053 - val_acc: 0.7389 - val_macro_precision: 0.7410 - val_macro_recall: 0.7378 - val_macro_f_measure: 0.7394\n",
      "Epoch 57/100\n",
      "14000/14000 [==============================] - 4s 290us/step - loss: 0.5082 - acc: 0.7396 - macro_precision: 0.7418 - macro_recall: 0.7401 - macro_f_measure: 0.7410 - val_loss: 0.5045 - val_acc: 0.7424 - val_macro_precision: 0.7449 - val_macro_recall: 0.7412 - val_macro_f_measure: 0.7430\n",
      "Epoch 58/100\n",
      "14000/14000 [==============================] - 4s 288us/step - loss: 0.5117 - acc: 0.7365 - macro_precision: 0.7397 - macro_recall: 0.7370 - macro_f_measure: 0.7384 - val_loss: 0.5052 - val_acc: 0.7424 - val_macro_precision: 0.7447 - val_macro_recall: 0.7413 - val_macro_f_measure: 0.7430\n",
      "Epoch 59/100\n",
      "14000/14000 [==============================] - 4s 288us/step - loss: 0.5085 - acc: 0.7369 - macro_precision: 0.7403 - macro_recall: 0.7372 - macro_f_measure: 0.7387 - val_loss: 0.5053 - val_acc: 0.7474 - val_macro_precision: 0.7537 - val_macro_recall: 0.7456 - val_macro_f_measure: 0.7496\n",
      "Epoch 60/100\n",
      "14000/14000 [==============================] - 4s 290us/step - loss: 0.5083 - acc: 0.7419 - macro_precision: 0.7444 - macro_recall: 0.7421 - macro_f_measure: 0.7433 - val_loss: 0.5042 - val_acc: 0.7429 - val_macro_precision: 0.7452 - val_macro_recall: 0.7417 - val_macro_f_measure: 0.7434\n",
      "Epoch 61/100\n",
      "14000/14000 [==============================] - 4s 290us/step - loss: 0.5071 - acc: 0.7423 - macro_precision: 0.7450 - macro_recall: 0.7430 - macro_f_measure: 0.7440 - val_loss: 0.5037 - val_acc: 0.7489 - val_macro_precision: 0.7539 - val_macro_recall: 0.7471 - val_macro_f_measure: 0.7505\n",
      "Epoch 62/100\n",
      "14000/14000 [==============================] - 4s 283us/step - loss: 0.5101 - acc: 0.7390 - macro_precision: 0.7428 - macro_recall: 0.7396 - macro_f_measure: 0.7412 - val_loss: 0.5052 - val_acc: 0.7484 - val_macro_precision: 0.7557 - val_macro_recall: 0.7464 - val_macro_f_measure: 0.7510\n",
      "Epoch 63/100\n",
      "14000/14000 [==============================] - 4s 286us/step - loss: 0.5055 - acc: 0.7431 - macro_precision: 0.7462 - macro_recall: 0.7438 - macro_f_measure: 0.7450 - val_loss: 0.5036 - val_acc: 0.7449 - val_macro_precision: 0.7473 - val_macro_recall: 0.7437 - val_macro_f_measure: 0.7455\n",
      "Epoch 64/100\n",
      "14000/14000 [==============================] - 4s 296us/step - loss: 0.5073 - acc: 0.7391 - macro_precision: 0.7414 - macro_recall: 0.7396 - macro_f_measure: 0.7405 - val_loss: 0.5035 - val_acc: 0.7479 - val_macro_precision: 0.7520 - val_macro_recall: 0.7464 - val_macro_f_measure: 0.7492\n",
      "Epoch 65/100\n",
      "14000/14000 [==============================] - 4s 288us/step - loss: 0.5041 - acc: 0.7426 - macro_precision: 0.7454 - macro_recall: 0.7433 - macro_f_measure: 0.7444 - val_loss: 0.5053 - val_acc: 0.7484 - val_macro_precision: 0.7574 - val_macro_recall: 0.7461 - val_macro_f_measure: 0.7517\n",
      "Epoch 66/100\n",
      "14000/14000 [==============================] - 4s 288us/step - loss: 0.5077 - acc: 0.7410 - macro_precision: 0.7453 - macro_recall: 0.7417 - macro_f_measure: 0.7435 - val_loss: 0.5026 - val_acc: 0.7479 - val_macro_precision: 0.7515 - val_macro_recall: 0.7465 - val_macro_f_measure: 0.7490\n",
      "Epoch 67/100\n",
      "14000/14000 [==============================] - 4s 292us/step - loss: 0.5036 - acc: 0.7436 - macro_precision: 0.7467 - macro_recall: 0.7441 - macro_f_measure: 0.7454 - val_loss: 0.5019 - val_acc: 0.7459 - val_macro_precision: 0.7502 - val_macro_recall: 0.7444 - val_macro_f_measure: 0.7473\n",
      "Epoch 68/100\n",
      "14000/14000 [==============================] - 4s 296us/step - loss: 0.5041 - acc: 0.7449 - macro_precision: 0.7487 - macro_recall: 0.7451 - macro_f_measure: 0.7468 - val_loss: 0.5032 - val_acc: 0.7509 - val_macro_precision: 0.7582 - val_macro_recall: 0.7488 - val_macro_f_measure: 0.7534\n",
      "Epoch 69/100\n",
      "14000/14000 [==============================] - 4s 289us/step - loss: 0.5055 - acc: 0.7429 - macro_precision: 0.7467 - macro_recall: 0.7438 - macro_f_measure: 0.7452 - val_loss: 0.5012 - val_acc: 0.7434 - val_macro_precision: 0.7460 - val_macro_recall: 0.7423 - val_macro_f_measure: 0.7441\n",
      "Epoch 70/100\n",
      "14000/14000 [==============================] - 4s 286us/step - loss: 0.5033 - acc: 0.7396 - macro_precision: 0.7418 - macro_recall: 0.7397 - macro_f_measure: 0.7407 - val_loss: 0.5007 - val_acc: 0.7454 - val_macro_precision: 0.7486 - val_macro_recall: 0.7441 - val_macro_f_measure: 0.7463\n",
      "Epoch 71/100\n",
      "14000/14000 [==============================] - 4s 290us/step - loss: 0.5025 - acc: 0.7435 - macro_precision: 0.7462 - macro_recall: 0.7438 - macro_f_measure: 0.7450 - val_loss: 0.5012 - val_acc: 0.7489 - val_macro_precision: 0.7540 - val_macro_recall: 0.7472 - val_macro_f_measure: 0.7506\n",
      "Epoch 72/100\n",
      "14000/14000 [==============================] - 4s 290us/step - loss: 0.5013 - acc: 0.7489 - macro_precision: 0.7522 - macro_recall: 0.7492 - macro_f_measure: 0.7507 - val_loss: 0.5002 - val_acc: 0.7449 - val_macro_precision: 0.7473 - val_macro_recall: 0.7440 - val_macro_f_measure: 0.7456\n",
      "Epoch 73/100\n",
      "14000/14000 [==============================] - 4s 290us/step - loss: 0.5023 - acc: 0.7489 - macro_precision: 0.7531 - macro_recall: 0.7498 - macro_f_measure: 0.7514 - val_loss: 0.5001 - val_acc: 0.7464 - val_macro_precision: 0.7476 - val_macro_recall: 0.7457 - val_macro_f_measure: 0.7466\n",
      "Epoch 74/100\n",
      "14000/14000 [==============================] - 4s 286us/step - loss: 0.5030 - acc: 0.7431 - macro_precision: 0.7464 - macro_recall: 0.7433 - macro_f_measure: 0.7448 - val_loss: 0.5002 - val_acc: 0.7499 - val_macro_precision: 0.7546 - val_macro_recall: 0.7482 - val_macro_f_measure: 0.7514\n",
      "Epoch 75/100\n",
      "14000/14000 [==============================] - 4s 288us/step - loss: 0.5037 - acc: 0.7444 - macro_precision: 0.7471 - macro_recall: 0.7443 - macro_f_measure: 0.7457 - val_loss: 0.5005 - val_acc: 0.7479 - val_macro_precision: 0.7520 - val_macro_recall: 0.7463 - val_macro_f_measure: 0.7491\n",
      "Epoch 76/100\n",
      "14000/14000 [==============================] - 4s 288us/step - loss: 0.5031 - acc: 0.7437 - macro_precision: 0.7463 - macro_recall: 0.7441 - macro_f_measure: 0.7452 - val_loss: 0.5029 - val_acc: 0.7494 - val_macro_precision: 0.7592 - val_macro_recall: 0.7469 - val_macro_f_measure: 0.7530\n",
      "Epoch 77/100\n",
      "14000/14000 [==============================] - 4s 289us/step - loss: 0.5033 - acc: 0.7436 - macro_precision: 0.7462 - macro_recall: 0.7439 - macro_f_measure: 0.7450 - val_loss: 0.5006 - val_acc: 0.7489 - val_macro_precision: 0.7538 - val_macro_recall: 0.7471 - val_macro_f_measure: 0.7504\n",
      "Epoch 78/100\n",
      "14000/14000 [==============================] - 4s 288us/step - loss: 0.5035 - acc: 0.7485 - macro_precision: 0.7518 - macro_recall: 0.7483 - macro_f_measure: 0.7501 - val_loss: 0.4992 - val_acc: 0.7509 - val_macro_precision: 0.7535 - val_macro_recall: 0.7498 - val_macro_f_measure: 0.7516\n",
      "Epoch 79/100\n",
      "14000/14000 [==============================] - 4s 288us/step - loss: 0.5020 - acc: 0.7455 - macro_precision: 0.7475 - macro_recall: 0.7459 - macro_f_measure: 0.7467 - val_loss: 0.5016 - val_acc: 0.7494 - val_macro_precision: 0.7595 - val_macro_recall: 0.7470 - val_macro_f_measure: 0.7532\n",
      "Epoch 80/100\n",
      "14000/14000 [==============================] - 4s 297us/step - loss: 0.5008 - acc: 0.7464 - macro_precision: 0.7496 - macro_recall: 0.7460 - macro_f_measure: 0.7478 - val_loss: 0.4994 - val_acc: 0.7464 - val_macro_precision: 0.7478 - val_macro_recall: 0.7457 - val_macro_f_measure: 0.7467\n",
      "Epoch 81/100\n",
      "14000/14000 [==============================] - 4s 288us/step - loss: 0.5012 - acc: 0.7443 - macro_precision: 0.7471 - macro_recall: 0.7445 - macro_f_measure: 0.7458 - val_loss: 0.4990 - val_acc: 0.7464 - val_macro_precision: 0.7476 - val_macro_recall: 0.7456 - val_macro_f_measure: 0.7466\n",
      "Epoch 82/100\n"
     ]
    },
    {
     "name": "stdout",
     "output_type": "stream",
     "text": [
      "14000/14000 [==============================] - 4s 289us/step - loss: 0.5006 - acc: 0.7496 - macro_precision: 0.7518 - macro_recall: 0.7505 - macro_f_measure: 0.7511 - val_loss: 0.4990 - val_acc: 0.7514 - val_macro_precision: 0.7566 - val_macro_recall: 0.7497 - val_macro_f_measure: 0.7531\n",
      "Epoch 83/100\n",
      "14000/14000 [==============================] - 4s 289us/step - loss: 0.4988 - acc: 0.7497 - macro_precision: 0.7529 - macro_recall: 0.7502 - macro_f_measure: 0.7515 - val_loss: 0.4979 - val_acc: 0.7524 - val_macro_precision: 0.7560 - val_macro_recall: 0.7511 - val_macro_f_measure: 0.7535\n",
      "Epoch 84/100\n",
      "14000/14000 [==============================] - 4s 296us/step - loss: 0.5029 - acc: 0.7458 - macro_precision: 0.7491 - macro_recall: 0.7464 - macro_f_measure: 0.7477 - val_loss: 0.4981 - val_acc: 0.7564 - val_macro_precision: 0.7614 - val_macro_recall: 0.7547 - val_macro_f_measure: 0.7580\n",
      "Epoch 85/100\n",
      "14000/14000 [==============================] - 4s 286us/step - loss: 0.5026 - acc: 0.7461 - macro_precision: 0.7502 - macro_recall: 0.7463 - macro_f_measure: 0.7482 - val_loss: 0.4984 - val_acc: 0.7524 - val_macro_precision: 0.7600 - val_macro_recall: 0.7504 - val_macro_f_measure: 0.7552\n",
      "Epoch 86/100\n",
      "14000/14000 [==============================] - 4s 288us/step - loss: 0.4978 - acc: 0.7494 - macro_precision: 0.7524 - macro_recall: 0.7498 - macro_f_measure: 0.7511 - val_loss: 0.4972 - val_acc: 0.7509 - val_macro_precision: 0.7553 - val_macro_recall: 0.7495 - val_macro_f_measure: 0.7524\n",
      "Epoch 87/100\n",
      "14000/14000 [==============================] - 4s 294us/step - loss: 0.5003 - acc: 0.7491 - macro_precision: 0.7533 - macro_recall: 0.7498 - macro_f_measure: 0.7515 - val_loss: 0.4988 - val_acc: 0.7524 - val_macro_precision: 0.7611 - val_macro_recall: 0.7501 - val_macro_f_measure: 0.7555\n",
      "Epoch 88/100\n",
      "14000/14000 [==============================] - 4s 300us/step - loss: 0.5029 - acc: 0.7454 - macro_precision: 0.7491 - macro_recall: 0.7455 - macro_f_measure: 0.7473 - val_loss: 0.4965 - val_acc: 0.7509 - val_macro_precision: 0.7538 - val_macro_recall: 0.7496 - val_macro_f_measure: 0.7517\n",
      "Epoch 89/100\n",
      "14000/14000 [==============================] - 4s 294us/step - loss: 0.5009 - acc: 0.7437 - macro_precision: 0.7466 - macro_recall: 0.7437 - macro_f_measure: 0.7452 - val_loss: 0.4958 - val_acc: 0.7539 - val_macro_precision: 0.7568 - val_macro_recall: 0.7527 - val_macro_f_measure: 0.7547\n",
      "Epoch 90/100\n",
      "14000/14000 [==============================] - 4s 288us/step - loss: 0.4967 - acc: 0.7488 - macro_precision: 0.7512 - macro_recall: 0.7493 - macro_f_measure: 0.7503 - val_loss: 0.4955 - val_acc: 0.7579 - val_macro_precision: 0.7647 - val_macro_recall: 0.7558 - val_macro_f_measure: 0.7602\n",
      "Epoch 91/100\n",
      "14000/14000 [==============================] - 4s 290us/step - loss: 0.4986 - acc: 0.7481 - macro_precision: 0.7530 - macro_recall: 0.7489 - macro_f_measure: 0.7509 - val_loss: 0.4975 - val_acc: 0.7519 - val_macro_precision: 0.7571 - val_macro_recall: 0.7502 - val_macro_f_measure: 0.7536\n",
      "Epoch 92/100\n",
      "14000/14000 [==============================] - 4s 295us/step - loss: 0.4943 - acc: 0.7530 - macro_precision: 0.7556 - macro_recall: 0.7532 - macro_f_measure: 0.7544 - val_loss: 0.4958 - val_acc: 0.7504 - val_macro_precision: 0.7522 - val_macro_recall: 0.7497 - val_macro_f_measure: 0.7510\n",
      "Epoch 93/100\n",
      "14000/14000 [==============================] - 4s 290us/step - loss: 0.4985 - acc: 0.7514 - macro_precision: 0.7553 - macro_recall: 0.7524 - macro_f_measure: 0.7538 - val_loss: 0.4945 - val_acc: 0.7569 - val_macro_precision: 0.7613 - val_macro_recall: 0.7554 - val_macro_f_measure: 0.7583\n",
      "Epoch 94/100\n",
      "14000/14000 [==============================] - 4s 290us/step - loss: 0.4959 - acc: 0.7486 - macro_precision: 0.7524 - macro_recall: 0.7489 - macro_f_measure: 0.7506 - val_loss: 0.4956 - val_acc: 0.7594 - val_macro_precision: 0.7640 - val_macro_recall: 0.7579 - val_macro_f_measure: 0.7609\n",
      "Epoch 95/100\n",
      "14000/14000 [==============================] - 4s 289us/step - loss: 0.4977 - acc: 0.7479 - macro_precision: 0.7511 - macro_recall: 0.7486 - macro_f_measure: 0.7498 - val_loss: 0.4947 - val_acc: 0.7584 - val_macro_precision: 0.7647 - val_macro_recall: 0.7566 - val_macro_f_measure: 0.7606\n",
      "Epoch 96/100\n",
      "14000/14000 [==============================] - 4s 287us/step - loss: 0.4960 - acc: 0.7498 - macro_precision: 0.7532 - macro_recall: 0.7503 - macro_f_measure: 0.7517 - val_loss: 0.4946 - val_acc: 0.7579 - val_macro_precision: 0.7628 - val_macro_recall: 0.7560 - val_macro_f_measure: 0.7594\n",
      "Epoch 97/100\n",
      "14000/14000 [==============================] - 4s 289us/step - loss: 0.4937 - acc: 0.7535 - macro_precision: 0.7558 - macro_recall: 0.7539 - macro_f_measure: 0.7549 - val_loss: 0.4945 - val_acc: 0.7574 - val_macro_precision: 0.7627 - val_macro_recall: 0.7556 - val_macro_f_measure: 0.7591\n",
      "Epoch 98/100\n",
      "14000/14000 [==============================] - 4s 286us/step - loss: 0.4973 - acc: 0.7501 - macro_precision: 0.7526 - macro_recall: 0.7505 - macro_f_measure: 0.7515 - val_loss: 0.4992 - val_acc: 0.7529 - val_macro_precision: 0.7643 - val_macro_recall: 0.7504 - val_macro_f_measure: 0.7573\n",
      "Epoch 99/100\n",
      "14000/14000 [==============================] - 4s 295us/step - loss: 0.4959 - acc: 0.7481 - macro_precision: 0.7520 - macro_recall: 0.7488 - macro_f_measure: 0.7504 - val_loss: 0.4940 - val_acc: 0.7599 - val_macro_precision: 0.7653 - val_macro_recall: 0.7581 - val_macro_f_measure: 0.7617\n",
      "Epoch 100/100\n",
      "14000/14000 [==============================] - 4s 286us/step - loss: 0.4985 - acc: 0.7489 - macro_precision: 0.7526 - macro_recall: 0.7495 - macro_f_measure: 0.7510 - val_loss: 0.4945 - val_acc: 0.7584 - val_macro_precision: 0.7671 - val_macro_recall: 0.7561 - val_macro_f_measure: 0.7615\n"
     ]
    }
   ],
   "source": [
    "history = model.fit(x_train, y_train,\n",
    "                    epochs=100, \n",
    "                    batch_size=256,\n",
    "                    validation_data=(x_val, y_val),\n",
    "                    callbacks=[early_stopping])"
   ]
  },
  {
   "cell_type": "code",
   "execution_count": 7,
   "metadata": {},
   "outputs": [
    {
     "name": "stdout",
     "output_type": "stream",
     "text": [
      "4001/4001 [==============================] - 3s 789us/step\n",
      "[0.4885300018635393, 0.7605598600349912, 0.7692356853150213, 0.7579148060469233, 0.763361238861227]\n"
     ]
    }
   ],
   "source": [
    "loss_and_metrics = model.evaluate(x_test, y_test)\n",
    "print(loss_and_metrics)"
   ]
  },
  {
   "cell_type": "code",
   "execution_count": 8,
   "metadata": {},
   "outputs": [],
   "source": [
    "classes = model.predict(x_test)\n",
    "np.savetxt('Datas/result/model1_dD_predict.csv', classes, delimiter = ',')"
   ]
  },
  {
   "cell_type": "code",
   "execution_count": 9,
   "metadata": {},
   "outputs": [],
   "source": [
    "model.save('Datas/models/model1_dD.h5')"
   ]
  },
  {
   "cell_type": "code",
   "execution_count": 10,
   "metadata": {},
   "outputs": [
    {
     "data": {
      "text/plain": [
       "<Figure size 432x288 with 0 Axes>"
      ]
     },
     "execution_count": 10,
     "metadata": {},
     "output_type": "execute_result"
    },
    {
     "data": {
      "image/png": "[encoded data removed]",
      "text/plain": [
       "<Figure size 432x288 with 1 Axes>"
      ]
     },
     "metadata": {
      "needs_background": "light"
     },
     "output_type": "display_data"
    },
    {
     "data": {
      "image/png": "[encoded data removed]",
      "text/plain": [
       "<Figure size 432x288 with 1 Axes>"
      ]
     },
     "metadata": {
      "needs_background": "light"
     },
     "output_type": "display_data"
    },
    {
     "data": {
      "text/plain": [
       "<Figure size 432x288 with 0 Axes>"
      ]
     },
     "metadata": {},
     "output_type": "display_data"
    }
   ],
   "source": [
    "%matplotlib inline\n",
    "import matplotlib.pyplot as plt\n",
    "\n",
    "acc = history.history['acc']\n",
    "val_acc = history.history['val_acc']\n",
    "loss = history.history['loss']\n",
    "val_loss = history.history['val_loss']\n",
    "epochs = range(1, len(acc) + 1)\n",
    "\n",
    "plt.plot(epochs, acc, 'b--', label='Training acc')\n",
    "plt.plot(epochs, val_acc, 'b', label='Validation acc')\n",
    "plt.title('Training and validation accuracy')\n",
    "plt.legend()\n",
    "plt.savefig(\"Datas/Figs/D/test_and_val_acc.png\")\n",
    "\n",
    "plt.figure()\n",
    "\n",
    "plt.plot(epochs, loss, 'b--', label='Training loss')\n",
    "plt.plot(epochs, val_loss, 'b', label='Validation loss')\n",
    "plt.title('Training and validation loss')\n",
    "plt.legend()\n",
    "plt.savefig(\"Datas/Figs/D/test_and_val_loss.png\")\n",
    "\n",
    "plt.figure()"
   ]
  },
  {
   "cell_type": "code",
   "execution_count": 11,
   "metadata": {},
   "outputs": [
    {
     "data": {
      "image/png": "[encoded data removed]",
      "text/plain": [
       "<Figure size 432x288 with 2 Axes>"
      ]
     },
     "metadata": {
      "needs_background": "light"
     },
     "output_type": "display_data"
    }
   ],
   "source": [
    "fig = plt.figure()\n",
    "ax_acc = fig.add_subplot(111)\n",
    "ax_acc.plot(epochs, val_acc, 'r', label='Validation acc')\n",
    "plt.legend(bbox_to_anchor=(0, 1), loc='upper left', borderaxespad=0.5, fontsize=10)\n",
    "ax_loss = ax_acc.twinx()\n",
    "ax_loss.plot(epochs, val_loss, 'b', label='Validation loss')\n",
    "plt.legend(bbox_to_anchor=(0, 0.9), loc='upper left', borderaxespad=0.5, fontsize=10)\n",
    "plt.title('Validation acc and Validation loss')\n",
    "ax_acc.set_xlabel('epochs')\n",
    "ax_acc.set_ylabel('Validation acc')\n",
    "ax_loss.grid(True)\n",
    "ax_loss.set_ylabel('Validation loss')\n",
    "plt.savefig(\"Datas/Figs/D/val_acc_loss.png\")\n",
    "plt.show()"
   ]
  },
  {
   "cell_type": "code",
   "execution_count": null,
   "metadata": {
    "lines_to_next_cell": 2
   },
   "outputs": [],
   "source": []
  }
 ],
 "metadata": {
  "jupytext": {
   "encoding": "# -*- coding: utf-8 -*-",
   "text_representation": {
    "extension": ".py",
    "format_name": "light",
    "format_version": "1.5",
    "jupytext_version": "1.3.0"
   }
  },
  "kernelspec": {
   "display_name": "Python 3",
   "language": "python",
   "name": "python3"
  },
  "language_info": {
   "codemirror_mode": {
    "name": "ipython",
    "version": 3
   },
   "file_extension": ".py",
   "mimetype": "text/x-python",
   "name": "python",
   "nbconvert_exporter": "python",
   "pygments_lexer": "ipython3",
   "version": "3.6.7"
  }
 },
 "nbformat": 4,
 "nbformat_minor": 2
}
