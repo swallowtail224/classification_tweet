{
 "cells": [
  {
   "cell_type": "code",
   "execution_count": 1,
   "metadata": {},
   "outputs": [
    {
     "name": "stdout",
     "output_type": "stream",
     "text": [
      "10000\n",
      "10000\n"
     ]
    }
   ],
   "source": [
    "#ツイートのテキスト読み込み\n",
    "test = open(\"RNN_tweet/Datas/N_extract_tweet.txt\", \"r\", encoding=\"utf-8\")\n",
    "lines = test.readlines()\n",
    "test.close()\n",
    "print(len(lines))\n",
    "\n",
    "#ラベル読み込み\n",
    "test = open(\"RNN_tweet/Datas/label.txt\", \"r\", encoding=\"utf-8\")\n",
    "label = test.readlines()\n",
    "test.close()\n",
    "print(len(label))"
   ]
  },
  {
   "cell_type": "code",
   "execution_count": 2,
   "metadata": {},
   "outputs": [
    {
     "name": "stderr",
     "output_type": "stream",
     "text": [
      "G:\\ganda\\conda\\tensorflow_test\\lib\\site-packages\\gensim\\utils.py:1197: UserWarning: detected Windows; aliasing chunkize to chunkize_serial\n",
      "  warnings.warn(\"detected Windows; aliasing chunkize to chunkize_serial\")\n",
      "G:\\ganda\\conda\\tensorflow_test\\lib\\site-packages\\ipykernel_launcher.py:6: DeprecationWarning: Call to deprecated `iter` (Attribute will be removed in 4.0.0, use self.epochs instead).\n",
      "  \n"
     ]
    },
    {
     "data": {
      "text/plain": [
       "(584699, 761865)"
      ]
     },
     "execution_count": 2,
     "metadata": {},
     "output_type": "execute_result"
    }
   ],
   "source": [
    "from gensim.models import word2vec\n",
    "\n",
    "data = word2vec.LineSentence('RNN_tweet/Datas/N_extract_tweet.txt')\n",
    "w2v = word2vec.Word2Vec(size = 200, window=10, hs= 1, sg=1)\n",
    "w2v.build_vocab(data)\n",
    "w2v.train(data, total_examples=w2v.corpus_count, epochs=w2v.iter)"
   ]
  },
  {
   "cell_type": "code",
   "execution_count": 3,
   "metadata": {},
   "outputs": [
    {
     "name": "stderr",
     "output_type": "stream",
     "text": [
      "Using TensorFlow backend.\n"
     ]
    }
   ],
   "source": [
    "from gensim.models.keyedvectors import KeyedVectors\n",
    "\n",
    "embedding_layer = w2v.wv.get_keras_embedding(train_embeddings=True)"
   ]
  },
  {
   "cell_type": "code",
   "execution_count": 5,
   "metadata": {},
   "outputs": [],
   "source": [
    "from keras.preprocessing.text import Tokenizer\n",
    "from keras.preprocessing.sequence import pad_sequences\n",
    "import numpy as np\n",
    "from keras.utils.np_utils import to_categorical\n",
    "\n",
    "maxlen = 50\n",
    "training_samples = 8000 # training data 80 : validation data 20\n",
    "validation_samples = len(lines) - training_samples\n",
    "max_words = 20000\n",
    "\n",
    "# word indexを作成\n",
    "tokenizer = Tokenizer()\n",
    "tokenizer.fit_on_texts(lines)\n",
    "sequences = tokenizer.texts_to_sequences(lines)\n",
    "\n",
    "data = pad_sequences(sequences, maxlen=maxlen)\n",
    "\n",
    "# バイナリの行列に変換\n",
    "categorical_labels = to_categorical(label)\n",
    "labels = np.asarray(categorical_labels)\n",
    "\n",
    "indices = np.arange(data.shape[0])\n",
    "np.random.shuffle(indices)\n",
    "datas = data[indices]\n",
    "labels = labels[indices]\n",
    "\n",
    "x_train = datas[:training_samples]\n",
    "y_train = labels[:training_samples]\n",
    "x_val = datas[training_samples: training_samples + validation_samples]\n",
    "y_val = labels[training_samples: training_samples + validation_samples]"
   ]
  },
  {
   "cell_type": "code",
   "execution_count": 6,
   "metadata": {},
   "outputs": [
    {
     "name": "stdout",
     "output_type": "stream",
     "text": [
      "_________________________________________________________________\n",
      "Layer (type)                 Output Shape              Param #   \n",
      "=================================================================\n",
      "input_1 (InputLayer)         (None, 50)                0         \n",
      "_________________________________________________________________\n",
      "embedding_1 (Embedding)      (None, 50, 200)           1002000   \n",
      "_________________________________________________________________\n",
      "lstm_1 (LSTM)                (None, 128)               168448    \n",
      "_________________________________________________________________\n",
      "dense_1 (Dense)              (None, 2)                 258       \n",
      "=================================================================\n",
      "Total params: 1,170,706\n",
      "Trainable params: 1,170,706\n",
      "Non-trainable params: 0\n",
      "_________________________________________________________________\n"
     ]
    },
    {
     "ename": "NameError",
     "evalue": "name 'EarlyStopping' is not defined",
     "output_type": "error",
     "traceback": [
      "\u001b[1;31m---------------------------------------------------------------------------\u001b[0m",
      "\u001b[1;31mNameError\u001b[0m                                 Traceback (most recent call last)",
      "\u001b[1;32m<ipython-input-6-31ab7a2a3d2a>\u001b[0m in \u001b[0;36m<module>\u001b[1;34m\u001b[0m\n\u001b[0;32m     13\u001b[0m \u001b[0mmodel\u001b[0m\u001b[1;33m.\u001b[0m\u001b[0msummary\u001b[0m\u001b[1;33m(\u001b[0m\u001b[1;33m)\u001b[0m\u001b[1;33m\u001b[0m\u001b[1;33m\u001b[0m\u001b[0m\n\u001b[0;32m     14\u001b[0m \u001b[1;33m\u001b[0m\u001b[0m\n\u001b[1;32m---> 15\u001b[1;33m \u001b[0mearly_stopping\u001b[0m \u001b[1;33m=\u001b[0m \u001b[0mEarlyStopping\u001b[0m\u001b[1;33m(\u001b[0m\u001b[0mpatience\u001b[0m\u001b[1;33m=\u001b[0m\u001b[1;36m0\u001b[0m\u001b[1;33m,\u001b[0m \u001b[0mverbose\u001b[0m\u001b[1;33m=\u001b[0m\u001b[1;36m1\u001b[0m\u001b[1;33m)\u001b[0m\u001b[1;33m\u001b[0m\u001b[1;33m\u001b[0m\u001b[0m\n\u001b[0m",
      "\u001b[1;31mNameError\u001b[0m: name 'EarlyStopping' is not defined"
     ]
    }
   ],
   "source": [
    "from keras.models import Model\n",
    "from keras.preprocessing.text import Tokenizer\n",
    "from keras.preprocessing.sequence import pad_sequences\n",
    "from keras.utils.np_utils import to_categorical\n",
    "from keras.layers import Dense, Input, LSTM\n",
    "\n",
    "sequence_input = Input(shape=(maxlen,), dtype='int32')\n",
    "embedded_sequences = embedding_layer(sequence_input)\n",
    "x = LSTM(128, dropout=0.2, recurrent_dropout=0.2)(embedded_sequences)\n",
    "preds = Dense(y_train.shape[1], activation='softmax')(x)\n",
    "model = Model(sequence_input, preds)\n",
    "model.compile(loss='categorical_crossentropy', optimizer='adam', metrics=['acc'])\n",
    "model.summary()\n",
    "\n",
    "#early_stopping = EarlyStopping(patience=0, verbose=1)"
   ]
  },
  {
   "cell_type": "code",
   "execution_count": 7,
   "metadata": {},
   "outputs": [
    {
     "name": "stdout",
     "output_type": "stream",
     "text": [
      "Train on 8000 samples, validate on 2000 samples\n",
      "Epoch 1/50\n",
      "8000/8000 [==============================] - 4s 489us/step - loss: 0.6147 - acc: 0.6224 - val_loss: 0.5867 - val_acc: 0.6635\n",
      "Epoch 2/50\n",
      "8000/8000 [==============================] - 3s 314us/step - loss: 0.5048 - acc: 0.7439 - val_loss: 0.5571 - val_acc: 0.7150\n",
      "Epoch 3/50\n",
      "8000/8000 [==============================] - 3s 320us/step - loss: 0.4316 - acc: 0.8015 - val_loss: 0.5343 - val_acc: 0.7235\n",
      "Epoch 4/50\n",
      "8000/8000 [==============================] - 2s 312us/step - loss: 0.3794 - acc: 0.8285 - val_loss: 0.5577 - val_acc: 0.7300\n",
      "Epoch 5/50\n",
      "8000/8000 [==============================] - 2s 309us/step - loss: 0.3262 - acc: 0.8601 - val_loss: 0.5732 - val_acc: 0.7395\n",
      "Epoch 6/50\n",
      "8000/8000 [==============================] - 3s 314us/step - loss: 0.2800 - acc: 0.8806 - val_loss: 0.6085 - val_acc: 0.7380\n",
      "Epoch 7/50\n",
      "8000/8000 [==============================] - 3s 314us/step - loss: 0.2451 - acc: 0.8973 - val_loss: 0.6594 - val_acc: 0.7445\n",
      "Epoch 8/50\n",
      "8000/8000 [==============================] - 2s 308us/step - loss: 0.1969 - acc: 0.9147 - val_loss: 0.7912 - val_acc: 0.7445\n",
      "Epoch 9/50\n",
      "8000/8000 [==============================] - 3s 313us/step - loss: 0.1555 - acc: 0.9347 - val_loss: 0.8359 - val_acc: 0.7500\n",
      "Epoch 10/50\n",
      "8000/8000 [==============================] - 2s 310us/step - loss: 0.1325 - acc: 0.9427 - val_loss: 0.9733 - val_acc: 0.7450\n",
      "Epoch 11/50\n",
      "8000/8000 [==============================] - 2s 307us/step - loss: 0.1236 - acc: 0.9457 - val_loss: 1.0004 - val_acc: 0.7450\n",
      "Epoch 12/50\n",
      "8000/8000 [==============================] - 2s 307us/step - loss: 0.1061 - acc: 0.9554 - val_loss: 1.1272 - val_acc: 0.7400\n",
      "Epoch 13/50\n",
      "8000/8000 [==============================] - 3s 313us/step - loss: 0.0917 - acc: 0.9592 - val_loss: 1.2324 - val_acc: 0.7355\n",
      "Epoch 14/50\n",
      "8000/8000 [==============================] - 2s 311us/step - loss: 0.0822 - acc: 0.9636 - val_loss: 1.3697 - val_acc: 0.7430\n",
      "Epoch 15/50\n",
      "8000/8000 [==============================] - 2s 310us/step - loss: 0.0812 - acc: 0.9654 - val_loss: 1.3154 - val_acc: 0.7460\n",
      "Epoch 16/50\n",
      "8000/8000 [==============================] - 2s 308us/step - loss: 0.0811 - acc: 0.9644 - val_loss: 1.3304 - val_acc: 0.7470\n",
      "Epoch 17/50\n",
      "8000/8000 [==============================] - 2s 307us/step - loss: 0.0756 - acc: 0.9651 - val_loss: 1.3389 - val_acc: 0.7480\n",
      "Epoch 18/50\n",
      "8000/8000 [==============================] - 3s 313us/step - loss: 0.0761 - acc: 0.9671 - val_loss: 1.3819 - val_acc: 0.7485\n",
      "Epoch 19/50\n",
      "8000/8000 [==============================] - 2s 312us/step - loss: 0.0735 - acc: 0.9666 - val_loss: 1.4151 - val_acc: 0.7480\n",
      "Epoch 20/50\n",
      "8000/8000 [==============================] - 2s 310us/step - loss: 0.0667 - acc: 0.9685 - val_loss: 1.5180 - val_acc: 0.7505\n",
      "Epoch 21/50\n",
      "8000/8000 [==============================] - 2s 309us/step - loss: 0.0691 - acc: 0.9681 - val_loss: 1.4883 - val_acc: 0.7415\n",
      "Epoch 22/50\n",
      "8000/8000 [==============================] - 3s 319us/step - loss: 0.0720 - acc: 0.9676 - val_loss: 1.4675 - val_acc: 0.7445\n",
      "Epoch 23/50\n",
      "8000/8000 [==============================] - 2s 310us/step - loss: 0.0725 - acc: 0.9673 - val_loss: 1.5014 - val_acc: 0.7460\n",
      "Epoch 24/50\n",
      "8000/8000 [==============================] - 2s 312us/step - loss: 0.0696 - acc: 0.9661 - val_loss: 1.5067 - val_acc: 0.7480\n",
      "Epoch 25/50\n",
      "8000/8000 [==============================] - 3s 314us/step - loss: 0.0666 - acc: 0.9659 - val_loss: 1.4999 - val_acc: 0.7445\n",
      "Epoch 26/50\n",
      "8000/8000 [==============================] - 2s 306us/step - loss: 0.0594 - acc: 0.9729 - val_loss: 1.5695 - val_acc: 0.7505\n",
      "Epoch 27/50\n",
      "8000/8000 [==============================] - 2s 311us/step - loss: 0.0607 - acc: 0.9704 - val_loss: 1.5549 - val_acc: 0.7510\n",
      "Epoch 28/50\n",
      "8000/8000 [==============================] - 3s 314us/step - loss: 0.0586 - acc: 0.9708 - val_loss: 1.6201 - val_acc: 0.7515\n",
      "Epoch 29/50\n",
      "8000/8000 [==============================] - 3s 319us/step - loss: 0.0605 - acc: 0.9704 - val_loss: 1.6081 - val_acc: 0.7490\n",
      "Epoch 30/50\n",
      "8000/8000 [==============================] - 3s 314us/step - loss: 0.0677 - acc: 0.9682 - val_loss: 1.5535 - val_acc: 0.7460\n",
      "Epoch 31/50\n",
      "8000/8000 [==============================] - 3s 314us/step - loss: 0.0685 - acc: 0.9689 - val_loss: 1.6812 - val_acc: 0.7405\n",
      "Epoch 32/50\n",
      "8000/8000 [==============================] - 2s 311us/step - loss: 0.0650 - acc: 0.9693 - val_loss: 1.6059 - val_acc: 0.7435\n",
      "Epoch 33/50\n",
      "8000/8000 [==============================] - 2s 311us/step - loss: 0.0631 - acc: 0.9704 - val_loss: 1.7090 - val_acc: 0.7445\n",
      "Epoch 34/50\n",
      "8000/8000 [==============================] - 2s 307us/step - loss: 0.0634 - acc: 0.9700 - val_loss: 1.6463 - val_acc: 0.7455\n",
      "Epoch 35/50\n",
      "8000/8000 [==============================] - 3s 315us/step - loss: 0.0653 - acc: 0.9696 - val_loss: 1.6548 - val_acc: 0.7355\n",
      "Epoch 36/50\n",
      "8000/8000 [==============================] - 2s 310us/step - loss: 0.0625 - acc: 0.9705 - val_loss: 1.6644 - val_acc: 0.7350\n",
      "Epoch 37/50\n",
      "8000/8000 [==============================] - 2s 312us/step - loss: 0.0633 - acc: 0.9714 - val_loss: 1.6954 - val_acc: 0.7335\n",
      "Epoch 38/50\n",
      "8000/8000 [==============================] - 3s 313us/step - loss: 0.0567 - acc: 0.9721 - val_loss: 1.7227 - val_acc: 0.7305\n",
      "Epoch 39/50\n",
      "8000/8000 [==============================] - 2s 309us/step - loss: 0.0544 - acc: 0.9725 - val_loss: 1.7795 - val_acc: 0.7360\n",
      "Epoch 40/50\n",
      "8000/8000 [==============================] - 3s 314us/step - loss: 0.0566 - acc: 0.9718 - val_loss: 1.7207 - val_acc: 0.7425\n",
      "Epoch 41/50\n",
      "8000/8000 [==============================] - 3s 313us/step - loss: 0.0584 - acc: 0.9725 - val_loss: 1.7637 - val_acc: 0.7440\n",
      "Epoch 42/50\n",
      "8000/8000 [==============================] - 3s 313us/step - loss: 0.0603 - acc: 0.9710 - val_loss: 1.6892 - val_acc: 0.7355\n",
      "Epoch 43/50\n",
      "8000/8000 [==============================] - 3s 314us/step - loss: 0.0581 - acc: 0.9720 - val_loss: 1.7229 - val_acc: 0.7410\n",
      "Epoch 44/50\n",
      "8000/8000 [==============================] - 2s 311us/step - loss: 0.0571 - acc: 0.9706 - val_loss: 1.8207 - val_acc: 0.7330\n",
      "Epoch 45/50\n",
      "8000/8000 [==============================] - 3s 313us/step - loss: 0.0563 - acc: 0.9726 - val_loss: 1.7978 - val_acc: 0.7405\n",
      "Epoch 46/50\n",
      "8000/8000 [==============================] - 2s 312us/step - loss: 0.0560 - acc: 0.9720 - val_loss: 1.8079 - val_acc: 0.7350\n",
      "Epoch 47/50\n",
      "8000/8000 [==============================] - 3s 316us/step - loss: 0.0556 - acc: 0.9730 - val_loss: 1.8259 - val_acc: 0.7320\n",
      "Epoch 48/50\n",
      "8000/8000 [==============================] - 3s 318us/step - loss: 0.0560 - acc: 0.9724 - val_loss: 1.8459 - val_acc: 0.7360\n",
      "Epoch 49/50\n",
      "8000/8000 [==============================] - 2s 311us/step - loss: 0.0572 - acc: 0.9721 - val_loss: 1.8697 - val_acc: 0.7325\n",
      "Epoch 50/50\n",
      "8000/8000 [==============================] - 3s 313us/step - loss: 0.0572 - acc: 0.9726 - val_loss: 1.8736 - val_acc: 0.7390\n"
     ]
    }
   ],
   "source": [
    "history = model.fit(x_train, y_train,\n",
    "                    epochs=50, \n",
    "                    batch_size=300,\n",
    "                    validation_data=(x_val, y_val))"
   ]
  },
  {
   "cell_type": "code",
   "execution_count": 8,
   "metadata": {},
   "outputs": [
    {
     "data": {
      "image/png": "[encoded data removed]",
      "text/plain": [
       "<Figure size 432x288 with 1 Axes>"
      ]
     },
     "metadata": {
      "needs_background": "light"
     },
     "output_type": "display_data"
    },
    {
     "data": {
      "image/png": "[encoded data removed]",
      "text/plain": [
       "<Figure size 432x288 with 1 Axes>"
      ]
     },
     "metadata": {
      "needs_background": "light"
     },
     "output_type": "display_data"
    },
    {
     "data": {
      "text/plain": [
       "<Figure size 432x288 with 0 Axes>"
      ]
     },
     "metadata": {},
     "output_type": "display_data"
    },
    {
     "data": {
      "image/png": "[encoded data removed]",
      "text/plain": [
       "<Figure size 432x288 with 2 Axes>"
      ]
     },
     "metadata": {
      "needs_background": "light"
     },
     "output_type": "display_data"
    }
   ],
   "source": [
    "%matplotlib inline\n",
    "\n",
    "import matplotlib.pyplot as plt\n",
    "\n",
    "acc = history.history['acc']\n",
    "val_acc = history.history['val_acc']\n",
    "loss = history.history['loss']\n",
    "val_loss = history.history['val_loss']\n",
    "#precision = history.history['macro_precision']\n",
    "#val_precision = history.history['val_macro_precision']\n",
    "#recall = history.history['macro_recall']\n",
    "#val_recall = history.history['val_macro_recall']\n",
    "#f_measure = history.history['macro_f_measure']\n",
    "#val_f_measure = history.history['val_macro_f_measure']\n",
    "\n",
    "epochs = range(1, len(acc) + 1)\n",
    "\n",
    "plt.plot(epochs, acc, 'b--', label='Training acc')\n",
    "plt.plot(epochs, val_acc, 'b', label='Validation acc')\n",
    "plt.title('Training and validation accuracy')\n",
    "plt.legend()\n",
    "\n",
    "plt.figure()\n",
    "\n",
    "plt.plot(epochs, loss, 'b--', label='Training loss')\n",
    "plt.plot(epochs, val_loss, 'b', label='Validation loss')\n",
    "plt.title('Training and validation loss')\n",
    "plt.legend()\n",
    "\n",
    "plt.figure()\n",
    "\n",
    "fig = plt.figure()\n",
    "ax_acc = fig.add_subplot(111)\n",
    "ax_acc.plot(epochs, val_acc, 'b--', label='Training acc')\n",
    "plt.legend(bbox_to_anchor=(0, 1), loc='upper left', borderaxespad=0.5, fontsize=10)\n",
    "\n",
    "ax_loss = ax_acc.twinx()\n",
    "ax_loss.plot(epochs, val_loss, 'b', label='Training loss')\n",
    "plt.legend(bbox_to_anchor=(0, 0.9), loc='upper left', borderaxespad=0.5, fontsize=10)\n",
    "plt.title('Training acc and Training loss')\n",
    "ax_acc.set_xlabel('epochs')\n",
    "ax_acc.set_ylabel('Training acc')\n",
    "ax_loss.grid(True)\n",
    "ax_loss.set_ylabel('Training loss')\n",
    "\n",
    "#plt.savefig(\"acc_loss.png\")\n",
    "plt.show()"
   ]
  },
  {
   "cell_type": "code",
   "execution_count": null,
   "metadata": {},
   "outputs": [],
   "source": []
  }
 ],
 "metadata": {
  "kernelspec": {
   "display_name": "Python 3",
   "language": "python",
   "name": "python3"
  },
  "language_info": {
   "codemirror_mode": {
    "name": "ipython",
    "version": 3
   },
   "file_extension": ".py",
   "mimetype": "text/x-python",
   "name": "python",
   "nbconvert_exporter": "python",
   "pygments_lexer": "ipython3",
   "version": "3.6.7"
  }
 },
 "nbformat": 4,
 "nbformat_minor": 2
}
