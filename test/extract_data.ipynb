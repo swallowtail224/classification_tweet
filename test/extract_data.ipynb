{
 "cells": [
  {
   "cell_type": "code",
   "execution_count": 2,
   "metadata": {},
   "outputs": [],
   "source": [
    "import MeCab as mc\n",
    "import re\n",
    "import pandas as pd\n",
    "import numpy as np\n",
    "import urllib.request\n",
    "import unicodedata\n",
    "from sklearn.model_selection import train_test_split"
   ]
  },
  {
   "cell_type": "code",
   "execution_count": 23,
   "metadata": {},
   "outputs": [
    {
     "name": "stdout",
     "output_type": "stream",
     "text": [
      "48401\n",
      "48872\n",
      "        tweetID  retweet               date_x  \\\n",
      "0  7.113431e+17        1  2016-03-20 00:00:00   \n",
      "1  7.124711e+17        1  2016-03-23 00:00:00   \n",
      "2  7.223425e+17        1  2016-04-19 00:00:00   \n",
      "\n",
      "                                              tweet2  \n",
      "0                         本日も遠野風の丘軒下市、よろしくお願いします。     \n",
      "1  【遠野山ぶどうワイン2015】本日より発売開始です！！駅前売店でも入荷しております♪数量限定...  \n",
      "2  骨寺荘園室より 【世界遺産 拡張資産 巡回バス】のお知らせ  ４月23日（土）に世界遺産拡張...  \n",
      "        tweetID  retweet               date_x  \\\n",
      "0  7.111280e+17        0  2016-03-19 00:00:00   \n",
      "1  7.113160e+17        0  2016-03-20 00:00:00   \n",
      "2  7.113729e+17        0  2016-03-20 00:00:00   \n",
      "\n",
      "                                              tweet2  \n",
      "0  きょうは来てくれてありがとっ♡ お買い物してくれてありがとっ♡ 21日は陸前高田にねば〜るく...  \n",
      "1  みんなゆめ☆も〜にん☆彡  かさ上げに 思いはひとつ 笑顔かなっ♪            ゆ...  \n",
      "2  【遠野風の丘軒下市】ラム肉まんが通常220円のところ200円、2つで300円で販売しています...  \n"
     ]
    }
   ],
   "source": [
    "#retweet dataの読み込み\n",
    "retweet_input = pd.read_csv(filepath_or_buffer=\"t_retweet.csv\", encoding=\"utf_8\", sep=\",\")\n",
    "print(len(retweet_input))\n",
    "\n",
    "#tweet dataの読み込み\n",
    "tweet_input = pd.read_csv(filepath_or_buffer=\"t_tweet_data.csv\", encoding=\"utf_8\", sep=\",\")\n",
    "print(len(tweet_input))\n",
    "\n",
    "\n",
    "\n",
    "#retweetしたデータとしなかったデータに分割\n",
    "retweet = retweet_input.query('retweet == 1')\n",
    "n_retweet = retweet_input.query('retweet == 0')\n",
    "\n",
    "#retweetしたデータ\n",
    "r_data = pd.merge(retweet, tweet_input, how=\"inner\", on=\"tweetID\")\n",
    "#retweetしなかったデータ\n",
    "nr_data = pd.merge(n_retweet, tweet_input, how=\"inner\", on=\"tweetID\")\n",
    "\n",
    "#余分に別れたカラムの結合\n",
    "r_data['tweet2'] = r_data[['tweet', 'Unnamed: 3', 'Unnamed: 4', 'Unnamed: 5', 'Unnamed: 6']].apply(lambda x: '{}_{}_{}'.format(x[0], x[1], x[2],x[3],x[4]), axis=1)\n",
    "nr_data['tweet2'] = nr_data[['tweet', 'Unnamed: 3', 'Unnamed: 4', 'Unnamed: 5', 'Unnamed: 6']].apply(lambda x: '{}_{}_{}'.format(x[0], x[1], x[2],x[3],x[4]), axis=1)\n",
    "\n",
    "#必要なカラム以外は取り除く\n",
    "r_data.drop(['date_y','tweet','Unnamed: 3', 'Unnamed: 4','Unnamed: 5', 'Unnamed: 6'], axis=1, inplace=True)\n",
    "nr_data.drop(['date_y','tweet','Unnamed: 3', 'Unnamed: 4','Unnamed: 5', 'Unnamed: 6'], axis=1, inplace=True)\n",
    "\n",
    "#不要な文字の削除\n",
    "r_data[\"tweet2\"] = r_data[\"tweet2\"].str.replace('\\n', ' ')\n",
    "r_data[\"tweet2\"] = r_data[\"tweet2\"].str.replace('_nan', ' ')\n",
    "nr_data[\"tweet2\"] =nr_data[\"tweet2\"].str.replace('\\n', ' ')\n",
    "nr_data[\"tweet2\"] = nr_data[\"tweet2\"].str.replace('_nan', ' ')\n",
    "\n",
    "print(r_data.head(3))\n",
    "print(nr_data.head(3))"
   ]
  },
  {
   "cell_type": "code",
   "execution_count": 28,
   "metadata": {
    "collapsed": true
   },
   "outputs": [],
   "source": [
    "#データをランダムに5000件ずつ抽出\n",
    "ran_r_data = r_data.sample(n=5000)\n",
    "ran_nr_data = nr_data.sample(n=5000)\n",
    "#データの結合\n",
    "data = ran_r_data.append(ran_nr_data)\n",
    "#dateでソート\n",
    "data_s = data.sort_values('date_x')\n",
    "print(data_s.head(10))"
   ]
  },
  {
   "cell_type": "code",
   "execution_count": 43,
   "metadata": {
    "collapsed": true
   },
   "outputs": [],
   "source": [
    "data_s.to_csv(\"retweet_data.txt\",index=False, sep=\",\")"
   ]
  },
  {
   "cell_type": "code",
   "execution_count": 85,
   "metadata": {
    "collapsed": true
   },
   "outputs": [],
   "source": [
    "#テキストデータのみ取り出し、ファイルに書き出す\n",
    "text = data_s.drop(['tweetID', 'retweet', 'date_x'], axis=1)\n",
    "text.to_csv(\"tweet.txt\",header=False, index=False, sep=\",\")\n",
    "#retweetのラベルのみ取り出す\n",
    "tweet_labe = data_s.drop(['tweetID', 'date_x', 'tweet2'], axis=1)\n",
    "tweet_labe.to_csv(\"label.txt\", header=Falsem index=False, sep=\",\")"
   ]
  },
  {
   "cell_type": "code",
   "execution_count": 51,
   "metadata": {},
   "outputs": [
    {
     "name": "stdout",
     "output_type": "stream",
     "text": [
      "10000\n"
     ]
    }
   ],
   "source": [
    "#ツイートのテキスト読み込み\n",
    "test = open(\"tweet.txt\", \"r\")\n",
    "lines = test.readlines()\n",
    "test.close()\n",
    "print(len(lines))"
   ]
  },
  {
   "cell_type": "code",
   "execution_count": 4,
   "metadata": {},
   "outputs": [],
   "source": [
    "#テキストのクリーニング\n",
    "#text_data_test  = lines[9924:9929]\n",
    "#print(text_data_test)\n",
    "def clean_text(text_string):\n",
    "    text_string = re.sub(r'([^\\s\\w])+', '', text_string)\n",
    "    text_string = re.sub(r'[0-9]', '', text_string)\n",
    "    text_string = \" \".join(text_string.split())\n",
    "    text_string = text_string.lower()\n",
    "    return(text_string)\n",
    "\n",
    "#text_data_train = [clean_text(x) for x in text_data_test]\n",
    "#print(text_data_train)"
   ]
  },
  {
   "cell_type": "code",
   "execution_count": 5,
   "metadata": {},
   "outputs": [],
   "source": [
    "#slothlibのストップワードの取得\n",
    "def get_stopword():\n",
    "    slothlib_path = 'http://svn.sourceforge.jp/svnroot/slothlib/CSharp/Version1/SlothLib/NLP/Filter/StopWord/word/Japanese.txt'\n",
    "    slothlib_file = urllib.request.urlopen(slothlib_path)\n",
    "    slothlib_stopwords = [line.decode(\"utf-8\").strip() for line in slothlib_file]\n",
    "    slothlib_stopwords = [ss for ss in slothlib_stopwords if not ss==u'']\n",
    "    return slothlib_stopwords"
   ]
  },
  {
   "cell_type": "code",
   "execution_count": 6,
   "metadata": {},
   "outputs": [
    {
     "name": "stdout",
     "output_type": "stream",
     "text": [
      "['あそこ', 'あたり', 'あちら', 'あっち', 'あと', 'あな', 'あなた', 'あれ', 'いくつ', 'いつ', 'いま', 'いや', 'いろいろ', 'うち', 'おおまか', 'おまえ', 'おれ', 'がい', 'かく', 'かたち', 'かやの', 'から', 'がら', 'きた', 'くせ', 'ここ', 'こっち', 'こと', 'ごと', 'こちら', 'ごっちゃ', 'これ', 'これら', 'ごろ', 'さまざま', 'さらい', 'さん', 'しかた', 'しよう', 'すか', 'ずつ', 'すね', 'すべて', 'ぜんぶ', 'そう', 'そこ', 'そちら', 'そっち', 'そで', 'それ', 'それぞれ', 'それなり', 'たくさん', 'たち', 'たび', 'ため', 'だめ', 'ちゃ', 'ちゃん', 'てん', 'とおり', 'とき', 'どこ', 'どこか', 'ところ', 'どちら', 'どっか', 'どっち', 'どれ', 'なか', 'なかば', 'なに', 'など', 'なん', 'はじめ', 'はず', 'はるか', 'ひと', 'ひとつ', 'ふく', 'ぶり', 'べつ', 'へん', 'ぺん', 'ほう', 'ほか', 'まさ', 'まし', 'まとも', 'まま', 'みたい', 'みつ', 'みなさん', 'みんな', 'もと', 'もの', 'もん', 'やつ', 'よう', 'よそ', 'わけ', 'わたし', 'ハイ', '上', '中', '下', '字', '年', '月', '日', '時', '分', '秒', '週', '火', '水', '木', '金', '土', '国', '都', '道', '府', '県', '市', '区', '町', '村', '各', '第', '方', '何', '的', '度', '文', '者', '性', '体', '人', '他', '今', '部', '課', '係', '外', '類', '達', '気', '室', '口', '誰', '用', '界', '会', '首', '男', '女', '別', '話', '私', '屋', '店', '家', '場', '等', '見', '際', '観', '段', '略', '例', '系', '論', '形', '間', '地', '員', '線', '点', '書', '品', '力', '法', '感', '作', '元', '手', '数', '彼', '彼女', '子', '内', '楽', '喜', '怒', '哀', '輪', '頃', '化', '境', '俺', '奴', '高', '校', '婦', '伸', '紀', '誌', 'レ', '行', '列', '事', '士', '台', '集', '様', '所', '歴', '器', '名', '情', '連', '毎', '式', '簿', '回', '匹', '個', '席', '束', '歳', '目', '通', '面', '円', '玉', '枚', '前', '後', '左', '右', '次', '先', '春', '夏', '秋', '冬', '一', '二', '三', '四', '五', '六', '七', '八', '九', '十', '百', '千', '万', '億', '兆', '下記', '上記', '時間', '今回', '前回', '場合', '一つ', '年生', '自分', 'ヶ所', 'ヵ所', 'カ所', '箇所', 'ヶ月', 'ヵ月', 'カ月', '箇月', '名前', '本当', '確か', '時点', '全部', '関係', '近く', '方法', '我々', '違い', '多く', '扱い', '新た', 'その後', '半ば', '結局', '様々', '以前', '以後', '以降', '未満', '以上', '以下', '幾つ', '毎日', '自体', '向こう', '何人', '手段', '同じ', '感じ']\n"
     ]
    }
   ],
   "source": [
    "stopwords = get_stopword()\n",
    "print(stopwords)"
   ]
  },
  {
   "cell_type": "code",
   "execution_count": 7,
   "metadata": {},
   "outputs": [],
   "source": [
    "#MeCabによる形態素解析\n",
    "def extractter(text):\n",
    "    text = unicodedata.normalize(\"NFKC\", text)\n",
    "    tagger = mc.Tagger('-Ochasen')\n",
    "    tagger.parse('')\n",
    "    node = tagger.parseToNode(text)\n",
    "    key= []\n",
    "    word = []\n",
    "    keyword =[]\n",
    "    while node:\n",
    "        nes = node.feature.split(\",\")\n",
    "        wor = node.surface\n",
    "        if wor != \"\":\n",
    "            nes = node.feature.split(\",\")\n",
    "            if nes[0] == u\"名詞\":\n",
    "                if nes[6] == u\"*\":\n",
    "                     keyword.append(wor)\n",
    "                else:\n",
    "                    keyword.append(nes[6])\n",
    "        node = node.next\n",
    "        if node is None:\n",
    "            break\n",
    "    return keyword"
   ]
  },
  {
   "cell_type": "code",
   "execution_count": 8,
   "metadata": {},
   "outputs": [
    {
     "name": "stdout",
     "output_type": "stream",
     "text": [
      "['祝', '北海道', '新幹線', '開業', '年月', '日土', '北海道', '皆さん', '全国', '皆さん', '新幹線', '岩手', 'おでん', '飛行機', 'アルヨ']\n"
     ]
    }
   ],
   "source": [
    "text = '【祝】北海道新幹線が開業 | 2016年3月26日(土) -    北海道の皆さん、全国の皆さん、新幹線で岩手におでんせ～♪あっ、飛行機もアルヨ‼'\n",
    "text = clean_text(text)\n",
    "result = extractter(text)\n",
    "print(result)"
   ]
  },
  {
   "cell_type": "code",
   "execution_count": 141,
   "metadata": {
    "collapsed": true
   },
   "outputs": [],
   "source": [
    "#ストップワードの除去\n",
    "def except_stopwords(text, stopwords):\n",
    "    for i in text:\n",
    "        for j in stopwords:\n",
    "            if i == j:\n",
    "                text.remove(j)\n",
    "    return text"
   ]
  },
  {
   "cell_type": "code",
   "execution_count": 142,
   "metadata": {},
   "outputs": [
    {
     "name": "stdout",
     "output_type": "stream",
     "text": [
      "['祝', '北海道新幹線', '開業', '年月', '日土', '北海道', '皆さん', '全国', '皆さん', '新幹線', '岩手', 'おでん', 'する', '飛行機', 'アル']\n"
     ]
    }
   ],
   "source": [
    "s_result = except_stopwords(result, stopwords)\n",
    "print(s_result)"
   ]
  },
  {
   "cell_type": "code",
   "execution_count": null,
   "metadata": {
    "collapsed": true
   },
   "outputs": [],
   "source": [
    "#データセットの分割\n",
    "x_train, x_test, y_train, y_test = train_test_split(namelist2_x, namelist2_y, test_size=0.3)"
   ]
  }
 ],
 "metadata": {
  "kernelspec": {
   "display_name": "Python 3",
   "language": "python",
   "name": "python3"
  },
  "language_info": {
   "codemirror_mode": {
    "name": "ipython",
    "version": 3
   },
   "file_extension": ".py",
   "mimetype": "text/x-python",
   "name": "python",
   "nbconvert_exporter": "python",
   "pygments_lexer": "ipython3",
   "version": "3.6.7"
  }
 },
 "nbformat": 4,
 "nbformat_minor": 1
}
