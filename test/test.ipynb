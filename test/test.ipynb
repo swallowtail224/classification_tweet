{
 "cells": [
  {
   "cell_type": "code",
   "execution_count": 1,
   "metadata": {},
   "outputs": [
    {
     "name": "stderr",
     "output_type": "stream",
     "text": [
      "/usr/local/lib/python3.6/site-packages/h5py/__init__.py:36: FutureWarning: Conversion of the second argument of issubdtype from `float` to `np.floating` is deprecated. In future, it will be treated as `np.float64 == np.dtype(float).type`.\n",
      "  from ._conv import register_converters as _register_converters\n"
     ]
    }
   ],
   "source": [
    "import os\n",
    "import re\n",
    "import io\n",
    "import requests\n",
    "import numpy as np\n",
    "import matplotlib.pyplot as plt\n",
    "import tensorflow as tf\n",
    "from zipfile import ZipFile"
   ]
  },
  {
   "cell_type": "code",
   "execution_count": 2,
   "metadata": {},
   "outputs": [],
   "source": [
    "sess = tf.Session()\n",
    "epochs = 30\n",
    "batch_size = 250\n",
    "max_sequence_length = 25\n",
    "rnn_size = 10\n",
    "embedding_size = 50\n",
    "min_word_frequency = 1\n",
    "learning_rate = 0.0005\n",
    "dropout_keep_prob = tf.placeholder(tf.float32)"
   ]
  },
  {
   "cell_type": "code",
   "execution_count": 20,
   "metadata": {},
   "outputs": [],
   "source": [
    "data_dir = 'temp'\n",
    "data_file = 'text_data.txt'\n",
    "if not os.path.exists(data_dir):\n",
    "    os.makedirs(data_dir)\n",
    "    \n",
    "if not os.path.isfile(os.path.join(data_dir, data_file)):\n",
    "        zip_url = 'http://archive.ics.uci.edu/ml/machine-learning-databases/' \\\n",
    "                  '00228/smsspamcollection.zip'\n",
    "        r = requests.get(zip_url)\n",
    "        z = ZipFile(io.BytesIO(r.content))\n",
    "        file = z.read('SMSSpamCollection')\n",
    "        \n",
    "        # データの書式を設定\n",
    "        text_data = file.decode()\n",
    "        text_data = text_data.encode('ascii', errors='ignore') \n",
    "        text_data = text_data.decode().split('\\n')\n",
    "        # データをテキストファイルに保存\n",
    "        with open(os.path.join(data_dir, data_file), 'w') as file_conn:\n",
    "            for text in text_data:\n",
    "                file_conn.write(\"{}\\n\".format(text))\n",
    "else:\n",
    "        # テキストファイルからデータを読み込む\n",
    "        text_data = []\n",
    "        with open(os.path.join(data_dir, data_file), 'r') as file_conn:\n",
    "                    for row in file_conn:\n",
    "                        text_data.append(row)\n",
    "        text_data = text_data[:-1]\n",
    "text_data = [x.split('\\t') for x in text_data if len(x)>=1] \n",
    "[text_data_target, text_data_train] = [list(x) for x in zip(*text_data)]"
   ]
  },
  {
   "cell_type": "code",
   "execution_count": 38,
   "metadata": {},
   "outputs": [],
   "source": [
    "def clean_text(text_string):\n",
    "    text_string = re.sub(r'([^\\s\\w]|_|[0-9])+', '', text_string) \n",
    "    text_string = \" \".join(text_string.split())\n",
    "    text_string = text_string.lower()\n",
    "    return(text_string)\n",
    "\n",
    "# テキストをクリーニング\n",
    "text_data_train = [clean_text(x) for x in text_data_train]"
   ]
  },
  {
   "cell_type": "code",
   "execution_count": 3,
   "metadata": {},
   "outputs": [
    {
     "name": "stdout",
     "output_type": "stream",
     "text": [
      "10000\n"
     ]
    }
   ],
   "source": [
    "#ツイートのテキスト読み込み\n",
    "test = open(\"RNN_tweet/extract_tweet.txt\", \"r\", encoding=\"utf-8\")\n",
    "lines = test.readlines()\n",
    "test.close()\n",
    "print(len(lines))"
   ]
  },
  {
   "cell_type": "code",
   "execution_count": 4,
   "metadata": {},
   "outputs": [
    {
     "name": "stdout",
     "output_type": "stream",
     "text": [
      "10000\n"
     ]
    }
   ],
   "source": [
    "#ラベル読み込み\n",
    "test = open(\"RNN_tweet/label.txt\", \"r\", encoding=\"utf-8\")\n",
    "label = test.readlines()\n",
    "test.close()\n",
    "print(len(label))"
   ]
  },
  {
   "cell_type": "code",
   "execution_count": 5,
   "metadata": {},
   "outputs": [],
   "source": [
    "vocab_processor = tf.contrib.learn.preprocessing.VocabularyProcessor(\n",
    "        max_sequence_length, min_frequency=min_word_frequency)\n",
    "text_processed =  np.array(list(vocab_processor.fit_transform(lines)))"
   ]
  },
  {
   "cell_type": "code",
   "execution_count": 6,
   "metadata": {},
   "outputs": [
    {
     "name": "stdout",
     "output_type": "stream",
     "text": [
      "[[ 526 1492    5 ...    0    0    0]\n",
      " [ 902  866    0 ...    0    0    0]\n",
      " [   0    0    0 ...    0    0    0]\n",
      " ...\n",
      " [   0    0   82 ... 6294 6295    0]\n",
      " [  70 1208    6 ...    0    0    0]\n",
      " [ 356 1092 3166 ...    0    0    0]]\n"
     ]
    }
   ],
   "source": [
    "print(text_processed)"
   ]
  },
  {
   "cell_type": "code",
   "execution_count": 7,
   "metadata": {},
   "outputs": [],
   "source": [
    "text_processed = np.array(text_processed)\n",
    "label = np.array(label)\n",
    "#hamだったら1に変換\n",
    "#text_data_target = np.array([1 if x=='ham' else 0 for x in text_data_target])\n",
    "shuffled_ix = np.random.permutation(np.arange(len(label)))\n",
    "x_shuffled = text_processed[shuffled_ix]\n",
    "y_shuffled = label[shuffled_ix]"
   ]
  },
  {
   "cell_type": "code",
   "execution_count": 8,
   "metadata": {},
   "outputs": [
    {
     "name": "stdout",
     "output_type": "stream",
     "text": [
      "[ 333 5378 3616 ... 6198 7528 2037]\n"
     ]
    }
   ],
   "source": [
    "print(shuffled_ix)"
   ]
  },
  {
   "cell_type": "code",
   "execution_count": 9,
   "metadata": {},
   "outputs": [
    {
     "name": "stdout",
     "output_type": "stream",
     "text": [
      "Vocabulary Size: 10636\n",
      "80-20 Train Test split: 8000 -- 2000\n"
     ]
    }
   ],
   "source": [
    "ix_cutoff = int(len(y_shuffled)*0.80)\n",
    "x_train, x_test = x_shuffled[:ix_cutoff], x_shuffled[ix_cutoff:]\n",
    "y_train, y_test = y_shuffled[:ix_cutoff], y_shuffled[ix_cutoff:]\n",
    "vocab_size = len(vocab_processor.vocabulary_)\n",
    "print(\"Vocabulary Size: {:d}\".format(vocab_size))\n",
    "print(\"80-20 Train Test split: {:d} -- {:d}\".format(len(y_train),len(y_test)))"
   ]
  },
  {
   "cell_type": "code",
   "execution_count": 10,
   "metadata": {},
   "outputs": [],
   "source": [
    "x_data = tf.placeholder(tf.int32, [None, max_sequence_length])\n",
    "y_output = tf.placeholder(tf.int32, [None])"
   ]
  },
  {
   "cell_type": "code",
   "execution_count": 11,
   "metadata": {},
   "outputs": [],
   "source": [
    "embedding_mat = tf.Variable(tf.random_uniform([vocab_size, embedding_size],-1.0, 1.0))\n",
    "embedding_output = tf.nn.embedding_lookup(embedding_mat, x_data)"
   ]
  },
  {
   "cell_type": "code",
   "execution_count": 12,
   "metadata": {},
   "outputs": [],
   "source": [
    "# RNNセルを定義\n",
    "cell = tf.nn.rnn_cell.BasicLSTMCell(num_units = rnn_size)\n",
    "        \n",
    "output, state = tf.nn.dynamic_rnn(cell, embedding_output, dtype=tf.float32)\n",
    "output = tf.nn.dropout(output, dropout_keep_prob)"
   ]
  },
  {
   "cell_type": "code",
   "execution_count": 14,
   "metadata": {},
   "outputs": [],
   "source": [
    "# RNNシーケンスの出力を取得\n",
    "output = tf.transpose(output, [1, 0, 2])\n",
    "last = tf.gather(output, int(output.get_shape()[0]) - 1)"
   ]
  },
  {
   "cell_type": "code",
   "execution_count": 15,
   "metadata": {},
   "outputs": [],
   "source": [
    "weight = tf.Variable(tf.truncated_normal([rnn_size, 2], stddev=0.1))\n",
    "bias = tf.Variable(tf.constant(0.1, shape=[2]))\n",
    "logits_out = tf.nn.softmax(tf.matmul(last, weight) + bias)"
   ]
  },
  {
   "cell_type": "code",
   "execution_count": 16,
   "metadata": {},
   "outputs": [],
   "source": [
    "# logits=float32、labels=int32\n",
    "losses = tf.nn.sparse_softmax_cross_entropy_with_logits(logits=logits_out, labels=y_output)\n",
    "loss = tf.reduce_mean(losses)"
   ]
  },
  {
   "cell_type": "code",
   "execution_count": 17,
   "metadata": {},
   "outputs": [],
   "source": [
    "accuracy = tf.reduce_mean(tf.cast(tf.equal(tf.argmax(logits_out, 1),tf.cast(y_output, tf.int64)),tf.float32))"
   ]
  },
  {
   "cell_type": "code",
   "execution_count": 18,
   "metadata": {},
   "outputs": [],
   "source": [
    "class EarlyStopping():\n",
    "    def __init__(self, patience = 0, verbose = 0):\n",
    "        self._step = 0\n",
    "        self._loss = float('inf')\n",
    "        self.patience = patience\n",
    "        self.verbose = verbose\n",
    "        \n",
    "    def validate(self, loss):\n",
    "        if self._loss < loss:\n",
    "            self._step += 1\n",
    "            if self._step > self.patience:\n",
    "                if self.verbose:\n",
    "                    print('early stopping')\n",
    "                return True\n",
    "        else:\n",
    "            self._step = 0\n",
    "            self._loss = loss\n",
    "            \n",
    "        return False"
   ]
  },
  {
   "cell_type": "code",
   "execution_count": 19,
   "metadata": {},
   "outputs": [
    {
     "name": "stderr",
     "output_type": "stream",
     "text": [
      "/usr/local/lib/python3.6/site-packages/tensorflow/python/ops/gradients_impl.py:97: UserWarning: Converting sparse IndexedSlices to a dense Tensor of unknown shape. This may consume a large amount of memory.\n",
      "  \"Converting sparse IndexedSlices to a dense Tensor of unknown shape. \"\n"
     ]
    }
   ],
   "source": [
    "optimizer = tf.train.AdamOptimizer(learning_rate, beta1=0.9, beta2=0.999)\n",
    "train_step = optimizer.minimize(loss)\n",
    "\n",
    "early_stopping = EarlyStopping(patience=10, verbose=1)\n",
    "\n",
    "init = tf.global_variables_initializer()\n",
    "sess.run(init)"
   ]
  },
  {
   "cell_type": "code",
   "execution_count": 20,
   "metadata": {},
   "outputs": [
    {
     "name": "stdout",
     "output_type": "stream",
     "text": [
      "Epoch: 1, Test Loss: 0.69, Test Acc: 0.53\n",
      "Epoch: 2, Test Loss: 0.69, Test Acc: 0.55\n",
      "Epoch: 3, Test Loss: 0.68, Test Acc: 0.58\n",
      "Epoch: 4, Test Loss: 0.67, Test Acc: 0.6\n",
      "Epoch: 5, Test Loss: 0.66, Test Acc: 0.63\n",
      "Epoch: 6, Test Loss: 0.65, Test Acc: 0.65\n",
      "Epoch: 7, Test Loss: 0.65, Test Acc: 0.65\n",
      "Epoch: 8, Test Loss: 0.63, Test Acc: 0.67\n",
      "Epoch: 9, Test Loss: 0.63, Test Acc: 0.68\n",
      "Epoch: 10, Test Loss: 0.64, Test Acc: 0.67\n",
      "Epoch: 11, Test Loss: 0.61, Test Acc: 0.69\n",
      "Epoch: 12, Test Loss: 0.62, Test Acc: 0.69\n",
      "Epoch: 13, Test Loss: 0.61, Test Acc: 0.7\n",
      "Epoch: 14, Test Loss: 0.61, Test Acc: 0.7\n",
      "Epoch: 15, Test Loss: 0.61, Test Acc: 0.7\n",
      "Epoch: 16, Test Loss: 0.6, Test Acc: 0.71\n",
      "Epoch: 17, Test Loss: 0.6, Test Acc: 0.71\n",
      "Epoch: 18, Test Loss: 0.61, Test Acc: 0.7\n",
      "Epoch: 19, Test Loss: 0.59, Test Acc: 0.72\n",
      "Epoch: 20, Test Loss: 0.59, Test Acc: 0.72\n",
      "Epoch: 21, Test Loss: 0.59, Test Acc: 0.72\n",
      "Epoch: 22, Test Loss: 0.6, Test Acc: 0.71\n",
      "Epoch: 23, Test Loss: 0.59, Test Acc: 0.72\n",
      "Epoch: 24, Test Loss: 0.59, Test Acc: 0.72\n",
      "Epoch: 25, Test Loss: 0.61, Test Acc: 0.7\n",
      "Epoch: 26, Test Loss: 0.59, Test Acc: 0.71\n",
      "Epoch: 27, Test Loss: 0.59, Test Acc: 0.72\n",
      "Epoch: 28, Test Loss: 0.59, Test Acc: 0.72\n",
      "Epoch: 29, Test Loss: 0.59, Test Acc: 0.72\n",
      "Epoch: 30, Test Loss: 0.59, Test Acc: 0.72\n"
     ]
    }
   ],
   "source": [
    "train_loss = []\n",
    "test_loss = []\n",
    "train_accuracy = []\n",
    "test_accuracy = []\n",
    "# トレーニングを開始\n",
    "for epoch in range(epochs):\n",
    "    # トレーニングデータをシャッフル\n",
    "    shuffled_ix = np.random.permutation(np.arange(len(x_train)))\n",
    "    x_train = x_train[shuffled_ix]\n",
    "    y_train = y_train[shuffled_ix]\n",
    "    num_batches = int(len(x_train)/batch_size) + 1\n",
    "    \n",
    "    for i in range(num_batches):\n",
    "        # トレーニングデータを選択\n",
    "        min_ix = i * batch_size\n",
    "        max_ix = np.min([len(x_train), ((i+1) * batch_size)])\n",
    "        x_train_batch = x_train[min_ix:max_ix]\n",
    "        y_train_batch = y_train[min_ix:max_ix]\n",
    "        \n",
    "        # トレーニングステップを実行\n",
    "        train_dict = {x_data: x_train_batch,\n",
    "                               y_output: y_train_batch,\n",
    "                               dropout_keep_prob:0.5}\n",
    "        sess.run(train_step, feed_dict=train_dict)\n",
    "            \n",
    "    # トレーニングの損失値と正解率を計算\n",
    "    temp_train_loss, temp_train_acc = sess.run([loss, accuracy], feed_dict=train_dict)\n",
    "    train_loss.append(temp_train_loss)\n",
    "    train_accuracy.append(temp_train_acc)\n",
    "    \n",
    "    # 評価ステップを実行\n",
    "    test_dict = {x_data: x_test, y_output: y_test, dropout_keep_prob:1.0}\n",
    "    temp_test_loss, temp_test_acc = sess.run([loss, accuracy], feed_dict=test_dict)\n",
    "    test_loss.append(temp_test_loss)\n",
    "    test_accuracy.append(temp_test_acc)\n",
    "    print('Epoch: {}, Test Loss: {:.2}, Test Acc: {:.2}'.format(epoch+1, temp_test_loss, temp_test_acc))"
   ]
  },
  {
   "cell_type": "code",
   "execution_count": 22,
   "metadata": {},
   "outputs": [
    {
     "data": {
      "image/png": "[encoded data removed]",
      "text/plain": [
       "<matplotlib.figure.Figure at 0x7f2db4d4ce10>"
      ]
     },
     "metadata": {},
     "output_type": "display_data"
    }
   ],
   "source": [
    "# 損失値をプロット simple RNN\n",
    "epoch_seq = np.arange(1, epochs+1)\n",
    "plt.plot(epoch_seq, train_loss, 'k--', label='Train Set')\n",
    "plt.plot(epoch_seq, test_loss, 'r-', label='Test Set')\n",
    "plt.title('Softmax Loss')\n",
    "plt.xlabel('Epochs')\n",
    "plt.ylabel('Softmax Loss')\n",
    "plt.legend(loc='upper left')\n",
    "plt.show()"
   ]
  },
  {
   "cell_type": "code",
   "execution_count": 19,
   "metadata": {},
   "outputs": [
    {
     "data": {
      "image/png": "[encoded data removed]",
      "text/plain": [
       "<matplotlib.figure.Figure at 0x7f4c7dc89c88>"
      ]
     },
     "metadata": {},
     "output_type": "display_data"
    }
   ],
   "source": [
    "# 損失値をプロット LSTM\n",
    "epoch_seq = np.arange(1, epochs+1)\n",
    "plt.plot(epoch_seq, train_loss, 'k--', label='Train Set')\n",
    "plt.plot(epoch_seq, test_loss, 'r-', label='Test Set')\n",
    "plt.title('Softmax Loss')\n",
    "plt.xlabel('Epochs')\n",
    "plt.ylabel('Softmax Loss')\n",
    "plt.legend(loc='upper left')\n",
    "plt.show()"
   ]
  },
  {
   "cell_type": "code",
   "execution_count": 20,
   "metadata": {},
   "outputs": [
    {
     "data": {
      "image/png": "[encoded data removed]",
      "text/plain": [
       "<matplotlib.figure.Figure at 0x7f4c7dc89a90>"
      ]
     },
     "metadata": {},
     "output_type": "display_data"
    }
   ],
   "source": [
    "# 正解率をプロット simpleRNN\n",
    "plt.plot(epoch_seq, train_accuracy, 'k--', label='Train Set')\n",
    "plt.plot(epoch_seq, test_accuracy, 'r-', label='Test Set')\n",
    "plt.title('Test Accuracy')\n",
    "plt.xlabel('Epochs')\n",
    "plt.ylabel('Accuracy')\n",
    "plt.legend(loc='upper left')\n",
    "plt.show()"
   ]
  },
  {
   "cell_type": "code",
   "execution_count": 21,
   "metadata": {},
   "outputs": [
    {
     "data": {
      "image/png": "[encoded data removed]",
      "text/plain": [
       "<matplotlib.figure.Figure at 0x7f3f641b8278>"
      ]
     },
     "metadata": {},
     "output_type": "display_data"
    }
   ],
   "source": [
    "# 正解率をプロット LSTM\n",
    "plt.plot(epoch_seq, train_accuracy, 'k--', label='Train Set')\n",
    "plt.plot(epoch_seq, test_accuracy, 'r-', label='Test Set')\n",
    "plt.title('Test Accuracy')\n",
    "plt.xlabel('Epochs')\n",
    "plt.ylabel('Accuracy')\n",
    "plt.legend(loc='upper left')\n",
    "plt.show()"
   ]
  },
  {
   "cell_type": "code",
   "execution_count": null,
   "metadata": {},
   "outputs": [],
   "source": []
  }
 ],
 "metadata": {
  "kernelspec": {
   "display_name": "Python 3",
   "language": "python",
   "name": "python3"
  },
  "language_info": {
   "codemirror_mode": {
    "name": "ipython",
    "version": 3
   },
   "file_extension": ".py",
   "mimetype": "text/x-python",
   "name": "python",
   "nbconvert_exporter": "python",
   "pygments_lexer": "ipython3",
   "version": "3.6.7"
  }
 },
 "nbformat": 4,
 "nbformat_minor": 2
}
